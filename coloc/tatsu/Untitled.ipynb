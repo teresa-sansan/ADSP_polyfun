{
 "cells": [
  {
   "cell_type": "code",
   "execution_count": 1,
   "id": "3756564c-eabc-4b56-93a3-6a18a895c8b9",
   "metadata": {},
   "outputs": [],
   "source": [
    "import pandas as pd\n",
    "import numpy as np"
   ]
  },
  {
   "cell_type": "code",
   "execution_count": 2,
   "id": "496bdfbc-4e64-4e89-880a-ecedc47ec822",
   "metadata": {},
   "outputs": [],
   "source": [
    "thr_p = 1e-05\n",
    "chrom=22\n",
    "top_assoc = pd.read_csv(\"/gpfs/commons/groups/knowles_lab/data/ADSP_reguloML/eQTL/microglia/microglia_eqtl_chr{0}.tsv\".format(22), index_col=0, sep=\"\\t|\\s+\", engine=\"python\")\n",
    "genelist = top_assoc.loc[top_assoc.Random_P<thr_p].index"
   ]
  },
  {
   "cell_type": "code",
   "execution_count": 3,
   "id": "05939281-1a9f-47bd-b23b-24e32036e53f",
   "metadata": {},
   "outputs": [
    {
     "data": {
      "text/plain": [
       "Index(['ENSG00000100181.22', 'ENSG00000100181.22', 'ENSG00000283633.1',\n",
       "       'ENSG00000283633.1', 'ENSG00000283633.1', 'ENSG00000283633.1',\n",
       "       'ENSG00000283633.1', 'ENSG00000283633.1', 'ENSG00000283633.1',\n",
       "       'ENSG00000283633.1',\n",
       "       ...\n",
       "       'ENSG00000184319.16', 'ENSG00000184319.16', 'ENSG00000184319.16',\n",
       "       'ENSG00000184319.16', 'ENSG00000184319.16', 'ENSG00000184319.16',\n",
       "       'ENSG00000184319.16', 'ENSG00000184319.16', 'ENSG00000184319.16',\n",
       "       'ENSG00000184319.16'],\n",
       "      dtype='object', name='feature', length=4273)"
      ]
     },
     "execution_count": 3,
     "metadata": {},
     "output_type": "execute_result"
    }
   ],
   "source": [
    "genelist"
   ]
  },
  {
   "cell_type": "code",
   "execution_count": 4,
   "id": "f827582f-7b95-4f3b-9d4d-2f4d7535fc5e",
   "metadata": {},
   "outputs": [
    {
     "data": {
      "text/plain": [
       "Index(['ENSG00000100181.22', 'ENSG00000283633.1', 'ENSG00000235478.5',\n",
       "       'ENSG00000093100.13', 'ENSG00000237438.7', 'ENSG00000099954.19',\n",
       "       'ENSG00000184979.10', 'ENSG00000288683.1', 'ENSG00000131100.13',\n",
       "       'ENSG00000182902.14',\n",
       "       ...\n",
       "       'ENSG00000182858.14', 'ENSG00000177989.14', 'ENSG00000196576.16',\n",
       "       'ENSG00000100239.16', 'ENSG00000284194.3', 'ENSG00000025708.14',\n",
       "       'ENSG00000130487.9', 'ENSG00000205560.13', 'ENSG00000025770.19',\n",
       "       'ENSG00000100299.18'],\n",
       "      dtype='object', name='feature', length=251)"
      ]
     },
     "execution_count": 4,
     "metadata": {},
     "output_type": "execute_result"
    }
   ],
   "source": [
    "genelist.unique()"
   ]
  },
  {
   "cell_type": "code",
   "execution_count": 2,
   "id": "c93c38a5-176a-469b-9ca1-34e0546f261d",
   "metadata": {},
   "outputs": [],
   "source": [
    "gene_list =  np.loadtxt(\"/gpfs/commons/groups/knowles_lab/data/ADSP_reguloML/eQTL/microglia/genelist\", dtype=str)\n"
   ]
  },
  {
   "cell_type": "code",
   "execution_count": 3,
   "id": "116f6b79-b265-425a-a782-1289ab8c60e8",
   "metadata": {},
   "outputs": [
    {
     "data": {
      "text/plain": [
       "array(['ENSG00000000460.17', 'ENSG00000000971.16', 'ENSG00000007341.19',\n",
       "       ..., 'ENSG00000286381.1', 'ENSG00000286659.1', 'ENSG00000288683.1'],\n",
       "      dtype='<U18')"
      ]
     },
     "execution_count": 3,
     "metadata": {},
     "output_type": "execute_result"
    }
   ],
   "source": [
    "gene_list\n"
   ]
  },
  {
   "cell_type": "code",
   "execution_count": null,
   "id": "dd685b0b-89dc-4025-b623-2569dc6c91df",
   "metadata": {},
   "outputs": [],
   "source": []
  }
 ],
 "metadata": {
  "kernelspec": {
   "display_name": "polyfun",
   "language": "python",
   "name": "polyfun"
  },
  "language_info": {
   "codemirror_mode": {
    "name": "ipython",
    "version": 3
   },
   "file_extension": ".py",
   "mimetype": "text/x-python",
   "name": "python",
   "nbconvert_exporter": "python",
   "pygments_lexer": "ipython3",
   "version": "3.6.13"
  }
 },
 "nbformat": 4,
 "nbformat_minor": 5
}
