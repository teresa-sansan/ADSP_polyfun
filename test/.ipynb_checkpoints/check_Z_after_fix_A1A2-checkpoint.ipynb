{
 "cells": [
  {
   "cell_type": "code",
   "execution_count": null,
   "metadata": {},
   "outputs": [],
   "source": [
    "import pandas as pd"
   ]
  },
  {
   "cell_type": "code",
   "execution_count": null,
   "metadata": {},
   "outputs": [],
   "source": [
    "kunkle_org = pd.read_parquet('/gpfs/commons/groups/knowles_lab/data/ADSP_reguloML/summary_stats/alzheimers/kunkle_2019/AD_Kunkle_etal_Stage1.parquet')\n",
    "kunkle_fix = pd.read_parquet('/gpfs/commons/groups/knowles_lab/data/ADSP_reguloML/summary_stats/alzheimers/kunkle_2019/AD_Kunkle_polyfun_fixed.parquet')\n",
    "\n",
    "def check_z(BP):\n",
    "    chr=kunkle_org[kunkle_org['BP'] == BP]['CHR'].values[0]\n",
    "    UKBB = pd.read_parquet(\"/gpfs/commons/groups/knowles_lab/data/ldsc/polyfun/baselineLF2.2.UKB/baselineLF2.2.UKB.%s.annot.parquet\"%chr)\n",
    "    print(shape(UKBB))\n",
    "    print(\"kunkle_original\")\n",
    "    print(kunkle_org[kunkle_org['BP'] == BP])\n",
    "\n",
    "    print(\"\\n\")\n",
    "    print(\"kunkle_fix\")\n",
    "    print(kunkle_fix[kunkle_fix[\"BP\"] == BP])\n",
    "    print(\"\\n\")\n",
    "    print(\"UKBB\")\n",
    "    print(UKBB8[UKBB8[\"BP\"] == BP].iloc[:,0:5])\n",
    "\n"
   ]
  }
 ],
 "metadata": {
  "kernelspec": {
   "display_name": "polyfun",
   "language": "python",
   "name": "polyfun"
  },
  "language_info": {
   "name": ""
  }
 },
 "nbformat": 4,
 "nbformat_minor": 2
}
