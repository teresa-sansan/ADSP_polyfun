{
 "cells": [
  {
   "cell_type": "code",
   "execution_count": 1,
   "metadata": {},
   "outputs": [],
   "source": [
    "import pandas as pd"
   ]
  },
  {
   "cell_type": "code",
   "execution_count": null,
   "metadata": {},
   "outputs": [],
   "source": [
    "kunkle_org = pd.read_parquet('/gpfs/commons/groups/knowles_lab/data/ADSP_reguloML/summary_stats/alzheimers/kunkle_2019/AD_Kunkle_etal_Stage1.parquet')\n",
    "kunkle_fix = pd.read_parquet('/gpfs/commons/groups/knowles_lab/data/ADSP_reguloML/summary_stats/alzheimers/kunkle_2019/AD_Kunkle_polyfun_fixed.parquet')\n",
    "\n",
    "def check_z(BP):\n",
    "    chr=kunkle_org[kunkle_org['BP'] == BP]['CHR'].values[0]\n",
    "    UKBB = pd.read_parquet(\"/gpfs/commons/groups/knowles_lab/data/ldsc/polyfun/baselineLF2.2.UKB/baselineLF2.2.UKB.%s.annot.parquet\"%chr)\n",
    "    print(shape(UKBB))\n",
    "    print(\"kunkle_original\")\n",
    "    print(kunkle_org[kunkle_org['BP'] == BP])\n",
    "\n",
    "    print(\"\\n\")\n",
    "    print(\"kunkle_fix\")\n",
    "    print(kunkle_fix[kunkle_fix[\"BP\"] == BP])\n",
    "    print(\"\\n\")\n",
    "    print(\"UKBB\")\n",
    "    print(UKBB8[UKBB8[\"BP\"] == BP].iloc[:,0:5])\n",
    "\n"
   ]
  },
  {
   "cell_type": "code",
   "execution_count": 1,
   "metadata": {},
   "outputs": [
    {
     "name": "stdout",
     "output_type": "stream",
     "text": [
      "ipykernel 4.9.0\n",
      "ipykernel._version 4.9.0\n",
      "json 2.0.9\n",
      "re 2.2.1\n",
      "IPython 6.5.0\n",
      "IPython.core.release 6.5.0\n",
      "logging 0.5.1.2\n",
      "zlib 1.0\n",
      "traitlets 4.3.2\n",
      "six 1.11.0\n",
      "ipython_genutils 0.2.0\n",
      "ipython_genutils._version 0.2.0\n",
      "platform 1.0.8\n",
      "traitlets._version 4.3.2\n",
      "decorator 4.3.0\n",
      "argparse 1.1\n",
      "pygments 2.2.0\n",
      "pexpect 4.6.0\n",
      "ptyprocess 0.6.0\n",
      "pickleshare 0.7.4\n",
      "backcall 0.1.0\n",
      "prompt_toolkit 1.0.15\n",
      "jedi 0.12.1\n",
      "parso 0.3.1\n",
      "colorama 0.3.9\n",
      "ctypes 1.1.0\n",
      "_ctypes 1.1.0\n",
      "urllib.request 3.7\n",
      "jupyter_client 5.2.3\n",
      "jupyter_client._version 5.2.3\n",
      "zmq 17.1.2\n",
      "zmq.backend.cython 40205\n",
      "zmq.backend.cython.constants 40205\n",
      "zmq.sugar 17.1.2\n",
      "zmq.sugar.constants 40205\n",
      "zmq.sugar.version 17.1.2\n",
      "jupyter_core 4.4.0\n",
      "jupyter_core.version 4.4.0\n",
      "_curses b'2.2'\n",
      "dateutil 2.7.3\n",
      "decimal 1.70\n",
      "_decimal 1.70\n",
      "ipywidgets 7.4.1\n",
      "ipywidgets._version 7.4.1\n"
     ]
    }
   ],
   "source": [
    "import sys\n",
    "for module in sys.modules:\n",
    "    try:\n",
    "        print(module,sys.modules[module].__version__)\n",
    "    except:\n",
    "        try:\n",
    "            if  type(modules[module].version) is str:\n",
    "                print(module,sys.modules[module].version)\n",
    "            else:\n",
    "                print(module,sys.modules[module].version())\n",
    "        except:\n",
    "            try:\n",
    "                print(module,sys.modules[module].VERSION)\n",
    "            except:\n",
    "                pass"
   ]
  },
  {
   "cell_type": "code",
   "execution_count": 2,
   "metadata": {},
   "outputs": [],
   "source": [
    "import pandas"
   ]
  },
  {
   "cell_type": "code",
   "execution_count": 3,
   "metadata": {},
   "outputs": [
    {
     "name": "stdout",
     "output_type": "stream",
     "text": [
      "ipykernel 4.9.0\n",
      "ipykernel._version 4.9.0\n",
      "json 2.0.9\n",
      "re 2.2.1\n",
      "IPython 6.5.0\n",
      "IPython.core.release 6.5.0\n",
      "logging 0.5.1.2\n",
      "zlib 1.0\n",
      "traitlets 4.3.2\n",
      "six 1.11.0\n",
      "ipython_genutils 0.2.0\n",
      "ipython_genutils._version 0.2.0\n",
      "platform 1.0.8\n",
      "traitlets._version 4.3.2\n",
      "decorator 4.3.0\n",
      "argparse 1.1\n",
      "pygments 2.2.0\n",
      "pexpect 4.6.0\n",
      "ptyprocess 0.6.0\n",
      "pickleshare 0.7.4\n",
      "backcall 0.1.0\n",
      "prompt_toolkit 1.0.15\n",
      "jedi 0.12.1\n",
      "parso 0.3.1\n",
      "colorama 0.3.9\n",
      "ctypes 1.1.0\n",
      "_ctypes 1.1.0\n",
      "urllib.request 3.7\n",
      "jupyter_client 5.2.3\n",
      "jupyter_client._version 5.2.3\n",
      "zmq 17.1.2\n",
      "zmq.backend.cython 40205\n",
      "zmq.backend.cython.constants 40205\n",
      "zmq.sugar 17.1.2\n",
      "zmq.sugar.constants 40205\n",
      "zmq.sugar.version 17.1.2\n",
      "jupyter_core 4.4.0\n",
      "jupyter_core.version 4.4.0\n",
      "_curses b'2.2'\n",
      "dateutil 2.7.3\n",
      "decimal 1.70\n",
      "_decimal 1.70\n",
      "ipywidgets 7.4.1\n",
      "ipywidgets._version 7.4.1\n",
      "pandas 0.23.4\n",
      "numpy 1.21.2\n",
      "numpy.core 1.21.2\n",
      "numpy.core._multiarray_umath 3.1\n",
      "numpy.lib 1.21.2\n",
      "numpy.linalg._umath_linalg 0.1.5\n",
      "pytz 2018.5\n",
      "distutils 3.7.0\n",
      "bottleneck 1.2.1\n",
      "bottleneck.version 1.2.1\n",
      "csv 1.0\n",
      "_csv 1.0\n",
      "matplotlib 2.2.3\n",
      "pyparsing 2.2.0\n",
      "cycler 0.10.0\n",
      "pandas._libs.json 1.33\n"
     ]
    }
   ],
   "source": [
    "import sys\n",
    "for module in sys.modules:\n",
    "    try:\n",
    "        print(module,sys.modules[module].__version__)\n",
    "    except:\n",
    "        try:\n",
    "            if  type(modules[module].version) is str:\n",
    "                print(module,sys.modules[module].version)\n",
    "            else:\n",
    "                print(module,sys.modules[module].version())\n",
    "        except:\n",
    "            try:\n",
    "                print(module,sys.modules[module].VERSION)\n",
    "            except:\n",
    "                pass"
   ]
  },
  {
   "cell_type": "code",
   "execution_count": 4,
   "metadata": {},
   "outputs": [],
   "source": [
    "import pandas as pd"
   ]
  },
  {
   "cell_type": "code",
   "execution_count": 5,
   "metadata": {},
   "outputs": [
    {
     "ename": "ImportError",
     "evalue": "Unable to find a usable engine; tried using: 'pyarrow', 'fastparquet'.\npyarrow or fastparquet is required for parquet support",
     "output_type": "error",
     "traceback": [
      "\u001b[0;31m---------------------------------------------------------------------------\u001b[0m",
      "\u001b[0;31mImportError\u001b[0m                               Traceback (most recent call last)",
      "\u001b[0;32m<ipython-input-5-13b7e47fc3d7>\u001b[0m in \u001b[0;36m<module>\u001b[0;34m()\u001b[0m\n\u001b[0;32m----> 1\u001b[0;31m \u001b[0mkunkle_org\u001b[0m \u001b[0;34m=\u001b[0m \u001b[0mpd\u001b[0m\u001b[0;34m.\u001b[0m\u001b[0mread_parquet\u001b[0m\u001b[0;34m(\u001b[0m\u001b[0;34m'/gpfs/commons/groups/knowles_lab/data/ADSP_reguloML/summary_stats/alzheimers/kunkle_2019/AD_Kunkle_etal_Stage1.parquet'\u001b[0m\u001b[0;34m)\u001b[0m\u001b[0;34m\u001b[0m\u001b[0m\n\u001b[0m\u001b[1;32m      2\u001b[0m \u001b[0mkunkle_fix\u001b[0m \u001b[0;34m=\u001b[0m \u001b[0mpd\u001b[0m\u001b[0;34m.\u001b[0m\u001b[0mread_parquet\u001b[0m\u001b[0;34m(\u001b[0m\u001b[0;34m'/gpfs/commons/groups/knowles_lab/data/ADSP_reguloML/summary_stats/alzheimers/kunkle_2019/AD_Kunkle_polyfun_fixed.parquet'\u001b[0m\u001b[0;34m)\u001b[0m\u001b[0;34m\u001b[0m\u001b[0m\n\u001b[1;32m      3\u001b[0m \u001b[0;34m\u001b[0m\u001b[0m\n\u001b[1;32m      4\u001b[0m \u001b[0;32mdef\u001b[0m \u001b[0mcheck_z\u001b[0m\u001b[0;34m(\u001b[0m\u001b[0mBP\u001b[0m\u001b[0;34m)\u001b[0m\u001b[0;34m:\u001b[0m\u001b[0;34m\u001b[0m\u001b[0m\n\u001b[1;32m      5\u001b[0m     \u001b[0mchr\u001b[0m\u001b[0;34m=\u001b[0m\u001b[0mkunkle_org\u001b[0m\u001b[0;34m[\u001b[0m\u001b[0mkunkle_org\u001b[0m\u001b[0;34m[\u001b[0m\u001b[0;34m'BP'\u001b[0m\u001b[0;34m]\u001b[0m \u001b[0;34m==\u001b[0m \u001b[0mBP\u001b[0m\u001b[0;34m]\u001b[0m\u001b[0;34m[\u001b[0m\u001b[0;34m'CHR'\u001b[0m\u001b[0;34m]\u001b[0m\u001b[0;34m.\u001b[0m\u001b[0mvalues\u001b[0m\u001b[0;34m[\u001b[0m\u001b[0;36m0\u001b[0m\u001b[0;34m]\u001b[0m\u001b[0;34m\u001b[0m\u001b[0m\n",
      "\u001b[0;32m/nfs/sw/jupyter/jupyter3-4.1/lib/python3.7/site-packages/pandas/io/parquet.py\u001b[0m in \u001b[0;36mread_parquet\u001b[0;34m(path, engine, columns, **kwargs)\u001b[0m\n\u001b[1;32m    285\u001b[0m     \"\"\"\n\u001b[1;32m    286\u001b[0m \u001b[0;34m\u001b[0m\u001b[0m\n\u001b[0;32m--> 287\u001b[0;31m     \u001b[0mimpl\u001b[0m \u001b[0;34m=\u001b[0m \u001b[0mget_engine\u001b[0m\u001b[0;34m(\u001b[0m\u001b[0mengine\u001b[0m\u001b[0;34m)\u001b[0m\u001b[0;34m\u001b[0m\u001b[0m\n\u001b[0m\u001b[1;32m    288\u001b[0m     \u001b[0;32mreturn\u001b[0m \u001b[0mimpl\u001b[0m\u001b[0;34m.\u001b[0m\u001b[0mread\u001b[0m\u001b[0;34m(\u001b[0m\u001b[0mpath\u001b[0m\u001b[0;34m,\u001b[0m \u001b[0mcolumns\u001b[0m\u001b[0;34m=\u001b[0m\u001b[0mcolumns\u001b[0m\u001b[0;34m,\u001b[0m \u001b[0;34m**\u001b[0m\u001b[0mkwargs\u001b[0m\u001b[0;34m)\u001b[0m\u001b[0;34m\u001b[0m\u001b[0m\n",
      "\u001b[0;32m/nfs/sw/jupyter/jupyter3-4.1/lib/python3.7/site-packages/pandas/io/parquet.py\u001b[0m in \u001b[0;36mget_engine\u001b[0;34m(engine)\u001b[0m\n\u001b[1;32m     27\u001b[0m             \u001b[0;32mpass\u001b[0m\u001b[0;34m\u001b[0m\u001b[0m\n\u001b[1;32m     28\u001b[0m \u001b[0;34m\u001b[0m\u001b[0m\n\u001b[0;32m---> 29\u001b[0;31m         raise ImportError(\"Unable to find a usable engine; \"\n\u001b[0m\u001b[1;32m     30\u001b[0m                           \u001b[0;34m\"tried using: 'pyarrow', 'fastparquet'.\\n\"\u001b[0m\u001b[0;34m\u001b[0m\u001b[0m\n\u001b[1;32m     31\u001b[0m                           \u001b[0;34m\"pyarrow or fastparquet is required for parquet \"\u001b[0m\u001b[0;34m\u001b[0m\u001b[0m\n",
      "\u001b[0;31mImportError\u001b[0m: Unable to find a usable engine; tried using: 'pyarrow', 'fastparquet'.\npyarrow or fastparquet is required for parquet support"
     ]
    }
   ],
   "source": [
    "kunkle_org = pd.read_parquet('/gpfs/commons/groups/knowles_lab/data/ADSP_reguloML/summary_stats/alzheimers/kunkle_2019/AD_Kunkle_etal_Stage1.parquet')\n",
    "kunkle_fix = pd.read_parquet('/gpfs/commons/groups/knowles_lab/data/ADSP_reguloML/summary_stats/alzheimers/kunkle_2019/AD_Kunkle_polyfun_fixed.parquet')\n",
    "\n",
    "def check_z(BP):\n",
    "    chr=kunkle_org[kunkle_org['BP'] == BP]['CHR'].values[0]\n",
    "    UKBB = pd.read_parquet(\"/gpfs/commons/groups/knowles_lab/data/ldsc/polyfun/baselineLF2.2.UKB/baselineLF2.2.UKB.%s.annot.parquet\"%chr)\n",
    "    print(shape(UKBB))\n",
    "    print(\"kunkle_original\")\n",
    "    print(kunkle_org[kunkle_org['BP'] == BP])\n",
    "\n",
    "    print(\"\\n\")\n",
    "    print(\"kunkle_fix\")\n",
    "    print(kunkle_fix[kunkle_fix[\"BP\"] == BP])\n",
    "    print(\"\\n\")\n",
    "    print(\"UKBB\")\n",
    "    print(UKBB8[UKBB8[\"BP\"] == BP].iloc[:,0:5])"
   ]
  },
  {
   "cell_type": "code",
   "execution_count": 6,
   "metadata": {},
   "outputs": [
    {
     "name": "stdout",
     "output_type": "stream",
     "text": [
      "\n",
      "INSTALLED VERSIONS\n",
      "------------------\n",
      "commit: None\n",
      "python: 3.7.0.final.0\n",
      "python-bits: 64\n",
      "OS: Linux\n",
      "OS-release: 3.10.0-1127.19.1.el7.x86_64\n",
      "machine: x86_64\n",
      "processor: x86_64\n",
      "byteorder: little\n",
      "LC_ALL: None\n",
      "LANG: en_US.UTF-8\n",
      "LOCALE: en_US.UTF-8\n",
      "\n",
      "pandas: 0.23.4\n",
      "pytest: 3.8.0\n",
      "pip: 18.1\n",
      "setuptools: 40.2.0\n",
      "Cython: 0.28.5\n",
      "numpy: 1.21.2\n",
      "scipy: 1.1.0\n",
      "pyarrow: None\n",
      "xarray: None\n",
      "IPython: 6.5.0\n",
      "sphinx: 1.7.9\n",
      "patsy: 0.5.0\n",
      "dateutil: 2.7.3\n",
      "pytz: 2018.5\n",
      "blosc: None\n",
      "bottleneck: 1.2.1\n",
      "tables: 3.4.4\n",
      "numexpr: 2.6.8\n",
      "feather: None\n",
      "matplotlib: 2.2.3\n",
      "openpyxl: 2.5.6\n",
      "xlrd: 1.1.0\n",
      "xlwt: 1.3.0\n",
      "xlsxwriter: 1.1.0\n",
      "lxml: 4.2.5\n",
      "bs4: 4.6.3\n",
      "html5lib: 1.0.1\n",
      "sqlalchemy: 1.2.11\n",
      "pymysql: None\n",
      "psycopg2: None\n",
      "jinja2: 2.10\n",
      "s3fs: None\n",
      "fastparquet: None\n",
      "pandas_gbq: None\n",
      "pandas_datareader: None\n"
     ]
    }
   ],
   "source": [
    "    pd.show_versions()"
   ]
  },
  {
   "cell_type": "code",
   "execution_count": 1,
   "metadata": {},
   "outputs": [
    {
     "ename": "NameError",
     "evalue": "name 'pd' is not defined",
     "output_type": "error",
     "traceback": [
      "\u001b[0;31m---------------------------------------------------------------------------\u001b[0m",
      "\u001b[0;31mNameError\u001b[0m                                 Traceback (most recent call last)",
      "\u001b[0;32m<ipython-input-1-3d232a07e144>\u001b[0m in \u001b[0;36m<module>\u001b[0;34m\u001b[0m\n\u001b[0;32m----> 1\u001b[0;31m \u001b[0mpd\u001b[0m\u001b[0;34m.\u001b[0m\u001b[0mshow_versions\u001b[0m\u001b[0;34m(\u001b[0m\u001b[0;34m)\u001b[0m\u001b[0;34m\u001b[0m\u001b[0;34m\u001b[0m\u001b[0m\n\u001b[0m",
      "\u001b[0;31mNameError\u001b[0m: name 'pd' is not defined"
     ]
    }
   ],
   "source": [
    "pd.show_versions()\n"
   ]
  },
  {
   "cell_type": "code",
   "execution_count": 2,
   "metadata": {},
   "outputs": [],
   "source": [
    "import pandas as pd"
   ]
  },
  {
   "cell_type": "code",
   "execution_count": null,
   "metadata": {},
   "outputs": [],
   "source": [
    "kunkle_org = pd.read_parquet('/gpfs/commons/groups/knowles_lab/data/ADSP_reguloML/summary_stats/alzheimers/kunkle_2019/AD_Kunkle_etal_Stage1.parquet')\n",
    "kunkle_fix = pd.read_parquet('/gpfs/commons/groups/knowles_lab/data/ADSP_reguloML/summary_stats/alzheimers/kunkle_2019/AD_Kunkle_polyfun_fixed.parquet')\n",
    "\n",
    "def check_z(BP):\n",
    "    chr=kunkle_org[kunkle_org['BP'] == BP]['CHR'].values[0]\n",
    "    UKBB = pd.read_parquet(\"/gpfs/commons/groups/knowles_lab/data/ldsc/polyfun/baselineLF2.2.UKB/baselineLF2.2.UKB.%s.annot.parquet\"%chr)\n",
    "    print(shape(UKBB))\n",
    "    print(\"kunkle_original\")\n",
    "    print(kunkle_org[kunkle_org['BP'] == BP])\n",
    "\n",
    "    print(\"\\n\")\n",
    "    print(\"kunkle_fix\")\n",
    "    print(kunkle_fix[kunkle_fix[\"BP\"] == BP])\n",
    "    print(\"\\n\")\n",
    "    print(\"UKBB\")\n",
    "    print(UKBB8[UKBB8[\"BP\"] == BP].iloc[:,0:5])"
   ]
  },
  {
   "cell_type": "code",
   "execution_count": 1,
   "metadata": {},
   "outputs": [
    {
     "ename": "NameError",
     "evalue": "name 'pd' is not defined",
     "output_type": "error",
     "traceback": [
      "\u001b[0;31m---------------------------------------------------------------------------\u001b[0m",
      "\u001b[0;31mNameError\u001b[0m                                 Traceback (most recent call last)",
      "\u001b[0;32m<ipython-input-1-3d232a07e144>\u001b[0m in \u001b[0;36m<module>\u001b[0;34m\u001b[0m\n\u001b[0;32m----> 1\u001b[0;31m \u001b[0mpd\u001b[0m\u001b[0;34m.\u001b[0m\u001b[0mshow_versions\u001b[0m\u001b[0;34m(\u001b[0m\u001b[0;34m)\u001b[0m\u001b[0;34m\u001b[0m\u001b[0;34m\u001b[0m\u001b[0m\n\u001b[0m",
      "\u001b[0;31mNameError\u001b[0m: name 'pd' is not defined"
     ]
    }
   ],
   "source": [
    "pd.show_versions()"
   ]
  },
  {
   "cell_type": "code",
   "execution_count": 2,
   "metadata": {},
   "outputs": [],
   "source": [
    "import pandas as pd"
   ]
  },
  {
   "cell_type": "code",
   "execution_count": 3,
   "metadata": {},
   "outputs": [
    {
     "name": "stdout",
     "output_type": "stream",
     "text": [
      "\n",
      "INSTALLED VERSIONS\n",
      "------------------\n",
      "commit           : b5958ee1999e9aead1938c0bba2b674378807b3d\n",
      "python           : 3.6.13.final.0\n",
      "python-bits      : 64\n",
      "OS               : Linux\n",
      "OS-release       : 3.10.0-1127.19.1.el7.x86_64\n",
      "Version          : #1 SMP Tue Aug 25 17:23:54 UTC 2020\n",
      "machine          : x86_64\n",
      "processor        : x86_64\n",
      "byteorder        : little\n",
      "LC_ALL           : None\n",
      "LANG             : en_US.UTF-8\n",
      "LOCALE           : en_US.UTF-8\n",
      "\n",
      "pandas           : 1.1.5\n",
      "numpy            : 1.19.5\n",
      "pytz             : 2021.1\n",
      "dateutil         : 2.8.1\n",
      "pip              : 21.1.1\n",
      "setuptools       : 49.6.0.post20210108\n",
      "Cython           : None\n",
      "pytest           : 6.2.4\n",
      "hypothesis       : None\n",
      "sphinx           : None\n",
      "blosc            : None\n",
      "feather          : None\n",
      "xlsxwriter       : None\n",
      "lxml.etree       : None\n",
      "html5lib         : None\n",
      "pymysql          : None\n",
      "psycopg2         : None\n",
      "jinja2           : 3.0.0\n",
      "IPython          : 7.16.1\n",
      "pandas_datareader: None\n",
      "bs4              : None\n",
      "bottleneck       : None\n",
      "fsspec           : 2021.05.0\n",
      "fastparquet      : None\n",
      "gcsfs            : None\n",
      "matplotlib       : None\n",
      "numexpr          : None\n",
      "odfpy            : None\n",
      "openpyxl         : None\n",
      "pandas_gbq       : None\n",
      "pyarrow          : 5.0.0\n",
      "pytables         : None\n",
      "pyxlsb           : None\n",
      "s3fs             : None\n",
      "scipy            : 1.5.3\n",
      "sqlalchemy       : None\n",
      "tables           : None\n",
      "tabulate         : None\n",
      "xarray           : 0.18.0\n",
      "xlrd             : None\n",
      "xlwt             : None\n",
      "numba            : None\n"
     ]
    }
   ],
   "source": [
    "pd.show_versions()"
   ]
  },
  {
   "cell_type": "code",
   "execution_count": null,
   "metadata": {},
   "outputs": [],
   "source": [
    "kunkle_org = pd.read_parquet('/gpfs/commons/groups/knowles_lab/data/ADSP_reguloML/summary_stats/alzheimers/kunkle_2019/AD_Kunkle_etal_Stage1.parquet')\n",
    "kunkle_fix = pd.read_parquet('/gpfs/commons/groups/knowles_lab/data/ADSP_reguloML/summary_stats/alzheimers/kunkle_2019/AD_Kunkle_polyfun_fixed.parquet')\n",
    "\n",
    "def check_z(BP):\n",
    "    chr=kunkle_org[kunkle_org['BP'] == BP]['CHR'].values[0]\n",
    "    UKBB = pd.read_parquet(\"/gpfs/commons/groups/knowles_lab/data/ldsc/polyfun/baselineLF2.2.UKB/baselineLF2.2.UKB.%s.annot.parquet\"%chr)\n",
    "    print(shape(UKBB))\n",
    "    print(\"kunkle_original\")\n",
    "    print(kunkle_org[kunkle_org['BP'] == BP])\n",
    "\n",
    "    print(\"\\n\")\n",
    "    print(\"kunkle_fix\")\n",
    "    print(kunkle_fix[kunkle_fix[\"BP\"] == BP])\n",
    "    print(\"\\n\")\n",
    "    print(\"UKBB\")\n",
    "    print(UKBB8[UKBB8[\"BP\"] == BP].iloc[:,0:5])"
   ]
  },
  {
   "cell_type": "code",
   "execution_count": null,
   "metadata": {},
   "outputs": [],
   "source": [
    "kunkle_org = pd.read_parquet('/gpfs/commons/groups/knowles_lab/data/ADSP_reguloML/summary_stats/alzheimers/kunkle_2019/AD_Kunkle_etal_Stage1.parquet')\n",
    "kunkle_fix = pd.read_parquet('/gpfs/commons/groups/knowles_lab/data/ADSP_reguloML/summary_stats/alzheimers/kunkle_2019/AD_Kunkle_polyfun_fixed.parquet')\n",
    "\n",
    "def check_z(BP):\n",
    "    chr=kunkle_org[kunkle_org['BP'] == BP]['CHR'].values[0]\n",
    "    UKBB = pd.read_parquet(\"/gpfs/commons/groups/knowles_lab/data/ldsc/polyfun/baselineLF2.2.UKB/baselineLF2.2.UKB.%s.annot.parquet\"%chr)\n",
    "    print(shape(UKBB))\n",
    "    print(\"kunkle_original\")\n",
    "    print(kunkle_org[kunkle_org['BP'] == BP])\n",
    "\n",
    "    print(\"\\n\")\n",
    "    print(\"kunkle_fix\")\n",
    "    print(kunkle_fix[kunkle_fix[\"BP\"] == BP])\n",
    "    print(\"\\n\")\n",
    "    print(\"UKBB\")\n",
    "    print(UKBB8[UKBB8[\"BP\"] == BP].iloc[:,0:5])"
   ]
  },
  {
   "cell_type": "code",
   "execution_count": null,
   "metadata": {},
   "outputs": [],
   "source": [
    "pd.show_versions()"
   ]
  },
  {
   "cell_type": "code",
   "execution_count": null,
   "metadata": {},
   "outputs": [],
   "source": []
  }
 ],
 "metadata": {
  "kernelspec": {
   "display_name": "polyfun",
   "language": "python",
   "name": "polyfun"
  },
  "language_info": {
   "codemirror_mode": {
    "name": "ipython",
    "version": 3
   },
   "file_extension": ".py",
   "mimetype": "text/x-python",
   "name": "python",
   "nbconvert_exporter": "python",
   "pygments_lexer": "ipython3",
   "version": "3.6.13"
  }
 },
 "nbformat": 4,
 "nbformat_minor": 4
}
