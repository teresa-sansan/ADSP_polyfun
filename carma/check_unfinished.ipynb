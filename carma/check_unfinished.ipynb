{
 "cells": [
  {
   "cell_type": "code",
   "execution_count": 1,
   "id": "67a9e8a8-166d-486a-af56-6c37abc13ad3",
   "metadata": {},
   "outputs": [],
   "source": [
    "import pandas as pd"
   ]
  },
  {
   "cell_type": "code",
   "execution_count": 22,
   "id": "e296270d-1884-4d03-a29b-4fc4eb977df7",
   "metadata": {},
   "outputs": [],
   "source": [
    "def process_file(path):\n",
    "    data = pd.read_csv(path, header = None, names =['CHR','LD'], sep = ' ')\n",
    "    data['blk'] = data.apply(lambda row: f\"chr{row['CHR']}, blk{row['LD']}\", axis = 1)\n",
    "    return data"
   ]
  },
  {
   "cell_type": "code",
   "execution_count": 23,
   "id": "d722dc93-91b8-4b20-87c8-2fa64f475198",
   "metadata": {},
   "outputs": [],
   "source": [
    "path='/gpfs/commons/home/tlin/output/CARMA/'\n",
    "bl= process_file(path+'bl_unfinished3.txt')\n",
    "omics = process_file(path+ 'omics_unfinished3.txt')\n",
    "omics_dl = process_file(path+'omics_dl_unfinished3.txt')"
   ]
  },
  {
   "cell_type": "code",
   "execution_count": 24,
   "id": "5a86ca04-9c31-4be5-bce5-3d61265a6942",
   "metadata": {},
   "outputs": [
    {
     "name": "stdout",
     "output_type": "stream",
     "text": [
      "{'chr10, blk67', 'chr15, blk2', 'chr11, blk66', 'chr11, blk60', 'chr10, blk61', 'chr3, blk54', 'chr19, blk29', 'chr19, blk21', 'chr2, blk123', 'chr7, blk94', 'chr22, blk1', 'chr10, blk109', 'chr4, blk10', 'chr10, blk98', 'chr1, blk18', 'chr4, blk22', 'chr14, blk4', 'chr18, blk38', 'chr11, blk91', 'chr12, blk52', 'chr17, blk9', 'chr10, blk91', 'chr11, blk69', 'chr11, blk62', 'chr11, blk65', 'chr21, blk11', 'chr18, blk5', 'chr10, blk57', 'chr6, blk108', 'chr15, blk44', 'chr7, blk68', 'chr6, blk80', 'chr2, blk152', 'chr6, blk81', 'chr6, blk99', 'chr9, blk50', 'chr6, blk107', 'chr3, blk21', 'chr3, blk142', 'chr2, blk172', 'chr5, blk96', 'chr11, blk63', 'chr14, blk42', 'chr9, blk85', 'chr7, blk119', 'chr2, blk146', 'chr5, blk98', 'chr11, blk84', 'chr4, blk49', 'chr14, blk6', 'chr7, blk90', 'chr6, blk74', 'chr15, blk58', 'chr6, blk75', 'chr7, blk86', 'chr11, blk61', 'chr2, blk24', 'chr11, blk42', 'chr6, blk72', 'chr6, blk85', 'chr7, blk96', 'chr6, blk82', 'chr9, blk15', 'chr17, blk11', 'chr16, blk63', 'chr20, blk19', 'chr8, blk54', 'chr20, blk4', 'chr9, blk60', 'chr5, blk29', 'chr11, blk8', 'chr5, blk97', 'chr21, blk29', 'chr1, blk25', 'chr14, blk5', 'chr12, blk50', 'chr7, blk75', 'chr9, blk63', 'chr6, blk83', 'chr8, blk84'}\n"
     ]
    }
   ],
   "source": [
    "dfs = [bl, omics, omics_dl]\n",
    "common_blks = set(dfs[0]['blk']).intersection(*(set(df['blk']) for df in dfs[1:]))\n",
    "print(common_blks)"
   ]
  },
  {
   "cell_type": "code",
   "execution_count": 32,
   "id": "d7fbafba-a8ce-436c-a7fe-4a039a8e8434",
   "metadata": {},
   "outputs": [],
   "source": [
    "from upsetplot import from_contents\n",
    "blk_list = from_contents({\n",
    "                          'bl':bl.blk.unique().tolist(),\n",
    "                          'omcis':omics.blk.unique().tolist(),\n",
    "                          'omics_dl':omics_dl.blk.unique().tolist()}\n",
    "                         )"
   ]
  },
  {
   "cell_type": "code",
   "execution_count": 34,
   "id": "95295a64-76fa-4909-8145-b0af93d586af",
   "metadata": {},
   "outputs": [
    {
     "data": {
      "text/plain": [
       "{'matrix': <AxesSubplot:>,\n",
       " 'shading': <AxesSubplot:>,\n",
       " 'totals': <AxesSubplot:>,\n",
       " 'intersections': <AxesSubplot:ylabel='Intersection size'>}"
      ]
     },
     "execution_count": 34,
     "metadata": {},
     "output_type": "execute_result"
    },
    {
     "data": {
      "image/png": "[encoded data removed]",
      "text/plain": [
       "<Figure size 384x288 with 4 Axes>"
      ]
     },
     "metadata": {
      "needs_background": "light"
     },
     "output_type": "display_data"
    }
   ],
   "source": [
    "UpSet(blk_list , show_counts=True).plot()"
   ]
  },
  {
   "cell_type": "code",
   "execution_count": 44,
   "id": "40195820-07d0-499d-b0cc-b26e174c207f",
   "metadata": {},
   "outputs": [
    {
     "data": {
      "text/html": [
       "<div>\n",
       "<style scoped>\n",
       "    .dataframe tbody tr th:only-of-type {\n",
       "        vertical-align: middle;\n",
       "    }\n",
       "\n",
       "    .dataframe tbody tr th {\n",
       "        vertical-align: top;\n",
       "    }\n",
       "\n",
       "    .dataframe thead th {\n",
       "        text-align: right;\n",
       "    }\n",
       "</style>\n",
       "<table border=\"1\" class=\"dataframe\">\n",
       "  <thead>\n",
       "    <tr style=\"text-align: right;\">\n",
       "      <th></th>\n",
       "      <th></th>\n",
       "      <th></th>\n",
       "      <th>id</th>\n",
       "    </tr>\n",
       "    <tr>\n",
       "      <th>bl</th>\n",
       "      <th>omcis</th>\n",
       "      <th>omics_dl</th>\n",
       "      <th></th>\n",
       "    </tr>\n",
       "  </thead>\n",
       "  <tbody>\n",
       "    <tr>\n",
       "      <th rowspan=\"5\" valign=\"top\">True</th>\n",
       "      <th rowspan=\"2\" valign=\"top\">True</th>\n",
       "      <th>True</th>\n",
       "      <td>chr1, blk18</td>\n",
       "    </tr>\n",
       "    <tr>\n",
       "      <th>True</th>\n",
       "      <td>chr1, blk25</td>\n",
       "    </tr>\n",
       "    <tr>\n",
       "      <th rowspan=\"2\" valign=\"top\">False</th>\n",
       "      <th>False</th>\n",
       "      <td>chr1, blk99</td>\n",
       "    </tr>\n",
       "    <tr>\n",
       "      <th>True</th>\n",
       "      <td>chr1, blk106</td>\n",
       "    </tr>\n",
       "    <tr>\n",
       "      <th>True</th>\n",
       "      <th>False</th>\n",
       "      <td>chr1, blk159</td>\n",
       "    </tr>\n",
       "    <tr>\n",
       "      <th>...</th>\n",
       "      <th>...</th>\n",
       "      <th>...</th>\n",
       "      <td>...</td>\n",
       "    </tr>\n",
       "    <tr>\n",
       "      <th rowspan=\"5\" valign=\"top\">False</th>\n",
       "      <th rowspan=\"5\" valign=\"top\">False</th>\n",
       "      <th>True</th>\n",
       "      <td>chr14, blk22</td>\n",
       "    </tr>\n",
       "    <tr>\n",
       "      <th>True</th>\n",
       "      <td>chr17, blk7</td>\n",
       "    </tr>\n",
       "    <tr>\n",
       "      <th>True</th>\n",
       "      <td>chr17, blk36</td>\n",
       "    </tr>\n",
       "    <tr>\n",
       "      <th>True</th>\n",
       "      <td>chr17, blk39</td>\n",
       "    </tr>\n",
       "    <tr>\n",
       "      <th>True</th>\n",
       "      <td>chr20, blk2</td>\n",
       "    </tr>\n",
       "  </tbody>\n",
       "</table>\n",
       "<p>500 rows × 1 columns</p>\n",
       "</div>"
      ],
      "text/plain": [
       "                                id\n",
       "bl    omcis omics_dl              \n",
       "True  True  True       chr1, blk18\n",
       "            True       chr1, blk25\n",
       "      False False      chr1, blk99\n",
       "            True      chr1, blk106\n",
       "      True  False     chr1, blk159\n",
       "...                            ...\n",
       "False False True      chr14, blk22\n",
       "            True       chr17, blk7\n",
       "            True      chr17, blk36\n",
       "            True      chr17, blk39\n",
       "            True       chr20, blk2\n",
       "\n",
       "[500 rows x 1 columns]"
      ]
     },
     "execution_count": 44,
     "metadata": {},
     "output_type": "execute_result"
    }
   ],
   "source": [
    "blk_list"
   ]
  },
  {
   "cell_type": "code",
   "execution_count": 52,
   "id": "4cf3f560-0ba5-4bdb-9b5a-c528d9b5eaf5",
   "metadata": {},
   "outputs": [
    {
     "data": {
      "text/plain": [
       "pandas.core.frame.DataFrame"
      ]
     },
     "execution_count": 52,
     "metadata": {},
     "output_type": "execute_result"
    }
   ],
   "source": [
    "type(blk_list)"
   ]
  },
  {
   "cell_type": "code",
   "execution_count": 54,
   "id": "97741bc8-f699-4239-83d0-165aba4181fa",
   "metadata": {},
   "outputs": [
    {
     "data": {
      "text/plain": [
       "MultiIndex([( True,  True,  True),\n",
       "            ( True,  True,  True),\n",
       "            ( True, False, False),\n",
       "            ( True, False,  True),\n",
       "            ( True,  True, False),\n",
       "            ( True,  True, False),\n",
       "            ( True,  True,  True),\n",
       "            ( True,  True, False),\n",
       "            ( True,  True, False),\n",
       "            ( True,  True,  True),\n",
       "            ...\n",
       "            (False, False,  True),\n",
       "            (False, False,  True),\n",
       "            (False, False,  True),\n",
       "            (False, False,  True),\n",
       "            (False, False,  True),\n",
       "            (False, False,  True),\n",
       "            (False, False,  True),\n",
       "            (False, False,  True),\n",
       "            (False, False,  True),\n",
       "            (False, False,  True)],\n",
       "           names=['bl', 'omcis', 'omics_dl'], length=500)"
      ]
     },
     "execution_count": 54,
     "metadata": {},
     "output_type": "execute_result"
    }
   ],
   "source": [
    "blk_list.index"
   ]
  },
  {
   "cell_type": "code",
   "execution_count": 56,
   "id": "8d871f86-f4ae-4df9-98e0-bd2db2a19850",
   "metadata": {},
   "outputs": [
    {
     "name": "stderr",
     "output_type": "stream",
     "text": [
      "/gpfs/commons/home/tlin/.conda/envs/polyfun/lib/python3.6/site-packages/ipykernel_launcher.py:1: PerformanceWarning: indexing past lexsort depth may impact performance.\n",
      "  \"\"\"Entry point for launching an IPython kernel.\n"
     ]
    },
    {
     "data": {
      "text/html": [
       "<div>\n",
       "<style scoped>\n",
       "    .dataframe tbody tr th:only-of-type {\n",
       "        vertical-align: middle;\n",
       "    }\n",
       "\n",
       "    .dataframe tbody tr th {\n",
       "        vertical-align: top;\n",
       "    }\n",
       "\n",
       "    .dataframe thead th {\n",
       "        text-align: right;\n",
       "    }\n",
       "</style>\n",
       "<table border=\"1\" class=\"dataframe\">\n",
       "  <thead>\n",
       "    <tr style=\"text-align: right;\">\n",
       "      <th></th>\n",
       "      <th></th>\n",
       "      <th></th>\n",
       "      <th>id</th>\n",
       "    </tr>\n",
       "    <tr>\n",
       "      <th>bl</th>\n",
       "      <th>omcis</th>\n",
       "      <th>omics_dl</th>\n",
       "      <th></th>\n",
       "    </tr>\n",
       "  </thead>\n",
       "  <tbody>\n",
       "    <tr>\n",
       "      <th rowspan=\"11\" valign=\"top\">True</th>\n",
       "      <th rowspan=\"11\" valign=\"top\">True</th>\n",
       "      <th>True</th>\n",
       "      <td>chr1, blk18</td>\n",
       "    </tr>\n",
       "    <tr>\n",
       "      <th>True</th>\n",
       "      <td>chr1, blk25</td>\n",
       "    </tr>\n",
       "    <tr>\n",
       "      <th>True</th>\n",
       "      <td>chr2, blk24</td>\n",
       "    </tr>\n",
       "    <tr>\n",
       "      <th>True</th>\n",
       "      <td>chr2, blk123</td>\n",
       "    </tr>\n",
       "    <tr>\n",
       "      <th>True</th>\n",
       "      <td>chr2, blk146</td>\n",
       "    </tr>\n",
       "    <tr>\n",
       "      <th>...</th>\n",
       "      <td>...</td>\n",
       "    </tr>\n",
       "    <tr>\n",
       "      <th>True</th>\n",
       "      <td>chr20, blk4</td>\n",
       "    </tr>\n",
       "    <tr>\n",
       "      <th>True</th>\n",
       "      <td>chr20, blk19</td>\n",
       "    </tr>\n",
       "    <tr>\n",
       "      <th>True</th>\n",
       "      <td>chr21, blk11</td>\n",
       "    </tr>\n",
       "    <tr>\n",
       "      <th>True</th>\n",
       "      <td>chr21, blk29</td>\n",
       "    </tr>\n",
       "    <tr>\n",
       "      <th>True</th>\n",
       "      <td>chr22, blk1</td>\n",
       "    </tr>\n",
       "  </tbody>\n",
       "</table>\n",
       "<p>80 rows × 1 columns</p>\n",
       "</div>"
      ],
      "text/plain": [
       "                               id\n",
       "bl   omcis omics_dl              \n",
       "True True  True       chr1, blk18\n",
       "           True       chr1, blk25\n",
       "           True       chr2, blk24\n",
       "           True      chr2, blk123\n",
       "           True      chr2, blk146\n",
       "...                           ...\n",
       "           True       chr20, blk4\n",
       "           True      chr20, blk19\n",
       "           True      chr21, blk11\n",
       "           True      chr21, blk29\n",
       "           True       chr22, blk1\n",
       "\n",
       "[80 rows x 1 columns]"
      ]
     },
     "execution_count": 56,
     "metadata": {},
     "output_type": "execute_result"
    }
   ],
   "source": [
    "blk_list.loc[( True,  True,  True)]"
   ]
  },
  {
   "cell_type": "code",
   "execution_count": null,
   "id": "a3098987-35f8-4c6c-92a8-2baf3e808577",
   "metadata": {},
   "outputs": [],
   "source": []
  }
 ],
 "metadata": {
  "kernelspec": {
   "display_name": "polyfun",
   "language": "python",
   "name": "polyfun"
  },
  "language_info": {
   "codemirror_mode": {
    "name": "ipython",
    "version": 3
   },
   "file_extension": ".py",
   "mimetype": "text/x-python",
   "name": "python",
   "nbconvert_exporter": "python",
   "pygments_lexer": "ipython3",
   "version": "3.6.13"
  }
 },
 "nbformat": 4,
 "nbformat_minor": 5
}
