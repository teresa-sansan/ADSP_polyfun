{
 "cells": [
  {
   "cell_type": "code",
   "execution_count": 4,
   "id": "3c47e896-b3f8-4b43-b649-b52a6c7f3d82",
   "metadata": {},
   "outputs": [],
   "source": [
    "# import vcf\n",
    "# import pandas as pd\n",
    "\n",
    "\n",
    "\n",
    "def grab_homozygous_major_snps(vcf_file, snp):\n",
    "    homozygous_major_snps = []\n",
    "    # Create a VCF Reader object with tabix indexing\n",
    "    vcf_reader = vcf.Reader(filename=vcf_file, compressed=True)\n",
    "    for record in vcf_reader:\n",
    "        if record.ID in snp:\n",
    "            print(record.ID)\n",
    "            all_homozygous_major = True\n",
    "            for sample in record.samples:\n",
    "                if not sample.is_het:\n",
    "                    ref_allele = record.REF\n",
    "                    genotype = sample['GT']\n",
    "                    if genotype != '0/0':\n",
    "                        all_homozygous_major = False\n",
    "                        break\n",
    "            if all_homozygous_major:\n",
    "                homozygous_major_snps.append(record)\n",
    "                break\n",
    "    return homozygous_major_snps\n",
    "\n",
    "\n"
   ]
  },
  {
   "cell_type": "code",
   "execution_count": null,
   "id": "8b4b71dc-f745-4361-b658-df287d4e43bf",
   "metadata": {},
   "outputs": [],
   "source": [
    "# Example usage\n",
    "\n",
    "bellenguez_snp = pd.read_csv('/gpfs/commons/groups/knowles_lab/data/ADSP_reguloML/summary_stats/alzheimers/bellenguez_2021/rsid_chr22.txt', header = None)\n",
    "vcf_file_path = '/gpfs/commons/groups/knowles_lab/data/ADSP_reguloML/ADSP_vcf/1KG/ADSP_EUR/ADSP_EUR_chr22.vcf.gz'\n",
    "grab_homozygous_major_snps(vcf_file_path, bellenguez_snp)"
   ]
  },
  {
   "cell_type": "code",
   "execution_count": 1,
   "id": "25d921eb-006b-4988-9d84-3ce696711bcb",
   "metadata": {},
   "outputs": [],
   "source": [
    "import numpy as np"
   ]
  },
  {
   "cell_type": "code",
   "execution_count": 4,
   "id": "2dea5142-bee6-410a-b3fc-71957c535cdd",
   "metadata": {},
   "outputs": [],
   "source": [
    "chr22_1 = np.loadtxt('/gpfs/commons/groups/knowles_lab/data/ADSP_reguloML/LD_ADSP36K_4PRScs/not_na/ldblk/chr22_1.ld')"
   ]
  },
  {
   "cell_type": "code",
   "execution_count": 8,
   "id": "42030ec8-7f89-4b92-9248-9b88e458e672",
   "metadata": {},
   "outputs": [
    {
     "data": {
      "text/plain": [
       "array([[ 1.        , -0.255124  ,  0.203641  , ...,  0.00443655,\n",
       "        -0.00358066, -0.00299651],\n",
       "       [-0.255124  ,  1.        , -0.0530024 , ..., -0.0130339 ,\n",
       "         0.0152953 ,  0.0151836 ],\n",
       "       [ 0.203641  , -0.0530024 ,  1.        , ..., -0.00423853,\n",
       "         0.00142061,  0.00216684],\n",
       "       ...,\n",
       "       [ 0.00443655, -0.0130339 , -0.00423853, ...,  1.        ,\n",
       "        -0.345178  , -0.344732  ],\n",
       "       [-0.00358066,  0.0152953 ,  0.00142061, ..., -0.345178  ,\n",
       "         1.        ,  0.999656  ],\n",
       "       [-0.00299651,  0.0151836 ,  0.00216684, ..., -0.344732  ,\n",
       "         0.999656  ,  1.        ]])"
      ]
     },
     "execution_count": 8,
     "metadata": {},
     "output_type": "execute_result"
    }
   ],
   "source": [
    "chr22_1"
   ]
  },
  {
   "cell_type": "code",
   "execution_count": 9,
   "id": "29b5788f-52c2-4003-ace3-3e7a9b720ded",
   "metadata": {},
   "outputs": [
    {
     "data": {
      "text/plain": [
       "8234"
      ]
     },
     "execution_count": 9,
     "metadata": {},
     "output_type": "execute_result"
    }
   ],
   "source": [
    "np.isnan(chr22_1).sum()"
   ]
  },
  {
   "cell_type": "code",
   "execution_count": 17,
   "id": "b1ae1392-96b9-4fa9-8475-0ea5f4f19f5d",
   "metadata": {},
   "outputs": [
    {
     "data": {
      "text/plain": [
       "(1780, 4168)"
      ]
     },
     "execution_count": 17,
     "metadata": {},
     "output_type": "execute_result"
    }
   ],
   "source": [
    "chr22_1[np.any(np.isnan(chr22_1), axis=1)].shape"
   ]
  },
  {
   "cell_type": "code",
   "execution_count": 19,
   "id": "2b2f59a1-c477-4e26-94f7-18f48d47e411",
   "metadata": {},
   "outputs": [
    {
     "data": {
      "text/plain": [
       "0"
      ]
     },
     "execution_count": 19,
     "metadata": {},
     "output_type": "execute_result"
    }
   ],
   "source": [
    "chr22_1 = np.nan_to_num(chr22_1, nan=0)\n",
    "np.isnan(chr22_1).sum()"
   ]
  },
  {
   "cell_type": "code",
   "execution_count": null,
   "id": "1507db3c-49bf-41e6-8802-78fefd08102f",
   "metadata": {},
   "outputs": [],
   "source": []
  }
 ],
 "metadata": {
  "kernelspec": {
   "display_name": "polyfun",
   "language": "python",
   "name": "polyfun"
  },
  "language_info": {
   "codemirror_mode": {
    "name": "ipython",
    "version": 3
   },
   "file_extension": ".py",
   "mimetype": "text/x-python",
   "name": "python",
   "nbconvert_exporter": "python",
   "pygments_lexer": "ipython3",
   "version": "3.6.13"
  }
 },
 "nbformat": 4,
 "nbformat_minor": 5
}
