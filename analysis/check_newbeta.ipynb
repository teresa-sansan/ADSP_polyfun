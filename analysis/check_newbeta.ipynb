{
 "cells": [
  {
   "cell_type": "code",
   "execution_count": 1,
   "metadata": {},
   "outputs": [],
   "source": [
    "import pandas as pd\n",
    "import matplotlib.pyplot as plt\n",
    "import seaborn as sns"
   ]
  },
  {
   "cell_type": "code",
   "execution_count": 4,
   "metadata": {},
   "outputs": [],
   "source": [
    "ori_beta = pd.read_csv('/gpfs/commons/groups/knowles_lab/data/ADSP_reguloML/summary_stats/alzheimers/fixed_alzheimers/processed/Kunkle_et_al_2019_hg37_ldsc.tsv', sep = '\\t')\n",
    "new_beta = pd.read_csv('/gpfs/commons/groups/knowles_lab/data/ADSP_reguloML/summary_stats/alzheimers/fixed_alzheimers/processed/new_beta/kunkle_max_snp_10.aggregate.tsv', sep = '\\t')"
   ]
  },
  {
   "cell_type": "code",
   "execution_count": 7,
   "metadata": {},
   "outputs": [
    {
     "name": "stderr",
     "output_type": "stream",
     "text": [
      "/gpfs/commons/home/tlin/.conda/envs/polyfun/lib/python3.6/site-packages/seaborn/distributions.py:2619: FutureWarning: `distplot` is a deprecated function and will be removed in a future version. Please adapt your code to use either `displot` (a figure-level function with similar flexibility) or `histplot` (an axes-level function for histograms).\n",
      "  warnings.warn(msg, FutureWarning)\n"
     ]
    },
    {
     "data": {
      "text/plain": [
       "<AxesSubplot:xlabel='BETA', ylabel='Density'>"
      ]
     },
     "execution_count": 7,
     "metadata": {},
     "output_type": "execute_result"
    },
    {
     "data": {
      "image/png": "[encoded data removed]",
      "text/plain": [
       "<Figure size 432x288 with 1 Axes>"
      ]
     },
     "metadata": {
      "needs_background": "light"
     },
     "output_type": "display_data"
    }
   ],
   "source": [
    "sns.displot(ori_beta.BETA)"
   ]
  },
  {
   "cell_type": "code",
   "execution_count": 10,
   "metadata": {},
   "outputs": [
    {
     "data": {
      "text/plain": [
       "{'whiskers': [<matplotlib.lines.Line2D at 0x7fe842ef03c8>,\n",
       "  <matplotlib.lines.Line2D at 0x7fe842ef06a0>],\n",
       " 'caps': [<matplotlib.lines.Line2D at 0x7fe842ef0978>,\n",
       "  <matplotlib.lines.Line2D at 0x7fe842ef0c50>],\n",
       " 'boxes': [<matplotlib.lines.Line2D at 0x7fe842ef0160>],\n",
       " 'medians': [<matplotlib.lines.Line2D at 0x7fe842ef0f28>],\n",
       " 'fliers': [<matplotlib.lines.Line2D at 0x7fe842e7f240>],\n",
       " 'means': []}"
      ]
     },
     "execution_count": 10,
     "metadata": {},
     "output_type": "execute_result"
    },
    {
     "data": {
      "image/png": "[encoded data removed]",
      "text/plain": [
       "<Figure size 432x288 with 1 Axes>"
      ]
     },
     "metadata": {
      "needs_background": "light"
     },
     "output_type": "display_data"
    }
   ],
   "source": [
    "plt.boxplot(ori_beta.BETA)"
   ]
  },
  {
   "cell_type": "code",
   "execution_count": 15,
   "metadata": {},
   "outputs": [
    {
     "data": {
      "text/plain": [
       "<seaborn.axisgrid.FacetGrid at 0x7fe842eaccf8>"
      ]
     },
     "execution_count": 15,
     "metadata": {},
     "output_type": "execute_result"
    },
    {
     "data": {
      "image/png": "[encoded data removed]",
      "text/plain": [
       "<Figure size 360x360 with 1 Axes>"
      ]
     },
     "metadata": {
      "needs_background": "light"
     },
     "output_type": "display_data"
    }
   ],
   "source": [
    "sns.displot(new_beta.NEW_BETA)"
   ]
  },
  {
   "cell_type": "code",
   "execution_count": 17,
   "metadata": {},
   "outputs": [
    {
     "name": "stderr",
     "output_type": "stream",
     "text": [
      "/gpfs/commons/home/tlin/.conda/envs/polyfun/lib/python3.6/site-packages/seaborn/distributions.py:2619: FutureWarning: `distplot` is a deprecated function and will be removed in a future version. Please adapt your code to use either `displot` (a figure-level function with similar flexibility) or `histplot` (an axes-level function for histograms).\n",
      "  warnings.warn(msg, FutureWarning)\n"
     ]
    },
    {
     "data": {
      "text/plain": [
       "<AxesSubplot:xlabel='NEW_BETA', ylabel='Density'>"
      ]
     },
     "execution_count": 17,
     "metadata": {},
     "output_type": "execute_result"
    },
    {
     "data": {
      "image/png": "[encoded data removed]",
      "text/plain": [
       "<Figure size 432x288 with 1 Axes>"
      ]
     },
     "metadata": {
      "needs_background": "light"
     },
     "output_type": "display_data"
    }
   ],
   "source": [
    "sns.distplot(new_beta.NEW_BETA)"
   ]
  },
  {
   "cell_type": "code",
   "execution_count": 16,
   "metadata": {},
   "outputs": [
    {
     "data": {
      "text/html": [
       "<div>\n",
       "<style scoped>\n",
       "    .dataframe tbody tr th:only-of-type {\n",
       "        vertical-align: middle;\n",
       "    }\n",
       "\n",
       "    .dataframe tbody tr th {\n",
       "        vertical-align: top;\n",
       "    }\n",
       "\n",
       "    .dataframe thead th {\n",
       "        text-align: right;\n",
       "    }\n",
       "</style>\n",
       "<table border=\"1\" class=\"dataframe\">\n",
       "  <thead>\n",
       "    <tr style=\"text-align: right;\">\n",
       "      <th></th>\n",
       "      <th>SNP</th>\n",
       "      <th>CHR</th>\n",
       "      <th>BP</th>\n",
       "      <th>A1</th>\n",
       "      <th>A2</th>\n",
       "      <th>BETA</th>\n",
       "      <th>SE</th>\n",
       "      <th>P</th>\n",
       "      <th>N</th>\n",
       "      <th>Z</th>\n",
       "    </tr>\n",
       "  </thead>\n",
       "  <tbody>\n",
       "    <tr>\n",
       "      <th>0</th>\n",
       "      <td>rs61769339</td>\n",
       "      <td>1</td>\n",
       "      <td>662622</td>\n",
       "      <td>G</td>\n",
       "      <td>A</td>\n",
       "      <td>-0.1000</td>\n",
       "      <td>0.0457</td>\n",
       "      <td>0.02869</td>\n",
       "      <td>63926</td>\n",
       "      <td>-2.187720</td>\n",
       "    </tr>\n",
       "    <tr>\n",
       "      <th>1</th>\n",
       "      <td>rs190214723</td>\n",
       "      <td>1</td>\n",
       "      <td>693625</td>\n",
       "      <td>T</td>\n",
       "      <td>C</td>\n",
       "      <td>0.0163</td>\n",
       "      <td>0.0685</td>\n",
       "      <td>0.81200</td>\n",
       "      <td>63926</td>\n",
       "      <td>0.237847</td>\n",
       "    </tr>\n",
       "    <tr>\n",
       "      <th>2</th>\n",
       "      <td>rs72631875</td>\n",
       "      <td>1</td>\n",
       "      <td>705882</td>\n",
       "      <td>G</td>\n",
       "      <td>A</td>\n",
       "      <td>-0.0184</td>\n",
       "      <td>0.0595</td>\n",
       "      <td>0.75740</td>\n",
       "      <td>63926</td>\n",
       "      <td>-0.308897</td>\n",
       "    </tr>\n",
       "    <tr>\n",
       "      <th>3</th>\n",
       "      <td>rs181440659</td>\n",
       "      <td>1</td>\n",
       "      <td>718505</td>\n",
       "      <td>G</td>\n",
       "      <td>A</td>\n",
       "      <td>-0.1628</td>\n",
       "      <td>0.1362</td>\n",
       "      <td>0.23200</td>\n",
       "      <td>63926</td>\n",
       "      <td>-1.195223</td>\n",
       "    </tr>\n",
       "    <tr>\n",
       "      <th>4</th>\n",
       "      <td>rs116587930</td>\n",
       "      <td>1</td>\n",
       "      <td>727841</td>\n",
       "      <td>G</td>\n",
       "      <td>A</td>\n",
       "      <td>-0.0471</td>\n",
       "      <td>0.0655</td>\n",
       "      <td>0.47220</td>\n",
       "      <td>63926</td>\n",
       "      <td>-0.718904</td>\n",
       "    </tr>\n",
       "  </tbody>\n",
       "</table>\n",
       "</div>"
      ],
      "text/plain": [
       "           SNP  CHR      BP A1 A2    BETA      SE        P      N         Z\n",
       "0   rs61769339    1  662622  G  A -0.1000  0.0457  0.02869  63926 -2.187720\n",
       "1  rs190214723    1  693625  T  C  0.0163  0.0685  0.81200  63926  0.237847\n",
       "2   rs72631875    1  705882  G  A -0.0184  0.0595  0.75740  63926 -0.308897\n",
       "3  rs181440659    1  718505  G  A -0.1628  0.1362  0.23200  63926 -1.195223\n",
       "4  rs116587930    1  727841  G  A -0.0471  0.0655  0.47220  63926 -0.718904"
      ]
     },
     "execution_count": 16,
     "metadata": {},
     "output_type": "execute_result"
    }
   ],
   "source": [
    "ori_beta.head()"
   ]
  },
  {
   "cell_type": "code",
   "execution_count": null,
   "metadata": {},
   "outputs": [],
   "source": []
  }
 ],
 "metadata": {
  "kernelspec": {
   "display_name": "polyfun",
   "language": "python",
   "name": "polyfun"
  },
  "language_info": {
   "codemirror_mode": {
    "name": "ipython",
    "version": 3
   },
   "file_extension": ".py",
   "mimetype": "text/x-python",
   "name": "python",
   "nbconvert_exporter": "python",
   "pygments_lexer": "ipython3",
   "version": "3.6.13"
  }
 },
 "nbformat": 4,
 "nbformat_minor": 2
}
