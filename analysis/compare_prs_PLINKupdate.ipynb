{
 "cells": [
  {
   "cell_type": "code",
   "execution_count": 1,
   "metadata": {},
   "outputs": [],
   "source": [
    "import pandas as pd\n",
    "import numpy as np\n"
   ]
  },
  {
   "cell_type": "code",
   "execution_count": 11,
   "metadata": {},
   "outputs": [],
   "source": [
    "org1 = pd.read_csv(\"/gpfs/commons/home/tlin/output/prs/bellenguez_all_2/with_PC/prs_diagnosis_0219.2021_max_snp_1_subset.tsv\", sep='\\t')\n",
    "update1 = pd.read_csv(\"/gpfs/commons/home/tlin/output/prs/bellenguez_all_2/with_PC/prs_diagnosis_0219.2021_max_snp_10_subset.tsv\", sep='\\t')\n",
    "org10 = pd.read_csv(\"/gpfs/commons/home/tlin/output/prs/bellenguez_all_2/with_PC/UPDATEprs_diagnosis_0219.2021_max_snp_1_subset.tsv\", sep='\\t')\n",
    "update10 = pd.read_csv(\"/gpfs/commons/home/tlin/output/prs/bellenguez_all_2/with_PC/UPDATEprs_diagnosis_0219.2021_max_snp_10_subset.tsv\", sep='\\t')"
   ]
  },
  {
   "cell_type": "code",
   "execution_count": 12,
   "metadata": {},
   "outputs": [
    {
     "name": "stdout",
     "output_type": "stream",
     "text": [
      "(12720, 29)\n",
      "(531, 29)\n",
      "(13265, 29)\n",
      "(9260, 29)\n"
     ]
    }
   ],
   "source": [
    "print(org1[org1[\"PRS\"]<0].shape)\n",
    "print(org1[org1[\"PRS\"]>0].shape)\n",
    "\n",
    "print(update1[update1[\"PRS\"]<0].shape)\n",
    "print(update10[update10[\"PRS\"]>0].shape)"
   ]
  },
  {
   "cell_type": "code",
   "execution_count": 13,
   "metadata": {},
   "outputs": [
    {
     "data": {
      "text/plain": [
       "(13265, 29)"
      ]
     },
     "execution_count": 13,
     "metadata": {},
     "output_type": "execute_result"
    }
   ],
   "source": []
  },
  {
   "cell_type": "code",
   "execution_count": 14,
   "metadata": {},
   "outputs": [
    {
     "data": {
      "text/plain": [
       "(13265, 29)"
      ]
     },
     "execution_count": 14,
     "metadata": {},
     "output_type": "execute_result"
    }
   ],
   "source": []
  },
  {
   "cell_type": "code",
   "execution_count": null,
   "metadata": {},
   "outputs": [],
   "source": []
  }
 ],
 "metadata": {
  "kernelspec": {
   "display_name": "Python 3",
   "language": "python",
   "name": "python3"
  },
  "language_info": {
   "codemirror_mode": {
    "name": "ipython",
    "version": 3
   },
   "file_extension": ".py",
   "mimetype": "text/x-python",
   "name": "python",
   "nbconvert_exporter": "python",
   "pygments_lexer": "ipython3",
   "version": "3.7.0"
  }
 },
 "nbformat": 4,
 "nbformat_minor": 2
}
