{
 "cells": [
  {
   "cell_type": "code",
   "execution_count": 1,
   "id": "739effaf-233a-4e4f-a2c2-c6f3f1ce3314",
   "metadata": {},
   "outputs": [],
   "source": [
    "import pandas as pd\n",
    "import numpy as np\n",
    "import matplotlib.pyplot as plt\n",
    "import seaborn as sns\n"
   ]
  },
  {
   "cell_type": "code",
   "execution_count": 3,
   "id": "48028862-4c80-4339-b2e2-e8471dbd516f",
   "metadata": {},
   "outputs": [],
   "source": [
    "path = '/gpfs/commons/home/tlin/output/wightman/new_anno_0203/update_all+enformer/finemap/polyloc/'\n",
    "h2 = pd.read_csv(path+'polyloc.bin_h2', sep = '\\t')\n",
    "Mp = pd.read_csv(path+'polyloc.Mp', sep = '\\t')"
   ]
  },
  {
   "cell_type": "code",
   "execution_count": 4,
   "id": "a8c5ad58-bd4e-43a7-bbb8-55e7dcd4baca",
   "metadata": {},
   "outputs": [],
   "source": [
    "h2['%H2'] = h2['%H2']* 100\n",
    "h2[\"SUM_%H2\"] = h2[\"SUM_%H2\"]* 100\n",
    "h2[\"%H2_STDERR\"] = h2[\"%H2_STDERR\"]* 100\n",
    "h2[\"SUM_%H2_STDERR\"] = h2[\"SUM_%H2_STDERR\"]* 100"
   ]
  },
  {
   "cell_type": "code",
   "execution_count": 5,
   "id": "89c2bf1d-1d0f-49ad-9539-7961e150f1b3",
   "metadata": {},
   "outputs": [
    {
     "data": {
      "text/html": [
       "<div>\n",
       "<style scoped>\n",
       "    .dataframe tbody tr th:only-of-type {\n",
       "        vertical-align: middle;\n",
       "    }\n",
       "\n",
       "    .dataframe tbody tr th {\n",
       "        vertical-align: top;\n",
       "    }\n",
       "\n",
       "    .dataframe thead th {\n",
       "        text-align: right;\n",
       "    }\n",
       "</style>\n",
       "<table border=\"1\" class=\"dataframe\">\n",
       "  <thead>\n",
       "    <tr style=\"text-align: right;\">\n",
       "      <th></th>\n",
       "      <th>BIN</th>\n",
       "      <th>BIN_SIZE</th>\n",
       "      <th>SUM_BINSIZE</th>\n",
       "      <th>%H2</th>\n",
       "      <th>%H2_STDERR</th>\n",
       "      <th>SUM_%H2</th>\n",
       "      <th>SUM_%H2_STDERR</th>\n",
       "    </tr>\n",
       "  </thead>\n",
       "  <tbody>\n",
       "    <tr>\n",
       "      <th>0</th>\n",
       "      <td>1</td>\n",
       "      <td>10</td>\n",
       "      <td>10</td>\n",
       "      <td>4.387</td>\n",
       "      <td>0.580</td>\n",
       "      <td>4.387</td>\n",
       "      <td>0.580</td>\n",
       "    </tr>\n",
       "    <tr>\n",
       "      <th>1</th>\n",
       "      <td>2</td>\n",
       "      <td>10</td>\n",
       "      <td>20</td>\n",
       "      <td>0.000</td>\n",
       "      <td>0.477</td>\n",
       "      <td>4.387</td>\n",
       "      <td>0.870</td>\n",
       "    </tr>\n",
       "    <tr>\n",
       "      <th>2</th>\n",
       "      <td>3</td>\n",
       "      <td>10</td>\n",
       "      <td>30</td>\n",
       "      <td>0.000</td>\n",
       "      <td>0.215</td>\n",
       "      <td>4.387</td>\n",
       "      <td>1.034</td>\n",
       "    </tr>\n",
       "    <tr>\n",
       "      <th>3</th>\n",
       "      <td>4</td>\n",
       "      <td>10</td>\n",
       "      <td>40</td>\n",
       "      <td>3.828</td>\n",
       "      <td>1.111</td>\n",
       "      <td>8.215</td>\n",
       "      <td>1.348</td>\n",
       "    </tr>\n",
       "    <tr>\n",
       "      <th>4</th>\n",
       "      <td>5</td>\n",
       "      <td>21</td>\n",
       "      <td>61</td>\n",
       "      <td>2.523</td>\n",
       "      <td>0.930</td>\n",
       "      <td>10.738</td>\n",
       "      <td>1.806</td>\n",
       "    </tr>\n",
       "    <tr>\n",
       "      <th>5</th>\n",
       "      <td>6</td>\n",
       "      <td>85</td>\n",
       "      <td>146</td>\n",
       "      <td>1.780</td>\n",
       "      <td>1.240</td>\n",
       "      <td>12.518</td>\n",
       "      <td>2.313</td>\n",
       "    </tr>\n",
       "    <tr>\n",
       "      <th>6</th>\n",
       "      <td>7</td>\n",
       "      <td>273</td>\n",
       "      <td>419</td>\n",
       "      <td>3.564</td>\n",
       "      <td>1.202</td>\n",
       "      <td>16.083</td>\n",
       "      <td>1.957</td>\n",
       "    </tr>\n",
       "    <tr>\n",
       "      <th>7</th>\n",
       "      <td>8</td>\n",
       "      <td>926</td>\n",
       "      <td>1345</td>\n",
       "      <td>4.155</td>\n",
       "      <td>1.317</td>\n",
       "      <td>20.238</td>\n",
       "      <td>1.727</td>\n",
       "    </tr>\n",
       "    <tr>\n",
       "      <th>8</th>\n",
       "      <td>9</td>\n",
       "      <td>3835</td>\n",
       "      <td>5180</td>\n",
       "      <td>3.453</td>\n",
       "      <td>1.161</td>\n",
       "      <td>23.691</td>\n",
       "      <td>2.156</td>\n",
       "    </tr>\n",
       "    <tr>\n",
       "      <th>9</th>\n",
       "      <td>10</td>\n",
       "      <td>10795391</td>\n",
       "      <td>10800571</td>\n",
       "      <td>76.309</td>\n",
       "      <td>2.156</td>\n",
       "      <td>100.000</td>\n",
       "      <td>0.000</td>\n",
       "    </tr>\n",
       "    <tr>\n",
       "      <th>10</th>\n",
       "      <td>11</td>\n",
       "      <td>8676533</td>\n",
       "      <td>19477104</td>\n",
       "      <td>0.000</td>\n",
       "      <td>0.000</td>\n",
       "      <td>100.000</td>\n",
       "      <td>0.000</td>\n",
       "    </tr>\n",
       "  </tbody>\n",
       "</table>\n",
       "</div>"
      ],
      "text/plain": [
       "    BIN  BIN_SIZE  SUM_BINSIZE     %H2  %H2_STDERR  SUM_%H2  SUM_%H2_STDERR\n",
       "0     1        10           10   4.387       0.580    4.387           0.580\n",
       "1     2        10           20   0.000       0.477    4.387           0.870\n",
       "2     3        10           30   0.000       0.215    4.387           1.034\n",
       "3     4        10           40   3.828       1.111    8.215           1.348\n",
       "4     5        21           61   2.523       0.930   10.738           1.806\n",
       "5     6        85          146   1.780       1.240   12.518           2.313\n",
       "6     7       273          419   3.564       1.202   16.083           1.957\n",
       "7     8       926         1345   4.155       1.317   20.238           1.727\n",
       "8     9      3835         5180   3.453       1.161   23.691           2.156\n",
       "9    10  10795391     10800571  76.309       2.156  100.000           0.000\n",
       "10   11   8676533     19477104   0.000       0.000  100.000           0.000"
      ]
     },
     "execution_count": 5,
     "metadata": {},
     "output_type": "execute_result"
    }
   ],
   "source": [
    "h2"
   ]
  },
  {
   "cell_type": "code",
   "execution_count": 52,
   "id": "5310bfd2-6626-42a0-9eb0-0954608ddb0e",
   "metadata": {},
   "outputs": [
    {
     "name": "stdout",
     "output_type": "stream",
     "text": [
      "0 4.387\n",
      "1 4.387\n",
      "2 4.387\n",
      "3 8.215\n",
      "4 10.738\n",
      "5 12.517999999999999\n",
      "6 16.083\n",
      "7 20.238\n",
      "8 23.691\n",
      "9 100.0\n",
      "10 100.0\n",
      "AxesSubplot(0.125,0.125;0.775x0.755)\n"
     ]
    },
    {
     "data": {
      "image/png": "[encoded data removed]",
      "text/plain": [
       "<Figure size 720x576 with 1 Axes>"
      ]
     },
     "metadata": {
      "needs_background": "light"
     },
     "output_type": "display_data"
    }
   ],
   "source": [
    "ax = h2[\"SUM_%H2\"].plot.bar(ylabel ='%H2', xlabel='bin', title='Wightman PolyLoc', alpha = 0.5, color='#FFDBAA',fontsize=14,figsize=(10,8))\n",
    "ax.set_xlabel(ax.get_xlabel(), fontsize=13)\n",
    "ax.set_ylabel(ax.get_ylabel(), fontsize=13)\n",
    "ax.set_xticks(range(11))\n",
    "ax.set_xticklabels(list(map(str, range(1, 12))), size=12)\n",
    "for index, value in enumerate(h2[\"SUM_%H2\"]):\n",
    "    print(index, value)\n",
    "    ax.text(index, value, f'{value:.1f}', ha='center', va='center_baseline', color='red', fontsize='large')\n",
    "print(ax)"
   ]
  },
  {
   "cell_type": "code",
   "execution_count": 34,
   "id": "99e79fa8-adad-46ea-ba26-eef44a4032ef",
   "metadata": {},
   "outputs": [
    {
     "name": "stdout",
     "output_type": "stream",
     "text": [
      "4.387\n",
      "4.387\n",
      "4.387\n",
      "8.215\n",
      "10.738\n",
      "12.517999999999999\n",
      "16.083\n",
      "20.238\n",
      "23.691\n",
      "100.0\n",
      "100.0\n"
     ]
    }
   ],
   "source": [
    "for index,value in enumerate(h2[\"SUM_%H2\"]):\n",
    "    print (value)"
   ]
  },
  {
   "cell_type": "code",
   "execution_count": null,
   "id": "ea6087b6-0645-4d93-8a37-a4b7ad29fbde",
   "metadata": {},
   "outputs": [],
   "source": []
  }
 ],
 "metadata": {
  "kernelspec": {
   "display_name": "polyfun",
   "language": "python",
   "name": "polyfun"
  },
  "language_info": {
   "codemirror_mode": {
    "name": "ipython",
    "version": 3
   },
   "file_extension": ".py",
   "mimetype": "text/x-python",
   "name": "python",
   "nbconvert_exporter": "python",
   "pygments_lexer": "ipython3",
   "version": "3.6.13"
  }
 },
 "nbformat": 4,
 "nbformat_minor": 5
}
