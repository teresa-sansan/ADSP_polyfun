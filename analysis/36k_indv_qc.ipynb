{
 "cells": [
  {
   "cell_type": "code",
   "execution_count": 1,
   "id": "45452184-2f29-4765-a69b-a987e8afd3d2",
   "metadata": {},
   "outputs": [],
   "source": [
    "import pandas as pd\n",
    "import numpy as np\n",
    "import matplotlib.pyplot as plt\n",
    "import seaborn as sns"
   ]
  },
  {
   "cell_type": "code",
   "execution_count": 7,
   "id": "ffd8ed48-f73e-42bb-a655-4b1f48dcc36c",
   "metadata": {},
   "outputs": [],
   "source": [
    "indv_count = \"/gpfs/commons/groups/knowles_lab/data/ADSP_reguloML/ADSP_vcf/36K_preview/plink_hg38_qc/qc_indv.count.txt\""
   ]
  },
  {
   "cell_type": "code",
   "execution_count": 53,
   "id": "493187ff-6b60-4cd5-9aae-de72956cc9ea",
   "metadata": {},
   "outputs": [
    {
     "name": "stdout",
     "output_type": "stream",
     "text": [
      "variants 335091, people 20769\n",
      "variants 282840, people 20720\n",
      "variants 321795, people 20948\n",
      "variants 345654, people 20951\n",
      "variants 313458, people 20950\n",
      "variants 322230, people 20949\n",
      "variants 354108, people 20951\n",
      "variants 344082, people 20949\n",
      "variants 334436, people 20948\n",
      "variants 350272, people 20951\n",
      "variants 328768, people 20949\n",
      "variants 305979, people 20713\n",
      "variants 356079, people 20949\n",
      "variants 340755, people 20949\n",
      "variants 353345, people 20949\n",
      "variants 329549, people 20900\n",
      "variants 307062, people 20731\n",
      "variants 345870, people 20946\n",
      "variants 332960, people 20948\n",
      "variants 357987, people 20949\n",
      "variants 323733, people 20919\n",
      "variants 327295, people 20949\n",
      "variants 409046, people 20949\n",
      "variants 386725, people 20951\n",
      "variants 354953, people 20758\n",
      "variants 389363, people 20948\n",
      "variants 379081, people 20945\n",
      "variants 353407, people 20913\n",
      "variants 419011, people 20951\n",
      "variants 348104, people 20947\n",
      "variants 363170, people 20949\n",
      "variants 364459, people 20949\n",
      "variants 342589, people 20754\n",
      "variants 334538, people 20949\n",
      "variants 331442, people 20949\n",
      "variants 296809, people 20951\n",
      "variants 343794, people 20951\n",
      "variants 321169, people 20949\n",
      "variants 373005, people 20948\n",
      "variants 336917, people 20684\n",
      "variants 370709, people 20951\n",
      "variants 394735, people 20760\n",
      "variants 404338, people 20758\n",
      "variants 390892, people 20951\n",
      "variants 332439, people 20949\n",
      "variants 416753, people 20949\n",
      "variants 406839, people 20949\n",
      "variants 368245, people 20869\n",
      "variants 374208, people 20948\n",
      "variants 384680, people 20951\n",
      "variants 410170, people 20778\n",
      "variants 437848, people 20948\n",
      "variants 385037, people 20920\n",
      "variants 397141, people 20948\n",
      "variants 353022, people 20764\n",
      "variants 361393, people 20948\n",
      "variants 363740, people 20756\n",
      "variants 386708, people 20951\n",
      "variants 341760, people 20906\n",
      "variants 339578, people 20880\n",
      "variants 306678, people 20949\n",
      "variants 355631, people 20949\n",
      "variants 273370, people 20933\n",
      "variants 270590, people 20951\n",
      "variants 276389, people 20951\n",
      "variants 303759, people 20735\n",
      "variants 363084, people 20751\n",
      "variants 375589, people 20749\n"
     ]
    }
   ],
   "source": [
    "with open(indv_count, 'r') as file:\n",
    "    arrays = []\n",
    "    for line in file:\n",
    "        split = line.split()\n",
    "        print(\"variants {}, people {}\".format(split[0], split[3]))\n",
    "        line_array = [int(split[0]), int(split[3])]\n",
    "        #print(line_array)\n",
    "        # Append the line array to the list\n",
    "        arrays.append(line_array)\n",
    "       \n",
    "# Convert the list of arrays to a NumPy array\n",
    "counts = np.array(arrays)\n"
   ]
  },
  {
   "cell_type": "code",
   "execution_count": 64,
   "id": "434b50ba-d561-43c3-9727-8702775da540",
   "metadata": {},
   "outputs": [
    {
     "data": {
      "image/png": "[encoded data removed]",
      "text/plain": [
       "<Figure size 432x288 with 1 Axes>"
      ]
     },
     "metadata": {
      "needs_background": "light"
     },
     "output_type": "display_data"
    }
   ],
   "source": [
    "plt.scatter(counts[:,1], counts[:,0])\n",
    "plt.xlabel(\"#individual\")\n",
    "plt.ylabel(\"#variants\")\n",
    "plt.title(\"36K QC\")\n",
    "plt.show()"
   ]
  },
  {
   "cell_type": "code",
   "execution_count": 67,
   "id": "6f82a751-0e3e-4942-8878-263c3fdf44ad",
   "metadata": {},
   "outputs": [
    {
     "name": "stdout",
     "output_type": "stream",
     "text": [
      "20684 20951\n"
     ]
    }
   ],
   "source": [
    "print(min(counts[:,1]), max(counts[:,1]))"
   ]
  },
  {
   "cell_type": "code",
   "execution_count": 69,
   "id": "0cb9d8d2-6193-4a3e-901d-7d6e6156e730",
   "metadata": {},
   "outputs": [
    {
     "data": {
      "text/plain": [
       "267"
      ]
     },
     "execution_count": 69,
     "metadata": {},
     "output_type": "execute_result"
    }
   ],
   "source": [
    "951-684"
   ]
  },
  {
   "cell_type": "code",
   "execution_count": 85,
   "id": "68497d19-56ae-4fbb-849f-e863cf88456b",
   "metadata": {},
   "outputs": [],
   "source": [
    "ind = pd.read_csv(\"/gpfs/commons/groups/knowles_lab/data/ADSP_reguloML/ADSP_vcf/36K_preview/plink_hg38_qc/ind_count.txt\", header=None, sep=' ',names=[\"indv\",\"counts\"])"
   ]
  },
  {
   "cell_type": "code",
   "execution_count": 88,
   "id": "97ead6ea-aca6-4894-b442-e1bb91aab3a7",
   "metadata": {},
   "outputs": [
    {
     "name": "stdout",
     "output_type": "stream",
     "text": [
      "39 1\n"
     ]
    }
   ],
   "source": [
    "print(max(ind.counts), min(ind.counts))"
   ]
  },
  {
   "cell_type": "code",
   "execution_count": 87,
   "id": "8c1ad99d-18d5-4cd3-8f82-8c1369317bed",
   "metadata": {},
   "outputs": [
    {
     "data": {
      "text/plain": [
       "<AxesSubplot:>"
      ]
     },
     "execution_count": 87,
     "metadata": {},
     "output_type": "execute_result"
    },
    {
     "data": {
      "image/png": "[encoded data removed]",
      "text/plain": [
       "<Figure size 432x288 with 1 Axes>"
      ]
     },
     "metadata": {
      "needs_background": "light"
     },
     "output_type": "display_data"
    }
   ],
   "source": [
    "ind.counts.hist()"
   ]
  },
  {
   "cell_type": "code",
   "execution_count": 108,
   "id": "c9b8a32d-1246-4bcf-b6b5-2b4c5e8721f6",
   "metadata": {},
   "outputs": [
    {
     "name": "stderr",
     "output_type": "stream",
     "text": [
      "/gpfs/commons/home/tlin/.conda/envs/polyfun/lib/python3.6/site-packages/seaborn/distributions.py:2619: FutureWarning: `distplot` is a deprecated function and will be removed in a future version. Please adapt your code to use either `displot` (a figure-level function with similar flexibility) or `histplot` (an axes-level function for histograms).\n",
      "  warnings.warn(msg, FutureWarning)\n"
     ]
    },
    {
     "data": {
      "image/png": "[encoded data removed]",
      "text/plain": [
       "<Figure size 432x288 with 1 Axes>"
      ]
     },
     "metadata": {
      "needs_background": "light"
     },
     "output_type": "display_data"
    }
   ],
   "source": [
    "sns.distplot(ind.counts, hist=True, kde=True)\n",
    "plt.xticks(list(range(1, 41,2)))\n",
    "plt.xlim(0, 41)\n",
    "plt.show()"
   ]
  },
  {
   "cell_type": "code",
   "execution_count": 110,
   "id": "7a5bba56-8b47-424d-99cd-0188a1a1af31",
   "metadata": {},
   "outputs": [
    {
     "data": {
      "text/plain": [
       "(0.0, 40.0)"
      ]
     },
     "execution_count": 110,
     "metadata": {},
     "output_type": "execute_result"
    },
    {
     "data": {
      "image/png": "[encoded data removed]",
      "text/plain": [
       "<Figure size 432x288 with 1 Axes>"
      ]
     },
     "metadata": {
      "needs_background": "light"
     },
     "output_type": "display_data"
    }
   ],
   "source": [
    "sns.histplot(ind.counts, stat='count')\n",
    "plt.xlabel(\"counts of chunks that didn't pass QC\")\n",
    "plt.ylabel(\"counts of indv\")\n",
    "plt.xlim(0, 40)"
   ]
  },
  {
   "cell_type": "code",
   "execution_count": null,
   "id": "1d457bc2-0e15-4dac-ba1e-f5f5c92bcfc5",
   "metadata": {},
   "outputs": [],
   "source": []
  }
 ],
 "metadata": {
  "kernelspec": {
   "display_name": "polyfun",
   "language": "python",
   "name": "polyfun"
  },
  "language_info": {
   "codemirror_mode": {
    "name": "ipython",
    "version": 3
   },
   "file_extension": ".py",
   "mimetype": "text/x-python",
   "name": "python",
   "nbconvert_exporter": "python",
   "pygments_lexer": "ipython3",
   "version": "3.6.13"
  }
 },
 "nbformat": 4,
 "nbformat_minor": 5
}
