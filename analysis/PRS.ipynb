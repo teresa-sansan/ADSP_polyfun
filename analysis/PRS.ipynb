{
 "cells": [
  {
   "cell_type": "code",
   "execution_count": null,
   "metadata": {},
   "outputs": [],
   "source": [
    "import pandas as pd\n",
    "import numpy as np\n"
   ]
  },
  {
   "cell_type": "code",
   "execution_count": null,
   "metadata": {},
   "outputs": [],
   "source": [
    "# LOAD DATA ---------------\n",
    "polypred1 = pd.read_csv(\"/gpfs/commons/home/tlin/output/prs/bellenguez_all_2/prs_diagnosis_0219.2021_max_snp_1.tsv\",header=T,sep = '\\t')\n",
    "polypred3 = pd.read_csv(\"/gpfs/commons/home/tlin/output/prs/bellenguez_all_2/prs_diagnosis_0219.2021_max_snp_3.tsv\",header=T,sep = '\\t')\n",
    "polypred5 = pd.read_csv(\"/gpfs/commons/home/tlin/output/prs/bellenguez_all_2/prs_diagnosis_0219.2021_max_snp_5.tsv\",header=T,sep = '\\t')\n",
    "polypred7 = pd.read_csv(\"/gpfs/commons/home/tlin/output/prs/bellenguez_all_2/prs_diagnosis_0219.2021_max_snp_7.tsv\",header=T,sep = '\\t')\n",
    "polypred10 = pd.read_csv(\"/gpfs/commons/home/tlin/output/prs/bellenguez_all_2/prs_diagnosis_0219.2021_max_snp_10.tsv\",header=T,sep = '\\t')\n",
    "\n",
    "\n",
    "susie_polypred1 = pd.read_csv(\"/gpfs/commons/home/tlin/output/prs/bellenguez_susie/susie_prs_diagnosis_0219.2021_max_snp_1.tsv\",header=T,fill = T)\n",
    "susie_polypred3 = pd.read_csv(\"/gpfs/commons/home/tlin/output/prs/bellenguez_susie/susie_prs_diagnosis_0219.2021_max_snp_3.tsv\",header=T,fill = T)\n",
    "susie_polypred5 = pd.read_csv(\"/gpfs/commons/home/tlin/output/prs/bellenguez_susie/susie_prs_diagnosis_0219.2021_max_snp_5.tsv\",header=T,fill = T)\n",
    "susie_polypred7 = pd.read_csv(\"/gpfs/commons/home/tlin/output/prs/bellenguez_susie/susie_prs_diagnosis_0219.2021_max_snp_7.tsv\",header=T,fill = T)\n",
    "susie_polypred10 = pd.read_csv(\"/gpfs/commons/home/tlin/output/prs/bellenguez_susie/susie_prs_diagnosis_0219.2021_max_snp_10.tsv\",header=T,fill = T)\n",
    "\n",
    "\n",
    "polypred = rbind(polypred1, polypred3, polypred5, polypred7, polypred10)\n",
    "polypred_susie = rbind(polypred1, polypred3, polypred5, polypred7, polypred10)\n",
    "\n",
    "snp = c(1,3,5,7,10)\n",
    "polypred$SNP = rep(snp,each=dim(polypred1)[1])\n",
    "polypred_susie$SNP = rep(snp,each=dim(susie_polypred1)[1])\n"
   ]
  }
 ],
 "metadata": {
  "kernelspec": {
   "display_name": "Python 3",
   "language": "python",
   "name": "python3"
  },
  "language_info": {
   "codemirror_mode": {
    "name": "ipython",
    "version": 3
   },
   "file_extension": ".py",
   "mimetype": "text/x-python",
   "name": "python",
   "nbconvert_exporter": "python",
   "pygments_lexer": "ipython3",
   "version": "3.7.0"
  }
 },
 "nbformat": 4,
 "nbformat_minor": 2
}
