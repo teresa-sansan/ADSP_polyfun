{
 "cells": [
  {
   "cell_type": "code",
   "execution_count": 1,
   "id": "60abd88f-0a56-47a7-86f7-041f29183740",
   "metadata": {},
   "outputs": [],
   "source": [
    "import pandas as pd\n",
    "import numpy as np\n",
    "import matplotlib.pyplot as plt\n",
    "import seaborn as sns"
   ]
  },
  {
   "cell_type": "code",
   "execution_count": 2,
   "id": "7dc46f15-22da-4151-b49e-fffbeba66d26",
   "metadata": {},
   "outputs": [],
   "source": [
    "sbayesrc= pd.read_csv('/gpfs/commons/home/tlin/output/sbayesRC/bellenguez_whole_genome/bellenguez_tune.sbrc.txt', sep = '\\t')\n",
    "\n"
   ]
  },
  {
   "cell_type": "code",
   "execution_count": 5,
   "id": "f81098b7-e656-40dd-9e37-ec79df681fd8",
   "metadata": {},
   "outputs": [],
   "source": [
    "polyfun_dl = pd.read_csv('/gpfs/commons/groups/knowles_lab/data/ADSP_reguloML/summary_stats/alzheimers/fine_mapping/annotations_dl/aggregate_finemap/bellenguez_baseline_omics_dl_chr19.txt.gz', sep = '\\t', compression = 'gzip')"
   ]
  },
  {
   "cell_type": "code",
   "execution_count": 24,
   "id": "4c10c94a-e72b-4210-b543-4bb800576188",
   "metadata": {},
   "outputs": [
    {
     "data": {
      "image/png": "[encoded data removed]",
      "text/plain": [
       "<Figure size 432x288 with 1 Axes>"
      ]
     },
     "metadata": {
      "needs_background": "light"
     },
     "output_type": "display_data"
    }
   ],
   "source": [
    "plt.scatter(sbayesrc.BETA,sbayesrc.PIP,s=10)\n",
    "plt.title('SbayesRC')\n",
    "plt.xlabel('BETA')\n",
    "plt.ylabel('PIP')\n",
    "plt.grid(True)"
   ]
  },
  {
   "cell_type": "code",
   "execution_count": 26,
   "id": "8c9fc6b7-7694-4f56-a191-dfa9accdd32c",
   "metadata": {},
   "outputs": [
    {
     "data": {
      "text/plain": [
       "(7356518, 5)"
      ]
     },
     "execution_count": 26,
     "metadata": {},
     "output_type": "execute_result"
    }
   ],
   "source": [
    "sbayesrc.shape"
   ]
  },
  {
   "cell_type": "code",
   "execution_count": 28,
   "id": "c3dbc089-8b13-458e-b1bd-472eb1d6a5ed",
   "metadata": {},
   "outputs": [
    {
     "data": {
      "text/plain": [
       "(24, 5)"
      ]
     },
     "execution_count": 28,
     "metadata": {},
     "output_type": "execute_result"
    }
   ],
   "source": [
    "sbayesrc[sbayesrc.PIP > 0.5].shape\n"
   ]
  },
  {
   "cell_type": "code",
   "execution_count": 16,
   "id": "324a3033-1a13-4b34-906a-9421cda3fef9",
   "metadata": {},
   "outputs": [
    {
     "data": {
      "image/png": "[encoded data removed]",
      "text/plain": [
       "<Figure size 432x288 with 1 Axes>"
      ]
     },
     "metadata": {
      "needs_background": "light"
     },
     "output_type": "display_data"
    }
   ],
   "source": [
    "sns.regplot(x='BETA', y='PIP', data=sbayesrc, ci=None)\n",
    "plt.title('SBayesRC')\n",
    "plt.xlabel('BETA')\n",
    "plt.ylabel('PIP')\n",
    "plt.grid(True)\n",
    "plt.show()\n"
   ]
  },
  {
   "cell_type": "code",
   "execution_count": 18,
   "id": "f12346a4-cd4c-42ac-bf59-c056fe89847f",
   "metadata": {},
   "outputs": [
    {
     "name": "stdout",
     "output_type": "stream",
     "text": [
      "Correlation Coefficient (R): 0.17641979416652653\n"
     ]
    }
   ],
   "source": [
    "correlation_coefficient = sbayesrc.BETA.corr(sbayesrc.PIP)\n",
    "print(f'Correlation Coefficient (R): {correlation_coefficient}')"
   ]
  },
  {
   "cell_type": "code",
   "execution_count": 19,
   "id": "746351bf-c90c-4053-97a9-b17e066e0acb",
   "metadata": {},
   "outputs": [
    {
     "data": {
      "text/html": [
       "<div>\n",
       "<style scoped>\n",
       "    .dataframe tbody tr th:only-of-type {\n",
       "        vertical-align: middle;\n",
       "    }\n",
       "\n",
       "    .dataframe tbody tr th {\n",
       "        vertical-align: top;\n",
       "    }\n",
       "\n",
       "    .dataframe thead th {\n",
       "        text-align: right;\n",
       "    }\n",
       "</style>\n",
       "<table border=\"1\" class=\"dataframe\">\n",
       "  <thead>\n",
       "    <tr style=\"text-align: right;\">\n",
       "      <th></th>\n",
       "      <th>CHR</th>\n",
       "      <th>SNP</th>\n",
       "      <th>BP</th>\n",
       "      <th>A1</th>\n",
       "      <th>A2</th>\n",
       "      <th>SNPVAR</th>\n",
       "      <th>MAF</th>\n",
       "      <th>Z</th>\n",
       "      <th>N</th>\n",
       "      <th>P</th>\n",
       "      <th>PIP</th>\n",
       "      <th>BETA_MEAN</th>\n",
       "      <th>BETA_SD</th>\n",
       "      <th>CREDIBLE_SET</th>\n",
       "    </tr>\n",
       "  </thead>\n",
       "  <tbody>\n",
       "    <tr>\n",
       "      <th>0</th>\n",
       "      <td>19</td>\n",
       "      <td>rs62102979</td>\n",
       "      <td>226776</td>\n",
       "      <td>C</td>\n",
       "      <td>T</td>\n",
       "      <td>2.253600e-09</td>\n",
       "      <td>0.4933</td>\n",
       "      <td>-0.629070</td>\n",
       "      <td>477993</td>\n",
       "      <td>0.529303</td>\n",
       "      <td>0.0</td>\n",
       "      <td>-6.413310e-32</td>\n",
       "      <td>1.426010e-17</td>\n",
       "      <td>chr19:1-3000001:0</td>\n",
       "    </tr>\n",
       "    <tr>\n",
       "      <th>1</th>\n",
       "      <td>19</td>\n",
       "      <td>rs10411562</td>\n",
       "      <td>238011</td>\n",
       "      <td>C</td>\n",
       "      <td>T</td>\n",
       "      <td>9.850000e-10</td>\n",
       "      <td>0.0020</td>\n",
       "      <td>0.563340</td>\n",
       "      <td>443137</td>\n",
       "      <td>0.573203</td>\n",
       "      <td>0.0</td>\n",
       "      <td>2.414490e-32</td>\n",
       "      <td>8.984200e-18</td>\n",
       "      <td>chr19:1-3000001:0</td>\n",
       "    </tr>\n",
       "    <tr>\n",
       "      <th>2</th>\n",
       "      <td>19</td>\n",
       "      <td>rs145111147</td>\n",
       "      <td>238434</td>\n",
       "      <td>C</td>\n",
       "      <td>G</td>\n",
       "      <td>9.850000e-10</td>\n",
       "      <td>0.0041</td>\n",
       "      <td>0.975730</td>\n",
       "      <td>451875</td>\n",
       "      <td>0.329198</td>\n",
       "      <td>0.0</td>\n",
       "      <td>5.729890e-32</td>\n",
       "      <td>1.278910e-17</td>\n",
       "      <td>chr19:1-3000001:0</td>\n",
       "    </tr>\n",
       "    <tr>\n",
       "      <th>3</th>\n",
       "      <td>19</td>\n",
       "      <td>rs9749321</td>\n",
       "      <td>240554</td>\n",
       "      <td>C</td>\n",
       "      <td>T</td>\n",
       "      <td>9.850000e-10</td>\n",
       "      <td>0.0258</td>\n",
       "      <td>0.563930</td>\n",
       "      <td>479528</td>\n",
       "      <td>0.572802</td>\n",
       "      <td>0.0</td>\n",
       "      <td>2.417810e-32</td>\n",
       "      <td>8.987940e-18</td>\n",
       "      <td>chr19:1-3000001:0</td>\n",
       "    </tr>\n",
       "    <tr>\n",
       "      <th>4</th>\n",
       "      <td>19</td>\n",
       "      <td>rs527447799</td>\n",
       "      <td>240617</td>\n",
       "      <td>C</td>\n",
       "      <td>T</td>\n",
       "      <td>9.850000e-10</td>\n",
       "      <td>0.0037</td>\n",
       "      <td>0.727040</td>\n",
       "      <td>460939</td>\n",
       "      <td>0.467201</td>\n",
       "      <td>0.0</td>\n",
       "      <td>3.460420e-32</td>\n",
       "      <td>1.019430e-17</td>\n",
       "      <td>chr19:1-3000001:0</td>\n",
       "    </tr>\n",
       "    <tr>\n",
       "      <th>...</th>\n",
       "      <td>...</td>\n",
       "      <td>...</td>\n",
       "      <td>...</td>\n",
       "      <td>...</td>\n",
       "      <td>...</td>\n",
       "      <td>...</td>\n",
       "      <td>...</td>\n",
       "      <td>...</td>\n",
       "      <td>...</td>\n",
       "      <td>...</td>\n",
       "      <td>...</td>\n",
       "      <td>...</td>\n",
       "      <td>...</td>\n",
       "      <td>...</td>\n",
       "    </tr>\n",
       "    <tr>\n",
       "      <th>282365</th>\n",
       "      <td>19</td>\n",
       "      <td>rs186777844</td>\n",
       "      <td>59099889</td>\n",
       "      <td>A</td>\n",
       "      <td>T</td>\n",
       "      <td>9.850000e-10</td>\n",
       "      <td>0.0134</td>\n",
       "      <td>0.003885</td>\n",
       "      <td>477993</td>\n",
       "      <td>0.996900</td>\n",
       "      <td>0.0</td>\n",
       "      <td>0.000000e+00</td>\n",
       "      <td>0.000000e+00</td>\n",
       "      <td>chr19:58000001-61000001:0</td>\n",
       "    </tr>\n",
       "    <tr>\n",
       "      <th>282366</th>\n",
       "      <td>19</td>\n",
       "      <td>rs534008076</td>\n",
       "      <td>59101833</td>\n",
       "      <td>C</td>\n",
       "      <td>T</td>\n",
       "      <td>9.850000e-10</td>\n",
       "      <td>0.0119</td>\n",
       "      <td>-2.395000</td>\n",
       "      <td>476148</td>\n",
       "      <td>0.016620</td>\n",
       "      <td>0.0</td>\n",
       "      <td>0.000000e+00</td>\n",
       "      <td>0.000000e+00</td>\n",
       "      <td>chr19:58000001-61000001:0</td>\n",
       "    </tr>\n",
       "    <tr>\n",
       "      <th>282367</th>\n",
       "      <td>19</td>\n",
       "      <td>rs62114700</td>\n",
       "      <td>59101948</td>\n",
       "      <td>C</td>\n",
       "      <td>T</td>\n",
       "      <td>9.850000e-10</td>\n",
       "      <td>0.0121</td>\n",
       "      <td>0.580020</td>\n",
       "      <td>477993</td>\n",
       "      <td>0.561901</td>\n",
       "      <td>0.0</td>\n",
       "      <td>0.000000e+00</td>\n",
       "      <td>0.000000e+00</td>\n",
       "      <td>chr19:58000001-61000001:0</td>\n",
       "    </tr>\n",
       "    <tr>\n",
       "      <th>282368</th>\n",
       "      <td>19</td>\n",
       "      <td>rs59460131</td>\n",
       "      <td>59101970</td>\n",
       "      <td>G</td>\n",
       "      <td>A</td>\n",
       "      <td>9.850000e-10</td>\n",
       "      <td>0.0424</td>\n",
       "      <td>1.508200</td>\n",
       "      <td>477993</td>\n",
       "      <td>0.131503</td>\n",
       "      <td>0.0</td>\n",
       "      <td>0.000000e+00</td>\n",
       "      <td>0.000000e+00</td>\n",
       "      <td>chr19:58000001-61000001:0</td>\n",
       "    </tr>\n",
       "    <tr>\n",
       "      <th>282369</th>\n",
       "      <td>19</td>\n",
       "      <td>rs3875104</td>\n",
       "      <td>59102379</td>\n",
       "      <td>A</td>\n",
       "      <td>G</td>\n",
       "      <td>9.850000e-10</td>\n",
       "      <td>0.4430</td>\n",
       "      <td>0.156930</td>\n",
       "      <td>478937</td>\n",
       "      <td>0.875300</td>\n",
       "      <td>0.0</td>\n",
       "      <td>0.000000e+00</td>\n",
       "      <td>0.000000e+00</td>\n",
       "      <td>chr19:58000001-61000001:0</td>\n",
       "    </tr>\n",
       "  </tbody>\n",
       "</table>\n",
       "<p>282370 rows × 14 columns</p>\n",
       "</div>"
      ],
      "text/plain": [
       "        CHR          SNP        BP A1 A2        SNPVAR     MAF         Z  \\\n",
       "0        19   rs62102979    226776  C  T  2.253600e-09  0.4933 -0.629070   \n",
       "1        19   rs10411562    238011  C  T  9.850000e-10  0.0020  0.563340   \n",
       "2        19  rs145111147    238434  C  G  9.850000e-10  0.0041  0.975730   \n",
       "3        19    rs9749321    240554  C  T  9.850000e-10  0.0258  0.563930   \n",
       "4        19  rs527447799    240617  C  T  9.850000e-10  0.0037  0.727040   \n",
       "...     ...          ...       ... .. ..           ...     ...       ...   \n",
       "282365   19  rs186777844  59099889  A  T  9.850000e-10  0.0134  0.003885   \n",
       "282366   19  rs534008076  59101833  C  T  9.850000e-10  0.0119 -2.395000   \n",
       "282367   19   rs62114700  59101948  C  T  9.850000e-10  0.0121  0.580020   \n",
       "282368   19   rs59460131  59101970  G  A  9.850000e-10  0.0424  1.508200   \n",
       "282369   19    rs3875104  59102379  A  G  9.850000e-10  0.4430  0.156930   \n",
       "\n",
       "             N         P  PIP     BETA_MEAN       BETA_SD  \\\n",
       "0       477993  0.529303  0.0 -6.413310e-32  1.426010e-17   \n",
       "1       443137  0.573203  0.0  2.414490e-32  8.984200e-18   \n",
       "2       451875  0.329198  0.0  5.729890e-32  1.278910e-17   \n",
       "3       479528  0.572802  0.0  2.417810e-32  8.987940e-18   \n",
       "4       460939  0.467201  0.0  3.460420e-32  1.019430e-17   \n",
       "...        ...       ...  ...           ...           ...   \n",
       "282365  477993  0.996900  0.0  0.000000e+00  0.000000e+00   \n",
       "282366  476148  0.016620  0.0  0.000000e+00  0.000000e+00   \n",
       "282367  477993  0.561901  0.0  0.000000e+00  0.000000e+00   \n",
       "282368  477993  0.131503  0.0  0.000000e+00  0.000000e+00   \n",
       "282369  478937  0.875300  0.0  0.000000e+00  0.000000e+00   \n",
       "\n",
       "                     CREDIBLE_SET  \n",
       "0               chr19:1-3000001:0  \n",
       "1               chr19:1-3000001:0  \n",
       "2               chr19:1-3000001:0  \n",
       "3               chr19:1-3000001:0  \n",
       "4               chr19:1-3000001:0  \n",
       "...                           ...  \n",
       "282365  chr19:58000001-61000001:0  \n",
       "282366  chr19:58000001-61000001:0  \n",
       "282367  chr19:58000001-61000001:0  \n",
       "282368  chr19:58000001-61000001:0  \n",
       "282369  chr19:58000001-61000001:0  \n",
       "\n",
       "[282370 rows x 14 columns]"
      ]
     },
     "execution_count": 19,
     "metadata": {},
     "output_type": "execute_result"
    }
   ],
   "source": [
    "polyfun_dl"
   ]
  },
  {
   "cell_type": "code",
   "execution_count": 30,
   "id": "8925ab79-7f3f-4f42-9117-e00ce62e1c3e",
   "metadata": {},
   "outputs": [
    {
     "data": {
      "image/png": "[encoded data removed]",
      "text/plain": [
       "<Figure size 432x288 with 1 Axes>"
      ]
     },
     "metadata": {
      "needs_background": "light"
     },
     "output_type": "display_data"
    }
   ],
   "source": [
    "plt.scatter(polyfun_dl.BETA_MEAN,polyfun_dl.PIP,s=10)\n",
    "plt.title('polyfun')\n",
    "plt.xlabel('BETA')\n",
    "plt.ylabel('PIP')\n",
    "plt.grid(True)"
   ]
  },
  {
   "cell_type": "code",
   "execution_count": 25,
   "id": "b5bacddf-cca4-43ce-b255-65b54cecc51e",
   "metadata": {},
   "outputs": [
    {
     "name": "stdout",
     "output_type": "stream",
     "text": [
      "Correlation Coefficient (R): -0.0005952035044104743\n"
     ]
    }
   ],
   "source": [
    "correlation_coefficient = polyfun_dl.BETA_MEAN.corr(polyfun_dl.PIP)\n",
    "print(f'Correlation Coefficient (R): {correlation_coefficient}')"
   ]
  },
  {
   "cell_type": "code",
   "execution_count": null,
   "id": "8e96b812-5bae-4f49-8340-fae0c0554694",
   "metadata": {},
   "outputs": [],
   "source": []
  }
 ],
 "metadata": {
  "kernelspec": {
   "display_name": "polyfun",
   "language": "python",
   "name": "polyfun"
  },
  "language_info": {
   "codemirror_mode": {
    "name": "ipython",
    "version": 3
   },
   "file_extension": ".py",
   "mimetype": "text/x-python",
   "name": "python",
   "nbconvert_exporter": "python",
   "pygments_lexer": "ipython3",
   "version": "3.6.13"
  }
 },
 "nbformat": 4,
 "nbformat_minor": 5
}
