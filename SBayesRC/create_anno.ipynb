{
 "cells": [
  {
   "cell_type": "code",
   "execution_count": 1,
   "id": "09446f43-c14e-4990-8b28-78215a3e4f6c",
   "metadata": {},
   "outputs": [],
   "source": [
    "import pandas as pd\n",
    "from functools import reduce  \n",
    "from tqdm import tqdm"
   ]
  },
  {
   "cell_type": "code",
   "execution_count": 2,
   "id": "5dbc7a28-87b0-4561-87f0-ecaff5599d72",
   "metadata": {},
   "outputs": [],
   "source": [
    "##load anno for polyfun\n",
    "\n",
    "bl='/gpfs/commons/groups/knowles_lab/data/ldsc/polyfun/baselineLF2.2.UKB/baselineLF2.2.UKB.'\n",
    "deepsea='/gpfs/commons/groups/knowles_lab/data/ADSP_reguloML/annotations/annotations_high_h2/deepsea/deepsea_high_h2_chr'\n",
    "roadmap='/gpfs/commons/groups/knowles_lab/data/ADSP_reguloML/annotations/annotations_high_h2/roadmap/roadmap_high_h2_chr'\n",
    "glass_lab_enformer='/gpfs/commons/groups/knowles_lab/data/ADSP_reguloML/annotations/annotations_high_h2/glass_lab_enformer/glass_lab_enformer_high_h2_chr'\n",
    "glass_lab_enformer_abs='/gpfs/commons/groups/knowles_lab/data/ADSP_reguloML/annotations/annotations_high_h2/glass_lab_enformer_abs/glass_lab_enformer_abs_high_h2_chr'\n",
    "enformer='/gpfs/commons/groups/knowles_lab/data/ADSP_reguloML/annotations/annotations_high_h2/enformer/enformer_high_h2_chr'\n",
    "glass_lab='/gpfs/commons/groups/knowles_lab/data/ADSP_reguloML/annotations/annotations_high_h2/glass_lab/glass_lab_high_h2_chr'\n",
    "\n",
    "\n",
    "suffix= '.annot.gz'\n",
    "output_path='/gpfs/commons/groups/knowles_lab/data/ADSP_reguloML/annotations/4SBayesRC/chr'"
   ]
  },
  {
   "cell_type": "code",
   "execution_count": null,
   "id": "b37c16fe-b5a1-484b-be17-099b3ec2c088",
   "metadata": {},
   "outputs": [],
   "source": [
    "def merge_annotation(chrom):\n",
    "    annotations = [bl, deepsea, roadmap, glass_lab_enformer, glass_lab_enformer_abs, enformer, glass_lab]\n",
    "    annotation_chr=[]\n",
    "    for i in range(0, len(annotations)):\n",
    "        if annotations[i] == '/gpfs/commons/groups/knowles_lab/data/ldsc/polyfun/baselineLF2.2.UKB/baselineLF2.2.UKB.':\n",
    "            annotation_name = annotations[i] + str(chrom) + '.annot.parquet'\n",
    "            anno = pd.read_parquet(annotation_name, engine='pyarrow')\n",
    "        else:\n",
    "            annotation_name = annotations[i] + str(chrom) + suffix\n",
    "            anno = pd.read_csv(annotation_name, compression='gzip', sep = '\\t')\n",
    "        \n",
    "        \n",
    "        anno = anno.drop(anno.columns[[0,2,3,4]], axis = 1)\n",
    "        annotation_chr.append(anno)\n",
    "            \n",
    "    anno_merge = reduce(lambda left, right:pd.merge(left,right,on=[\"SNP\"]),annotation_chr)\n",
    "    anno_merge.insert(1, 'Intercept', 1)\n",
    "    print(anno_merge.shape)\n",
    "    anno_merge.to_csv(output_path+str(chrom)+\".tsv\",index = False,sep='\\t')\n",
    "   \n",
    "        \n",
    "    \n",
    "    \n",
    "\n",
    "\n"
   ]
  },
  {
   "cell_type": "code",
   "execution_count": null,
   "id": "92f56a56-41a7-41e4-aa10-f3484e1911e4",
   "metadata": {},
   "outputs": [],
   "source": [
    "for i in tqdm(range(1 ,9)):\n",
    "    print('running on chr%s'%i)\n",
    "    merge_annotation(i)\n",
    "    "
   ]
  },
  {
   "cell_type": "code",
   "execution_count": null,
   "id": "23385840-f899-49e0-ae99-661d0730413c",
   "metadata": {},
   "outputs": [],
   "source": []
  }
 ],
 "metadata": {
  "kernelspec": {
   "display_name": "polyfun",
   "language": "python",
   "name": "polyfun"
  },
  "language_info": {
   "codemirror_mode": {
    "name": "ipython",
    "version": 3
   },
   "file_extension": ".py",
   "mimetype": "text/x-python",
   "name": "python",
   "nbconvert_exporter": "python",
   "pygments_lexer": "ipython3",
   "version": "3.6.13"
  }
 },
 "nbformat": 4,
 "nbformat_minor": 5
}
