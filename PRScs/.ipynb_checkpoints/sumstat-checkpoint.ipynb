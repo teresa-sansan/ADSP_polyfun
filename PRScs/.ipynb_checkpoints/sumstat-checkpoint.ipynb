{
 "cells": [
  {
   "cell_type": "code",
   "execution_count": 1,
   "id": "2ff6e4fd-5952-4756-9591-1a1bbdea0131",
   "metadata": {},
   "outputs": [],
   "source": [
    "import pandas as pd"
   ]
  },
  {
   "cell_type": "code",
   "execution_count": 3,
   "id": "b61e70ee-3ddf-4851-8529-c14f5cdd6e70",
   "metadata": {},
   "outputs": [],
   "source": [
    "wightman = pd.read_parquet('/gpfs/commons/groups/knowles_lab/data/ADSP_reguloML/summary_stats/alzheimers/fixed_alzheimers/processed/wightman_fixed_beta.munged.parquet', engine='pyarrow')"
   ]
  },
  {
   "cell_type": "code",
   "execution_count": 4,
   "id": "d5b4cf7e-4324-428d-a752-21f459852e3f",
   "metadata": {},
   "outputs": [
    {
     "data": {
      "text/plain": [
       "<bound method NDFrame.head of                   SNP  CHR        BP A1 A2         Z       N       MAF\n",
       "0         rs555296411    1    108506  C  T  0.269688   74004  0.005777\n",
       "1          rs62642118    1    108929  C  G  0.186567   74004  0.008015\n",
       "2         rs372054918    1    109503  G  A -0.898723   74004  0.001644\n",
       "4         rs554762511    1    135195  A  G -0.035476   74004  0.007480\n",
       "5         rs546872994    1    136113  C  T -0.165183   74004  0.014695\n",
       "...               ...  ...       ... .. ..       ...     ...       ...\n",
       "11713205  rs374867791   22  51234343  G  T -0.075144   74004  0.023155\n",
       "11713206  rs200189535   22  51235959  T  C -0.060823   74004  0.196421\n",
       "11713207  rs534679861   22  51236137  C  T  0.741814   74004  0.002108\n",
       "11713208    rs3896457   22  51237063  T  C -0.636884  137930  0.292748\n",
       "11713210  rs535432390   22  51239586  T  G -0.737201   74004  0.002951\n",
       "\n",
       "[10813443 rows x 8 columns]>"
      ]
     },
     "execution_count": 4,
     "metadata": {},
     "output_type": "execute_result"
    }
   ],
   "source": [
    "wightman.head"
   ]
  },
  {
   "cell_type": "code",
   "execution_count": 7,
   "id": "8304a57f-79aa-4999-a4bd-da059c77cd42",
   "metadata": {},
   "outputs": [],
   "source": [
    "wightman = pd.read_csv(\"/gpfs/commons/groups/knowles_lab/data/ADSP_reguloML/summary_stats/alzheimers/fixed_alzheimers/processed/wightman_fixed_beta_qc.tsv\", sep = '\\t')"
   ]
  },
  {
   "cell_type": "code",
   "execution_count": 13,
   "id": "a150d156-ab86-4ba4-b028-433b20b19668",
   "metadata": {},
   "outputs": [],
   "source": [
    "wightman.loc[:,[\"SNP\",\"A1\",\"A2\",\"BETA\",\"P\"]].to_csv('/gpfs/commons/groups/knowles_lab/data/ADSP_reguloML/summary_stats/alzheimers/fixed_alzheimers/processed/wightman_prscs.tsv', sep = '\\t', index=False) "
   ]
  },
  {
   "cell_type": "code",
   "execution_count": 11,
   "id": "98a487a1-5b1c-4df3-8186-ad4f1f1f6cf0",
   "metadata": {},
   "outputs": [
    {
     "data": {
      "text/plain": [
       "<bound method NDFrame.head of                  SNP  CHR        BP A1 A2         Z       P       N       MAF  \\\n",
       "0        rs546872994    1    136113  C  T -0.165183  0.8688   74004  0.014695   \n",
       "1        rs367639380    1    237505  T  C  0.449737  0.6529   74004  0.027354   \n",
       "2        rs369556846    1    256498  A  G  0.087593  0.9302   74004  0.103111   \n",
       "3        rs144425991    1    529782  C  T -1.262970  0.2066   74004  0.059038   \n",
       "4         rs55973403    1    565935  C  T  0.225102  0.8219   74004  0.047253   \n",
       "...              ...  ...       ... .. ..       ...     ...     ...       ...   \n",
       "6942808    rs9616839   22  51233300  C  T  0.709523  0.4780   63926  0.334162   \n",
       "6942809   rs11091014   22  51233666  C  T -0.075144  0.9401   74004  0.022583   \n",
       "6942810  rs374867791   22  51234343  G  T -0.075144  0.9401   74004  0.023155   \n",
       "6942811  rs200189535   22  51235959  T  C -0.060823  0.9515   74004  0.196421   \n",
       "6942812    rs3896457   22  51237063  T  C -0.636884  0.5242  137930  0.292748   \n",
       "\n",
       "             BETA  \n",
       "0       -0.003568  \n",
       "1        0.007167  \n",
       "2        0.000749  \n",
       "3       -0.013927  \n",
       "4        0.002758  \n",
       "...           ...  \n",
       "6942808  0.004207  \n",
       "6942809 -0.001315  \n",
       "6942810 -0.001299  \n",
       "6942811 -0.000398  \n",
       "6942812 -0.002665  \n",
       "\n",
       "[6942813 rows x 10 columns]>"
      ]
     },
     "execution_count": 11,
     "metadata": {},
     "output_type": "execute_result"
    }
   ],
   "source": [
    "wightman.head"
   ]
  },
  {
   "cell_type": "code",
   "execution_count": null,
   "id": "23810aa5-406f-49e0-8f2f-90c4a5029814",
   "metadata": {},
   "outputs": [],
   "source": []
  }
 ],
 "metadata": {
  "kernelspec": {
   "display_name": "polyfun",
   "language": "python",
   "name": "polyfun"
  },
  "language_info": {
   "codemirror_mode": {
    "name": "ipython",
    "version": 3
   },
   "file_extension": ".py",
   "mimetype": "text/x-python",
   "name": "python",
   "nbconvert_exporter": "python",
   "pygments_lexer": "ipython3",
   "version": "3.6.13"
  }
 },
 "nbformat": 4,
 "nbformat_minor": 5
}
