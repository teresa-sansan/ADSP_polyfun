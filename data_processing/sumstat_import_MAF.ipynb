{
 "cells": [
  {
   "cell_type": "code",
   "execution_count": 113,
   "metadata": {},
   "outputs": [],
   "source": [
    "import pandas as pd\n",
    "import numpy as np"
   ]
  },
  {
   "cell_type": "code",
   "execution_count": 121,
   "metadata": {},
   "outputs": [],
   "source": [
    "wightman = pd.read_csv('/gpfs/commons/groups/knowles_lab/data/ADSP_reguloML/summary_stats/alzheimers/fixed_alzheimers/Wightman_et_al_2021_hg37_ldsc.tsv.gz', compression='gzip',sep='\\t')\n",
    "#jansen = pd.read_parquet('/gpfs/commons/groups/knowles_lab/data/ADSP_reguloML/summary_stats/alzheimers/fixed_alzheimers/processed/jansen_et_al_2021_hg37_ldsc.munged.parquet')"
   ]
  },
  {
   "cell_type": "code",
   "execution_count": 14,
   "metadata": {},
   "outputs": [],
   "source": [
    "jansen_og = pd.read_csv('/gpfs/commons/groups/knowles_lab/data/ADSP_reguloML/summary_stats/alzheimers/fixed_alzheimers/Jansen_et_al_2019_hg37_ldsc.tsv.gz', compression = 'gzip', sep = '\\t')"
   ]
  },
  {
   "cell_type": "code",
   "execution_count": 122,
   "metadata": {},
   "outputs": [
    {
     "name": "stdout",
     "output_type": "stream",
     "text": [
      "Index(['SNP', 'CHR', 'BP', 'A1', 'A2', 'Z', 'P', 'N'], dtype='object')\n",
      "Index(['SNP', 'CHR', 'BP', 'A1', 'A2', 'Z', 'MAF', 'N'], dtype='object')\n"
     ]
    }
   ],
   "source": [
    "print(wightman.columns)\n",
    "print(jansen.columns)"
   ]
  },
  {
   "cell_type": "markdown",
   "metadata": {},
   "source": [
    "### MAF was opposite while A1 and A2 are still the same"
   ]
  },
  {
   "cell_type": "code",
   "execution_count": 15,
   "metadata": {},
   "outputs": [
    {
     "name": "stdout",
     "output_type": "stream",
     "text": [
      "          SNP  CHR      BP A1 A2         Z       MAF       N\n",
      "1  rs12184277    1  715367  A  G -1.957915  0.041069  360230\n",
      "          SNP  CHR      BP A1 A2   UNIQID.A1A2         Z        P    NSUM  \\\n",
      "1  rs12184277    1  715367  A  G  1:715367_G_A -1.957915  0.05024  360230   \n",
      "\n",
      "       NEFF   DIR       FRQ      BETA        SE       N  \n",
      "1  360230.0  ??+?  0.958931 -0.011624  0.005937  360230  \n"
     ]
    }
   ],
   "source": [
    "print(jansen[jansen.SNP == 'rs12184277'])\n",
    "print(jansen_og[jansen_og.SNP == 'rs12184277'])\n"
   ]
  },
  {
   "cell_type": "code",
   "execution_count": 8,
   "metadata": {},
   "outputs": [
    {
     "data": {
      "text/plain": [
       "0.9999931"
      ]
     },
     "execution_count": 8,
     "metadata": {},
     "output_type": "execute_result"
    }
   ],
   "source": [
    "0.9591931+0.0408\n"
   ]
  },
  {
   "cell_type": "code",
   "execution_count": 123,
   "metadata": {},
   "outputs": [
    {
     "data": {
      "text/html": [
       "<div>\n",
       "<style scoped>\n",
       "    .dataframe tbody tr th:only-of-type {\n",
       "        vertical-align: middle;\n",
       "    }\n",
       "\n",
       "    .dataframe tbody tr th {\n",
       "        vertical-align: top;\n",
       "    }\n",
       "\n",
       "    .dataframe thead th {\n",
       "        text-align: right;\n",
       "    }\n",
       "</style>\n",
       "<table border=\"1\" class=\"dataframe\">\n",
       "  <thead>\n",
       "    <tr style=\"text-align: right;\">\n",
       "      <th></th>\n",
       "      <th>SNP</th>\n",
       "      <th>CHR</th>\n",
       "      <th>BP</th>\n",
       "      <th>A1</th>\n",
       "      <th>A2</th>\n",
       "      <th>Z</th>\n",
       "      <th>P</th>\n",
       "      <th>N</th>\n",
       "    </tr>\n",
       "  </thead>\n",
       "  <tbody>\n",
       "    <tr>\n",
       "      <th>0</th>\n",
       "      <td>rs533499096</td>\n",
       "      <td>1</td>\n",
       "      <td>14860</td>\n",
       "      <td>G</td>\n",
       "      <td>T</td>\n",
       "      <td>-1.275874</td>\n",
       "      <td>0.202000</td>\n",
       "      <td>74004</td>\n",
       "    </tr>\n",
       "    <tr>\n",
       "      <th>1</th>\n",
       "      <td>rs373918278</td>\n",
       "      <td>1</td>\n",
       "      <td>17765</td>\n",
       "      <td>G</td>\n",
       "      <td>A</td>\n",
       "      <td>0.093886</td>\n",
       "      <td>0.925200</td>\n",
       "      <td>74004</td>\n",
       "    </tr>\n",
       "    <tr>\n",
       "      <th>2</th>\n",
       "      <td>rs763779009</td>\n",
       "      <td>1</td>\n",
       "      <td>17767</td>\n",
       "      <td>G</td>\n",
       "      <td>A</td>\n",
       "      <td>-0.426148</td>\n",
       "      <td>0.670000</td>\n",
       "      <td>74004</td>\n",
       "    </tr>\n",
       "    <tr>\n",
       "      <th>3</th>\n",
       "      <td>rs199900651</td>\n",
       "      <td>1</td>\n",
       "      <td>48186</td>\n",
       "      <td>T</td>\n",
       "      <td>G</td>\n",
       "      <td>0.913081</td>\n",
       "      <td>0.361200</td>\n",
       "      <td>74004</td>\n",
       "    </tr>\n",
       "    <tr>\n",
       "      <th>4</th>\n",
       "      <td>rs555296411</td>\n",
       "      <td>1</td>\n",
       "      <td>108506</td>\n",
       "      <td>C</td>\n",
       "      <td>T</td>\n",
       "      <td>0.269688</td>\n",
       "      <td>0.787400</td>\n",
       "      <td>74004</td>\n",
       "    </tr>\n",
       "    <tr>\n",
       "      <th>...</th>\n",
       "      <td>...</td>\n",
       "      <td>...</td>\n",
       "      <td>...</td>\n",
       "      <td>...</td>\n",
       "      <td>...</td>\n",
       "      <td>...</td>\n",
       "      <td>...</td>\n",
       "      <td>...</td>\n",
       "    </tr>\n",
       "    <tr>\n",
       "      <th>11991345</th>\n",
       "      <td>rs149733995</td>\n",
       "      <td>22</td>\n",
       "      <td>51238249</td>\n",
       "      <td>A</td>\n",
       "      <td>C</td>\n",
       "      <td>0.159780</td>\n",
       "      <td>0.873054</td>\n",
       "      <td>137930</td>\n",
       "    </tr>\n",
       "    <tr>\n",
       "      <th>11991346</th>\n",
       "      <td>rs574579322</td>\n",
       "      <td>22</td>\n",
       "      <td>51239584</td>\n",
       "      <td>G</td>\n",
       "      <td>C</td>\n",
       "      <td>-0.768483</td>\n",
       "      <td>0.442200</td>\n",
       "      <td>74004</td>\n",
       "    </tr>\n",
       "    <tr>\n",
       "      <th>11991347</th>\n",
       "      <td>rs535432390</td>\n",
       "      <td>22</td>\n",
       "      <td>51239586</td>\n",
       "      <td>T</td>\n",
       "      <td>G</td>\n",
       "      <td>-0.737201</td>\n",
       "      <td>0.461000</td>\n",
       "      <td>74004</td>\n",
       "    </tr>\n",
       "    <tr>\n",
       "      <th>11991348</th>\n",
       "      <td>rs3888401</td>\n",
       "      <td>22</td>\n",
       "      <td>51242557</td>\n",
       "      <td>A</td>\n",
       "      <td>T</td>\n",
       "      <td>-1.158893</td>\n",
       "      <td>0.246500</td>\n",
       "      <td>74004</td>\n",
       "    </tr>\n",
       "    <tr>\n",
       "      <th>11991349</th>\n",
       "      <td>rs181833046</td>\n",
       "      <td>22</td>\n",
       "      <td>51243297</td>\n",
       "      <td>A</td>\n",
       "      <td>T</td>\n",
       "      <td>-0.743631</td>\n",
       "      <td>0.457100</td>\n",
       "      <td>63926</td>\n",
       "    </tr>\n",
       "  </tbody>\n",
       "</table>\n",
       "<p>11991350 rows × 8 columns</p>\n",
       "</div>"
      ],
      "text/plain": [
       "                  SNP  CHR        BP A1 A2         Z         P       N\n",
       "0         rs533499096    1     14860  G  T -1.275874  0.202000   74004\n",
       "1         rs373918278    1     17765  G  A  0.093886  0.925200   74004\n",
       "2         rs763779009    1     17767  G  A -0.426148  0.670000   74004\n",
       "3         rs199900651    1     48186  T  G  0.913081  0.361200   74004\n",
       "4         rs555296411    1    108506  C  T  0.269688  0.787400   74004\n",
       "...               ...  ...       ... .. ..       ...       ...     ...\n",
       "11991345  rs149733995   22  51238249  A  C  0.159780  0.873054  137930\n",
       "11991346  rs574579322   22  51239584  G  C -0.768483  0.442200   74004\n",
       "11991347  rs535432390   22  51239586  T  G -0.737201  0.461000   74004\n",
       "11991348    rs3888401   22  51242557  A  T -1.158893  0.246500   74004\n",
       "11991349  rs181833046   22  51243297  A  T -0.743631  0.457100   63926\n",
       "\n",
       "[11991350 rows x 8 columns]"
      ]
     },
     "execution_count": 123,
     "metadata": {},
     "output_type": "execute_result"
    }
   ],
   "source": [
    "wightman"
   ]
  },
  {
   "cell_type": "markdown",
   "metadata": {},
   "source": [
    "### only need to merge MAF for wightman"
   ]
  },
  {
   "cell_type": "code",
   "execution_count": 124,
   "metadata": {},
   "outputs": [
    {
     "name": "stdout",
     "output_type": "stream",
     "text": [
      "start chr 1\n",
      "start chr 2\n",
      "start chr 3\n",
      "start chr 4\n",
      "start chr 5\n",
      "start chr 6\n",
      "start chr 7\n",
      "start chr 8\n",
      "start chr 9\n",
      "start chr 10\n",
      "start chr 11\n",
      "start chr 12\n",
      "start chr 13\n",
      "start chr 14\n",
      "start chr 15\n",
      "start chr 16\n",
      "start chr 17\n",
      "start chr 18\n",
      "start chr 19\n",
      "start chr 20\n",
      "start chr 21\n",
      "start chr 22\n"
     ]
    }
   ],
   "source": [
    "wightman_maf = pd.DataFrame()\n",
    "for chrom in range(1,23):\n",
    "    print(\"start chr %d\"%(chrom))\n",
    "    maf_path = '/gpfs/commons/groups/knowles_lab/data/ADSP_reguloML/summary_stats/alzheimers/ukb_maf/ukb_mfi_chr' + str(chrom) +\"_v3.txt\"\n",
    "    maf_info = pd.read_csv(maf_path, sep = '\\t', names = ['UNIQID.A1A2', 'SNP','BP','A1','A2','MAF','NA','INFO'], usecols= ['SNP','A1','A2','MAF'])\n",
    "    MAF=wightman[wightman.CHR == chrom].merge(maf_info, how = 'inner', on='SNP')\n",
    "    wightman_maf = pd.concat([wightman_maf, MAF], ignore_index = True)\n"
   ]
  },
  {
   "cell_type": "code",
   "execution_count": 125,
   "metadata": {},
   "outputs": [],
   "source": [
    "## Change the MAF for those that has A1,A2 filpped. (96 in total)\n",
    "wightman_maf.loc[wightman_maf.A1_x != wightman_maf.A1_y,'MAF'] = 1 - wightman_maf.loc[wightman_maf.A1_x != wightman_maf.A1_y,'MAF']"
   ]
  },
  {
   "cell_type": "code",
   "execution_count": 127,
   "metadata": {},
   "outputs": [
    {
     "data": {
      "text/html": [
       "<div>\n",
       "<style scoped>\n",
       "    .dataframe tbody tr th:only-of-type {\n",
       "        vertical-align: middle;\n",
       "    }\n",
       "\n",
       "    .dataframe tbody tr th {\n",
       "        vertical-align: top;\n",
       "    }\n",
       "\n",
       "    .dataframe thead th {\n",
       "        text-align: right;\n",
       "    }\n",
       "</style>\n",
       "<table border=\"1\" class=\"dataframe\">\n",
       "  <thead>\n",
       "    <tr style=\"text-align: right;\">\n",
       "      <th></th>\n",
       "      <th>SNP</th>\n",
       "      <th>CHR</th>\n",
       "      <th>BP</th>\n",
       "      <th>A1</th>\n",
       "      <th>A2</th>\n",
       "      <th>Z</th>\n",
       "      <th>P</th>\n",
       "      <th>N</th>\n",
       "      <th>MAF</th>\n",
       "    </tr>\n",
       "  </thead>\n",
       "  <tbody>\n",
       "    <tr>\n",
       "      <th>0</th>\n",
       "      <td>rs533499096</td>\n",
       "      <td>1</td>\n",
       "      <td>14860</td>\n",
       "      <td>G</td>\n",
       "      <td>T</td>\n",
       "      <td>-1.275874</td>\n",
       "      <td>0.2020</td>\n",
       "      <td>74004</td>\n",
       "      <td>0.000006</td>\n",
       "    </tr>\n",
       "    <tr>\n",
       "      <th>1</th>\n",
       "      <td>rs555296411</td>\n",
       "      <td>1</td>\n",
       "      <td>108506</td>\n",
       "      <td>C</td>\n",
       "      <td>T</td>\n",
       "      <td>0.269688</td>\n",
       "      <td>0.7874</td>\n",
       "      <td>74004</td>\n",
       "      <td>0.005777</td>\n",
       "    </tr>\n",
       "    <tr>\n",
       "      <th>2</th>\n",
       "      <td>rs62642118</td>\n",
       "      <td>1</td>\n",
       "      <td>108929</td>\n",
       "      <td>C</td>\n",
       "      <td>G</td>\n",
       "      <td>0.186567</td>\n",
       "      <td>0.8520</td>\n",
       "      <td>74004</td>\n",
       "      <td>0.008015</td>\n",
       "    </tr>\n",
       "    <tr>\n",
       "      <th>3</th>\n",
       "      <td>rs372054918</td>\n",
       "      <td>1</td>\n",
       "      <td>109503</td>\n",
       "      <td>G</td>\n",
       "      <td>A</td>\n",
       "      <td>-0.898723</td>\n",
       "      <td>0.3688</td>\n",
       "      <td>74004</td>\n",
       "      <td>0.001644</td>\n",
       "    </tr>\n",
       "    <tr>\n",
       "      <th>4</th>\n",
       "      <td>rs528106901</td>\n",
       "      <td>1</td>\n",
       "      <td>133855</td>\n",
       "      <td>C</td>\n",
       "      <td>T</td>\n",
       "      <td>-0.646895</td>\n",
       "      <td>0.5177</td>\n",
       "      <td>74004</td>\n",
       "      <td>0.000311</td>\n",
       "    </tr>\n",
       "    <tr>\n",
       "      <th>...</th>\n",
       "      <td>...</td>\n",
       "      <td>...</td>\n",
       "      <td>...</td>\n",
       "      <td>...</td>\n",
       "      <td>...</td>\n",
       "      <td>...</td>\n",
       "      <td>...</td>\n",
       "      <td>...</td>\n",
       "      <td>...</td>\n",
       "    </tr>\n",
       "    <tr>\n",
       "      <th>11725639</th>\n",
       "      <td>rs200189535</td>\n",
       "      <td>22</td>\n",
       "      <td>51235959</td>\n",
       "      <td>T</td>\n",
       "      <td>C</td>\n",
       "      <td>-0.060823</td>\n",
       "      <td>0.9515</td>\n",
       "      <td>74004</td>\n",
       "      <td>0.196421</td>\n",
       "    </tr>\n",
       "    <tr>\n",
       "      <th>11725640</th>\n",
       "      <td>rs534679861</td>\n",
       "      <td>22</td>\n",
       "      <td>51236137</td>\n",
       "      <td>C</td>\n",
       "      <td>T</td>\n",
       "      <td>0.741814</td>\n",
       "      <td>0.4582</td>\n",
       "      <td>74004</td>\n",
       "      <td>0.002108</td>\n",
       "    </tr>\n",
       "    <tr>\n",
       "      <th>11725641</th>\n",
       "      <td>rs3896457</td>\n",
       "      <td>22</td>\n",
       "      <td>51237063</td>\n",
       "      <td>T</td>\n",
       "      <td>C</td>\n",
       "      <td>-0.636884</td>\n",
       "      <td>0.5242</td>\n",
       "      <td>137930</td>\n",
       "      <td>0.292748</td>\n",
       "    </tr>\n",
       "    <tr>\n",
       "      <th>11725642</th>\n",
       "      <td>rs574579322</td>\n",
       "      <td>22</td>\n",
       "      <td>51239584</td>\n",
       "      <td>G</td>\n",
       "      <td>C</td>\n",
       "      <td>-0.768483</td>\n",
       "      <td>0.4422</td>\n",
       "      <td>74004</td>\n",
       "      <td>0.000015</td>\n",
       "    </tr>\n",
       "    <tr>\n",
       "      <th>11725643</th>\n",
       "      <td>rs535432390</td>\n",
       "      <td>22</td>\n",
       "      <td>51239586</td>\n",
       "      <td>T</td>\n",
       "      <td>G</td>\n",
       "      <td>-0.737201</td>\n",
       "      <td>0.4610</td>\n",
       "      <td>74004</td>\n",
       "      <td>0.002951</td>\n",
       "    </tr>\n",
       "  </tbody>\n",
       "</table>\n",
       "<p>11725644 rows × 9 columns</p>\n",
       "</div>"
      ],
      "text/plain": [
       "                  SNP  CHR        BP A1 A2         Z       P       N       MAF\n",
       "0         rs533499096    1     14860  G  T -1.275874  0.2020   74004  0.000006\n",
       "1         rs555296411    1    108506  C  T  0.269688  0.7874   74004  0.005777\n",
       "2          rs62642118    1    108929  C  G  0.186567  0.8520   74004  0.008015\n",
       "3         rs372054918    1    109503  G  A -0.898723  0.3688   74004  0.001644\n",
       "4         rs528106901    1    133855  C  T -0.646895  0.5177   74004  0.000311\n",
       "...               ...  ...       ... .. ..       ...     ...     ...       ...\n",
       "11725639  rs200189535   22  51235959  T  C -0.060823  0.9515   74004  0.196421\n",
       "11725640  rs534679861   22  51236137  C  T  0.741814  0.4582   74004  0.002108\n",
       "11725641    rs3896457   22  51237063  T  C -0.636884  0.5242  137930  0.292748\n",
       "11725642  rs574579322   22  51239584  G  C -0.768483  0.4422   74004  0.000015\n",
       "11725643  rs535432390   22  51239586  T  G -0.737201  0.4610   74004  0.002951\n",
       "\n",
       "[11725644 rows x 9 columns]"
      ]
     },
     "execution_count": 127,
     "metadata": {},
     "output_type": "execute_result"
    }
   ],
   "source": [
    "wightman_maf = wightman_maf.drop(columns=[\"A1_y\",\"A2_y\"]).rename(columns= {'A1_x':'A1', 'A2_x':'A2'})\n",
    "wightman_maf"
   ]
  },
  {
   "cell_type": "markdown",
   "metadata": {},
   "source": [
    "## calculate beta for wightman\n",
    "#### formula: Beta = z / sqrt(2MAF(1− MAF)(n + z^2))"
   ]
  },
  {
   "cell_type": "code",
   "execution_count": 128,
   "metadata": {},
   "outputs": [],
   "source": [
    "wightman_maf[\"BETA\"] = wightman_maf.Z/np.sqrt(2*wightman_maf.MAF*(1-wightman_maf.MAF)*wightman_maf.N + wightman_maf.Z ** 2 )"
   ]
  },
  {
   "cell_type": "code",
   "execution_count": 129,
   "metadata": {},
   "outputs": [],
   "source": [
    "wightman_maf.to_csv('/gpfs/commons/groups/knowles_lab/data/ADSP_reguloML/summary_stats/alzheimers/fixed_alzheimers/processed/wightman_fixed_beta.tsv',sep = '\\t',index = False)"
   ]
  },
  {
   "cell_type": "code",
   "execution_count": null,
   "metadata": {},
   "outputs": [],
   "source": []
  }
 ],
 "metadata": {
  "kernelspec": {
   "display_name": "polyfun",
   "language": "python",
   "name": "polyfun"
  },
  "language_info": {
   "codemirror_mode": {
    "name": "ipython",
    "version": 3
   },
   "file_extension": ".py",
   "mimetype": "text/x-python",
   "name": "python",
   "nbconvert_exporter": "python",
   "pygments_lexer": "ipython3",
   "version": "3.6.13"
  }
 },
 "nbformat": 4,
 "nbformat_minor": 4
}
