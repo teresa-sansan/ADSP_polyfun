{
 "cells": [
  {
   "cell_type": "code",
   "execution_count": 1,
   "metadata": {},
   "outputs": [],
   "source": [
    "import pandas as pd\n",
    "import numpy as np\n",
    "\n",
    "# import seaborn as sns\n",
    "# import matplotlib.pyplot as plt"
   ]
  },
  {
   "cell_type": "markdown",
   "metadata": {
    "jp-MarkdownHeadingCollapsed": true,
    "tags": []
   },
   "source": [
    "## Pheno_merge"
   ]
  },
  {
   "cell_type": "code",
   "execution_count": 2,
   "metadata": {},
   "outputs": [
    {
     "name": "stderr",
     "output_type": "stream",
     "text": [
      "/gpfs/commons/home/tlin/.conda/envs/polyfun/lib/python3.6/site-packages/IPython/core/interactiveshell.py:3072: DtypeWarning: Columns (15) have mixed types.Specify dtype option on import or set low_memory=False.\n",
      "  interactivity=interactivity, compiler=compiler, result=result)\n"
     ]
    }
   ],
   "source": [
    "## load data\n",
    "# phenotype\n",
    "path = '/gpfs/commons/groups/knowles_lab/data/ADSP_reguloML/ADSP_vcf/phenotype_file/release_36K/'\n",
    "ADNI = pd.read_csv(path + \"ADNIPhenotypes_DS_2022.08.18_ALL.txt\", sep='\\t')\n",
    "family_based = pd.read_csv(path + \"ADSPFamilyBasedPhenotypes_DS_2022.08.18_ALL.txt\", sep='\\t',encoding='cp1252')\n",
    "case_control = pd.read_csv(path + \"ADSPCaseControlPhenotypes_DS_2022.08.18_ALL.txt\", sep='\\t')\n",
    "PSPCBD = pd.read_csv(path + \"PSPCBDPhenotypes_DS_2022.08.18_ALL.txt\", sep='\\t')\n",
    "SUBJ_drop = pd.read_excel(path + 'ng00067_subject_droplist_2022.08.18.xlsx', engine = 'openpyxl')\n",
    "PSPCBD_descript = pd.read_excel(path + 'PSPCBDPhenotypes_DD_2022.08.18.xlsx', engine = 'openpyxl')\n",
    "\n",
    "#others\n",
    "qc = pd.read_csv(path+\"gcad.qc.r4.wgs.allchr.36361.GATK.2022.08.15.sample.summary.ALL.txt\", sep = '\\t') ## this one contains QC info( all the sampleID here are WGS)\n",
    "ibd = pd.read_csv(path + 'gcad.r4.wgs.36361.2022.08.15.pairwise_IBD.txt', sep = '\\t')\n",
    "\n",
    "vcf = pd.read_csv(path + 'vcf_ids.txt', sep = '\\t')\n",
    "manifest = pd.read_csv(path + \"SampleManifest_DS_2022.08.18_ALL.txt\", sep='\\t') ## the one with mapping info\n",
    "duplist = pd.read_csv(path + 'duplist.csv') ## the lisan dup IBD list"
   ]
  },
  {
   "cell_type": "code",
   "execution_count": 22,
   "metadata": {},
   "outputs": [
    {
     "data": {
      "text/plain": [
       "(1566, 14)"
      ]
     },
     "execution_count": 22,
     "metadata": {},
     "output_type": "execute_result"
    }
   ],
   "source": [
    "## lisan's way\n",
    "ADNI_processed = ADNI.loc[:,['SUBJID', 'Sex', 'PrevAD', 'IncAD','Age_current', 'Age_MCI_onset','Age_AD_onset', 'Age_baseline','APOE_reported','Race', 'AD_last_visit', 'Ethnicity']]\n",
    "ADNI_processed[\"Diagnosis\"] = \"NaN\"\n",
    "ADNI_processed.loc[(ADNI_processed[\"PrevAD\"] == 1) | (ADNI_processed[\"IncAD\"] ==1),'Diagnosis'] =1\n",
    "ADNI_processed.loc[(ADNI_processed[\"PrevAD\"] == 0) & (ADNI_processed[\"IncAD\"] ==0) &  (ADNI_processed[\"Age_MCI_onset\"].isnull())& (ADNI_processed[\"Age_AD_onset\"].isnull()),'Diagnosis'] =0\n",
    "\n",
    "ADNI_processed[\"Age\"] = ADNI_processed.Age_current\n",
    "ADNI_processed.loc[ADNI_processed.Diagnosis == 1,'Age'] = ADNI_processed.loc[ADNI_processed.Diagnosis == 1,'Age_AD_onset']\n",
    "#ADNI_processed.loc[ADNI_processed.Diagnosis == 0,'Age'] = ADNI_processed.loc[ADNI_processed.Diagnosis == 1,'Age_current']\n",
    "\n",
    "ADNI_processed.shape"
   ]
  },
  {
   "cell_type": "code",
   "execution_count": 9,
   "metadata": {},
   "outputs": [
    {
     "data": {
      "text/plain": [
       "1      611\n",
       "NaN    525\n",
       "0      430\n",
       "Name: Diagnosis, dtype: int64"
      ]
     },
     "execution_count": 9,
     "metadata": {},
     "output_type": "execute_result"
    }
   ],
   "source": [
    "ADNI_processed.Diagnosis.value_counts()"
   ]
  },
  {
   "cell_type": "code",
   "execution_count": 11,
   "metadata": {},
   "outputs": [
    {
     "data": {
      "text/plain": [
       "0    958\n",
       "1    608\n",
       "Name: AD_last_visit, dtype: int64"
      ]
     },
     "execution_count": 11,
     "metadata": {},
     "output_type": "execute_result"
    }
   ],
   "source": [
    "ADNI_processed.AD_last_visit.value_counts()"
   ]
  },
  {
   "cell_type": "code",
   "execution_count": 5,
   "metadata": {},
   "outputs": [
    {
     "data": {
      "text/plain": [
       "(137, 12)"
      ]
     },
     "execution_count": 5,
     "metadata": {},
     "output_type": "execute_result"
    }
   ],
   "source": [
    "## check if there are the cases they defined that have AGE_MCI\n",
    "ADNI_processed[(ADNI_processed.Diagnosis ==1) & (ADNI_processed.Age_MCI_onset.notnull())].shape"
   ]
  },
  {
   "cell_type": "code",
   "execution_count": 123,
   "metadata": {},
   "outputs": [
    {
     "name": "stdout",
     "output_type": "stream",
     "text": [
      "(608, 12)\n",
      "(958, 12)\n",
      "(134, 12)\n",
      "(528, 12)\n",
      "(430, 12)\n"
     ]
    }
   ],
   "source": [
    "print(ADNI_processed[ADNI_processed[\"AD_last_visit\"] == 1].shape) \n",
    "print(ADNI_processed[ADNI_processed[\"AD_last_visit\"] == 0].shape)\n",
    "\n",
    "print(ADNI_processed[(ADNI_processed[\"AD_last_visit\"] == 1) & (ADNI_processed[\"Age_MCI_onset\"].notnull())].shape) ## case with MCI info\n",
    "print(ADNI_processed[(ADNI_processed[\"AD_last_visit\"] == 0) & (ADNI_processed[\"Age_MCI_onset\"].notnull())].shape) ## control with MCI info\n",
    "print(ADNI_processed[(ADNI_processed[\"AD_last_visit\"] == 0) & (ADNI_processed[\"Age_MCI_onset\"].isnull())].shape)"
   ]
  },
  {
   "cell_type": "code",
   "execution_count": 128,
   "metadata": {},
   "outputs": [
    {
     "data": {
      "text/html": [
       "<div>\n",
       "<style scoped>\n",
       "    .dataframe tbody tr th:only-of-type {\n",
       "        vertical-align: middle;\n",
       "    }\n",
       "\n",
       "    .dataframe tbody tr th {\n",
       "        vertical-align: top;\n",
       "    }\n",
       "\n",
       "    .dataframe thead th {\n",
       "        text-align: right;\n",
       "    }\n",
       "</style>\n",
       "<table border=\"1\" class=\"dataframe\">\n",
       "  <thead>\n",
       "    <tr style=\"text-align: right;\">\n",
       "      <th></th>\n",
       "      <th>SUBJID</th>\n",
       "      <th>Sex</th>\n",
       "      <th>PrevAD</th>\n",
       "      <th>IncAD</th>\n",
       "      <th>Age_current</th>\n",
       "      <th>Age_MCI_onset</th>\n",
       "      <th>Age_AD_onset</th>\n",
       "      <th>Age_baseline</th>\n",
       "      <th>APOE_reported</th>\n",
       "      <th>Race</th>\n",
       "      <th>AD_last_visit</th>\n",
       "      <th>Diagnosis</th>\n",
       "    </tr>\n",
       "  </thead>\n",
       "  <tbody>\n",
       "  </tbody>\n",
       "</table>\n",
       "</div>"
      ],
      "text/plain": [
       "Empty DataFrame\n",
       "Columns: [SUBJID, Sex, PrevAD, IncAD, Age_current, Age_MCI_onset, Age_AD_onset, Age_baseline, APOE_reported, Race, AD_last_visit, Diagnosis]\n",
       "Index: []"
      ]
     },
     "execution_count": 128,
     "metadata": {},
     "output_type": "execute_result"
    }
   ],
   "source": [
    "## if remove those 528, will be the same as LiSan\n",
    "ADNI_control[~ADNI_control.SUBJID.isin(ADNI_processed[(ADNI_processed[\"AD_last_visit\"] == 0) & (ADNI_processed[\"Age_MCI_onset\"].isnull())].SUBJID)]"
   ]
  },
  {
   "cell_type": "code",
   "execution_count": 130,
   "metadata": {},
   "outputs": [
    {
     "data": {
      "text/html": [
       "<div>\n",
       "<style scoped>\n",
       "    .dataframe tbody tr th:only-of-type {\n",
       "        vertical-align: middle;\n",
       "    }\n",
       "\n",
       "    .dataframe tbody tr th {\n",
       "        vertical-align: top;\n",
       "    }\n",
       "\n",
       "    .dataframe thead th {\n",
       "        text-align: right;\n",
       "    }\n",
       "</style>\n",
       "<table border=\"1\" class=\"dataframe\">\n",
       "  <thead>\n",
       "    <tr style=\"text-align: right;\">\n",
       "      <th></th>\n",
       "      <th>SUBJID</th>\n",
       "      <th>Sex</th>\n",
       "      <th>PrevAD</th>\n",
       "      <th>IncAD</th>\n",
       "      <th>Age_current</th>\n",
       "      <th>Age_MCI_onset</th>\n",
       "      <th>Age_AD_onset</th>\n",
       "      <th>Age_baseline</th>\n",
       "      <th>APOE_reported</th>\n",
       "      <th>Race</th>\n",
       "      <th>AD_last_visit</th>\n",
       "      <th>Diagnosis</th>\n",
       "    </tr>\n",
       "  </thead>\n",
       "  <tbody>\n",
       "    <tr>\n",
       "      <th>825</th>\n",
       "      <td>G-ADNI-AN000018</td>\n",
       "      <td>0</td>\n",
       "      <td>0</td>\n",
       "      <td>1</td>\n",
       "      <td>68</td>\n",
       "      <td>59</td>\n",
       "      <td>NaN</td>\n",
       "      <td>60</td>\n",
       "      <td>34</td>\n",
       "      <td>5.0</td>\n",
       "      <td>0</td>\n",
       "      <td>1</td>\n",
       "    </tr>\n",
       "    <tr>\n",
       "      <th>859</th>\n",
       "      <td>G-ADNI-AN000052</td>\n",
       "      <td>1</td>\n",
       "      <td>0</td>\n",
       "      <td>1</td>\n",
       "      <td>75</td>\n",
       "      <td>70</td>\n",
       "      <td>NaN</td>\n",
       "      <td>71</td>\n",
       "      <td>33</td>\n",
       "      <td>5.0</td>\n",
       "      <td>0</td>\n",
       "      <td>1</td>\n",
       "    </tr>\n",
       "    <tr>\n",
       "      <th>981</th>\n",
       "      <td>G-ADNI-AN000176</td>\n",
       "      <td>0</td>\n",
       "      <td>0</td>\n",
       "      <td>1</td>\n",
       "      <td>83</td>\n",
       "      <td>80</td>\n",
       "      <td>NaN</td>\n",
       "      <td>82</td>\n",
       "      <td>34</td>\n",
       "      <td>5.0</td>\n",
       "      <td>0</td>\n",
       "      <td>1</td>\n",
       "    </tr>\n",
       "    <tr>\n",
       "      <th>1276</th>\n",
       "      <td>G-ADNI-AN000478</td>\n",
       "      <td>0</td>\n",
       "      <td>0</td>\n",
       "      <td>1</td>\n",
       "      <td>66</td>\n",
       "      <td>63</td>\n",
       "      <td>NaN</td>\n",
       "      <td>62</td>\n",
       "      <td>33</td>\n",
       "      <td>5.0</td>\n",
       "      <td>0</td>\n",
       "      <td>1</td>\n",
       "    </tr>\n",
       "  </tbody>\n",
       "</table>\n",
       "</div>"
      ],
      "text/plain": [
       "               SUBJID  Sex  PrevAD  IncAD Age_current Age_MCI_onset  \\\n",
       "825   G-ADNI-AN000018    0       0      1          68            59   \n",
       "859   G-ADNI-AN000052    1       0      1          75            70   \n",
       "981   G-ADNI-AN000176    0       0      1          83            80   \n",
       "1276  G-ADNI-AN000478    0       0      1          66            63   \n",
       "\n",
       "     Age_AD_onset Age_baseline  APOE_reported  Race  AD_last_visit Diagnosis  \n",
       "825           NaN           60             34   5.0              0         1  \n",
       "859           NaN           71             33   5.0              0         1  \n",
       "981           NaN           82             34   5.0              0         1  \n",
       "1276          NaN           62             33   5.0              0         1  "
      ]
     },
     "execution_count": 130,
     "metadata": {},
     "output_type": "execute_result"
    }
   ],
   "source": [
    "## The four rows that is inconsistent with AD_last_visit and IncAD\n",
    "ADNI_case[~ADNI_case.SUBJID.isin(ADNI_processed[ADNI_processed[\"AD_last_visit\"] == 1].SUBJID)]"
   ]
  },
  {
   "cell_type": "code",
   "execution_count": 134,
   "metadata": {},
   "outputs": [
    {
     "data": {
      "text/html": [
       "<div>\n",
       "<style scoped>\n",
       "    .dataframe tbody tr th:only-of-type {\n",
       "        vertical-align: middle;\n",
       "    }\n",
       "\n",
       "    .dataframe tbody tr th {\n",
       "        vertical-align: top;\n",
       "    }\n",
       "\n",
       "    .dataframe thead th {\n",
       "        text-align: right;\n",
       "    }\n",
       "</style>\n",
       "<table border=\"1\" class=\"dataframe\">\n",
       "  <thead>\n",
       "    <tr style=\"text-align: right;\">\n",
       "      <th></th>\n",
       "      <th>SUBJID</th>\n",
       "      <th>Sex</th>\n",
       "      <th>PrevAD</th>\n",
       "      <th>IncAD</th>\n",
       "      <th>Age_current</th>\n",
       "      <th>Age_MCI_onset</th>\n",
       "      <th>Age_AD_onset</th>\n",
       "      <th>Age_baseline</th>\n",
       "      <th>APOE_reported</th>\n",
       "      <th>Race</th>\n",
       "      <th>AD_last_visit</th>\n",
       "      <th>Diagnosis</th>\n",
       "    </tr>\n",
       "  </thead>\n",
       "  <tbody>\n",
       "    <tr>\n",
       "      <th>231</th>\n",
       "      <td>ADNI_023_S_4115</td>\n",
       "      <td>0</td>\n",
       "      <td>0</td>\n",
       "      <td>0</td>\n",
       "      <td>75</td>\n",
       "      <td>64</td>\n",
       "      <td>75</td>\n",
       "      <td>67</td>\n",
       "      <td>33</td>\n",
       "      <td>5.0</td>\n",
       "      <td>1</td>\n",
       "      <td>NaN</td>\n",
       "    </tr>\n",
       "  </tbody>\n",
       "</table>\n",
       "</div>"
      ],
      "text/plain": [
       "              SUBJID  Sex  PrevAD  IncAD Age_current Age_MCI_onset  \\\n",
       "231  ADNI_023_S_4115    0       0      0          75            64   \n",
       "\n",
       "    Age_AD_onset Age_baseline  APOE_reported  Race  AD_last_visit Diagnosis  \n",
       "231           75           67             33   5.0              1       NaN  "
      ]
     },
     "execution_count": 134,
     "metadata": {},
     "output_type": "execute_result"
    }
   ],
   "source": [
    "## But there is a row that in their defination will should be removed but I think its a case (with AD_onset and AD_last_visit)\n",
    "ADNI_processed[ADNI_processed[\"AD_last_visit\"] == 1][~ADNI_processed[ADNI_processed[\"AD_last_visit\"] == 1].SUBJID.isin(ADNI_case.SUBJID)]"
   ]
  },
  {
   "cell_type": "code",
   "execution_count": null,
   "metadata": {},
   "outputs": [],
   "source": [
    "ADNI_control.SUBJID.isin(ADNI_processed[(ADNI_processed[\"AD_last_visit\"] == 0) & (ADNI_processed[\"Age_MCI_onset\"].isnull())].SUBJID)"
   ]
  },
  {
   "cell_type": "code",
   "execution_count": 15,
   "metadata": {},
   "outputs": [
    {
     "data": {
      "text/html": [
       "<div>\n",
       "<style scoped>\n",
       "    .dataframe tbody tr th:only-of-type {\n",
       "        vertical-align: middle;\n",
       "    }\n",
       "\n",
       "    .dataframe tbody tr th {\n",
       "        vertical-align: top;\n",
       "    }\n",
       "\n",
       "    .dataframe thead th {\n",
       "        text-align: right;\n",
       "    }\n",
       "</style>\n",
       "<table border=\"1\" class=\"dataframe\">\n",
       "  <thead>\n",
       "    <tr style=\"text-align: right;\">\n",
       "      <th></th>\n",
       "      <th>SUBJID</th>\n",
       "      <th>Sex</th>\n",
       "      <th>PrevAD</th>\n",
       "      <th>IncAD</th>\n",
       "      <th>Age_current</th>\n",
       "      <th>Age_MCI_onset</th>\n",
       "      <th>Age_AD_onset</th>\n",
       "      <th>Age_baseline</th>\n",
       "      <th>APOE_reported</th>\n",
       "      <th>Race</th>\n",
       "      <th>AD_last_visit</th>\n",
       "      <th>Ethnicity</th>\n",
       "      <th>Diagnosis</th>\n",
       "      <th>Age</th>\n",
       "    </tr>\n",
       "  </thead>\n",
       "  <tbody>\n",
       "    <tr>\n",
       "      <th>0</th>\n",
       "      <td>ADNI_002_S_0413</td>\n",
       "      <td>1</td>\n",
       "      <td>0</td>\n",
       "      <td>0</td>\n",
       "      <td>87</td>\n",
       "      <td>NaN</td>\n",
       "      <td>NaN</td>\n",
       "      <td>76</td>\n",
       "      <td>33</td>\n",
       "      <td>5.0</td>\n",
       "      <td>0</td>\n",
       "      <td>0.0</td>\n",
       "      <td>0</td>\n",
       "      <td>87</td>\n",
       "    </tr>\n",
       "    <tr>\n",
       "      <th>1</th>\n",
       "      <td>ADNI_002_S_0685</td>\n",
       "      <td>1</td>\n",
       "      <td>0</td>\n",
       "      <td>0</td>\n",
       "      <td>90+</td>\n",
       "      <td>NaN</td>\n",
       "      <td>NaN</td>\n",
       "      <td>89</td>\n",
       "      <td>33</td>\n",
       "      <td>5.0</td>\n",
       "      <td>0</td>\n",
       "      <td>0.0</td>\n",
       "      <td>0</td>\n",
       "      <td>90+</td>\n",
       "    </tr>\n",
       "    <tr>\n",
       "      <th>2</th>\n",
       "      <td>ADNI_002_S_0729</td>\n",
       "      <td>1</td>\n",
       "      <td>0</td>\n",
       "      <td>1</td>\n",
       "      <td>72</td>\n",
       "      <td>NaN</td>\n",
       "      <td>68</td>\n",
       "      <td>65</td>\n",
       "      <td>34</td>\n",
       "      <td>5.0</td>\n",
       "      <td>1</td>\n",
       "      <td>0.0</td>\n",
       "      <td>1</td>\n",
       "      <td>68</td>\n",
       "    </tr>\n",
       "    <tr>\n",
       "      <th>3</th>\n",
       "      <td>ADNI_002_S_1155</td>\n",
       "      <td>0</td>\n",
       "      <td>0</td>\n",
       "      <td>0</td>\n",
       "      <td>69</td>\n",
       "      <td>52</td>\n",
       "      <td>NaN</td>\n",
       "      <td>57</td>\n",
       "      <td>33</td>\n",
       "      <td>5.0</td>\n",
       "      <td>0</td>\n",
       "      <td>0.0</td>\n",
       "      <td>NaN</td>\n",
       "      <td>69</td>\n",
       "    </tr>\n",
       "    <tr>\n",
       "      <th>4</th>\n",
       "      <td>ADNI_002_S_1261</td>\n",
       "      <td>1</td>\n",
       "      <td>0</td>\n",
       "      <td>0</td>\n",
       "      <td>82</td>\n",
       "      <td>81</td>\n",
       "      <td>NaN</td>\n",
       "      <td>71</td>\n",
       "      <td>33</td>\n",
       "      <td>5.0</td>\n",
       "      <td>0</td>\n",
       "      <td>0.0</td>\n",
       "      <td>NaN</td>\n",
       "      <td>82</td>\n",
       "    </tr>\n",
       "  </tbody>\n",
       "</table>\n",
       "</div>"
      ],
      "text/plain": [
       "            SUBJID  Sex  PrevAD  IncAD Age_current Age_MCI_onset Age_AD_onset  \\\n",
       "0  ADNI_002_S_0413    1       0      0          87           NaN          NaN   \n",
       "1  ADNI_002_S_0685    1       0      0         90+           NaN          NaN   \n",
       "2  ADNI_002_S_0729    1       0      1          72           NaN           68   \n",
       "3  ADNI_002_S_1155    0       0      0          69            52          NaN   \n",
       "4  ADNI_002_S_1261    1       0      0          82            81          NaN   \n",
       "\n",
       "  Age_baseline  APOE_reported  Race  AD_last_visit  Ethnicity Diagnosis  Age  \n",
       "0           76             33   5.0              0        0.0         0   87  \n",
       "1           89             33   5.0              0        0.0         0  90+  \n",
       "2           65             34   5.0              1        0.0         1   68  \n",
       "3           57             33   5.0              0        0.0       NaN   69  \n",
       "4           71             33   5.0              0        0.0       NaN   82  "
      ]
     },
     "execution_count": 15,
     "metadata": {},
     "output_type": "execute_result"
    }
   ],
   "source": [
    "ADNI_processed.head()"
   ]
  },
  {
   "cell_type": "code",
   "execution_count": 23,
   "metadata": {},
   "outputs": [
    {
     "name": "stdout",
     "output_type": "stream",
     "text": [
      "lisan\n",
      " case: (1858, 28) , control: (2493, 28)\n"
     ]
    }
   ],
   "source": [
    "## family_based_lisan\n",
    "## they are including 8.5k samples that doesnt have diagnosis\n",
    "family_based = pd.read_csv(path + \"ADSPFamilyBasedPhenotypes_DS_2022.08.18_ALL.txt\", sep='\\t',encoding='cp1252')\n",
    "family_based['Diagnosis'] = 'NaN'\n",
    "\n",
    "case = family_based[(family_based['AD'] >=1) & (family_based['AD'] <=3)].copy()\n",
    "control = family_based[family_based['AD'] == 0].copy()\n",
    "print('lisan\\n case:',case.shape, ', control:',control.shape)\n",
    "\n",
    "control.loc[:,[\"Diagnosis\"]] = 0\n",
    "case.loc[:,[\"Diagnosis\"]] = 1\n",
    "#family_based = pd.concat([control,case])\n",
    "#family_based_processed = family_based.loc[:, [\"SUBJID\", \"Sex\", \"Diagnosis\", \"APOE_reported\",\"Age\",\"Race\", \"Age_baseline\"]]\n",
    "\n",
    "family_based.loc[(family_based['AD'] >=1) & (family_based['AD'] <=3),'Diagnosis'] = 1\n",
    "family_based.loc[family_based['AD'] ==0,'Diagnosis'] = 0\n",
    "family_based_processed = family_based"
   ]
  },
  {
   "cell_type": "code",
   "execution_count": 24,
   "metadata": {},
   "outputs": [
    {
     "data": {
      "text/plain": [
       "NaN    8507\n",
       "0      2493\n",
       "1      1858\n",
       "Name: Diagnosis, dtype: int64"
      ]
     },
     "execution_count": 24,
     "metadata": {},
     "output_type": "execute_result"
    }
   ],
   "source": [
    "family_based_processed = family_based\n",
    "family_based_processed.Diagnosis.value_counts()"
   ]
  },
  {
   "cell_type": "code",
   "execution_count": 25,
   "metadata": {},
   "outputs": [
    {
     "data": {
      "text/plain": [
       "0.0    23347\n",
       "1.0    16793\n",
       "NaN     5235\n",
       "Name: Diagnosis, dtype: int64"
      ]
     },
     "execution_count": 25,
     "metadata": {},
     "output_type": "execute_result"
    }
   ],
   "source": [
    "## case_control\n",
    "case_control_processed = case_control.loc[:,[\"SUBJID\", \"Sex\", \"AD\", \"APOE_reported\",\"Age\",\"Race\", \"Age_baseline\",'Ethnicity']]\n",
    "case_control.AD = case_control.AD.astype('Int64')\n",
    "case_control_processed = case_control_processed.rename(columns = {'AD':'Diagnosis'})\n",
    "case_control_processed.Diagnosis.value_counts(dropna=False)\n"
   ]
  },
  {
   "cell_type": "code",
   "execution_count": 26,
   "metadata": {},
   "outputs": [],
   "source": [
    "ADNI_processed[\"source\"] = 'ADNI'\n",
    "family_based_processed[\"source\"] = 'Family_based'\n",
    "case_control_processed[\"source\"] = 'case_control'"
   ]
  },
  {
   "cell_type": "code",
   "execution_count": 27,
   "metadata": {},
   "outputs": [
    {
     "name": "stdout",
     "output_type": "stream",
     "text": [
      "(59799, 35)\n",
      "0      26270\n",
      "1      19262\n",
      "NaN     9032\n",
      "Name: Diagnosis, dtype: int64\n",
      "(59799, 35)\n"
     ]
    }
   ],
   "source": [
    "pheno = pd.concat([ADNI_processed, family_based_processed, case_control_processed])\n",
    "pheno.loc[pheno['Age'] == '90+', 'Age'] = 90\n",
    "pheno.loc[pheno['Age_baseline'] == '90+', 'Age_baseline'] = 90\n",
    "\n",
    "\n",
    "print(pheno.shape)\n",
    "print(pheno.Diagnosis.value_counts())\n",
    "#pheno = pheno.loc[:,['SUBJID','Sex','Age_AD_onset','Age_MCI_onset','Age_baseline','APOE_reported','Race','Diagnosis','source','Ethnicity']]\n",
    "print(pheno.shape)"
   ]
  },
  {
   "cell_type": "markdown",
   "metadata": {
    "jp-MarkdownHeadingCollapsed": true,
    "tags": []
   },
   "source": [
    "## deal with duplication"
   ]
  },
  {
   "cell_type": "code",
   "execution_count": 28,
   "metadata": {},
   "outputs": [
    {
     "data": {
      "text/plain": [
       "(36361,)"
      ]
     },
     "execution_count": 28,
     "metadata": {},
     "output_type": "execute_result"
    }
   ],
   "source": [
    "wgs_SUBJID = manifest[manifest.SampleID.isin(qc.SampleID)].SUBJID\n",
    "wgs_SUBJID.shape"
   ]
  },
  {
   "cell_type": "code",
   "execution_count": 38,
   "metadata": {},
   "outputs": [
    {
     "name": "stdout",
     "output_type": "stream",
     "text": [
      "Empty DataFrame\n",
      "Columns: [SUBJID, SampleID, BODY_SITE, ANALYTE_TYPE, Sequencing_Center, Sequencing_Platform, SAMPLE_USE, Technical_Replicate, Study_DSS, Sample_Set]\n",
      "Index: []\n",
      "WGS    36361\n",
      "WES    20502\n",
      "Name: SAMPLE_USE, dtype: int64\n"
     ]
    }
   ],
   "source": [
    "print(manifest[(manifest.SUBJID.isin(wgs_SUBJID)) & manifest.SAMPLE_USE == 'WES'])\n",
    "print(manifest.SAMPLE_USE.value_counts())"
   ]
  },
  {
   "cell_type": "code",
   "execution_count": 29,
   "metadata": {},
   "outputs": [
    {
     "name": "stdout",
     "output_type": "stream",
     "text": [
      "before extracting WGS (59799, 35)\n",
      "After extracting WGS (33639, 35)\n"
     ]
    }
   ],
   "source": [
    "print('before extracting WGS', pheno.shape)\n",
    "pheno = pheno[pheno.SUBJID.isin(wgs_SUBJID)]\n",
    "\n",
    "print('After extracting WGS', pheno.shape)"
   ]
  },
  {
   "cell_type": "code",
   "execution_count": 30,
   "metadata": {},
   "outputs": [
    {
     "name": "stdout",
     "output_type": "stream",
     "text": [
      "(32, 35)\n"
     ]
    }
   ],
   "source": [
    "## overlaps in Family and Case control, keep the one in Family\n",
    "print(pheno[(pheno.SUBJID.isin(pheno[pheno.SUBJID.duplicated()].SUBJID)) & (pheno.source == 'case_control')].shape)\n",
    "pheno[pheno.SUBJID.duplicated()]\n",
    "pheno = pheno[~pheno.SUBJID.duplicated()] ## only keep family study like they suggest"
   ]
  },
  {
   "cell_type": "code",
   "execution_count": 31,
   "metadata": {},
   "outputs": [
    {
     "data": {
      "text/plain": [
       "(33601, 35)"
      ]
     },
     "execution_count": 31,
     "metadata": {},
     "output_type": "execute_result"
    }
   ],
   "source": [
    "## drop technique replicates (using subjid)\n",
    "replicate_to_drop = manifest[(manifest.SampleID.isin(qc.SampleID)) & (manifest.Technical_Replicate == 1)] ##(63,10)\n",
    "pheno[pheno.SUBJID.isin(replicate_to_drop.SUBJID)]\n",
    "pheno = pheno[~pheno.SUBJID.isin(replicate_to_drop.SUBJID)]\n",
    "#pheno.to_csv(path + 'check_pheno.tsv',sep = '\\t', index = False)\n",
    "pheno.shape"
   ]
  },
  {
   "cell_type": "code",
   "execution_count": 34,
   "metadata": {},
   "outputs": [],
   "source": []
  },
  {
   "cell_type": "markdown",
   "metadata": {
    "jp-MarkdownHeadingCollapsed": true,
    "tags": []
   },
   "source": [
    "## QC sample (deal with the not 1-1 matching in pheno file)\n",
    "merge sampleID with SUBJID using manifest file. for those SUBJID that have multiple SampleIDs, pick the one with the lowest missing rate (qc file)"
   ]
  },
  {
   "cell_type": "code",
   "execution_count": 35,
   "metadata": {},
   "outputs": [
    {
     "name": "stdout",
     "output_type": "stream",
     "text": [
      "(33601, 44)\n",
      "Series([], dtype: int64)\n"
     ]
    },
    {
     "data": {
      "text/plain": [
       "(0,)"
      ]
     },
     "execution_count": 6,
     "metadata": {},
     "output_type": "execute_result"
    }
   ],
   "source": [
    "pheno_add_SampleID  = pheno.merge(manifest, on=\"SUBJID\")\n",
    "print(pheno_add_SampleID.shape)\n",
    "dup_sample = pheno_add_SampleID[pheno_add_SampleID.SUBJID.duplicated(keep=False)] #9033 row\n"
   ]
  },
  {
   "cell_type": "code",
   "execution_count": 41,
   "metadata": {},
   "outputs": [
    {
     "name": "stdout",
     "output_type": "stream",
     "text": [
      "22552\n"
     ]
    },
    {
     "data": {
      "text/plain": [
       "4            A-ACT-AC000014-BL-UPN-23967\n",
       "13           A-ACT-AC000034-BL-UPN-15865\n",
       "26           A-ACT-AC000057-BL-UPN-14863\n",
       "31            A-ACT-AC000072-BL-UPN-7532\n",
       "38           A-ACT-AC000088-BL-UPN-13977\n",
       "                      ...               \n",
       "20489    A-ADC-AD000841-BL-NCR-09AD16180\n",
       "20490    A-ADC-AD000842-BL-NCR-09AD16177\n",
       "20491    A-ADC-AD000862-BL-NCR-09AD16175\n",
       "20492    A-ADC-AD001075-BL-NCR-09AD16172\n",
       "20493    A-ADC-AD001332-BL-NCR-09AD16171\n",
       "Name: SampleID, Length: 3831, dtype: object"
      ]
     },
     "execution_count": 41,
     "metadata": {},
     "output_type": "execute_result"
    }
   ],
   "source": [
    "dup_SampleID = manifest[manifest.SUBJID.isin(dup_sample.SUBJID.unique())].SampleID ##9033\n",
    "print(qc[qc.SampleID.isin(dup_SampleID)].Missing.idxmin())\n",
    "dup_SampleID[~dup_SampleID.isin(qc.SampleID)]  ## not every SampleID is found in QC file"
   ]
  },
  {
   "cell_type": "code",
   "execution_count": 64,
   "metadata": {},
   "outputs": [],
   "source": [
    "## extract the SampleID with the lowest missing num\n",
    "best_SampleID=[]\n",
    "for i in dup_sample.SUBJID.unique():\n",
    "    SampleID = manifest[manifest.SUBJID==i].SampleID\n",
    "    best_id = qc[qc.SampleID.isin(SampleID)].Missing.idxmin()\n",
    "    best_SampleID.append(qc.loc[best_id].SampleID)\n",
    "    "
   ]
  },
  {
   "cell_type": "code",
   "execution_count": 65,
   "metadata": {},
   "outputs": [
    {
     "name": "stdout",
     "output_type": "stream",
     "text": [
      "(4532, 44)\n"
     ]
    }
   ],
   "source": [
    "dup_remove = dup_sample[~dup_sample.SampleID.isin(best_SampleID)]\n",
    "print(dup_remove.shape) ## 4532 rows to remove\n",
    "pheno_add_SampleID = pheno_add_SampleID[~pheno_add_SampleID.SampleID.isin(dup_remove.SampleID)] ## remove 4532 rows, 33,601 rows remain\n",
    "\n",
    "pheno_add_SampleID.to_csv(path + 'pheno_SampleID.tsv',sep = '\\t', index = False)"
   ]
  },
  {
   "cell_type": "markdown",
   "metadata": {},
   "source": [
    "## Deal with non-concordant phenotype based on APOE status and AD"
   ]
  },
  {
   "cell_type": "code",
   "execution_count": 3,
   "metadata": {},
   "outputs": [
    {
     "name": "stderr",
     "output_type": "stream",
     "text": [
      "/gpfs/commons/home/tlin/.conda/envs/polyfun/lib/python3.6/site-packages/IPython/core/interactiveshell.py:3072: DtypeWarning: Columns (4,5,6,15,16,17,23,24,25,27,30) have mixed types.Specify dtype option on import or set low_memory=False.\n",
      "  interactivity=interactivity, compiler=compiler, result=result)\n"
     ]
    }
   ],
   "source": [
    "pheno_add_SampleID = pd.read_csv(path + 'pheno_SampleID.tsv',sep = '\\t')"
   ]
  },
  {
   "cell_type": "code",
   "execution_count": 4,
   "metadata": {},
   "outputs": [
    {
     "name": "stderr",
     "output_type": "stream",
     "text": [
      "/gpfs/commons/home/tlin/.conda/envs/polyfun/lib/python3.6/site-packages/pandas/core/indexing.py:659: SettingWithCopyWarning: \n",
      "A value is trying to be set on a copy of a slice from a DataFrame.\n",
      "Try using .loc[row_indexer,col_indexer] = value instead\n",
      "\n",
      "See the caveats in the documentation: https://pandas.pydata.org/pandas-docs/stable/user_guide/indexing.html#returning-a-view-versus-a-copy\n",
      "  self.obj[k] = np.nan\n",
      "/gpfs/commons/home/tlin/.conda/envs/polyfun/lib/python3.6/site-packages/pandas/core/indexing.py:1743: SettingWithCopyWarning: \n",
      "A value is trying to be set on a copy of a slice from a DataFrame.\n",
      "Try using .loc[row_indexer,col_indexer] = value instead\n",
      "\n",
      "See the caveats in the documentation: https://pandas.pydata.org/pandas-docs/stable/user_guide/indexing.html#returning-a-view-versus-a-copy\n",
      "  isetter(ilocs[0], value)\n"
     ]
    },
    {
     "data": {
      "text/html": [
       "<div>\n",
       "<style scoped>\n",
       "    .dataframe tbody tr th:only-of-type {\n",
       "        vertical-align: middle;\n",
       "    }\n",
       "\n",
       "    .dataframe tbody tr th {\n",
       "        vertical-align: top;\n",
       "    }\n",
       "\n",
       "    .dataframe thead th {\n",
       "        text-align: right;\n",
       "    }\n",
       "</style>\n",
       "<table border=\"1\" class=\"dataframe\">\n",
       "  <thead>\n",
       "    <tr style=\"text-align: right;\">\n",
       "      <th></th>\n",
       "      <th>SampleID1</th>\n",
       "      <th>SampleID2</th>\n",
       "      <th>PI_HAT</th>\n",
       "      <th>SUBJID1</th>\n",
       "      <th>SUBJID2</th>\n",
       "    </tr>\n",
       "  </thead>\n",
       "  <tbody>\n",
       "    <tr>\n",
       "      <th>3217</th>\n",
       "      <td>A-LOAD-LD004376-BL-NCR-04AD6509</td>\n",
       "      <td>A-LOAD-LD004376-UNK-UNK-UNK0036</td>\n",
       "      <td>0.9834</td>\n",
       "      <td>A-LOAD-LD004376</td>\n",
       "      <td>A-LOAD-LD004376</td>\n",
       "    </tr>\n",
       "    <tr>\n",
       "      <th>3218</th>\n",
       "      <td>A-ADC-AD008841-BL-NCR-10AD24304</td>\n",
       "      <td>G-KGAD-KA000206-UNK-WU-8005874212</td>\n",
       "      <td>0.9897</td>\n",
       "      <td>A-ADC-AD008841</td>\n",
       "      <td>G-KGAD-KA000206</td>\n",
       "    </tr>\n",
       "    <tr>\n",
       "      <th>3219</th>\n",
       "      <td>A-ADC-AD016717-BL-NCR-13AD63111</td>\n",
       "      <td>A-ADC-AD016717-BL-NCR-13AD63111uf</td>\n",
       "      <td>0.9914</td>\n",
       "      <td>A-ADC-AD016717</td>\n",
       "      <td>A-ADC-AD016717</td>\n",
       "    </tr>\n",
       "    <tr>\n",
       "      <th>3220</th>\n",
       "      <td>A-LOAD-LD004379-BL-NCR-08AD9443</td>\n",
       "      <td>A-LOAD-LD004379-UNK-UNK-UNK0037</td>\n",
       "      <td>0.9924</td>\n",
       "      <td>A-LOAD-LD004379</td>\n",
       "      <td>A-LOAD-LD004379</td>\n",
       "    </tr>\n",
       "    <tr>\n",
       "      <th>3221</th>\n",
       "      <td>A-CUHS-CU009833-BL-COL-55252BL1</td>\n",
       "      <td>A-CUHS-CU009833-BL-COL-55252BL1ld</td>\n",
       "      <td>0.9927</td>\n",
       "      <td>A-CUHS-CU009833</td>\n",
       "      <td>A-CUHS-CU009833</td>\n",
       "    </tr>\n",
       "    <tr>\n",
       "      <th>...</th>\n",
       "      <td>...</td>\n",
       "      <td>...</td>\n",
       "      <td>...</td>\n",
       "      <td>...</td>\n",
       "      <td>...</td>\n",
       "    </tr>\n",
       "    <tr>\n",
       "      <th>4811</th>\n",
       "      <td>P-UCLA-LA000059-UNK-UPN-F03</td>\n",
       "      <td>P-UCSF-PSP10538-UNK-UPN-8882</td>\n",
       "      <td>1.0000</td>\n",
       "      <td>P-UCLA-LA000059</td>\n",
       "      <td>P-UCSF-PSP10538</td>\n",
       "    </tr>\n",
       "    <tr>\n",
       "      <th>4812</th>\n",
       "      <td>P-UCLA-LA000137-UNK-UPN-E03</td>\n",
       "      <td>P-UPN-PSP10085-BL-UPN-112194</td>\n",
       "      <td>1.0000</td>\n",
       "      <td>P-UCLA-LA000137</td>\n",
       "      <td>P-UPN-PSP10085</td>\n",
       "    </tr>\n",
       "    <tr>\n",
       "      <th>4813</th>\n",
       "      <td>P-UCLA-LA000207-UNK-UPN-B11</td>\n",
       "      <td>P-UPN-PSP10065-BL-UPN-104130</td>\n",
       "      <td>1.0000</td>\n",
       "      <td>P-UCLA-LA000207</td>\n",
       "      <td>P-UPN-PSP10065</td>\n",
       "    </tr>\n",
       "    <tr>\n",
       "      <th>4814</th>\n",
       "      <td>P-UCLA-LA000394-UNK-UPN-1000016</td>\n",
       "      <td>P-UCSF-PSP10540-UNK-UPN-10886</td>\n",
       "      <td>1.0000</td>\n",
       "      <td>P-UCLA-LA000394</td>\n",
       "      <td>P-UCSF-PSP10540</td>\n",
       "    </tr>\n",
       "    <tr>\n",
       "      <th>4815</th>\n",
       "      <td>P-UPN-PSP8397-UNK-UPN-2214</td>\n",
       "      <td>P-UPN-PSP10695-UNK-UPN-108077</td>\n",
       "      <td>1.0000</td>\n",
       "      <td>P-UPN-PSP10695</td>\n",
       "      <td>P-UPN-PSP10695</td>\n",
       "    </tr>\n",
       "  </tbody>\n",
       "</table>\n",
       "<p>1599 rows × 5 columns</p>\n",
       "</div>"
      ],
      "text/plain": [
       "                            SampleID1                          SampleID2  \\\n",
       "3217  A-LOAD-LD004376-BL-NCR-04AD6509    A-LOAD-LD004376-UNK-UNK-UNK0036   \n",
       "3218  A-ADC-AD008841-BL-NCR-10AD24304  G-KGAD-KA000206-UNK-WU-8005874212   \n",
       "3219  A-ADC-AD016717-BL-NCR-13AD63111  A-ADC-AD016717-BL-NCR-13AD63111uf   \n",
       "3220  A-LOAD-LD004379-BL-NCR-08AD9443    A-LOAD-LD004379-UNK-UNK-UNK0037   \n",
       "3221  A-CUHS-CU009833-BL-COL-55252BL1  A-CUHS-CU009833-BL-COL-55252BL1ld   \n",
       "...                               ...                                ...   \n",
       "4811      P-UCLA-LA000059-UNK-UPN-F03       P-UCSF-PSP10538-UNK-UPN-8882   \n",
       "4812      P-UCLA-LA000137-UNK-UPN-E03       P-UPN-PSP10085-BL-UPN-112194   \n",
       "4813      P-UCLA-LA000207-UNK-UPN-B11       P-UPN-PSP10065-BL-UPN-104130   \n",
       "4814  P-UCLA-LA000394-UNK-UPN-1000016      P-UCSF-PSP10540-UNK-UPN-10886   \n",
       "4815       P-UPN-PSP8397-UNK-UPN-2214      P-UPN-PSP10695-UNK-UPN-108077   \n",
       "\n",
       "      PI_HAT          SUBJID1          SUBJID2  \n",
       "3217  0.9834  A-LOAD-LD004376  A-LOAD-LD004376  \n",
       "3218  0.9897   A-ADC-AD008841  G-KGAD-KA000206  \n",
       "3219  0.9914   A-ADC-AD016717   A-ADC-AD016717  \n",
       "3220  0.9924  A-LOAD-LD004379  A-LOAD-LD004379  \n",
       "3221  0.9927  A-CUHS-CU009833  A-CUHS-CU009833  \n",
       "...      ...              ...              ...  \n",
       "4811  1.0000  P-UCLA-LA000059  P-UCSF-PSP10538  \n",
       "4812  1.0000  P-UCLA-LA000137   P-UPN-PSP10085  \n",
       "4813  1.0000  P-UCLA-LA000207   P-UPN-PSP10065  \n",
       "4814  1.0000  P-UCLA-LA000394  P-UCSF-PSP10540  \n",
       "4815  1.0000   P-UPN-PSP10695   P-UPN-PSP10695  \n",
       "\n",
       "[1599 rows x 5 columns]"
      ]
     },
     "execution_count": 4,
     "metadata": {},
     "output_type": "execute_result"
    }
   ],
   "source": [
    "### 1. Deal with IBD\n",
    "## mapping SampleID to SUBJID\n",
    "ibdpair_95 = ibd[ibd.PI_HAT>.95]\n",
    "mapping = manifest.loc[(manifest['SampleID'].isin(ibdpair_95.SampleID1)) | (manifest['SampleID'].isin(ibdpair_95.SampleID2)),['SUBJID','SampleID']]\n",
    "map_dict = dict(list(zip(mapping.SampleID, mapping.SUBJID)))\n",
    "\n",
    "ibdpair_95[ibdpair_95.SampleID1.isin(manifest.SampleID)] ## all are found\n",
    "\n",
    "## Add SUBJID to IBD pair\n",
    "ibdpair_95.loc[:,['SUBJID1']] = ibdpair_95['SampleID1'].map(map_dict)\n",
    "ibdpair_95.loc[:,['SUBJID2']] = ibdpair_95['SampleID2'].map(map_dict)\n",
    "ibdpair_95"
   ]
  },
  {
   "cell_type": "code",
   "execution_count": 5,
   "metadata": {},
   "outputs": [],
   "source": [
    "## these are not duplicates from the same SUBJECT but the pi_hat is high \n",
    "dup_ibd = ibdpair_95[ibdpair_95.SUBJID1 != ibdpair_95.SUBJID2] ## 513\n",
    "dup_ibd = dup_ibd[(dup_ibd.SUBJID1.isin(pheno_add_SampleID.SUBJID)) & (dup_ibd.SUBJID2.isin(pheno_add_SampleID.SUBJID))] #458 (They used & instead of | here)"
   ]
  },
  {
   "cell_type": "code",
   "execution_count": 6,
   "metadata": {},
   "outputs": [],
   "source": [
    "## only deal with the columns that they handle manually\n",
    "dup_ibd_merge = dup_ibd.merge(pheno_add_SampleID[['SUBJID','Diagnosis','Race','APOE_reported','Ethnicity','Sex','Age']], left_on = 'SUBJID1',right_on = 'SUBJID')\n",
    "dup_ibd_merge = dup_ibd_merge.merge(pheno_add_SampleID[['SUBJID','Diagnosis','Race','APOE_reported','Ethnicity','Sex','Age']], left_on = 'SUBJID2',right_on = 'SUBJID')"
   ]
  },
  {
   "cell_type": "code",
   "execution_count": 8,
   "metadata": {},
   "outputs": [
    {
     "data": {
      "text/plain": [
       "(320, 19)"
      ]
     },
     "execution_count": 8,
     "metadata": {},
     "output_type": "execute_result"
    }
   ],
   "source": [
    "## Remove the rows that inconsistent with AD diagnosis or APOE status ## 136 rows in total\n",
    "inconsistent = dup_ibd_merge[(dup_ibd_merge.Diagnosis_x != dup_ibd_merge.Diagnosis_y) | \n",
    "                            (dup_ibd_merge.APOE_reported_x != dup_ibd_merge.APOE_reported_y)]\n",
    "dup_ibd_merge = pd.concat([dup_ibd_merge,inconsistent]).drop_duplicates(keep=False) ## only keep the dup_ibd_merge not in inconsistent\n",
    "\n",
    "dup_ibd_merge.shape"
   ]
  },
  {
   "cell_type": "code",
   "execution_count": 9,
   "metadata": {},
   "outputs": [
    {
     "data": {
      "text/html": [
       "<div>\n",
       "<style scoped>\n",
       "    .dataframe tbody tr th:only-of-type {\n",
       "        vertical-align: middle;\n",
       "    }\n",
       "\n",
       "    .dataframe tbody tr th {\n",
       "        vertical-align: top;\n",
       "    }\n",
       "\n",
       "    .dataframe thead th {\n",
       "        text-align: right;\n",
       "    }\n",
       "</style>\n",
       "<table border=\"1\" class=\"dataframe\">\n",
       "  <thead>\n",
       "    <tr style=\"text-align: right;\">\n",
       "      <th></th>\n",
       "      <th>SampleID1</th>\n",
       "      <th>SampleID2</th>\n",
       "      <th>PI_HAT</th>\n",
       "      <th>SUBJID1</th>\n",
       "      <th>SUBJID2</th>\n",
       "      <th>SUBJID_x</th>\n",
       "      <th>Diagnosis_x</th>\n",
       "      <th>Race_x</th>\n",
       "      <th>APOE_reported_x</th>\n",
       "      <th>Ethnicity_x</th>\n",
       "      <th>Sex_x</th>\n",
       "      <th>Age_x</th>\n",
       "      <th>SUBJID_y</th>\n",
       "      <th>Diagnosis_y</th>\n",
       "      <th>Race_y</th>\n",
       "      <th>APOE_reported_y</th>\n",
       "      <th>Ethnicity_y</th>\n",
       "      <th>Sex_y</th>\n",
       "      <th>Age_y</th>\n",
       "    </tr>\n",
       "  </thead>\n",
       "  <tbody>\n",
       "    <tr>\n",
       "      <th>155</th>\n",
       "      <td>A-ADC-AD016640-BL-NCR-14AD70496uf</td>\n",
       "      <td>A-WCAP-WC001612-BL-COL-49158BL1</td>\n",
       "      <td>1.0</td>\n",
       "      <td>A-ADC-AD016640</td>\n",
       "      <td>A-WCAP-WC001612</td>\n",
       "      <td>A-ADC-AD016640</td>\n",
       "      <td>NaN</td>\n",
       "      <td>6.0</td>\n",
       "      <td>33.0</td>\n",
       "      <td>1.0</td>\n",
       "      <td>0.0</td>\n",
       "      <td>NaN</td>\n",
       "      <td>A-WCAP-WC001612</td>\n",
       "      <td>1.0</td>\n",
       "      <td>6.0</td>\n",
       "      <td>33.0</td>\n",
       "      <td>1.0</td>\n",
       "      <td>0.0</td>\n",
       "      <td>72.0</td>\n",
       "    </tr>\n",
       "    <tr>\n",
       "      <th>387</th>\n",
       "      <td>A-ADC-AD015732-BL-NCR-17AD90732e</td>\n",
       "      <td>A-ADC-AD015740-BL-NCR-18AD92097</td>\n",
       "      <td>1.0</td>\n",
       "      <td>A-ADC-AD015732</td>\n",
       "      <td>A-ADC-AD015740</td>\n",
       "      <td>A-ADC-AD015732</td>\n",
       "      <td>NaN</td>\n",
       "      <td>5.0</td>\n",
       "      <td>33.0</td>\n",
       "      <td>0.0</td>\n",
       "      <td>0.0</td>\n",
       "      <td>NaN</td>\n",
       "      <td>A-ADC-AD015740</td>\n",
       "      <td>NaN</td>\n",
       "      <td>5.0</td>\n",
       "      <td>33.0</td>\n",
       "      <td>0.0</td>\n",
       "      <td>0.0</td>\n",
       "      <td>NaN</td>\n",
       "    </tr>\n",
       "  </tbody>\n",
       "</table>\n",
       "</div>"
      ],
      "text/plain": [
       "                             SampleID1                        SampleID2  \\\n",
       "155  A-ADC-AD016640-BL-NCR-14AD70496uf  A-WCAP-WC001612-BL-COL-49158BL1   \n",
       "387   A-ADC-AD015732-BL-NCR-17AD90732e  A-ADC-AD015740-BL-NCR-18AD92097   \n",
       "\n",
       "     PI_HAT         SUBJID1          SUBJID2        SUBJID_x  Diagnosis_x  \\\n",
       "155     1.0  A-ADC-AD016640  A-WCAP-WC001612  A-ADC-AD016640          NaN   \n",
       "387     1.0  A-ADC-AD015732   A-ADC-AD015740  A-ADC-AD015732          NaN   \n",
       "\n",
       "     Race_x  APOE_reported_x  Ethnicity_x  Sex_x  Age_x         SUBJID_y  \\\n",
       "155     6.0             33.0          1.0    0.0    NaN  A-WCAP-WC001612   \n",
       "387     5.0             33.0          0.0    0.0    NaN   A-ADC-AD015740   \n",
       "\n",
       "     Diagnosis_y  Race_y  APOE_reported_y  Ethnicity_y  Sex_y  Age_y  \n",
       "155          1.0     6.0             33.0          1.0    0.0   72.0  \n",
       "387          NaN     5.0             33.0          0.0    0.0    NaN  "
      ]
     },
     "execution_count": 9,
     "metadata": {},
     "output_type": "execute_result"
    }
   ],
   "source": [
    "check_inconsistent = duplist[duplist.Choice == 'Inconsistent']\n",
    "inconsistent[~inconsistent.SampleID1.isin(check_inconsistent.SampleID1)]"
   ]
  },
  {
   "cell_type": "code",
   "execution_count": 133,
   "metadata": {},
   "outputs": [
    {
     "data": {
      "text/html": [
       "<div>\n",
       "<style scoped>\n",
       "    .dataframe tbody tr th:only-of-type {\n",
       "        vertical-align: middle;\n",
       "    }\n",
       "\n",
       "    .dataframe tbody tr th {\n",
       "        vertical-align: top;\n",
       "    }\n",
       "\n",
       "    .dataframe thead th {\n",
       "        text-align: right;\n",
       "    }\n",
       "</style>\n",
       "<table border=\"1\" class=\"dataframe\">\n",
       "  <thead>\n",
       "    <tr style=\"text-align: right;\">\n",
       "      <th></th>\n",
       "      <th>SampleID1</th>\n",
       "      <th>SampleID2</th>\n",
       "      <th>PI_HAT</th>\n",
       "      <th>SUBJID1</th>\n",
       "      <th>SUBJID2</th>\n",
       "      <th>SUBJID_x</th>\n",
       "      <th>Diagnosis_x</th>\n",
       "      <th>Race_x</th>\n",
       "      <th>APOE_reported_x</th>\n",
       "      <th>Ethnicity_x</th>\n",
       "      <th>Sex_x</th>\n",
       "      <th>Age_x</th>\n",
       "      <th>SUBJID_y</th>\n",
       "      <th>Diagnosis_y</th>\n",
       "      <th>Race_y</th>\n",
       "      <th>APOE_reported_y</th>\n",
       "      <th>Ethnicity_y</th>\n",
       "      <th>Sex_y</th>\n",
       "      <th>Age_y</th>\n",
       "    </tr>\n",
       "  </thead>\n",
       "  <tbody>\n",
       "  </tbody>\n",
       "</table>\n",
       "</div>"
      ],
      "text/plain": [
       "Empty DataFrame\n",
       "Columns: [SampleID1, SampleID2, PI_HAT, SUBJID1, SUBJID2, SUBJID_x, Diagnosis_x, Race_x, APOE_reported_x, Ethnicity_x, Sex_x, Age_x, SUBJID_y, Diagnosis_y, Race_y, APOE_reported_y, Ethnicity_y, Sex_y, Age_y]\n",
       "Index: []"
      ]
     },
     "execution_count": 133,
     "metadata": {},
     "output_type": "execute_result"
    }
   ],
   "source": [
    "## Check the age \n",
    "dup_ibd_merge[(dup_ibd_merge.Age_x.isnull()) & (dup_ibd_merge.Age_y.isnull())]"
   ]
  },
  {
   "cell_type": "code",
   "execution_count": 11,
   "metadata": {},
   "outputs": [
    {
     "data": {
      "text/html": [
       "<div>\n",
       "<style scoped>\n",
       "    .dataframe tbody tr th:only-of-type {\n",
       "        vertical-align: middle;\n",
       "    }\n",
       "\n",
       "    .dataframe tbody tr th {\n",
       "        vertical-align: top;\n",
       "    }\n",
       "\n",
       "    .dataframe thead th {\n",
       "        text-align: right;\n",
       "    }\n",
       "</style>\n",
       "<table border=\"1\" class=\"dataframe\">\n",
       "  <thead>\n",
       "    <tr style=\"text-align: right;\">\n",
       "      <th></th>\n",
       "      <th>SUBJID1</th>\n",
       "      <th>SUBJID2</th>\n",
       "      <th>Age_x</th>\n",
       "      <th>Age_y</th>\n",
       "      <th>SUBJID</th>\n",
       "      <th>SampleID</th>\n",
       "    </tr>\n",
       "  </thead>\n",
       "  <tbody>\n",
       "    <tr>\n",
       "      <th>0</th>\n",
       "      <td>A-ADC-AD008841</td>\n",
       "      <td>G-KGAD-KA000206</td>\n",
       "      <td>54.0</td>\n",
       "      <td>55.0</td>\n",
       "      <td>G-KGAD-KA000206</td>\n",
       "      <td>G-KGAD-KA000206-UNK-WU-8005874212</td>\n",
       "    </tr>\n",
       "    <tr>\n",
       "      <th>1</th>\n",
       "      <td>A-ADC-AD010154</td>\n",
       "      <td>ADNI_011_S_0023</td>\n",
       "      <td>81.0</td>\n",
       "      <td>79.0</td>\n",
       "      <td>A-ADC-AD010154</td>\n",
       "      <td>A-ADC-AD010154-BL-NCR-13AD63381</td>\n",
       "    </tr>\n",
       "    <tr>\n",
       "      <th>2</th>\n",
       "      <td>A-MIA-UM011643</td>\n",
       "      <td>ADNI_011_S_0023</td>\n",
       "      <td>85.0</td>\n",
       "      <td>79.0</td>\n",
       "      <td>A-MIA-UM011643</td>\n",
       "      <td>A-MIA-UM011643-BL-MIA-202014718</td>\n",
       "    </tr>\n",
       "    <tr>\n",
       "      <th>3</th>\n",
       "      <td>A-ADC-AD010154</td>\n",
       "      <td>A-MIA-UM011643</td>\n",
       "      <td>81.0</td>\n",
       "      <td>85.0</td>\n",
       "      <td>A-MIA-UM011643</td>\n",
       "      <td>A-MIA-UM011643-BL-MIA-202014718</td>\n",
       "    </tr>\n",
       "    <tr>\n",
       "      <th>4</th>\n",
       "      <td>A-ADC-AD005494</td>\n",
       "      <td>A-VAN-VU001340</td>\n",
       "      <td>65.0</td>\n",
       "      <td>65.0</td>\n",
       "      <td>A-ADC-AD005494</td>\n",
       "      <td>A-ADC-AD005494-BL-NCR-09AD17556uf</td>\n",
       "    </tr>\n",
       "    <tr>\n",
       "      <th>...</th>\n",
       "      <td>...</td>\n",
       "      <td>...</td>\n",
       "      <td>...</td>\n",
       "      <td>...</td>\n",
       "      <td>...</td>\n",
       "      <td>...</td>\n",
       "    </tr>\n",
       "    <tr>\n",
       "      <th>452</th>\n",
       "      <td>A-NMAS-NM000498</td>\n",
       "      <td>A-WCAP-WC001585</td>\n",
       "      <td>80.0</td>\n",
       "      <td>81.0</td>\n",
       "      <td>A-WCAP-WC001585</td>\n",
       "      <td>A-WCAP-WC001585-BL-COL-45991BL1</td>\n",
       "    </tr>\n",
       "    <tr>\n",
       "      <th>453</th>\n",
       "      <td>A-NMAS-NM000567</td>\n",
       "      <td>A-WCAP-WC001376</td>\n",
       "      <td>77.0</td>\n",
       "      <td>78.0</td>\n",
       "      <td>A-WCAP-WC001376</td>\n",
       "      <td>A-WCAP-WC001376-BL-COL-39666BL1</td>\n",
       "    </tr>\n",
       "    <tr>\n",
       "      <th>455</th>\n",
       "      <td>A-NMAS-NM000756</td>\n",
       "      <td>A-WCAP-WC001622</td>\n",
       "      <td>75.0</td>\n",
       "      <td>76.0</td>\n",
       "      <td>A-WCAP-WC001622</td>\n",
       "      <td>A-WCAP-WC001622-BL-COL-50921BL1</td>\n",
       "    </tr>\n",
       "    <tr>\n",
       "      <th>456</th>\n",
       "      <td>A-NMAS-NM000760</td>\n",
       "      <td>A-WCAP-WC001573</td>\n",
       "      <td>76.0</td>\n",
       "      <td>76.0</td>\n",
       "      <td>A-NMAS-NM000760</td>\n",
       "      <td>A-NMAS-NM000760-BL-MIA-200810732</td>\n",
       "    </tr>\n",
       "    <tr>\n",
       "      <th>457</th>\n",
       "      <td>ADNI_011_S_2274</td>\n",
       "      <td>G-KGAD-KA000086</td>\n",
       "      <td>65.0</td>\n",
       "      <td>60.0</td>\n",
       "      <td>ADNI_011_S_2274</td>\n",
       "      <td>ADNI_011_S_2274</td>\n",
       "    </tr>\n",
       "  </tbody>\n",
       "</table>\n",
       "<p>320 rows × 6 columns</p>\n",
       "</div>"
      ],
      "text/plain": [
       "             SUBJID1          SUBJID2  Age_x  Age_y           SUBJID  \\\n",
       "0     A-ADC-AD008841  G-KGAD-KA000206   54.0   55.0  G-KGAD-KA000206   \n",
       "1     A-ADC-AD010154  ADNI_011_S_0023   81.0   79.0   A-ADC-AD010154   \n",
       "2     A-MIA-UM011643  ADNI_011_S_0023   85.0   79.0   A-MIA-UM011643   \n",
       "3     A-ADC-AD010154   A-MIA-UM011643   81.0   85.0   A-MIA-UM011643   \n",
       "4     A-ADC-AD005494   A-VAN-VU001340   65.0   65.0   A-ADC-AD005494   \n",
       "..               ...              ...    ...    ...              ...   \n",
       "452  A-NMAS-NM000498  A-WCAP-WC001585   80.0   81.0  A-WCAP-WC001585   \n",
       "453  A-NMAS-NM000567  A-WCAP-WC001376   77.0   78.0  A-WCAP-WC001376   \n",
       "455  A-NMAS-NM000756  A-WCAP-WC001622   75.0   76.0  A-WCAP-WC001622   \n",
       "456  A-NMAS-NM000760  A-WCAP-WC001573   76.0   76.0  A-NMAS-NM000760   \n",
       "457  ADNI_011_S_2274  G-KGAD-KA000086   65.0   60.0  ADNI_011_S_2274   \n",
       "\n",
       "                              SampleID  \n",
       "0    G-KGAD-KA000206-UNK-WU-8005874212  \n",
       "1      A-ADC-AD010154-BL-NCR-13AD63381  \n",
       "2      A-MIA-UM011643-BL-MIA-202014718  \n",
       "3      A-MIA-UM011643-BL-MIA-202014718  \n",
       "4    A-ADC-AD005494-BL-NCR-09AD17556uf  \n",
       "..                                 ...  \n",
       "452    A-WCAP-WC001585-BL-COL-45991BL1  \n",
       "453    A-WCAP-WC001376-BL-COL-39666BL1  \n",
       "455    A-WCAP-WC001622-BL-COL-50921BL1  \n",
       "456   A-NMAS-NM000760-BL-MIA-200810732  \n",
       "457                    ADNI_011_S_2274  \n",
       "\n",
       "[320 rows x 6 columns]"
      ]
     },
     "execution_count": 11,
     "metadata": {},
     "output_type": "execute_result"
    }
   ],
   "source": [
    "## chose the older age, if equal, choose the first one\n",
    "dup_ibd_merge[dup_ibd_merge.Age_x == dup_ibd_merge.Age_y].shape\n",
    "dup_ibd_merge['Age'] = dup_ibd_merge[[\"Age_x\",\"Age_y\"]].apply(max,axis = 1)\n",
    "\n",
    "dup_ibd_merge.loc[dup_ibd_merge.Age_x >= dup_ibd_merge.Age_y,'SUBJID']=dup_ibd_merge.SUBJID1\n",
    "dup_ibd_merge.loc[dup_ibd_merge.Age_x < dup_ibd_merge.Age_y,'SUBJID']=dup_ibd_merge.SUBJID2\n",
    "\n",
    "dup_ibd_merge.loc[dup_ibd_merge.Age_x >= dup_ibd_merge.Age_y,'SampleID']=dup_ibd_merge.SampleID1\n",
    "dup_ibd_merge.loc[dup_ibd_merge.Age_x < dup_ibd_merge.Age_y,'SampleID']=dup_ibd_merge.SampleID2\n",
    "\n",
    "dup_ibd_merge.loc[:,['SUBJID1','SUBJID2','Age_x','Age_y','SUBJID','SampleID']]\n"
   ]
  },
  {
   "cell_type": "code",
   "execution_count": 19,
   "metadata": {},
   "outputs": [
    {
     "data": {
      "text/plain": [
       "(320, 22)"
      ]
     },
     "execution_count": 19,
     "metadata": {},
     "output_type": "execute_result"
    }
   ],
   "source": [
    "dup_ibd_merge.shape"
   ]
  },
  {
   "cell_type": "code",
   "execution_count": null,
   "metadata": {},
   "outputs": [],
   "source": []
  },
  {
   "cell_type": "code",
   "execution_count": 27,
   "metadata": {},
   "outputs": [
    {
     "data": {
      "text/html": [
       "<div>\n",
       "<style scoped>\n",
       "    .dataframe tbody tr th:only-of-type {\n",
       "        vertical-align: middle;\n",
       "    }\n",
       "\n",
       "    .dataframe tbody tr th {\n",
       "        vertical-align: top;\n",
       "    }\n",
       "\n",
       "    .dataframe thead th {\n",
       "        text-align: right;\n",
       "    }\n",
       "</style>\n",
       "<table border=\"1\" class=\"dataframe\">\n",
       "  <thead>\n",
       "    <tr style=\"text-align: right;\">\n",
       "      <th></th>\n",
       "      <th>SampleID1</th>\n",
       "      <th>SampleID2</th>\n",
       "      <th>Age_x</th>\n",
       "      <th>Age_y</th>\n",
       "      <th>Diagnosis_x</th>\n",
       "      <th>SampleID</th>\n",
       "    </tr>\n",
       "  </thead>\n",
       "  <tbody>\n",
       "    <tr>\n",
       "      <th>2</th>\n",
       "      <td>A-MIA-UM011643-BL-MIA-202014718</td>\n",
       "      <td>ADNI_011_S_0023</td>\n",
       "      <td>85.0</td>\n",
       "      <td>79.0</td>\n",
       "      <td>0.0</td>\n",
       "      <td>A-MIA-UM011643-BL-MIA-202014718</td>\n",
       "    </tr>\n",
       "    <tr>\n",
       "      <th>86</th>\n",
       "      <td>A-ADC-AD006858-BL-NCR-09AD16022e</td>\n",
       "      <td>G-ADNI-AN000667-BL-NCR-08AD6948</td>\n",
       "      <td>66.0</td>\n",
       "      <td>66.0</td>\n",
       "      <td>1.0</td>\n",
       "      <td>A-ADC-AD006858-BL-NCR-09AD16022e</td>\n",
       "    </tr>\n",
       "  </tbody>\n",
       "</table>\n",
       "</div>"
      ],
      "text/plain": [
       "                           SampleID1                        SampleID2  Age_x  \\\n",
       "2    A-MIA-UM011643-BL-MIA-202014718                  ADNI_011_S_0023   85.0   \n",
       "86  A-ADC-AD006858-BL-NCR-09AD16022e  G-ADNI-AN000667-BL-NCR-08AD6948   66.0   \n",
       "\n",
       "    Age_y  Diagnosis_x                          SampleID  \n",
       "2    79.0          0.0   A-MIA-UM011643-BL-MIA-202014718  \n",
       "86   66.0          1.0  A-ADC-AD006858-BL-NCR-09AD16022e  "
      ]
     },
     "execution_count": 27,
     "metadata": {},
     "output_type": "execute_result"
    }
   ],
   "source": [
    "##diff chose 1\n",
    "dup_ibd_merge[dup_ibd_merge.SUBJID==dup_ibd_merge.SUBJID1][~dup_ibd_merge[dup_ibd_merge.SUBJID==dup_ibd_merge.SUBJID1].SUBJID.isin(duplist[duplist.Choice =='Select1'].SUBJID1)][['SampleID1','SampleID2','Age_x','Age_y','Diagnosis_x','SampleID']]"
   ]
  },
  {
   "cell_type": "code",
   "execution_count": 29,
   "metadata": {},
   "outputs": [
    {
     "data": {
      "text/html": [
       "<div>\n",
       "<style scoped>\n",
       "    .dataframe tbody tr th:only-of-type {\n",
       "        vertical-align: middle;\n",
       "    }\n",
       "\n",
       "    .dataframe tbody tr th {\n",
       "        vertical-align: top;\n",
       "    }\n",
       "\n",
       "    .dataframe thead th {\n",
       "        text-align: right;\n",
       "    }\n",
       "</style>\n",
       "<table border=\"1\" class=\"dataframe\">\n",
       "  <thead>\n",
       "    <tr style=\"text-align: right;\">\n",
       "      <th></th>\n",
       "      <th>SampleID1</th>\n",
       "      <th>SampleID2</th>\n",
       "      <th>PI_HAT</th>\n",
       "      <th>SUBJID1</th>\n",
       "      <th>SUBJID2</th>\n",
       "      <th>Choice</th>\n",
       "    </tr>\n",
       "  </thead>\n",
       "  <tbody>\n",
       "    <tr>\n",
       "      <th>81</th>\n",
       "      <td>A-ADC-AD006858-BL-NCR-09AD16022e</td>\n",
       "      <td>A-LOAD-LD001253-UNK-UNK-UNK0017</td>\n",
       "      <td>0.9999</td>\n",
       "      <td>A-ADC-AD006858</td>\n",
       "      <td>A-LOAD-LD001253</td>\n",
       "      <td>Select2</td>\n",
       "    </tr>\n",
       "    <tr>\n",
       "      <th>217</th>\n",
       "      <td>A-ADC-AD006858-BL-NCR-09AD16022e</td>\n",
       "      <td>G-ADNI-AN000667-BL-NCR-08AD6948</td>\n",
       "      <td>1.0000</td>\n",
       "      <td>A-ADC-AD006858</td>\n",
       "      <td>G-ADNI-AN000667</td>\n",
       "      <td>PrunedEarlier1</td>\n",
       "    </tr>\n",
       "  </tbody>\n",
       "</table>\n",
       "</div>"
      ],
      "text/plain": [
       "                            SampleID1                        SampleID2  \\\n",
       "81   A-ADC-AD006858-BL-NCR-09AD16022e  A-LOAD-LD001253-UNK-UNK-UNK0017   \n",
       "217  A-ADC-AD006858-BL-NCR-09AD16022e  G-ADNI-AN000667-BL-NCR-08AD6948   \n",
       "\n",
       "     PI_HAT         SUBJID1          SUBJID2          Choice  \n",
       "81   0.9999  A-ADC-AD006858  A-LOAD-LD001253         Select2  \n",
       "217  1.0000  A-ADC-AD006858  G-ADNI-AN000667  PrunedEarlier1  "
      ]
     },
     "execution_count": 30,
     "metadata": {},
     "output_type": "execute_result"
    }
   ],
   "source": [
    "dup_ibd_merge[dup_ibd_merge.SampleID1 == 'A-ADC-AD006858-BL-NCR-09AD16022e'][['SampleID1','SampleID2','Age_x','Age_y','Diagnosis_x','SampleID']]"
   ]
  },
  {
   "cell_type": "code",
   "execution_count": 32,
   "metadata": {},
   "outputs": [
    {
     "data": {
      "text/html": [
       "<div>\n",
       "<style scoped>\n",
       "    .dataframe tbody tr th:only-of-type {\n",
       "        vertical-align: middle;\n",
       "    }\n",
       "\n",
       "    .dataframe tbody tr th {\n",
       "        vertical-align: top;\n",
       "    }\n",
       "\n",
       "    .dataframe thead th {\n",
       "        text-align: right;\n",
       "    }\n",
       "</style>\n",
       "<table border=\"1\" class=\"dataframe\">\n",
       "  <thead>\n",
       "    <tr style=\"text-align: right;\">\n",
       "      <th></th>\n",
       "      <th>SampleID1</th>\n",
       "      <th>SampleID2</th>\n",
       "      <th>PI_HAT</th>\n",
       "      <th>SUBJID1</th>\n",
       "      <th>SUBJID2</th>\n",
       "      <th>Choice</th>\n",
       "    </tr>\n",
       "  </thead>\n",
       "  <tbody>\n",
       "    <tr>\n",
       "      <th>81</th>\n",
       "      <td>A-ADC-AD006858-BL-NCR-09AD16022e</td>\n",
       "      <td>A-LOAD-LD001253-UNK-UNK-UNK0017</td>\n",
       "      <td>0.9999</td>\n",
       "      <td>A-ADC-AD006858</td>\n",
       "      <td>A-LOAD-LD001253</td>\n",
       "      <td>Select2</td>\n",
       "    </tr>\n",
       "    <tr>\n",
       "      <th>217</th>\n",
       "      <td>A-ADC-AD006858-BL-NCR-09AD16022e</td>\n",
       "      <td>G-ADNI-AN000667-BL-NCR-08AD6948</td>\n",
       "      <td>1.0000</td>\n",
       "      <td>A-ADC-AD006858</td>\n",
       "      <td>G-ADNI-AN000667</td>\n",
       "      <td>PrunedEarlier1</td>\n",
       "    </tr>\n",
       "  </tbody>\n",
       "</table>\n",
       "</div>"
      ],
      "text/plain": [
       "                            SampleID1                        SampleID2  \\\n",
       "81   A-ADC-AD006858-BL-NCR-09AD16022e  A-LOAD-LD001253-UNK-UNK-UNK0017   \n",
       "217  A-ADC-AD006858-BL-NCR-09AD16022e  G-ADNI-AN000667-BL-NCR-08AD6948   \n",
       "\n",
       "     PI_HAT         SUBJID1          SUBJID2          Choice  \n",
       "81   0.9999  A-ADC-AD006858  A-LOAD-LD001253         Select2  \n",
       "217  1.0000  A-ADC-AD006858  G-ADNI-AN000667  PrunedEarlier1  "
      ]
     },
     "execution_count": 32,
     "metadata": {},
     "output_type": "execute_result"
    }
   ],
   "source": [
    "duplist[duplist.SampleID1 == 'A-ADC-AD006858-BL-NCR-09AD16022e']"
   ]
  },
  {
   "cell_type": "code",
   "execution_count": 17,
   "metadata": {},
   "outputs": [
    {
     "data": {
      "text/html": [
       "<div>\n",
       "<style scoped>\n",
       "    .dataframe tbody tr th:only-of-type {\n",
       "        vertical-align: middle;\n",
       "    }\n",
       "\n",
       "    .dataframe tbody tr th {\n",
       "        vertical-align: top;\n",
       "    }\n",
       "\n",
       "    .dataframe thead th {\n",
       "        text-align: right;\n",
       "    }\n",
       "</style>\n",
       "<table border=\"1\" class=\"dataframe\">\n",
       "  <thead>\n",
       "    <tr style=\"text-align: right;\">\n",
       "      <th></th>\n",
       "      <th>SampleID1</th>\n",
       "      <th>SampleID2</th>\n",
       "      <th>PI_HAT</th>\n",
       "      <th>SUBJID1</th>\n",
       "      <th>SUBJID2</th>\n",
       "      <th>Choice</th>\n",
       "    </tr>\n",
       "  </thead>\n",
       "  <tbody>\n",
       "    <tr>\n",
       "      <th>0</th>\n",
       "      <td>A-ADC-AD008841-BL-NCR-10AD24304</td>\n",
       "      <td>G-KGAD-KA000206-UNK-WU-8005874212</td>\n",
       "      <td>0.9897</td>\n",
       "      <td>A-ADC-AD008841</td>\n",
       "      <td>G-KGAD-KA000206</td>\n",
       "      <td>Select2</td>\n",
       "    </tr>\n",
       "    <tr>\n",
       "      <th>2</th>\n",
       "      <td>A-ADC-AD010154-BL-NCR-13AD63381</td>\n",
       "      <td>A-MIA-UM011643-BL-MIA-202014718</td>\n",
       "      <td>0.9953</td>\n",
       "      <td>A-ADC-AD010154</td>\n",
       "      <td>A-MIA-UM011643</td>\n",
       "      <td>Select2</td>\n",
       "    </tr>\n",
       "    <tr>\n",
       "      <th>8</th>\n",
       "      <td>A-ADC-AD013256-BL-NCR-13AD61079uf</td>\n",
       "      <td>G-KGAD-KA000037-UNK-WU-8005872491</td>\n",
       "      <td>0.9985</td>\n",
       "      <td>A-ADC-AD013256</td>\n",
       "      <td>G-KGAD-KA000037</td>\n",
       "      <td>Select2</td>\n",
       "    </tr>\n",
       "    <tr>\n",
       "      <th>16</th>\n",
       "      <td>A-ADC-AD007007-BL-NCR-10AD30408</td>\n",
       "      <td>G-KGAD-KA000593-UNK-WU-8005871830</td>\n",
       "      <td>0.9990</td>\n",
       "      <td>A-ADC-AD007007</td>\n",
       "      <td>G-KGAD-KA000593</td>\n",
       "      <td>Select2</td>\n",
       "    </tr>\n",
       "    <tr>\n",
       "      <th>19</th>\n",
       "      <td>A-ADC-AD005555-BL-NCR-09AD16178</td>\n",
       "      <td>A-LOAD-LD001742-BL-NCR-07AD2155</td>\n",
       "      <td>0.9991</td>\n",
       "      <td>A-ADC-AD005555</td>\n",
       "      <td>A-LOAD-LD001742</td>\n",
       "      <td>Select2</td>\n",
       "    </tr>\n",
       "    <tr>\n",
       "      <th>...</th>\n",
       "      <td>...</td>\n",
       "      <td>...</td>\n",
       "      <td>...</td>\n",
       "      <td>...</td>\n",
       "      <td>...</td>\n",
       "      <td>...</td>\n",
       "    </tr>\n",
       "    <tr>\n",
       "      <th>446</th>\n",
       "      <td>A-NMAS-NM000342-BL-MIA-200811001</td>\n",
       "      <td>A-WCAP-WC001298-BL-COL-50945BL1</td>\n",
       "      <td>1.0000</td>\n",
       "      <td>A-NMAS-NM000342</td>\n",
       "      <td>A-WCAP-WC001298</td>\n",
       "      <td>Select2</td>\n",
       "    </tr>\n",
       "    <tr>\n",
       "      <th>448</th>\n",
       "      <td>A-NMAS-NM000389-BL-MIA-200810312</td>\n",
       "      <td>A-WCAP-WC001226-BL-COL-38633BL1</td>\n",
       "      <td>1.0000</td>\n",
       "      <td>A-NMAS-NM000389</td>\n",
       "      <td>A-WCAP-WC001226</td>\n",
       "      <td>Select2</td>\n",
       "    </tr>\n",
       "    <tr>\n",
       "      <th>452</th>\n",
       "      <td>A-NMAS-NM000498-BL-MIA-200810742</td>\n",
       "      <td>A-WCAP-WC001585-BL-COL-45991BL1</td>\n",
       "      <td>1.0000</td>\n",
       "      <td>A-NMAS-NM000498</td>\n",
       "      <td>A-WCAP-WC001585</td>\n",
       "      <td>Select2</td>\n",
       "    </tr>\n",
       "    <tr>\n",
       "      <th>453</th>\n",
       "      <td>A-NMAS-NM000567-BL-MIA-200810281</td>\n",
       "      <td>A-WCAP-WC001376-BL-COL-39666BL1</td>\n",
       "      <td>1.0000</td>\n",
       "      <td>A-NMAS-NM000567</td>\n",
       "      <td>A-WCAP-WC001376</td>\n",
       "      <td>Select2</td>\n",
       "    </tr>\n",
       "    <tr>\n",
       "      <th>455</th>\n",
       "      <td>A-NMAS-NM000756-BL-MIA-200810956</td>\n",
       "      <td>A-WCAP-WC001622-BL-COL-50921BL1</td>\n",
       "      <td>1.0000</td>\n",
       "      <td>A-NMAS-NM000756</td>\n",
       "      <td>A-WCAP-WC001622</td>\n",
       "      <td>Select2</td>\n",
       "    </tr>\n",
       "  </tbody>\n",
       "</table>\n",
       "<p>156 rows × 6 columns</p>\n",
       "</div>"
      ],
      "text/plain": [
       "                             SampleID1                          SampleID2  \\\n",
       "0      A-ADC-AD008841-BL-NCR-10AD24304  G-KGAD-KA000206-UNK-WU-8005874212   \n",
       "2      A-ADC-AD010154-BL-NCR-13AD63381    A-MIA-UM011643-BL-MIA-202014718   \n",
       "8    A-ADC-AD013256-BL-NCR-13AD61079uf  G-KGAD-KA000037-UNK-WU-8005872491   \n",
       "16     A-ADC-AD007007-BL-NCR-10AD30408  G-KGAD-KA000593-UNK-WU-8005871830   \n",
       "19     A-ADC-AD005555-BL-NCR-09AD16178    A-LOAD-LD001742-BL-NCR-07AD2155   \n",
       "..                                 ...                                ...   \n",
       "446   A-NMAS-NM000342-BL-MIA-200811001    A-WCAP-WC001298-BL-COL-50945BL1   \n",
       "448   A-NMAS-NM000389-BL-MIA-200810312    A-WCAP-WC001226-BL-COL-38633BL1   \n",
       "452   A-NMAS-NM000498-BL-MIA-200810742    A-WCAP-WC001585-BL-COL-45991BL1   \n",
       "453   A-NMAS-NM000567-BL-MIA-200810281    A-WCAP-WC001376-BL-COL-39666BL1   \n",
       "455   A-NMAS-NM000756-BL-MIA-200810956    A-WCAP-WC001622-BL-COL-50921BL1   \n",
       "\n",
       "     PI_HAT          SUBJID1          SUBJID2   Choice  \n",
       "0    0.9897   A-ADC-AD008841  G-KGAD-KA000206  Select2  \n",
       "2    0.9953   A-ADC-AD010154   A-MIA-UM011643  Select2  \n",
       "8    0.9985   A-ADC-AD013256  G-KGAD-KA000037  Select2  \n",
       "16   0.9990   A-ADC-AD007007  G-KGAD-KA000593  Select2  \n",
       "19   0.9991   A-ADC-AD005555  A-LOAD-LD001742  Select2  \n",
       "..      ...              ...              ...      ...  \n",
       "446  1.0000  A-NMAS-NM000342  A-WCAP-WC001298  Select2  \n",
       "448  1.0000  A-NMAS-NM000389  A-WCAP-WC001226  Select2  \n",
       "452  1.0000  A-NMAS-NM000498  A-WCAP-WC001585  Select2  \n",
       "453  1.0000  A-NMAS-NM000567  A-WCAP-WC001376  Select2  \n",
       "455  1.0000  A-NMAS-NM000756  A-WCAP-WC001622  Select2  \n",
       "\n",
       "[156 rows x 6 columns]"
      ]
     },
     "execution_count": 17,
     "metadata": {},
     "output_type": "execute_result"
    }
   ],
   "source": [
    "duplist[duplist.Choice =='Select2']"
   ]
  },
  {
   "cell_type": "code",
   "execution_count": 14,
   "metadata": {},
   "outputs": [
    {
     "name": "stdout",
     "output_type": "stream",
     "text": [
      "(151, 22)\n",
      "(153, 22)\n"
     ]
    }
   ],
   "source": [
    "print(dup_ibd_merge[dup_ibd_merge.SUBJID==dup_ibd_merge.SUBJID1].shape) \n",
    "print(dup_ibd_merge[dup_ibd_merge.SUBJID==dup_ibd_merge.SUBJID2].shape)"
   ]
  },
  {
   "cell_type": "code",
   "execution_count": 12,
   "metadata": {},
   "outputs": [
    {
     "name": "stdout",
     "output_type": "stream",
     "text": [
      "Sex          0\n",
      "Ethnicity    1\n",
      "Race         0\n",
      "dtype: int64\n"
     ]
    }
   ],
   "source": [
    "dup_ibd_merge = dup_ibd_merge.rename(columns = {'Sex_x':'Sex','Ethnicity_x':'Ethnicity','Race_x':'Race'})\n",
    "print(dup_ibd_merge[['Sex','Ethnicity','Race']].isnull().sum())\n",
    "dup_ibd_merge.Ethnicity =dup_ibd_merge.Ethnicity.combine_first(dup_ibd_merge.Ethnicity_y)\n"
   ]
  },
  {
   "cell_type": "code",
   "execution_count": null,
   "metadata": {},
   "outputs": [],
   "source": [
    "pheno_IBD = pheno_add_SampleID.loc[pheno_add_SampleID.SampleID.isin(dup_ibd_pheno.SampleID1) | pheno_add_SampleID.SampleID.isin(dup_ibd_pheno.SampleID2)]\n",
    "dup_ibd_pheno.shape"
   ]
  },
  {
   "cell_type": "code",
   "execution_count": 85,
   "metadata": {},
   "outputs": [
    {
     "name": "stdout",
     "output_type": "stream",
     "text": [
      "(614, 44)\n"
     ]
    }
   ],
   "source": [
    "# Replace 'col' with 'column' in all column names\n",
    "dup_ibd_pheno = dup_ibd_pheno.drop(columns=['Age_x','SUBJID_x','SampleID_x'])\n",
    "dup_ibd_pheno = dup_ibd_pheno.rename(columns={col: col.replace('_x', '') for col in dup_ibd_pheno.columns})\n",
    "ibd_to_keep = dup_ibd_pheno[pheno_IBD.columns]\n",
    "print(pheno_IBD.shape)"
   ]
  },
  {
   "cell_type": "code",
   "execution_count": 92,
   "metadata": {},
   "outputs": [
    {
     "data": {
      "text/plain": [
       "(32708, 44)"
      ]
     },
     "execution_count": 92,
     "metadata": {},
     "output_type": "execute_result"
    }
   ],
   "source": [
    "pheno_add_SampleID[(~pheno_add_SampleID.SampleID.isin(dup_ibd.SampleID1)) & (~pheno_add_SampleID.SampleID.isin(dup_ibd.SampleID2))].shape"
   ]
  },
  {
   "cell_type": "code",
   "execution_count": 93,
   "metadata": {},
   "outputs": [],
   "source": [
    "test = pd.concat([pheno_add_SampleID[(~pheno_add_SampleID.SampleID.isin(dup_ibd.SampleID1)) & (~pheno_add_SampleID.SampleID.isin(dup_ibd.SampleID2))], ibd_to_keep])"
   ]
  },
  {
   "cell_type": "code",
   "execution_count": 97,
   "metadata": {},
   "outputs": [
    {
     "data": {
      "text/plain": [
       "(33601, 44)"
      ]
     },
     "execution_count": 97,
     "metadata": {},
     "output_type": "execute_result"
    }
   ],
   "source": [
    "pheno_add_SampleID.shape"
   ]
  },
  {
   "cell_type": "code",
   "execution_count": 96,
   "metadata": {},
   "outputs": [],
   "source": [
    "test.to_csv(path + 'pheno_concordant.tsv',sep = '\\t', index = False)"
   ]
  },
  {
   "cell_type": "code",
   "execution_count": 98,
   "metadata": {},
   "outputs": [],
   "source": [
    "pheno_add_SampleID.to_csv(path + 'pheno_SampleID.tsv',sep = '\\t', index = False)"
   ]
  },
  {
   "cell_type": "code",
   "execution_count": 55,
   "metadata": {},
   "outputs": [
    {
     "name": "stderr",
     "output_type": "stream",
     "text": [
      "/gpfs/commons/home/tlin/.conda/envs/polyfun/lib/python3.6/site-packages/pandas/core/generic.py:5170: SettingWithCopyWarning: \n",
      "A value is trying to be set on a copy of a slice from a DataFrame.\n",
      "Try using .loc[row_indexer,col_indexer] = value instead\n",
      "\n",
      "See the caveats in the documentation: https://pandas.pydata.org/pandas-docs/stable/user_guide/indexing.html#returning-a-view-versus-a-copy\n",
      "  self[name] = value\n"
     ]
    }
   ],
   "source": [
    "pheno_IBD.SampleID = dup_ibd_pheno.SampleID"
   ]
  },
  {
   "cell_type": "code",
   "execution_count": 109,
   "metadata": {},
   "outputs": [
    {
     "data": {
      "text/plain": [
       "0        G-KGAD-KA000206-UNK-WU-8005874212\n",
       "2          A-MIA-UM011643-BL-MIA-202014718\n",
       "5                                      NaN\n",
       "6          A-ADC-AD002931-BL-NCR-09AD17996\n",
       "11                                     NaN\n",
       "                       ...                \n",
       "35097                                  NaN\n",
       "35106                                  NaN\n",
       "37806                                  NaN\n",
       "38073                                  NaN\n",
       "38078                                  NaN\n",
       "Name: SampleID, Length: 614, dtype: object"
      ]
     },
     "execution_count": 109,
     "metadata": {},
     "output_type": "execute_result"
    }
   ],
   "source": [
    "pheno_IBD.loc[:,'SampleID']"
   ]
  },
  {
   "cell_type": "code",
   "execution_count": 96,
   "metadata": {},
   "outputs": [],
   "source": [
    "pheno_add_SampleID.loc[pheno_add_SampleID.SampleID.isin(dup_ibd_pheno.SampleID1) | pheno_add_SampleID.SampleID.isin(dup_ibd_pheno.SampleID2),'SampleID'] = dup_ibd_pheno.SampleID"
   ]
  }
 ],
 "metadata": {
  "kernelspec": {
   "display_name": "polyfun",
   "language": "python",
   "name": "polyfun"
  },
  "language_info": {
   "codemirror_mode": {
    "name": "ipython",
    "version": 3
   },
   "file_extension": ".py",
   "mimetype": "text/x-python",
   "name": "python",
   "nbconvert_exporter": "python",
   "pygments_lexer": "ipython3",
   "version": "3.6.13"
  }
 },
 "nbformat": 4,
 "nbformat_minor": 4
}
