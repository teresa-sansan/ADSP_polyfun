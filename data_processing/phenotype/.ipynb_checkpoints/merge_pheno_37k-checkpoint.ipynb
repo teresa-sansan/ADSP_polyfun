{
 "cells": [
  {
   "cell_type": "code",
   "execution_count": 6,
   "metadata": {},
   "outputs": [],
   "source": [
    "import pandas as pd\n",
    "import numpy as np"
   ]
  },
  {
   "cell_type": "code",
   "execution_count": 9,
   "metadata": {},
   "outputs": [],
   "source": [
    "## load data\n",
    "\n",
    "path = '/gpfs/commons/groups/knowles_lab/data/ADSP_reguloML/ADSP_vcf/phenotype_file/release_36K/'\n",
    "manifest = pd.read_csv(path + \"SampleManifest_DS_2022.08.18_ALL.txt\", sep='\\t') ## the one with mapping info\n",
    "ADNI = pd.read_csv(path + \"ADNIPhenotypes_DS_2022.08.18_ALL.txt\", sep='\\t')\n",
    "family_based = pd.read_csv(path + \"ADSPFamilyBasedPhenotypes_DS_2022.08.18_ALL.txt\", sep='\\t',encoding='cp1252')\n",
    "case_control = pd.read_csv(path + \"ADSPCaseControlPhenotypes_DS_2022.08.18_ALL.txt\", sep='\\t')\n",
    "PSPCBD = pd.read_csv(path + \"PSPCBDPhenotypes_DS_2022.08.18_ALL.txt\", sep='\\t')\n",
    "SUBJ_drop = pd.read_excel(path + 'ng00067_subject_droplist_2022.08.18.xlsx', engine = 'openpyxl')"
   ]
  },
  {
   "cell_type": "code",
   "execution_count": 19,
   "metadata": {},
   "outputs": [
    {
     "name": "stdout",
     "output_type": "stream",
     "text": [
      "51992\n",
      "56863\n"
     ]
    }
   ],
   "source": [
    "## SUBJID and SampleID are not 1-1 match\n",
    "\n",
    "print(len(manifest.SUBJID.unique()))\n",
    "print(len(manifest.SampleID.unique()))"
   ]
  },
  {
   "cell_type": "code",
   "execution_count": 40,
   "metadata": {},
   "outputs": [
    {
     "name": "stdout",
     "output_type": "stream",
     "text": [
      "(1566, 31) (12858, 27) (45375, 31) (2803, 17)\n"
     ]
    }
   ],
   "source": [
    "print(ADNI.shape, family_based.shape, case_control.shape, PSPCBD.shape)"
   ]
  },
  {
   "cell_type": "code",
   "execution_count": 43,
   "metadata": {},
   "outputs": [
    {
     "name": "stdout",
     "output_type": "stream",
     "text": [
      "Index(['SUBJID', 'Sex', 'PrevAD', 'IncAD', 'Age_current', 'Age_baseline',\n",
      "       'Age_MCI_onset', 'Age_AD_onset', 'APOE_reported', 'APOE_WGS', 'AUTOPSY',\n",
      "       'Braak', 'Race', 'Ethnicity', 'AD_last_visit', 'MCI_last_visit',\n",
      "       'Duplicate_SUBJID', 'Comments', 'Latest_Update_Version', 'Base_PrevAD',\n",
      "       'Base_IncAD', 'Base_Age', 'Base_AUTOPSY', 'Base_Braak', 'Base_AD',\n",
      "       'Base_MCI', 'Base_Version', 'Update_baseline', 'Update_latest',\n",
      "       'Update_Diagnosis', 'Correction'],\n",
      "      dtype='object')\n",
      "Index(['SUBJID', 'FamID', 'Father', 'Mother', 'Sex', 'AD', 'Age',\n",
      "       'Age_baseline', 'APOE_reported', 'APOE_WGS', 'AUTOPSY', 'Braak', 'Race',\n",
      "       'Ethnicity', 'FamGrp', 'Comments', 'Duplicate_SUBJID',\n",
      "       'Latest_Update_Version', 'Base_AD', 'Base_Age', 'Base_AUTOPSY',\n",
      "       'Base_Braak', 'Base_Version', 'Update_baseline', 'Update_latest',\n",
      "       'Update_ADstatus', 'Correction'],\n",
      "      dtype='object')\n",
      "Index(['SUBJID', 'Sex', 'PrevAD', 'IncAD', 'Age', 'Age_baseline',\n",
      "       'APOE_reported', 'APOE_WGS', 'AUTOPSY', 'Braak', 'Race', 'Ethnicity',\n",
      "       'Selection', 'AD', 'Comments', 'Comments.1', 'AD_prev', 'Comments_prev',\n",
      "       'Duplicate_SUBJID', 'Latest_Update_Version', 'Base_PrevAD',\n",
      "       'Base_IncAD', 'Base_Age', 'Base_AUTOPSY', 'Base_Braak', 'Base_AD',\n",
      "       'Base_Version', 'Update_Baseline', 'Update_Latest', 'Update_ADstatus',\n",
      "       'Correction'],\n",
      "      dtype='object')\n",
      "Index(['SUBJID', 'Sex', 'Diagnosis', 'AgeOnset', 'AgeDeath', 'Race',\n",
      "       'APOE_WGS', 'Duplicate_SUBJID', 'Comments', 'Latest_Update_Version',\n",
      "       'Base_Diagnosis', 'Base_Version', 'Update_Baseline', 'Update_Latest',\n",
      "       'Update_Diagnosis', 'Correction', 'Consent'],\n",
      "      dtype='object')\n"
     ]
    }
   ],
   "source": [
    "print(ADNI.columns)\n",
    "print(family_based.columns)\n",
    "print(case_control.columns)\n",
    "print(PSPCBD.columns)"
   ]
  },
  {
   "cell_type": "code",
   "execution_count": 124,
   "metadata": {},
   "outputs": [],
   "source": [
    "ADNI_processed = ADNI.loc[:,['SUBJID', 'Sex', 'Age_current', 'Age_AD_onset', 'Age_baseline','APOE_reported','Race', 'AD_last_visit']]"
   ]
  },
  {
   "cell_type": "code",
   "execution_count": 66,
   "metadata": {},
   "outputs": [
    {
     "name": "stdout",
     "output_type": "stream",
     "text": [
      "2\n",
      "              SUBJID  Sex Age_current Age_AD_onset Age_baseline  \\\n",
      "871  G-ADNI-AN000064    0          66          NaN           61   \n",
      "975  G-ADNI-AN000170    0          76          NaN           73   \n",
      "\n",
      "     APOE_reported  Race  AD_last_visit  \n",
      "871             33   5.0              1  \n",
      "975             34   5.0              1  \n"
     ]
    },
    {
     "data": {
      "text/plain": [
       "0"
      ]
     },
     "execution_count": 66,
     "metadata": {},
     "output_type": "execute_result"
    }
   ],
   "source": [
    "## There are two cases without age of onset\n",
    "\n",
    "print(ADNI_processed[ADNI_processed.AD_last_visit == 1].Age_AD_onset.isnull().sum())\n",
    "print(ADNI_processed[ADNI_processed.AD_last_visit == 1][ADNI_processed[ADNI_processed.AD_last_visit == 1].Age_AD_onset.isnull()])\n",
    "print(ADNI_processed[ADNI_processed.AD_last_visit == 1].Age_baseline.isnull().sum())\n",
    "\n",
    "## all controls have current age and the age they first entered the study!\n",
    "ADNI_processed[ADNI_processed.AD_last_visit == 0].Age_current.isnull().sum()\n",
    "ADNI_processed[ADNI_processed.AD_last_visit == 0].Age_baseline.isnull().sum()"
   ]
  },
  {
   "cell_type": "code",
   "execution_count": 130,
   "metadata": {},
   "outputs": [],
   "source": [
    "## ADNI\n",
    "ADNI_processed = ADNI.loc[:,['SUBJID', 'Sex', 'Age_current', 'Age_AD_onset', 'Age_baseline','APOE_reported','Race', 'AD_last_visit']]\n",
    "## fill the age of controls\n",
    "ADNI_processed['Age_AD_onset'] = ADNI_processed['Age_AD_onset'].fillna(ADNI_processed['Age_current'])\n",
    "ADNI_processed.rename(columns = {'Age_AD_onset':'Age', 'AD_last_visit':'Diagnosis'}, inplace = True)\n",
    "ADNI_processed = ADNI_processed.drop(columns=['Age_current']).dropna()"
   ]
  },
  {
   "cell_type": "code",
   "execution_count": 152,
   "metadata": {},
   "outputs": [
    {
     "name": "stdout",
     "output_type": "stream",
     "text": [
      "(6624, 7)\n"
     ]
    }
   ],
   "source": [
    "## family_based\n",
    "\n",
    "family_based['Diagnosis'] = 'NaN'\n",
    "control = family_based[(family_based['AD'] == 0)| (family_based['AD'] == 10)].copy()\n",
    "case = family_based[(family_based['AD'] >=1) & (family_based['AD'] <=4)].copy()\n",
    "\n",
    "control.loc[:,[\"Diagnosis\"]] = 0\n",
    "case.loc[:,[\"Diagnosis\"]] = 1\n",
    "family_based = pd.concat([control,case])\n",
    "family_based_processed = family_based.loc[:, [\"SUBJID\", \"Sex\", \"Diagnosis\", \"APOE_reported\",\"Age\",\"Race\", \"Age_baseline\"]]\n",
    "print(family_based_processed.shape)"
   ]
  },
  {
   "cell_type": "code",
   "execution_count": 153,
   "metadata": {},
   "outputs": [
    {
     "data": {
      "text/plain": [
       "SUBJID              0\n",
       "Sex                 0\n",
       "Diagnosis           0\n",
       "APOE_reported    2520\n",
       "Age              2011\n",
       "Race             1262\n",
       "Age_baseline     2821\n",
       "dtype: int64"
      ]
     },
     "execution_count": 153,
     "metadata": {},
     "output_type": "execute_result"
    }
   ],
   "source": [
    "family_based_processed.isna().sum()\n"
   ]
  },
  {
   "cell_type": "code",
   "execution_count": 182,
   "metadata": {},
   "outputs": [],
   "source": [
    "family_based_processed = family_based_processed.dropna(subset = ['Age', 'APOE_reported', 'Race'])"
   ]
  },
  {
   "cell_type": "code",
   "execution_count": 172,
   "metadata": {},
   "outputs": [
    {
     "name": "stdout",
     "output_type": "stream",
     "text": [
      "SUBJID               0\n",
      "Sex                  1\n",
      "Diagnosis         5235\n",
      "APOE_reported     5776\n",
      "Age               4833\n",
      "Race              2728\n",
      "Age_baseline     18367\n",
      "dtype: int64\n"
     ]
    }
   ],
   "source": [
    "## case_control\n",
    "\n",
    "case_control_processed = case_control.loc[:,[\"SUBJID\", \"Sex\", \"AD\", \"APOE_reported\",\"Age\",\"Race\", \"Age_baseline\"]]\n",
    "case_control_processed = case_control_processed.rename(columns = {'AD':'Diagnosis'})\n",
    "\n",
    "print(case_control_processed.isna().sum())\n",
    "case_control_processed = case_control_processed.dropna(subset = ['Diagnosis','Age', 'APOE_reported', 'Race'])"
   ]
  },
  {
   "cell_type": "code",
   "execution_count": 171,
   "metadata": {},
   "outputs": [
    {
     "name": "stdout",
     "output_type": "stream",
     "text": [
      "(32644, 7) (45375, 31)\n"
     ]
    }
   ],
   "source": [
    "print(case_control_processed.shape, case_control.shape)"
   ]
  },
  {
   "cell_type": "code",
   "execution_count": null,
   "metadata": {},
   "outputs": [],
   "source": []
  },
  {
   "cell_type": "code",
   "execution_count": 173,
   "metadata": {},
   "outputs": [
    {
     "data": {
      "text/html": [
       "<div>\n",
       "<style scoped>\n",
       "    .dataframe tbody tr th:only-of-type {\n",
       "        vertical-align: middle;\n",
       "    }\n",
       "\n",
       "    .dataframe tbody tr th {\n",
       "        vertical-align: top;\n",
       "    }\n",
       "\n",
       "    .dataframe thead th {\n",
       "        text-align: right;\n",
       "    }\n",
       "</style>\n",
       "<table border=\"1\" class=\"dataframe\">\n",
       "  <thead>\n",
       "    <tr style=\"text-align: right;\">\n",
       "      <th></th>\n",
       "      <th>SUBJID</th>\n",
       "      <th>Sex</th>\n",
       "      <th>Diagnosis</th>\n",
       "      <th>AgeOnset</th>\n",
       "      <th>AgeDeath</th>\n",
       "      <th>Race</th>\n",
       "      <th>APOE_WGS</th>\n",
       "      <th>Duplicate_SUBJID</th>\n",
       "      <th>Comments</th>\n",
       "      <th>Latest_Update_Version</th>\n",
       "      <th>Base_Diagnosis</th>\n",
       "      <th>Base_Version</th>\n",
       "      <th>Update_Baseline</th>\n",
       "      <th>Update_Latest</th>\n",
       "      <th>Update_Diagnosis</th>\n",
       "      <th>Correction</th>\n",
       "      <th>Consent</th>\n",
       "    </tr>\n",
       "  </thead>\n",
       "  <tbody>\n",
       "    <tr>\n",
       "      <th>0</th>\n",
       "      <td>P-ABN-CBD6614</td>\n",
       "      <td>1</td>\n",
       "      <td>2</td>\n",
       "      <td>67</td>\n",
       "      <td>73</td>\n",
       "      <td>5.0</td>\n",
       "      <td>NaN</td>\n",
       "      <td>0</td>\n",
       "      <td>NaN</td>\n",
       "      <td>ng00067.v2</td>\n",
       "      <td>2</td>\n",
       "      <td>ng00067.v2</td>\n",
       "      <td>0</td>\n",
       "      <td>0</td>\n",
       "      <td>0</td>\n",
       "      <td>0</td>\n",
       "      <td>GRU-IRB-PUB</td>\n",
       "    </tr>\n",
       "    <tr>\n",
       "      <th>1</th>\n",
       "      <td>P-ABN-PSP5079</td>\n",
       "      <td>1</td>\n",
       "      <td>1</td>\n",
       "      <td>71</td>\n",
       "      <td>76</td>\n",
       "      <td>NaN</td>\n",
       "      <td>33.0</td>\n",
       "      <td>0</td>\n",
       "      <td>NaN</td>\n",
       "      <td>ng00067.v5</td>\n",
       "      <td>1</td>\n",
       "      <td>ng00067.v5</td>\n",
       "      <td>0</td>\n",
       "      <td>1</td>\n",
       "      <td>0</td>\n",
       "      <td>0</td>\n",
       "      <td>GRU-IRB-PUB</td>\n",
       "    </tr>\n",
       "    <tr>\n",
       "      <th>2</th>\n",
       "      <td>P-ABN-PSP5080</td>\n",
       "      <td>1</td>\n",
       "      <td>1</td>\n",
       "      <td>68</td>\n",
       "      <td>73</td>\n",
       "      <td>NaN</td>\n",
       "      <td>34.0</td>\n",
       "      <td>0</td>\n",
       "      <td>NaN</td>\n",
       "      <td>ng00067.v5</td>\n",
       "      <td>1</td>\n",
       "      <td>ng00067.v5</td>\n",
       "      <td>0</td>\n",
       "      <td>1</td>\n",
       "      <td>0</td>\n",
       "      <td>0</td>\n",
       "      <td>GRU-IRB-PUB</td>\n",
       "    </tr>\n",
       "    <tr>\n",
       "      <th>3</th>\n",
       "      <td>P-ABN-PSP5081</td>\n",
       "      <td>0</td>\n",
       "      <td>1</td>\n",
       "      <td>72</td>\n",
       "      <td>75</td>\n",
       "      <td>NaN</td>\n",
       "      <td>33.0</td>\n",
       "      <td>0</td>\n",
       "      <td>NaN</td>\n",
       "      <td>ng00067.v5</td>\n",
       "      <td>1</td>\n",
       "      <td>ng00067.v5</td>\n",
       "      <td>0</td>\n",
       "      <td>1</td>\n",
       "      <td>0</td>\n",
       "      <td>0</td>\n",
       "      <td>GRU-IRB-PUB</td>\n",
       "    </tr>\n",
       "    <tr>\n",
       "      <th>4</th>\n",
       "      <td>P-ABN-PSP5082</td>\n",
       "      <td>1</td>\n",
       "      <td>1</td>\n",
       "      <td>68</td>\n",
       "      <td>73</td>\n",
       "      <td>NaN</td>\n",
       "      <td>24.0</td>\n",
       "      <td>0</td>\n",
       "      <td>NaN</td>\n",
       "      <td>ng00067.v5</td>\n",
       "      <td>1</td>\n",
       "      <td>ng00067.v5</td>\n",
       "      <td>0</td>\n",
       "      <td>1</td>\n",
       "      <td>0</td>\n",
       "      <td>0</td>\n",
       "      <td>GRU-IRB-PUB</td>\n",
       "    </tr>\n",
       "    <tr>\n",
       "      <th>...</th>\n",
       "      <td>...</td>\n",
       "      <td>...</td>\n",
       "      <td>...</td>\n",
       "      <td>...</td>\n",
       "      <td>...</td>\n",
       "      <td>...</td>\n",
       "      <td>...</td>\n",
       "      <td>...</td>\n",
       "      <td>...</td>\n",
       "      <td>...</td>\n",
       "      <td>...</td>\n",
       "      <td>...</td>\n",
       "      <td>...</td>\n",
       "      <td>...</td>\n",
       "      <td>...</td>\n",
       "      <td>...</td>\n",
       "      <td>...</td>\n",
       "    </tr>\n",
       "    <tr>\n",
       "      <th>2798</th>\n",
       "      <td>P-WZB-PSP10181</td>\n",
       "      <td>0</td>\n",
       "      <td>1</td>\n",
       "      <td>74</td>\n",
       "      <td>82</td>\n",
       "      <td>5.0</td>\n",
       "      <td>33.0</td>\n",
       "      <td>0</td>\n",
       "      <td>NaN</td>\n",
       "      <td>ng00067.v5</td>\n",
       "      <td>1</td>\n",
       "      <td>ng00067.v5</td>\n",
       "      <td>0</td>\n",
       "      <td>1</td>\n",
       "      <td>0</td>\n",
       "      <td>0</td>\n",
       "      <td>GRU-IRB-PUB</td>\n",
       "    </tr>\n",
       "    <tr>\n",
       "      <th>2799</th>\n",
       "      <td>P-WZB-PSP10182</td>\n",
       "      <td>0</td>\n",
       "      <td>1</td>\n",
       "      <td>79</td>\n",
       "      <td>76</td>\n",
       "      <td>5.0</td>\n",
       "      <td>33.0</td>\n",
       "      <td>0</td>\n",
       "      <td>NaN</td>\n",
       "      <td>ng00067.v5</td>\n",
       "      <td>1</td>\n",
       "      <td>ng00067.v5</td>\n",
       "      <td>0</td>\n",
       "      <td>1</td>\n",
       "      <td>0</td>\n",
       "      <td>0</td>\n",
       "      <td>GRU-IRB-PUB</td>\n",
       "    </tr>\n",
       "    <tr>\n",
       "      <th>2800</th>\n",
       "      <td>P-WZB-PSP5049</td>\n",
       "      <td>0</td>\n",
       "      <td>1</td>\n",
       "      <td>63</td>\n",
       "      <td>70</td>\n",
       "      <td>5.0</td>\n",
       "      <td>33.0</td>\n",
       "      <td>0</td>\n",
       "      <td>NaN</td>\n",
       "      <td>ng00067.v5</td>\n",
       "      <td>1</td>\n",
       "      <td>ng00067.v5</td>\n",
       "      <td>0</td>\n",
       "      <td>1</td>\n",
       "      <td>0</td>\n",
       "      <td>0</td>\n",
       "      <td>GRU-IRB-PUB</td>\n",
       "    </tr>\n",
       "    <tr>\n",
       "      <th>2801</th>\n",
       "      <td>P-WZB-PSP5050</td>\n",
       "      <td>0</td>\n",
       "      <td>1</td>\n",
       "      <td>56</td>\n",
       "      <td>62</td>\n",
       "      <td>5.0</td>\n",
       "      <td>34.0</td>\n",
       "      <td>0</td>\n",
       "      <td>NaN</td>\n",
       "      <td>ng00067.v5</td>\n",
       "      <td>1</td>\n",
       "      <td>ng00067.v5</td>\n",
       "      <td>0</td>\n",
       "      <td>1</td>\n",
       "      <td>0</td>\n",
       "      <td>0</td>\n",
       "      <td>GRU-IRB-PUB</td>\n",
       "    </tr>\n",
       "    <tr>\n",
       "      <th>2802</th>\n",
       "      <td>P-MAYO-PSP0495</td>\n",
       "      <td>1</td>\n",
       "      <td>1</td>\n",
       "      <td>73</td>\n",
       "      <td>NaN</td>\n",
       "      <td>5.0</td>\n",
       "      <td>33.0</td>\n",
       "      <td>0</td>\n",
       "      <td>NaN</td>\n",
       "      <td>ng00067.v5</td>\n",
       "      <td>1</td>\n",
       "      <td>ng00067.v5</td>\n",
       "      <td>0</td>\n",
       "      <td>1</td>\n",
       "      <td>0</td>\n",
       "      <td>0</td>\n",
       "      <td>GRU-IRB-PUB</td>\n",
       "    </tr>\n",
       "  </tbody>\n",
       "</table>\n",
       "<p>2803 rows × 17 columns</p>\n",
       "</div>"
      ],
      "text/plain": [
       "              SUBJID  Sex  Diagnosis AgeOnset AgeDeath  Race  APOE_WGS  \\\n",
       "0      P-ABN-CBD6614    1          2       67       73   5.0       NaN   \n",
       "1      P-ABN-PSP5079    1          1       71       76   NaN      33.0   \n",
       "2      P-ABN-PSP5080    1          1       68       73   NaN      34.0   \n",
       "3      P-ABN-PSP5081    0          1       72       75   NaN      33.0   \n",
       "4      P-ABN-PSP5082    1          1       68       73   NaN      24.0   \n",
       "...              ...  ...        ...      ...      ...   ...       ...   \n",
       "2798  P-WZB-PSP10181    0          1       74       82   5.0      33.0   \n",
       "2799  P-WZB-PSP10182    0          1       79       76   5.0      33.0   \n",
       "2800   P-WZB-PSP5049    0          1       63       70   5.0      33.0   \n",
       "2801   P-WZB-PSP5050    0          1       56       62   5.0      34.0   \n",
       "2802  P-MAYO-PSP0495    1          1       73      NaN   5.0      33.0   \n",
       "\n",
       "      Duplicate_SUBJID  Comments Latest_Update_Version  Base_Diagnosis  \\\n",
       "0                    0       NaN            ng00067.v2               2   \n",
       "1                    0       NaN            ng00067.v5               1   \n",
       "2                    0       NaN            ng00067.v5               1   \n",
       "3                    0       NaN            ng00067.v5               1   \n",
       "4                    0       NaN            ng00067.v5               1   \n",
       "...                ...       ...                   ...             ...   \n",
       "2798                 0       NaN            ng00067.v5               1   \n",
       "2799                 0       NaN            ng00067.v5               1   \n",
       "2800                 0       NaN            ng00067.v5               1   \n",
       "2801                 0       NaN            ng00067.v5               1   \n",
       "2802                 0       NaN            ng00067.v5               1   \n",
       "\n",
       "     Base_Version  Update_Baseline  Update_Latest  Update_Diagnosis  \\\n",
       "0      ng00067.v2                0              0                 0   \n",
       "1      ng00067.v5                0              1                 0   \n",
       "2      ng00067.v5                0              1                 0   \n",
       "3      ng00067.v5                0              1                 0   \n",
       "4      ng00067.v5                0              1                 0   \n",
       "...           ...              ...            ...               ...   \n",
       "2798   ng00067.v5                0              1                 0   \n",
       "2799   ng00067.v5                0              1                 0   \n",
       "2800   ng00067.v5                0              1                 0   \n",
       "2801   ng00067.v5                0              1                 0   \n",
       "2802   ng00067.v5                0              1                 0   \n",
       "\n",
       "      Correction      Consent  \n",
       "0              0  GRU-IRB-PUB  \n",
       "1              0  GRU-IRB-PUB  \n",
       "2              0  GRU-IRB-PUB  \n",
       "3              0  GRU-IRB-PUB  \n",
       "4              0  GRU-IRB-PUB  \n",
       "...          ...          ...  \n",
       "2798           0  GRU-IRB-PUB  \n",
       "2799           0  GRU-IRB-PUB  \n",
       "2800           0  GRU-IRB-PUB  \n",
       "2801           0  GRU-IRB-PUB  \n",
       "2802           0  GRU-IRB-PUB  \n",
       "\n",
       "[2803 rows x 17 columns]"
      ]
     },
     "execution_count": 173,
     "metadata": {},
     "output_type": "execute_result"
    }
   ],
   "source": [
    "PSPCBD"
   ]
  },
  {
   "cell_type": "code",
   "execution_count": 187,
   "metadata": {},
   "outputs": [],
   "source": [
    "ADNI_processed[\"source\"] = 'ADNI'\n",
    "family_based_processed[\"source\"] = 'Family_based'\n",
    "case_control_processed[\"source\"] = 'case_control'"
   ]
  },
  {
   "cell_type": "code",
   "execution_count": 188,
   "metadata": {},
   "outputs": [],
   "source": [
    "pheno = pd.concat([ADNI_processed, family_based_processed, case_control_processed])"
   ]
  },
  {
   "cell_type": "code",
   "execution_count": 189,
   "metadata": {},
   "outputs": [
    {
     "data": {
      "text/plain": [
       "SUBJID               0\n",
       "Sex                  0\n",
       "Age                  0\n",
       "Age_baseline     14633\n",
       "APOE_reported        0\n",
       "Race                 0\n",
       "Diagnosis            0\n",
       "source               0\n",
       "dtype: int64"
      ]
     },
     "execution_count": 189,
     "metadata": {},
     "output_type": "execute_result"
    }
   ],
   "source": [
    "pheno.isna().sum()"
   ]
  },
  {
   "cell_type": "code",
   "execution_count": 197,
   "metadata": {},
   "outputs": [
    {
     "data": {
      "text/plain": [
       "(112, 8)"
      ]
     },
     "execution_count": 197,
     "metadata": {},
     "output_type": "execute_result"
    }
   ],
   "source": [
    "pheno[pheno.SUBJID.duplicated()].shape"
   ]
  },
  {
   "cell_type": "code",
   "execution_count": 203,
   "metadata": {},
   "outputs": [],
   "source": [
    "duplicated_ID = pheno[pheno.SUBJID.duplicated()].SUBJID"
   ]
  },
  {
   "cell_type": "code",
   "execution_count": 205,
   "metadata": {},
   "outputs": [
    {
     "data": {
      "text/plain": [
       "112"
      ]
     },
     "execution_count": 205,
     "metadata": {},
     "output_type": "execute_result"
    }
   ],
   "source": [
    "len(duplicated_ID)"
   ]
  },
  {
   "cell_type": "code",
   "execution_count": 220,
   "metadata": {},
   "outputs": [],
   "source": [
    "duplicates = pheno[pheno.SUBJID.isin(duplicated_ID)].sort_values('SUBJID')\n"
   ]
  },
  {
   "cell_type": "code",
   "execution_count": 242,
   "metadata": {},
   "outputs": [
    {
     "data": {
      "text/plain": [
       "2552     False\n",
       "16133    False\n",
       "2704     False\n",
       "16135    False\n",
       "2972     False\n",
       "         ...  \n",
       "11292    False\n",
       "31383     True\n",
       "31386    False\n",
       "12243    False\n",
       "11583    False\n",
       "Name: SUBJID, Length: 144, dtype: bool"
      ]
     },
     "execution_count": 243,
     "metadata": {},
     "output_type": "execute_result"
    }
   ],
   "source": [
    "duplicates.drop(columns = 'source').drop_duplicates().SUBJID.duplicated(keep=False)"
   ]
  },
  {
   "cell_type": "code",
   "execution_count": 244,
   "metadata": {},
   "outputs": [],
   "source": [
    "check"
   ]
  },
  {
   "cell_type": "code",
   "execution_count": 219,
   "metadata": {},
   "outputs": [
    {
     "name": "stdout",
     "output_type": "stream",
     "text": [
      "2\n",
      "2\n"
     ]
    }
   ],
   "source": [
    "## The duplicates are between family based and case control, two as a pair\n",
    "print(min(pheno[pheno.SUBJID.isin(duplicated_ID)].value_counts('SUBJID')))\n",
    "print(max(pheno[pheno.SUBJID.isin(duplicated_ID)].value_counts('SUBJID')))"
   ]
  },
  {
   "cell_type": "code",
   "execution_count": 202,
   "metadata": {},
   "outputs": [
    {
     "data": {
      "text/html": [
       "<div>\n",
       "<style scoped>\n",
       "    .dataframe tbody tr th:only-of-type {\n",
       "        vertical-align: middle;\n",
       "    }\n",
       "\n",
       "    .dataframe tbody tr th {\n",
       "        vertical-align: top;\n",
       "    }\n",
       "\n",
       "    .dataframe thead th {\n",
       "        text-align: right;\n",
       "    }\n",
       "</style>\n",
       "<table border=\"1\" class=\"dataframe\">\n",
       "  <thead>\n",
       "    <tr style=\"text-align: right;\">\n",
       "      <th></th>\n",
       "      <th>SUBJID</th>\n",
       "      <th>Sex</th>\n",
       "      <th>Age</th>\n",
       "      <th>Age_baseline</th>\n",
       "      <th>APOE_reported</th>\n",
       "      <th>Race</th>\n",
       "      <th>Diagnosis</th>\n",
       "      <th>source</th>\n",
       "    </tr>\n",
       "  </thead>\n",
       "  <tbody>\n",
       "    <tr>\n",
       "      <th>16134</th>\n",
       "      <td>A-CUHS-CU000194</td>\n",
       "      <td>1.0</td>\n",
       "      <td>73</td>\n",
       "      <td>65</td>\n",
       "      <td>33.0</td>\n",
       "      <td>6.0</td>\n",
       "      <td>0.0</td>\n",
       "      <td>case_control</td>\n",
       "    </tr>\n",
       "  </tbody>\n",
       "</table>\n",
       "</div>"
      ],
      "text/plain": [
       "                SUBJID  Sex Age Age_baseline  APOE_reported  Race  Diagnosis  \\\n",
       "16134  A-CUHS-CU000194  1.0  73           65           33.0   6.0        0.0   \n",
       "\n",
       "             source  \n",
       "16134  case_control  "
      ]
     },
     "execution_count": 202,
     "metadata": {},
     "output_type": "execute_result"
    }
   ],
   "source": [
    "duplicated[duplicated.SUBJID=='A-CUHS-CU000194']"
   ]
  }
 ],
 "metadata": {
  "kernelspec": {
   "display_name": "polyfun",
   "language": "python",
   "name": "polyfun"
  },
  "language_info": {
   "codemirror_mode": {
    "name": "ipython",
    "version": 3
   },
   "file_extension": ".py",
   "mimetype": "text/x-python",
   "name": "python",
   "nbconvert_exporter": "python",
   "pygments_lexer": "ipython3",
   "version": "3.6.13"
  }
 },
 "nbformat": 4,
 "nbformat_minor": 4
}
