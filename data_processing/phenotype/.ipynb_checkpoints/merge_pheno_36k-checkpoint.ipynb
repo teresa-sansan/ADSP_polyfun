{
 "cells": [
  {
   "cell_type": "code",
   "execution_count": 1,
   "metadata": {},
   "outputs": [],
   "source": [
    "import pandas as pd\n",
    "import numpy as np\n",
    "\n",
    "import seaborn as sns\n",
    "import matplotlib.pyplot as plt"
   ]
  },
  {
   "cell_type": "code",
   "execution_count": 2,
   "metadata": {},
   "outputs": [
    {
     "name": "stderr",
     "output_type": "stream",
     "text": [
      "/gpfs/commons/home/tlin/.conda/envs/polyfun/lib/python3.6/site-packages/IPython/core/interactiveshell.py:3072: DtypeWarning: Columns (15) have mixed types.Specify dtype option on import or set low_memory=False.\n",
      "  interactivity=interactivity, compiler=compiler, result=result)\n"
     ]
    }
   ],
   "source": [
    "## load data\n",
    "path = '/gpfs/commons/groups/knowles_lab/data/ADSP_reguloML/ADSP_vcf/phenotype_file/release_36K/'\n",
    "ADNI = pd.read_csv(path + \"ADNIPhenotypes_DS_2022.08.18_ALL.txt\", sep='\\t')\n",
    "family_based = pd.read_csv(path + \"ADSPFamilyBasedPhenotypes_DS_2022.08.18_ALL.txt\", sep='\\t',encoding='cp1252')\n",
    "case_control = pd.read_csv(path + \"ADSPCaseControlPhenotypes_DS_2022.08.18_ALL.txt\", sep='\\t')\n",
    "PSPCBD = pd.read_csv(path + \"PSPCBDPhenotypes_DS_2022.08.18_ALL.txt\", sep='\\t')\n",
    "SUBJ_drop = pd.read_excel(path + 'ng00067_subject_droplist_2022.08.18.xlsx', engine = 'openpyxl')\n",
    "PSPCBD_descript = pd.read_excel(path + 'PSPCBDPhenotypes_DD_2022.08.18.xlsx', engine = 'openpyxl')\n",
    "vcf = pd.read_csv(path + 'vcf_ids.txt', sep = '\\t')\n",
    "manifest = pd.read_csv(path + \"SampleManifest_DS_2022.08.18_ALL.txt\", sep='\\t') ## the one with mapping info"
   ]
  },
  {
   "cell_type": "code",
   "execution_count": 4,
   "metadata": {},
   "outputs": [
    {
     "name": "stdout",
     "output_type": "stream",
     "text": [
      "51992\n",
      "56863\n"
     ]
    }
   ],
   "source": [
    "## SUBJID and SampleID are not 1-1 match\n",
    "print(len(manifest.SUBJID.unique()))\n",
    "print(len(manifest.SampleID.unique()))"
   ]
  },
  {
   "cell_type": "code",
   "execution_count": 4,
   "metadata": {},
   "outputs": [
    {
     "name": "stdout",
     "output_type": "stream",
     "text": [
      "(1566, 31) (12858, 27) (45375, 31) (2803, 17)\n"
     ]
    }
   ],
   "source": [
    "print(ADNI.shape, family_based.shape, case_control.shape, PSPCBD.shape)"
   ]
  },
  {
   "cell_type": "code",
   "execution_count": 43,
   "metadata": {},
   "outputs": [
    {
     "name": "stdout",
     "output_type": "stream",
     "text": [
      "Index(['SUBJID', 'Sex', 'PrevAD', 'IncAD', 'Age_current', 'Age_baseline',\n",
      "       'Age_MCI_onset', 'Age_AD_onset', 'APOE_reported', 'APOE_WGS', 'AUTOPSY',\n",
      "       'Braak', 'Race', 'Ethnicity', 'AD_last_visit', 'MCI_last_visit',\n",
      "       'Duplicate_SUBJID', 'Comments', 'Latest_Update_Version', 'Base_PrevAD',\n",
      "       'Base_IncAD', 'Base_Age', 'Base_AUTOPSY', 'Base_Braak', 'Base_AD',\n",
      "       'Base_MCI', 'Base_Version', 'Update_baseline', 'Update_latest',\n",
      "       'Update_Diagnosis', 'Correction'],\n",
      "      dtype='object')\n",
      "Index(['SUBJID', 'FamID', 'Father', 'Mother', 'Sex', 'AD', 'Age',\n",
      "       'Age_baseline', 'APOE_reported', 'APOE_WGS', 'AUTOPSY', 'Braak', 'Race',\n",
      "       'Ethnicity', 'FamGrp', 'Comments', 'Duplicate_SUBJID',\n",
      "       'Latest_Update_Version', 'Base_AD', 'Base_Age', 'Base_AUTOPSY',\n",
      "       'Base_Braak', 'Base_Version', 'Update_baseline', 'Update_latest',\n",
      "       'Update_ADstatus', 'Correction'],\n",
      "      dtype='object')\n",
      "Index(['SUBJID', 'Sex', 'PrevAD', 'IncAD', 'Age', 'Age_baseline',\n",
      "       'APOE_reported', 'APOE_WGS', 'AUTOPSY', 'Braak', 'Race', 'Ethnicity',\n",
      "       'Selection', 'AD', 'Comments', 'Comments.1', 'AD_prev', 'Comments_prev',\n",
      "       'Duplicate_SUBJID', 'Latest_Update_Version', 'Base_PrevAD',\n",
      "       'Base_IncAD', 'Base_Age', 'Base_AUTOPSY', 'Base_Braak', 'Base_AD',\n",
      "       'Base_Version', 'Update_Baseline', 'Update_Latest', 'Update_ADstatus',\n",
      "       'Correction'],\n",
      "      dtype='object')\n",
      "Index(['SUBJID', 'Sex', 'Diagnosis', 'AgeOnset', 'AgeDeath', 'Race',\n",
      "       'APOE_WGS', 'Duplicate_SUBJID', 'Comments', 'Latest_Update_Version',\n",
      "       'Base_Diagnosis', 'Base_Version', 'Update_Baseline', 'Update_Latest',\n",
      "       'Update_Diagnosis', 'Correction', 'Consent'],\n",
      "      dtype='object')\n"
     ]
    }
   ],
   "source": [
    "print(ADNI.columns)\n",
    "print(family_based.columns)\n",
    "print(case_control.columns)\n",
    "print(PSPCBD.columns)"
   ]
  },
  {
   "cell_type": "code",
   "execution_count": 5,
   "metadata": {},
   "outputs": [],
   "source": [
    "ADNI_processed = ADNI.loc[:,['SUBJID', 'Sex', 'Age_current', 'Age_AD_onset', 'Age_baseline','APOE_reported','Race', 'AD_last_visit']]"
   ]
  },
  {
   "cell_type": "code",
   "execution_count": 6,
   "metadata": {},
   "outputs": [
    {
     "name": "stdout",
     "output_type": "stream",
     "text": [
      "2\n",
      "              SUBJID  Sex Age_current Age_AD_onset Age_baseline  \\\n",
      "871  G-ADNI-AN000064    0          66          NaN           61   \n",
      "975  G-ADNI-AN000170    0          76          NaN           73   \n",
      "\n",
      "     APOE_reported  Race  AD_last_visit  \n",
      "871             33   5.0              1  \n",
      "975             34   5.0              1  \n",
      "0\n"
     ]
    },
    {
     "data": {
      "text/plain": [
       "0"
      ]
     },
     "execution_count": 6,
     "metadata": {},
     "output_type": "execute_result"
    }
   ],
   "source": [
    "## There are two cases without age of onset\n",
    "\n",
    "print(ADNI_processed[ADNI_processed.AD_last_visit == 1].Age_AD_onset.isnull().sum())\n",
    "print(ADNI_processed[ADNI_processed.AD_last_visit == 1][ADNI_processed[ADNI_processed.AD_last_visit == 1].Age_AD_onset.isnull()])\n",
    "print(ADNI_processed[ADNI_processed.AD_last_visit == 1].Age_baseline.isnull().sum())\n",
    "\n",
    "## all controls have current age and the age they first entered the study!\n",
    "ADNI_processed[ADNI_processed.AD_last_visit == 0].Age_current.isnull().sum()\n",
    "ADNI_processed[ADNI_processed.AD_last_visit == 0].Age_baseline.isnull().sum()"
   ]
  },
  {
   "cell_type": "code",
   "execution_count": 7,
   "metadata": {},
   "outputs": [],
   "source": [
    "## ADNI\n",
    "ADNI_processed = ADNI.loc[:,['SUBJID', 'Sex', 'Age_current', 'Age_AD_onset', 'Age_baseline','APOE_reported','Race', 'AD_last_visit']]\n",
    "## fill the age of controls\n",
    "ADNI_processed['Age_AD_onset'] = ADNI_processed['Age_AD_onset'].fillna(ADNI_processed['Age_current'])\n",
    "ADNI_processed.rename(columns = {'Age_AD_onset':'Age', 'AD_last_visit':'Diagnosis'}, inplace = True)\n",
    "ADNI_processed = ADNI_processed.drop(columns=['Age_current']).dropna()"
   ]
  },
  {
   "cell_type": "code",
   "execution_count": 8,
   "metadata": {},
   "outputs": [
    {
     "name": "stdout",
     "output_type": "stream",
     "text": [
      "(6624, 7)\n"
     ]
    }
   ],
   "source": [
    "## family_based\n",
    "\n",
    "family_based['Diagnosis'] = 'NaN'\n",
    "control = family_based[(family_based['AD'] == 0)| (family_based['AD'] == 10)].copy()\n",
    "case = family_based[(family_based['AD'] >=1) & (family_based['AD'] <=4)].copy()\n",
    "\n",
    "control.loc[:,[\"Diagnosis\"]] = 0\n",
    "case.loc[:,[\"Diagnosis\"]] = 1\n",
    "family_based = pd.concat([control,case])\n",
    "family_based_processed = family_based.loc[:, [\"SUBJID\", \"Sex\", \"Diagnosis\", \"APOE_reported\",\"Age\",\"Race\", \"Age_baseline\"]]\n",
    "print(family_based_processed.shape)"
   ]
  },
  {
   "cell_type": "code",
   "execution_count": 9,
   "metadata": {},
   "outputs": [
    {
     "name": "stdout",
     "output_type": "stream",
     "text": [
      "SUBJID              0\n",
      "Sex                 0\n",
      "Diagnosis           0\n",
      "APOE_reported    2520\n",
      "Age              2011\n",
      "Race             1262\n",
      "Age_baseline     2821\n",
      "dtype: int64\n"
     ]
    }
   ],
   "source": [
    "print(family_based_processed.isna().sum())\n",
    "family_based_processed = family_based_processed.dropna(subset = ['Age', 'APOE_reported', 'Race'])\n"
   ]
  },
  {
   "cell_type": "code",
   "execution_count": 10,
   "metadata": {},
   "outputs": [
    {
     "name": "stdout",
     "output_type": "stream",
     "text": [
      "SUBJID               0\n",
      "Sex                  1\n",
      "Diagnosis         5235\n",
      "APOE_reported     5776\n",
      "Age               4833\n",
      "Race              2728\n",
      "Age_baseline     18367\n",
      "dtype: int64\n"
     ]
    }
   ],
   "source": [
    "## case_control\n",
    "case_control_processed = case_control.loc[:,[\"SUBJID\", \"Sex\", \"AD\", \"APOE_reported\",\"Age\",\"Race\", \"Age_baseline\"]]\n",
    "case_control_processed = case_control_processed.rename(columns = {'AD':'Diagnosis'})\n",
    "\n",
    "print(case_control_processed.isna().sum())\n",
    "case_control_processed = case_control_processed.dropna(subset = ['Diagnosis','Age', 'APOE_reported', 'Race'])"
   ]
  },
  {
   "cell_type": "code",
   "execution_count": 9,
   "metadata": {},
   "outputs": [
    {
     "name": "stdout",
     "output_type": "stream",
     "text": [
      "(32644, 7) (45375, 31)\n"
     ]
    }
   ],
   "source": [
    "print(case_control_processed.shape, case_control.shape)"
   ]
  },
  {
   "cell_type": "code",
   "execution_count": 11,
   "metadata": {},
   "outputs": [],
   "source": [
    "ADNI_processed[\"source\"] = 'ADNI'\n",
    "family_based_processed[\"source\"] = 'Family_based'\n",
    "case_control_processed[\"source\"] = 'case_control'"
   ]
  },
  {
   "cell_type": "code",
   "execution_count": 12,
   "metadata": {},
   "outputs": [
    {
     "data": {
      "text/html": [
       "<div>\n",
       "<style scoped>\n",
       "    .dataframe tbody tr th:only-of-type {\n",
       "        vertical-align: middle;\n",
       "    }\n",
       "\n",
       "    .dataframe tbody tr th {\n",
       "        vertical-align: top;\n",
       "    }\n",
       "\n",
       "    .dataframe thead th {\n",
       "        text-align: right;\n",
       "    }\n",
       "</style>\n",
       "<table border=\"1\" class=\"dataframe\">\n",
       "  <thead>\n",
       "    <tr style=\"text-align: right;\">\n",
       "      <th></th>\n",
       "      <th>SUBJID</th>\n",
       "      <th>Sex</th>\n",
       "      <th>Age</th>\n",
       "      <th>Age_baseline</th>\n",
       "      <th>APOE_reported</th>\n",
       "      <th>Race</th>\n",
       "      <th>Diagnosis</th>\n",
       "      <th>source</th>\n",
       "    </tr>\n",
       "  </thead>\n",
       "  <tbody>\n",
       "    <tr>\n",
       "      <th>0</th>\n",
       "      <td>ADNI_002_S_0413</td>\n",
       "      <td>1.0</td>\n",
       "      <td>87</td>\n",
       "      <td>76</td>\n",
       "      <td>33.0</td>\n",
       "      <td>5.0</td>\n",
       "      <td>0.0</td>\n",
       "      <td>ADNI</td>\n",
       "    </tr>\n",
       "    <tr>\n",
       "      <th>1</th>\n",
       "      <td>ADNI_002_S_0685</td>\n",
       "      <td>1.0</td>\n",
       "      <td>90</td>\n",
       "      <td>89</td>\n",
       "      <td>33.0</td>\n",
       "      <td>5.0</td>\n",
       "      <td>0.0</td>\n",
       "      <td>ADNI</td>\n",
       "    </tr>\n",
       "    <tr>\n",
       "      <th>2</th>\n",
       "      <td>ADNI_002_S_0729</td>\n",
       "      <td>1.0</td>\n",
       "      <td>68</td>\n",
       "      <td>65</td>\n",
       "      <td>34.0</td>\n",
       "      <td>5.0</td>\n",
       "      <td>1.0</td>\n",
       "      <td>ADNI</td>\n",
       "    </tr>\n",
       "    <tr>\n",
       "      <th>3</th>\n",
       "      <td>ADNI_002_S_1155</td>\n",
       "      <td>0.0</td>\n",
       "      <td>69</td>\n",
       "      <td>57</td>\n",
       "      <td>33.0</td>\n",
       "      <td>5.0</td>\n",
       "      <td>0.0</td>\n",
       "      <td>ADNI</td>\n",
       "    </tr>\n",
       "    <tr>\n",
       "      <th>4</th>\n",
       "      <td>ADNI_002_S_1261</td>\n",
       "      <td>1.0</td>\n",
       "      <td>82</td>\n",
       "      <td>71</td>\n",
       "      <td>33.0</td>\n",
       "      <td>5.0</td>\n",
       "      <td>0.0</td>\n",
       "      <td>ADNI</td>\n",
       "    </tr>\n",
       "    <tr>\n",
       "      <th>...</th>\n",
       "      <td>...</td>\n",
       "      <td>...</td>\n",
       "      <td>...</td>\n",
       "      <td>...</td>\n",
       "      <td>...</td>\n",
       "      <td>...</td>\n",
       "      <td>...</td>\n",
       "      <td>...</td>\n",
       "    </tr>\n",
       "    <tr>\n",
       "      <th>42341</th>\n",
       "      <td>G-KGAD-KA001265</td>\n",
       "      <td>1.0</td>\n",
       "      <td>56</td>\n",
       "      <td>76</td>\n",
       "      <td>34.0</td>\n",
       "      <td>5.0</td>\n",
       "      <td>1.0</td>\n",
       "      <td>case_control</td>\n",
       "    </tr>\n",
       "    <tr>\n",
       "      <th>42342</th>\n",
       "      <td>G-KGAD-KA001266</td>\n",
       "      <td>0.0</td>\n",
       "      <td>70</td>\n",
       "      <td>72</td>\n",
       "      <td>34.0</td>\n",
       "      <td>5.0</td>\n",
       "      <td>1.0</td>\n",
       "      <td>case_control</td>\n",
       "    </tr>\n",
       "    <tr>\n",
       "      <th>42343</th>\n",
       "      <td>G-KGAD-KA001267</td>\n",
       "      <td>0.0</td>\n",
       "      <td>60</td>\n",
       "      <td>62</td>\n",
       "      <td>34.0</td>\n",
       "      <td>5.0</td>\n",
       "      <td>1.0</td>\n",
       "      <td>case_control</td>\n",
       "    </tr>\n",
       "    <tr>\n",
       "      <th>42344</th>\n",
       "      <td>G-KGAD-KA001268</td>\n",
       "      <td>0.0</td>\n",
       "      <td>70</td>\n",
       "      <td>77</td>\n",
       "      <td>34.0</td>\n",
       "      <td>5.0</td>\n",
       "      <td>1.0</td>\n",
       "      <td>case_control</td>\n",
       "    </tr>\n",
       "    <tr>\n",
       "      <th>42345</th>\n",
       "      <td>G-KGAD-KA001269</td>\n",
       "      <td>0.0</td>\n",
       "      <td>66</td>\n",
       "      <td>69</td>\n",
       "      <td>33.0</td>\n",
       "      <td>5.0</td>\n",
       "      <td>1.0</td>\n",
       "      <td>case_control</td>\n",
       "    </tr>\n",
       "  </tbody>\n",
       "</table>\n",
       "<p>38276 rows × 8 columns</p>\n",
       "</div>"
      ],
      "text/plain": [
       "                SUBJID  Sex  Age Age_baseline  APOE_reported  Race  Diagnosis  \\\n",
       "0      ADNI_002_S_0413  1.0   87           76           33.0   5.0        0.0   \n",
       "1      ADNI_002_S_0685  1.0   90           89           33.0   5.0        0.0   \n",
       "2      ADNI_002_S_0729  1.0   68           65           34.0   5.0        1.0   \n",
       "3      ADNI_002_S_1155  0.0   69           57           33.0   5.0        0.0   \n",
       "4      ADNI_002_S_1261  1.0   82           71           33.0   5.0        0.0   \n",
       "...                ...  ...  ...          ...            ...   ...        ...   \n",
       "42341  G-KGAD-KA001265  1.0   56           76           34.0   5.0        1.0   \n",
       "42342  G-KGAD-KA001266  0.0   70           72           34.0   5.0        1.0   \n",
       "42343  G-KGAD-KA001267  0.0   60           62           34.0   5.0        1.0   \n",
       "42344  G-KGAD-KA001268  0.0   70           77           34.0   5.0        1.0   \n",
       "42345  G-KGAD-KA001269  0.0   66           69           33.0   5.0        1.0   \n",
       "\n",
       "             source  \n",
       "0              ADNI  \n",
       "1              ADNI  \n",
       "2              ADNI  \n",
       "3              ADNI  \n",
       "4              ADNI  \n",
       "...             ...  \n",
       "42341  case_control  \n",
       "42342  case_control  \n",
       "42343  case_control  \n",
       "42344  case_control  \n",
       "42345  case_control  \n",
       "\n",
       "[38276 rows x 8 columns]"
      ]
     },
     "execution_count": 12,
     "metadata": {},
     "output_type": "execute_result"
    }
   ],
   "source": [
    "pheno = pd.concat([ADNI_processed, family_based_processed, case_control_processed])\n",
    "pheno.loc[pheno['Age'] == '90+', 'Age'] = 90\n",
    "pheno.loc[pheno['Age_baseline'] == '90+', 'Age_baseline'] = 90\n",
    "pheno.Age = pheno.Age.astype('int')\n",
    "pheno"
   ]
  },
  {
   "cell_type": "code",
   "execution_count": 13,
   "metadata": {},
   "outputs": [
    {
     "data": {
      "text/plain": [
       "SUBJID               0\n",
       "Sex                  0\n",
       "Age                  0\n",
       "Age_baseline     14633\n",
       "APOE_reported        0\n",
       "Race                 0\n",
       "Diagnosis            0\n",
       "source               0\n",
       "dtype: int64"
      ]
     },
     "execution_count": 13,
     "metadata": {},
     "output_type": "execute_result"
    }
   ],
   "source": [
    "pheno.isna().sum()"
   ]
  },
  {
   "cell_type": "code",
   "execution_count": 15,
   "metadata": {},
   "outputs": [
    {
     "name": "stdout",
     "output_type": "stream",
     "text": [
      "(112,) (38276, 8)\n"
     ]
    }
   ],
   "source": [
    "duplicated_ID = pheno[pheno.SUBJID.duplicated()].SUBJID\n",
    "print(duplicated_ID.shape, pheno.shape)"
   ]
  },
  {
   "cell_type": "code",
   "execution_count": 17,
   "metadata": {},
   "outputs": [
    {
     "data": {
      "text/plain": [
       "16132    A-CUHS-CU000018\n",
       "16133    A-CUHS-CU000169\n",
       "16134    A-CUHS-CU000194\n",
       "16135    A-CUHS-CU000387\n",
       "16136    A-CUHS-CU000563\n",
       "              ...       \n",
       "31381     A-RAS-RA000012\n",
       "31383     A-RAS-RA000016\n",
       "31386     A-RAS-RA000020\n",
       "31388     A-RAS-RA000022\n",
       "33405     A-VAN-VU000119\n",
       "Name: SUBJID, Length: 112, dtype: object"
      ]
     },
     "execution_count": 17,
     "metadata": {},
     "output_type": "execute_result"
    }
   ],
   "source": [
    "duplicated_ID ## the duplicate ones "
   ]
  },
  {
   "cell_type": "code",
   "execution_count": 16,
   "metadata": {},
   "outputs": [
    {
     "data": {
      "text/html": [
       "<div>\n",
       "<style scoped>\n",
       "    .dataframe tbody tr th:only-of-type {\n",
       "        vertical-align: middle;\n",
       "    }\n",
       "\n",
       "    .dataframe tbody tr th {\n",
       "        vertical-align: top;\n",
       "    }\n",
       "\n",
       "    .dataframe thead th {\n",
       "        text-align: right;\n",
       "    }\n",
       "</style>\n",
       "<table border=\"1\" class=\"dataframe\">\n",
       "  <thead>\n",
       "    <tr style=\"text-align: right;\">\n",
       "      <th></th>\n",
       "      <th>SUBJID</th>\n",
       "      <th>Sex</th>\n",
       "      <th>Age</th>\n",
       "      <th>Age_baseline</th>\n",
       "      <th>APOE_reported</th>\n",
       "      <th>Race</th>\n",
       "      <th>Diagnosis</th>\n",
       "      <th>source</th>\n",
       "    </tr>\n",
       "  </thead>\n",
       "  <tbody>\n",
       "    <tr>\n",
       "      <th>2552</th>\n",
       "      <td>A-CUHS-CU000018</td>\n",
       "      <td>1.0</td>\n",
       "      <td>76</td>\n",
       "      <td>79</td>\n",
       "      <td>34.0</td>\n",
       "      <td>6.0</td>\n",
       "      <td>1.0</td>\n",
       "      <td>Family_based</td>\n",
       "    </tr>\n",
       "    <tr>\n",
       "      <th>16132</th>\n",
       "      <td>A-CUHS-CU000018</td>\n",
       "      <td>1.0</td>\n",
       "      <td>76</td>\n",
       "      <td>79</td>\n",
       "      <td>34.0</td>\n",
       "      <td>6.0</td>\n",
       "      <td>1.0</td>\n",
       "      <td>case_control</td>\n",
       "    </tr>\n",
       "    <tr>\n",
       "      <th>16133</th>\n",
       "      <td>A-CUHS-CU000169</td>\n",
       "      <td>1.0</td>\n",
       "      <td>87</td>\n",
       "      <td>84</td>\n",
       "      <td>33.0</td>\n",
       "      <td>5.0</td>\n",
       "      <td>0.0</td>\n",
       "      <td>case_control</td>\n",
       "    </tr>\n",
       "    <tr>\n",
       "      <th>2683</th>\n",
       "      <td>A-CUHS-CU000169</td>\n",
       "      <td>1.0</td>\n",
       "      <td>87</td>\n",
       "      <td>84</td>\n",
       "      <td>33.0</td>\n",
       "      <td>5.0</td>\n",
       "      <td>0.0</td>\n",
       "      <td>Family_based</td>\n",
       "    </tr>\n",
       "    <tr>\n",
       "      <th>2704</th>\n",
       "      <td>A-CUHS-CU000194</td>\n",
       "      <td>1.0</td>\n",
       "      <td>73</td>\n",
       "      <td>65</td>\n",
       "      <td>33.0</td>\n",
       "      <td>6.0</td>\n",
       "      <td>0.0</td>\n",
       "      <td>Family_based</td>\n",
       "    </tr>\n",
       "    <tr>\n",
       "      <th>...</th>\n",
       "      <td>...</td>\n",
       "      <td>...</td>\n",
       "      <td>...</td>\n",
       "      <td>...</td>\n",
       "      <td>...</td>\n",
       "      <td>...</td>\n",
       "      <td>...</td>\n",
       "      <td>...</td>\n",
       "    </tr>\n",
       "    <tr>\n",
       "      <th>12239</th>\n",
       "      <td>A-RAS-RA000020</td>\n",
       "      <td>0.0</td>\n",
       "      <td>71</td>\n",
       "      <td>NaN</td>\n",
       "      <td>34.0</td>\n",
       "      <td>5.0</td>\n",
       "      <td>1.0</td>\n",
       "      <td>Family_based</td>\n",
       "    </tr>\n",
       "    <tr>\n",
       "      <th>12243</th>\n",
       "      <td>A-RAS-RA000022</td>\n",
       "      <td>0.0</td>\n",
       "      <td>75</td>\n",
       "      <td>NaN</td>\n",
       "      <td>34.0</td>\n",
       "      <td>5.0</td>\n",
       "      <td>1.0</td>\n",
       "      <td>Family_based</td>\n",
       "    </tr>\n",
       "    <tr>\n",
       "      <th>31388</th>\n",
       "      <td>A-RAS-RA000022</td>\n",
       "      <td>0.0</td>\n",
       "      <td>75</td>\n",
       "      <td>NaN</td>\n",
       "      <td>34.0</td>\n",
       "      <td>5.0</td>\n",
       "      <td>1.0</td>\n",
       "      <td>case_control</td>\n",
       "    </tr>\n",
       "    <tr>\n",
       "      <th>11583</th>\n",
       "      <td>A-VAN-VU000119</td>\n",
       "      <td>0.0</td>\n",
       "      <td>71</td>\n",
       "      <td>NaN</td>\n",
       "      <td>34.0</td>\n",
       "      <td>5.0</td>\n",
       "      <td>1.0</td>\n",
       "      <td>Family_based</td>\n",
       "    </tr>\n",
       "    <tr>\n",
       "      <th>33405</th>\n",
       "      <td>A-VAN-VU000119</td>\n",
       "      <td>0.0</td>\n",
       "      <td>71</td>\n",
       "      <td>NaN</td>\n",
       "      <td>34.0</td>\n",
       "      <td>5.0</td>\n",
       "      <td>1.0</td>\n",
       "      <td>case_control</td>\n",
       "    </tr>\n",
       "  </tbody>\n",
       "</table>\n",
       "<p>224 rows × 8 columns</p>\n",
       "</div>"
      ],
      "text/plain": [
       "                SUBJID  Sex  Age Age_baseline  APOE_reported  Race  Diagnosis  \\\n",
       "2552   A-CUHS-CU000018  1.0   76           79           34.0   6.0        1.0   \n",
       "16132  A-CUHS-CU000018  1.0   76           79           34.0   6.0        1.0   \n",
       "16133  A-CUHS-CU000169  1.0   87           84           33.0   5.0        0.0   \n",
       "2683   A-CUHS-CU000169  1.0   87           84           33.0   5.0        0.0   \n",
       "2704   A-CUHS-CU000194  1.0   73           65           33.0   6.0        0.0   \n",
       "...                ...  ...  ...          ...            ...   ...        ...   \n",
       "12239   A-RAS-RA000020  0.0   71          NaN           34.0   5.0        1.0   \n",
       "12243   A-RAS-RA000022  0.0   75          NaN           34.0   5.0        1.0   \n",
       "31388   A-RAS-RA000022  0.0   75          NaN           34.0   5.0        1.0   \n",
       "11583   A-VAN-VU000119  0.0   71          NaN           34.0   5.0        1.0   \n",
       "33405   A-VAN-VU000119  0.0   71          NaN           34.0   5.0        1.0   \n",
       "\n",
       "             source  \n",
       "2552   Family_based  \n",
       "16132  case_control  \n",
       "16133  case_control  \n",
       "2683   Family_based  \n",
       "2704   Family_based  \n",
       "...             ...  \n",
       "12239  Family_based  \n",
       "12243  Family_based  \n",
       "31388  case_control  \n",
       "11583  Family_based  \n",
       "33405  case_control  \n",
       "\n",
       "[224 rows x 8 columns]"
      ]
     },
     "execution_count": 16,
     "metadata": {},
     "output_type": "execute_result"
    }
   ],
   "source": [
    "pheno[pheno.SUBJID.isin(duplicated_ID)].sort_values('SUBJID')"
   ]
  },
  {
   "cell_type": "code",
   "execution_count": 17,
   "metadata": {},
   "outputs": [
    {
     "name": "stdout",
     "output_type": "stream",
     "text": [
      "2\n",
      "2\n"
     ]
    }
   ],
   "source": [
    "## The duplicates are between family based and case control, two as a pair\n",
    "print(min(pheno[pheno.SUBJID.isin(duplicated_ID)].value_counts('SUBJID')))\n",
    "print(max(pheno[pheno.SUBJID.isin(duplicated_ID)].value_counts('SUBJID')))"
   ]
  },
  {
   "cell_type": "code",
   "execution_count": 18,
   "metadata": {},
   "outputs": [],
   "source": [
    "duplicates = pheno[pheno.SUBJID.isin(duplicated_ID)].sort_values('SUBJID', ascending = False)\n",
    "not_identitcal_duplicates = duplicates.drop_duplicates(subset = ['SUBJID','Sex', 'Age', 'Age_baseline', 'APOE_reported'],keep = False)   "
   ]
  },
  {
   "cell_type": "code",
   "execution_count": 51,
   "metadata": {},
   "outputs": [
    {
     "data": {
      "text/plain": [
       "(64, 8)"
      ]
     },
     "execution_count": 51,
     "metadata": {},
     "output_type": "execute_result"
    }
   ],
   "source": [
    "not_identitcal_duplicates.shape"
   ]
  },
  {
   "cell_type": "code",
   "execution_count": 21,
   "metadata": {},
   "outputs": [
    {
     "data": {
      "text/plain": [
       "Text(0, 0.5, 'count')"
      ]
     },
     "execution_count": 21,
     "metadata": {},
     "output_type": "execute_result"
    },
    {
     "data": {
      "image/png": "[encoded data removed]",
      "text/plain": [
       "<Figure size 432x288 with 1 Axes>"
      ]
     },
     "metadata": {
      "needs_background": "light"
     },
     "output_type": "display_data"
    }
   ],
   "source": [
    "ax = sns.histplot(not_identitcal_duplicates.sort_values('source', ascending = False).groupby('SUBJID')['Age'].diff(), color = 'lightblue')\n",
    "plt.title('diff in age of onset (family_base vs case_control)')\n",
    "plt.xlabel('yrs')\n",
    "plt.ylabel('count')\n",
    "#"
   ]
  },
  {
   "cell_type": "code",
   "execution_count": 19,
   "metadata": {},
   "outputs": [
    {
     "data": {
      "text/plain": [
       "SUBJID\n",
       "A-LOAD-LD000600    1.0\n",
       "A-LOAD-LD000909    1.0\n",
       "A-LOAD-LD001254    1.0\n",
       "A-LOAD-LD001837    1.0\n",
       "A-LOAD-LD002391    1.0\n",
       "A-LOAD-LD002680    1.0\n",
       "A-LOAD-LD002888    1.0\n",
       "A-LOAD-LD003169    1.0\n",
       "A-LOAD-LD003529    1.0\n",
       "A-LOAD-LD003545    1.0\n",
       "A-LOAD-LD003745    1.0\n",
       "A-LOAD-LD004108    1.0\n",
       "A-LOAD-LD004308    1.0\n",
       "A-LOAD-LD004469    1.0\n",
       "A-LOAD-LD004488    1.0\n",
       "A-LOAD-LD004827    1.0\n",
       "A-LOAD-LD005185    1.0\n",
       "A-LOAD-LD005225    1.0\n",
       "A-LOAD-LD005331    1.0\n",
       "A-LOAD-LD007435    1.0\n",
       "A-LOAD-LD007980    1.0\n",
       "A-LOAD-LD010801    1.0\n",
       "A-LOAD-LD010944    1.0\n",
       "A-LOAD-LD011473    1.0\n",
       "A-LOAD-LD011540    1.0\n",
       "A-LOAD-LD011716    1.0\n",
       "A-RAS-RA000001     1.0\n",
       "A-RAS-RA000005     1.0\n",
       "A-RAS-RA000009     1.0\n",
       "A-RAS-RA000011     1.0\n",
       "A-RAS-RA000012     1.0\n",
       "A-RAS-RA000016     1.0\n",
       "Name: Diagnosis, dtype: float64"
      ]
     },
     "execution_count": 19,
     "metadata": {},
     "output_type": "execute_result"
    }
   ],
   "source": [
    "## except for age of onset, all the other columns are the same\n",
    "not_identitcal_duplicates.groupby(\"SUBJID\").Diagnosis.mean()"
   ]
  },
  {
   "cell_type": "code",
   "execution_count": 22,
   "metadata": {},
   "outputs": [
    {
     "data": {
      "text/html": [
       "<div>\n",
       "<style scoped>\n",
       "    .dataframe tbody tr th:only-of-type {\n",
       "        vertical-align: middle;\n",
       "    }\n",
       "\n",
       "    .dataframe tbody tr th {\n",
       "        vertical-align: top;\n",
       "    }\n",
       "\n",
       "    .dataframe thead th {\n",
       "        text-align: right;\n",
       "    }\n",
       "</style>\n",
       "<table border=\"1\" class=\"dataframe\">\n",
       "  <thead>\n",
       "    <tr style=\"text-align: right;\">\n",
       "      <th></th>\n",
       "      <th>SUBJID</th>\n",
       "      <th>Sex</th>\n",
       "      <th>Age</th>\n",
       "      <th>Age_baseline</th>\n",
       "      <th>APOE_reported</th>\n",
       "      <th>Race</th>\n",
       "      <th>Diagnosis</th>\n",
       "      <th>source</th>\n",
       "    </tr>\n",
       "  </thead>\n",
       "  <tbody>\n",
       "    <tr>\n",
       "      <th>20654</th>\n",
       "      <td>A-LOAD-LD007980</td>\n",
       "      <td>0.0</td>\n",
       "      <td>65</td>\n",
       "      <td>58</td>\n",
       "      <td>34.0</td>\n",
       "      <td>5.0</td>\n",
       "      <td>1.0</td>\n",
       "      <td>case_control</td>\n",
       "    </tr>\n",
       "    <tr>\n",
       "      <th>8024</th>\n",
       "      <td>A-LOAD-LD007980</td>\n",
       "      <td>0.0</td>\n",
       "      <td>58</td>\n",
       "      <td>58</td>\n",
       "      <td>34.0</td>\n",
       "      <td>5.0</td>\n",
       "      <td>1.0</td>\n",
       "      <td>Family_based</td>\n",
       "    </tr>\n",
       "  </tbody>\n",
       "</table>\n",
       "</div>"
      ],
      "text/plain": [
       "                SUBJID  Sex  Age Age_baseline  APOE_reported  Race  Diagnosis  \\\n",
       "20654  A-LOAD-LD007980  0.0   65           58           34.0   5.0        1.0   \n",
       "8024   A-LOAD-LD007980  0.0   58           58           34.0   5.0        1.0   \n",
       "\n",
       "             source  \n",
       "20654  case_control  \n",
       "8024   Family_based  "
      ]
     },
     "execution_count": 22,
     "metadata": {},
     "output_type": "execute_result"
    }
   ],
   "source": [
    "not_identitcal_duplicates[not_identitcal_duplicates.SUBJID == 'A-LOAD-LD007980']"
   ]
  },
  {
   "cell_type": "code",
   "execution_count": 20,
   "metadata": {},
   "outputs": [],
   "source": [
    "not_identitcal_duplicates = not_identitcal_duplicates[(not_identitcal_duplicates['source'] == 'case_control') & (not_identitcal_duplicates.SUBJID != 'A-LOAD-LD007980')] ## 31 rows"
   ]
  },
  {
   "cell_type": "code",
   "execution_count": 130,
   "metadata": {},
   "outputs": [
    {
     "data": {
      "text/html": [
       "<div>\n",
       "<style scoped>\n",
       "    .dataframe tbody tr th:only-of-type {\n",
       "        vertical-align: middle;\n",
       "    }\n",
       "\n",
       "    .dataframe tbody tr th {\n",
       "        vertical-align: top;\n",
       "    }\n",
       "\n",
       "    .dataframe thead th {\n",
       "        text-align: right;\n",
       "    }\n",
       "</style>\n",
       "<table border=\"1\" class=\"dataframe\">\n",
       "  <thead>\n",
       "    <tr style=\"text-align: right;\">\n",
       "      <th></th>\n",
       "      <th>SUBJID</th>\n",
       "      <th>Sex</th>\n",
       "      <th>Age</th>\n",
       "      <th>Age_baseline</th>\n",
       "      <th>APOE_reported</th>\n",
       "      <th>Race</th>\n",
       "      <th>Diagnosis</th>\n",
       "      <th>source</th>\n",
       "    </tr>\n",
       "  </thead>\n",
       "  <tbody>\n",
       "    <tr>\n",
       "      <th>33405</th>\n",
       "      <td>A-VAN-VU000119</td>\n",
       "      <td>0.0</td>\n",
       "      <td>71</td>\n",
       "      <td>NaN</td>\n",
       "      <td>34.0</td>\n",
       "      <td>5.0</td>\n",
       "      <td>1.0</td>\n",
       "      <td>case_control</td>\n",
       "    </tr>\n",
       "    <tr>\n",
       "      <th>31388</th>\n",
       "      <td>A-RAS-RA000022</td>\n",
       "      <td>0.0</td>\n",
       "      <td>75</td>\n",
       "      <td>NaN</td>\n",
       "      <td>34.0</td>\n",
       "      <td>5.0</td>\n",
       "      <td>1.0</td>\n",
       "      <td>case_control</td>\n",
       "    </tr>\n",
       "    <tr>\n",
       "      <th>31386</th>\n",
       "      <td>A-RAS-RA000020</td>\n",
       "      <td>0.0</td>\n",
       "      <td>71</td>\n",
       "      <td>NaN</td>\n",
       "      <td>34.0</td>\n",
       "      <td>5.0</td>\n",
       "      <td>1.0</td>\n",
       "      <td>case_control</td>\n",
       "    </tr>\n",
       "    <tr>\n",
       "      <th>28806</th>\n",
       "      <td>A-NCRD-NC017018</td>\n",
       "      <td>1.0</td>\n",
       "      <td>73</td>\n",
       "      <td>NaN</td>\n",
       "      <td>34.0</td>\n",
       "      <td>5.0</td>\n",
       "      <td>1.0</td>\n",
       "      <td>case_control</td>\n",
       "    </tr>\n",
       "    <tr>\n",
       "      <th>28734</th>\n",
       "      <td>A-NCRD-NC007634</td>\n",
       "      <td>0.0</td>\n",
       "      <td>71</td>\n",
       "      <td>NaN</td>\n",
       "      <td>34.0</td>\n",
       "      <td>5.0</td>\n",
       "      <td>1.0</td>\n",
       "      <td>case_control</td>\n",
       "    </tr>\n",
       "    <tr>\n",
       "      <th>...</th>\n",
       "      <td>...</td>\n",
       "      <td>...</td>\n",
       "      <td>...</td>\n",
       "      <td>...</td>\n",
       "      <td>...</td>\n",
       "      <td>...</td>\n",
       "      <td>...</td>\n",
       "      <td>...</td>\n",
       "    </tr>\n",
       "    <tr>\n",
       "      <th>16136</th>\n",
       "      <td>A-CUHS-CU000563</td>\n",
       "      <td>0.0</td>\n",
       "      <td>74</td>\n",
       "      <td>77</td>\n",
       "      <td>34.0</td>\n",
       "      <td>6.0</td>\n",
       "      <td>1.0</td>\n",
       "      <td>case_control</td>\n",
       "    </tr>\n",
       "    <tr>\n",
       "      <th>16135</th>\n",
       "      <td>A-CUHS-CU000387</td>\n",
       "      <td>1.0</td>\n",
       "      <td>87</td>\n",
       "      <td>71</td>\n",
       "      <td>23.0</td>\n",
       "      <td>6.0</td>\n",
       "      <td>0.0</td>\n",
       "      <td>case_control</td>\n",
       "    </tr>\n",
       "    <tr>\n",
       "      <th>16134</th>\n",
       "      <td>A-CUHS-CU000194</td>\n",
       "      <td>1.0</td>\n",
       "      <td>73</td>\n",
       "      <td>65</td>\n",
       "      <td>33.0</td>\n",
       "      <td>6.0</td>\n",
       "      <td>0.0</td>\n",
       "      <td>case_control</td>\n",
       "    </tr>\n",
       "    <tr>\n",
       "      <th>16133</th>\n",
       "      <td>A-CUHS-CU000169</td>\n",
       "      <td>1.0</td>\n",
       "      <td>87</td>\n",
       "      <td>84</td>\n",
       "      <td>33.0</td>\n",
       "      <td>5.0</td>\n",
       "      <td>0.0</td>\n",
       "      <td>case_control</td>\n",
       "    </tr>\n",
       "    <tr>\n",
       "      <th>16132</th>\n",
       "      <td>A-CUHS-CU000018</td>\n",
       "      <td>1.0</td>\n",
       "      <td>76</td>\n",
       "      <td>79</td>\n",
       "      <td>34.0</td>\n",
       "      <td>6.0</td>\n",
       "      <td>1.0</td>\n",
       "      <td>case_control</td>\n",
       "    </tr>\n",
       "  </tbody>\n",
       "</table>\n",
       "<p>81 rows × 8 columns</p>\n",
       "</div>"
      ],
      "text/plain": [
       "                SUBJID  Sex  Age Age_baseline  APOE_reported  Race  Diagnosis  \\\n",
       "33405   A-VAN-VU000119  0.0   71          NaN           34.0   5.0        1.0   \n",
       "31388   A-RAS-RA000022  0.0   75          NaN           34.0   5.0        1.0   \n",
       "31386   A-RAS-RA000020  0.0   71          NaN           34.0   5.0        1.0   \n",
       "28806  A-NCRD-NC017018  1.0   73          NaN           34.0   5.0        1.0   \n",
       "28734  A-NCRD-NC007634  0.0   71          NaN           34.0   5.0        1.0   \n",
       "...                ...  ...  ...          ...            ...   ...        ...   \n",
       "16136  A-CUHS-CU000563  0.0   74           77           34.0   6.0        1.0   \n",
       "16135  A-CUHS-CU000387  1.0   87           71           23.0   6.0        0.0   \n",
       "16134  A-CUHS-CU000194  1.0   73           65           33.0   6.0        0.0   \n",
       "16133  A-CUHS-CU000169  1.0   87           84           33.0   5.0        0.0   \n",
       "16132  A-CUHS-CU000018  1.0   76           79           34.0   6.0        1.0   \n",
       "\n",
       "             source  \n",
       "33405  case_control  \n",
       "31388  case_control  \n",
       "31386  case_control  \n",
       "28806  case_control  \n",
       "28734  case_control  \n",
       "...             ...  \n",
       "16136  case_control  \n",
       "16135  case_control  \n",
       "16134  case_control  \n",
       "16133  case_control  \n",
       "16132  case_control  \n",
       "\n",
       "[81 rows x 8 columns]"
      ]
     },
     "execution_count": 130,
     "metadata": {},
     "output_type": "execute_result"
    }
   ],
   "source": [
    "duplicates[(~duplicates.SUBJID.isin(not_identitcal_duplicates.SUBJID)) & (duplicates.source == 'case_control')]"
   ]
  },
  {
   "cell_type": "code",
   "execution_count": 21,
   "metadata": {},
   "outputs": [],
   "source": [
    "identical_duplicates = duplicates[(~duplicates.SUBJID.isin(not_identitcal_duplicates.SUBJID)) & (duplicates.source == 'case_control') & (duplicates.SUBJID != 'A-LOAD-LD007980') ]\n",
    "pheno_merge = pd.concat([pheno[(pheno.SUBJID != 'A-LOAD-LD007980') & (~pheno.SUBJID.isin(duplicated_ID))], not_identitcal_duplicates, identical_duplicates])"
   ]
  },
  {
   "cell_type": "code",
   "execution_count": 24,
   "metadata": {},
   "outputs": [
    {
     "name": "stdout",
     "output_type": "stream",
     "text": [
      "38163\n",
      "SUBJID           0\n",
      "Sex              0\n",
      "Age              0\n",
      "Age_baseline     0\n",
      "APOE_reported    0\n",
      "Race             0\n",
      "Diagnosis        0\n",
      "source           0\n",
      "dtype: int64\n"
     ]
    }
   ],
   "source": [
    "print(len(pheno_merge.SUBJID.unique()))\n",
    "print(pheno_merge.isna().sum())"
   ]
  },
  {
   "cell_type": "code",
   "execution_count": 29,
   "metadata": {},
   "outputs": [
    {
     "data": {
      "text/html": [
       "<div>\n",
       "<style scoped>\n",
       "    .dataframe tbody tr th:only-of-type {\n",
       "        vertical-align: middle;\n",
       "    }\n",
       "\n",
       "    .dataframe tbody tr th {\n",
       "        vertical-align: top;\n",
       "    }\n",
       "\n",
       "    .dataframe thead th {\n",
       "        text-align: right;\n",
       "    }\n",
       "</style>\n",
       "<table border=\"1\" class=\"dataframe\">\n",
       "  <thead>\n",
       "    <tr style=\"text-align: right;\">\n",
       "      <th></th>\n",
       "      <th>SUBJID</th>\n",
       "      <th>Sex</th>\n",
       "      <th>Age</th>\n",
       "      <th>Age_baseline</th>\n",
       "      <th>APOE_reported</th>\n",
       "      <th>Race</th>\n",
       "      <th>Diagnosis</th>\n",
       "      <th>source</th>\n",
       "    </tr>\n",
       "  </thead>\n",
       "  <tbody>\n",
       "    <tr>\n",
       "      <th>0</th>\n",
       "      <td>ADNI_002_S_0413</td>\n",
       "      <td>1.0</td>\n",
       "      <td>87</td>\n",
       "      <td>76</td>\n",
       "      <td>33.0</td>\n",
       "      <td>5.0</td>\n",
       "      <td>0.0</td>\n",
       "      <td>ADNI</td>\n",
       "    </tr>\n",
       "    <tr>\n",
       "      <th>1</th>\n",
       "      <td>ADNI_002_S_0685</td>\n",
       "      <td>1.0</td>\n",
       "      <td>90</td>\n",
       "      <td>89</td>\n",
       "      <td>33.0</td>\n",
       "      <td>5.0</td>\n",
       "      <td>0.0</td>\n",
       "      <td>ADNI</td>\n",
       "    </tr>\n",
       "    <tr>\n",
       "      <th>2</th>\n",
       "      <td>ADNI_002_S_0729</td>\n",
       "      <td>1.0</td>\n",
       "      <td>68</td>\n",
       "      <td>65</td>\n",
       "      <td>34.0</td>\n",
       "      <td>5.0</td>\n",
       "      <td>1.0</td>\n",
       "      <td>ADNI</td>\n",
       "    </tr>\n",
       "    <tr>\n",
       "      <th>3</th>\n",
       "      <td>ADNI_002_S_1155</td>\n",
       "      <td>0.0</td>\n",
       "      <td>69</td>\n",
       "      <td>57</td>\n",
       "      <td>33.0</td>\n",
       "      <td>5.0</td>\n",
       "      <td>0.0</td>\n",
       "      <td>ADNI</td>\n",
       "    </tr>\n",
       "    <tr>\n",
       "      <th>4</th>\n",
       "      <td>ADNI_002_S_1261</td>\n",
       "      <td>1.0</td>\n",
       "      <td>82</td>\n",
       "      <td>71</td>\n",
       "      <td>33.0</td>\n",
       "      <td>5.0</td>\n",
       "      <td>0.0</td>\n",
       "      <td>ADNI</td>\n",
       "    </tr>\n",
       "    <tr>\n",
       "      <th>...</th>\n",
       "      <td>...</td>\n",
       "      <td>...</td>\n",
       "      <td>...</td>\n",
       "      <td>...</td>\n",
       "      <td>...</td>\n",
       "      <td>...</td>\n",
       "      <td>...</td>\n",
       "      <td>...</td>\n",
       "    </tr>\n",
       "    <tr>\n",
       "      <th>16136</th>\n",
       "      <td>A-CUHS-CU000563</td>\n",
       "      <td>0.0</td>\n",
       "      <td>74</td>\n",
       "      <td>77</td>\n",
       "      <td>34.0</td>\n",
       "      <td>6.0</td>\n",
       "      <td>1.0</td>\n",
       "      <td>case_control</td>\n",
       "    </tr>\n",
       "    <tr>\n",
       "      <th>16135</th>\n",
       "      <td>A-CUHS-CU000387</td>\n",
       "      <td>1.0</td>\n",
       "      <td>87</td>\n",
       "      <td>71</td>\n",
       "      <td>23.0</td>\n",
       "      <td>6.0</td>\n",
       "      <td>0.0</td>\n",
       "      <td>case_control</td>\n",
       "    </tr>\n",
       "    <tr>\n",
       "      <th>16134</th>\n",
       "      <td>A-CUHS-CU000194</td>\n",
       "      <td>1.0</td>\n",
       "      <td>73</td>\n",
       "      <td>65</td>\n",
       "      <td>33.0</td>\n",
       "      <td>6.0</td>\n",
       "      <td>0.0</td>\n",
       "      <td>case_control</td>\n",
       "    </tr>\n",
       "    <tr>\n",
       "      <th>16133</th>\n",
       "      <td>A-CUHS-CU000169</td>\n",
       "      <td>1.0</td>\n",
       "      <td>87</td>\n",
       "      <td>84</td>\n",
       "      <td>33.0</td>\n",
       "      <td>5.0</td>\n",
       "      <td>0.0</td>\n",
       "      <td>case_control</td>\n",
       "    </tr>\n",
       "    <tr>\n",
       "      <th>16132</th>\n",
       "      <td>A-CUHS-CU000018</td>\n",
       "      <td>1.0</td>\n",
       "      <td>76</td>\n",
       "      <td>79</td>\n",
       "      <td>34.0</td>\n",
       "      <td>6.0</td>\n",
       "      <td>1.0</td>\n",
       "      <td>case_control</td>\n",
       "    </tr>\n",
       "  </tbody>\n",
       "</table>\n",
       "<p>38163 rows × 8 columns</p>\n",
       "</div>"
      ],
      "text/plain": [
       "                SUBJID  Sex  Age Age_baseline  APOE_reported  Race  Diagnosis  \\\n",
       "0      ADNI_002_S_0413  1.0   87           76           33.0   5.0        0.0   \n",
       "1      ADNI_002_S_0685  1.0   90           89           33.0   5.0        0.0   \n",
       "2      ADNI_002_S_0729  1.0   68           65           34.0   5.0        1.0   \n",
       "3      ADNI_002_S_1155  0.0   69           57           33.0   5.0        0.0   \n",
       "4      ADNI_002_S_1261  1.0   82           71           33.0   5.0        0.0   \n",
       "...                ...  ...  ...          ...            ...   ...        ...   \n",
       "16136  A-CUHS-CU000563  0.0   74           77           34.0   6.0        1.0   \n",
       "16135  A-CUHS-CU000387  1.0   87           71           23.0   6.0        0.0   \n",
       "16134  A-CUHS-CU000194  1.0   73           65           33.0   6.0        0.0   \n",
       "16133  A-CUHS-CU000169  1.0   87           84           33.0   5.0        0.0   \n",
       "16132  A-CUHS-CU000018  1.0   76           79           34.0   6.0        1.0   \n",
       "\n",
       "             source  \n",
       "0              ADNI  \n",
       "1              ADNI  \n",
       "2              ADNI  \n",
       "3              ADNI  \n",
       "4              ADNI  \n",
       "...             ...  \n",
       "16136  case_control  \n",
       "16135  case_control  \n",
       "16134  case_control  \n",
       "16133  case_control  \n",
       "16132  case_control  \n",
       "\n",
       "[38163 rows x 8 columns]"
      ]
     },
     "execution_count": 29,
     "metadata": {},
     "output_type": "execute_result"
    }
   ],
   "source": [
    "pheno_merge"
   ]
  },
  {
   "cell_type": "code",
   "execution_count": 31,
   "metadata": {},
   "outputs": [],
   "source": [
    "pheno_merge[pheno_merge.Age_baseline.isnull()]\n",
    "#pheno_merge.Age_baseline = pheno_merge.Age_baseline.fillna(pheno_merge.Age)\n",
    "pheno_merge.loc[pheno_merge['Age_baseline'] == '90+', 'Age_baseline'] = 90\n",
    "pheno_merge.loc[:, ['Sex', 'Age_baseline', 'APOE_reported', 'Race', 'Diagnosis']] = pheno_merge.loc[:, ['Sex', 'Age_baseline', 'APOE_reported', 'Race', 'Diagnosis']].astype(int)"
   ]
  },
  {
   "cell_type": "code",
   "execution_count": 32,
   "metadata": {},
   "outputs": [
    {
     "data": {
      "text/html": [
       "<div>\n",
       "<style scoped>\n",
       "    .dataframe tbody tr th:only-of-type {\n",
       "        vertical-align: middle;\n",
       "    }\n",
       "\n",
       "    .dataframe tbody tr th {\n",
       "        vertical-align: top;\n",
       "    }\n",
       "\n",
       "    .dataframe thead th {\n",
       "        text-align: right;\n",
       "    }\n",
       "</style>\n",
       "<table border=\"1\" class=\"dataframe\">\n",
       "  <thead>\n",
       "    <tr style=\"text-align: right;\">\n",
       "      <th></th>\n",
       "      <th>SUBJID</th>\n",
       "      <th>Sex</th>\n",
       "      <th>Age</th>\n",
       "      <th>Age_baseline</th>\n",
       "      <th>APOE_reported</th>\n",
       "      <th>Race</th>\n",
       "      <th>Diagnosis</th>\n",
       "      <th>source</th>\n",
       "    </tr>\n",
       "  </thead>\n",
       "  <tbody>\n",
       "    <tr>\n",
       "      <th>0</th>\n",
       "      <td>ADNI_002_S_0413</td>\n",
       "      <td>1</td>\n",
       "      <td>87</td>\n",
       "      <td>76</td>\n",
       "      <td>33</td>\n",
       "      <td>5</td>\n",
       "      <td>0</td>\n",
       "      <td>ADNI</td>\n",
       "    </tr>\n",
       "    <tr>\n",
       "      <th>1</th>\n",
       "      <td>ADNI_002_S_0685</td>\n",
       "      <td>1</td>\n",
       "      <td>90</td>\n",
       "      <td>89</td>\n",
       "      <td>33</td>\n",
       "      <td>5</td>\n",
       "      <td>0</td>\n",
       "      <td>ADNI</td>\n",
       "    </tr>\n",
       "    <tr>\n",
       "      <th>2</th>\n",
       "      <td>ADNI_002_S_0729</td>\n",
       "      <td>1</td>\n",
       "      <td>68</td>\n",
       "      <td>65</td>\n",
       "      <td>34</td>\n",
       "      <td>5</td>\n",
       "      <td>1</td>\n",
       "      <td>ADNI</td>\n",
       "    </tr>\n",
       "    <tr>\n",
       "      <th>3</th>\n",
       "      <td>ADNI_002_S_1155</td>\n",
       "      <td>0</td>\n",
       "      <td>69</td>\n",
       "      <td>57</td>\n",
       "      <td>33</td>\n",
       "      <td>5</td>\n",
       "      <td>0</td>\n",
       "      <td>ADNI</td>\n",
       "    </tr>\n",
       "    <tr>\n",
       "      <th>4</th>\n",
       "      <td>ADNI_002_S_1261</td>\n",
       "      <td>1</td>\n",
       "      <td>82</td>\n",
       "      <td>71</td>\n",
       "      <td>33</td>\n",
       "      <td>5</td>\n",
       "      <td>0</td>\n",
       "      <td>ADNI</td>\n",
       "    </tr>\n",
       "    <tr>\n",
       "      <th>...</th>\n",
       "      <td>...</td>\n",
       "      <td>...</td>\n",
       "      <td>...</td>\n",
       "      <td>...</td>\n",
       "      <td>...</td>\n",
       "      <td>...</td>\n",
       "      <td>...</td>\n",
       "      <td>...</td>\n",
       "    </tr>\n",
       "    <tr>\n",
       "      <th>16136</th>\n",
       "      <td>A-CUHS-CU000563</td>\n",
       "      <td>0</td>\n",
       "      <td>74</td>\n",
       "      <td>77</td>\n",
       "      <td>34</td>\n",
       "      <td>6</td>\n",
       "      <td>1</td>\n",
       "      <td>case_control</td>\n",
       "    </tr>\n",
       "    <tr>\n",
       "      <th>16135</th>\n",
       "      <td>A-CUHS-CU000387</td>\n",
       "      <td>1</td>\n",
       "      <td>87</td>\n",
       "      <td>71</td>\n",
       "      <td>23</td>\n",
       "      <td>6</td>\n",
       "      <td>0</td>\n",
       "      <td>case_control</td>\n",
       "    </tr>\n",
       "    <tr>\n",
       "      <th>16134</th>\n",
       "      <td>A-CUHS-CU000194</td>\n",
       "      <td>1</td>\n",
       "      <td>73</td>\n",
       "      <td>65</td>\n",
       "      <td>33</td>\n",
       "      <td>6</td>\n",
       "      <td>0</td>\n",
       "      <td>case_control</td>\n",
       "    </tr>\n",
       "    <tr>\n",
       "      <th>16133</th>\n",
       "      <td>A-CUHS-CU000169</td>\n",
       "      <td>1</td>\n",
       "      <td>87</td>\n",
       "      <td>84</td>\n",
       "      <td>33</td>\n",
       "      <td>5</td>\n",
       "      <td>0</td>\n",
       "      <td>case_control</td>\n",
       "    </tr>\n",
       "    <tr>\n",
       "      <th>16132</th>\n",
       "      <td>A-CUHS-CU000018</td>\n",
       "      <td>1</td>\n",
       "      <td>76</td>\n",
       "      <td>79</td>\n",
       "      <td>34</td>\n",
       "      <td>6</td>\n",
       "      <td>1</td>\n",
       "      <td>case_control</td>\n",
       "    </tr>\n",
       "  </tbody>\n",
       "</table>\n",
       "<p>38163 rows × 8 columns</p>\n",
       "</div>"
      ],
      "text/plain": [
       "                SUBJID  Sex  Age  Age_baseline  APOE_reported  Race  \\\n",
       "0      ADNI_002_S_0413    1   87            76             33     5   \n",
       "1      ADNI_002_S_0685    1   90            89             33     5   \n",
       "2      ADNI_002_S_0729    1   68            65             34     5   \n",
       "3      ADNI_002_S_1155    0   69            57             33     5   \n",
       "4      ADNI_002_S_1261    1   82            71             33     5   \n",
       "...                ...  ...  ...           ...            ...   ...   \n",
       "16136  A-CUHS-CU000563    0   74            77             34     6   \n",
       "16135  A-CUHS-CU000387    1   87            71             23     6   \n",
       "16134  A-CUHS-CU000194    1   73            65             33     6   \n",
       "16133  A-CUHS-CU000169    1   87            84             33     5   \n",
       "16132  A-CUHS-CU000018    1   76            79             34     6   \n",
       "\n",
       "       Diagnosis        source  \n",
       "0              0          ADNI  \n",
       "1              0          ADNI  \n",
       "2              1          ADNI  \n",
       "3              0          ADNI  \n",
       "4              0          ADNI  \n",
       "...          ...           ...  \n",
       "16136          1  case_control  \n",
       "16135          0  case_control  \n",
       "16134          0  case_control  \n",
       "16133          0  case_control  \n",
       "16132          1  case_control  \n",
       "\n",
       "[38163 rows x 8 columns]"
      ]
     },
     "execution_count": 32,
     "metadata": {},
     "output_type": "execute_result"
    }
   ],
   "source": [
    "pheno_merge"
   ]
  },
  {
   "cell_type": "code",
   "execution_count": 177,
   "metadata": {},
   "outputs": [],
   "source": [
    "pheno_merge.to_csv(path + 'phenotype_merged.tsv',sep = '\\t', index = False)"
   ]
  },
  {
   "cell_type": "code",
   "execution_count": 33,
   "metadata": {},
   "outputs": [
    {
     "data": {
      "text/html": [
       "<div>\n",
       "<style scoped>\n",
       "    .dataframe tbody tr th:only-of-type {\n",
       "        vertical-align: middle;\n",
       "    }\n",
       "\n",
       "    .dataframe tbody tr th {\n",
       "        vertical-align: top;\n",
       "    }\n",
       "\n",
       "    .dataframe thead th {\n",
       "        text-align: right;\n",
       "    }\n",
       "</style>\n",
       "<table border=\"1\" class=\"dataframe\">\n",
       "  <thead>\n",
       "    <tr style=\"text-align: right;\">\n",
       "      <th></th>\n",
       "      <th>SUBJID</th>\n",
       "      <th>Sex</th>\n",
       "      <th>Age</th>\n",
       "      <th>Age_baseline</th>\n",
       "      <th>APOE_reported</th>\n",
       "      <th>Race</th>\n",
       "      <th>Diagnosis</th>\n",
       "      <th>source</th>\n",
       "    </tr>\n",
       "  </thead>\n",
       "  <tbody>\n",
       "  </tbody>\n",
       "</table>\n",
       "</div>"
      ],
      "text/plain": [
       "Empty DataFrame\n",
       "Columns: [SUBJID, Sex, Age, Age_baseline, APOE_reported, Race, Diagnosis, source]\n",
       "Index: []"
      ]
     },
     "execution_count": 33,
     "metadata": {},
     "output_type": "execute_result"
    }
   ],
   "source": [
    "pheno[pheno.SUBJID.isin(SUBJ_drop)]"
   ]
  },
  {
   "cell_type": "code",
   "execution_count": 34,
   "metadata": {},
   "outputs": [
    {
     "data": {
      "image/png": "[encoded data removed]",
      "text/plain": [
       "<Figure size 432x288 with 1 Axes>"
      ]
     },
     "metadata": {
      "needs_background": "light"
     },
     "output_type": "display_data"
    }
   ],
   "source": [
    "ax = sns.countplot(x=\"source\", data=pheno_merge)"
   ]
  },
  {
   "cell_type": "code",
   "execution_count": 215,
   "metadata": {},
   "outputs": [
    {
     "data": {
      "text/plain": [
       "<AxesSubplot:title={'center':'data surce for pheno_merge'}>"
      ]
     },
     "execution_count": 215,
     "metadata": {},
     "output_type": "execute_result"
    },
    {
     "data": {
      "image/png": "[encoded data removed]",
      "text/plain": [
       "<Figure size 432x288 with 1 Axes>"
      ]
     },
     "metadata": {},
     "output_type": "display_data"
    }
   ],
   "source": [
    "pheno_merge.source.value_counts().plot(kind='pie', ylabel='', title='data surce for pheno_merge')\n"
   ]
  },
  {
   "cell_type": "markdown",
   "metadata": {},
   "source": [
    "### check PSPCBD"
   ]
  },
  {
   "cell_type": "code",
   "execution_count": 30,
   "metadata": {},
   "outputs": [
    {
     "data": {
      "text/html": [
       "<div>\n",
       "<style scoped>\n",
       "    .dataframe tbody tr th:only-of-type {\n",
       "        vertical-align: middle;\n",
       "    }\n",
       "\n",
       "    .dataframe tbody tr th {\n",
       "        vertical-align: top;\n",
       "    }\n",
       "\n",
       "    .dataframe thead th {\n",
       "        text-align: right;\n",
       "    }\n",
       "</style>\n",
       "<table border=\"1\" class=\"dataframe\">\n",
       "  <thead>\n",
       "    <tr style=\"text-align: right;\">\n",
       "      <th></th>\n",
       "      <th>VARNAME</th>\n",
       "      <th>VARDESC</th>\n",
       "      <th>COMMENTS</th>\n",
       "      <th>VALUES</th>\n",
       "      <th>Unnamed: 4</th>\n",
       "      <th>Unnamed: 5</th>\n",
       "      <th>Unnamed: 6</th>\n",
       "      <th>Unnamed: 7</th>\n",
       "      <th>Unnamed: 8</th>\n",
       "      <th>Unnamed: 9</th>\n",
       "    </tr>\n",
       "  </thead>\n",
       "  <tbody>\n",
       "    <tr>\n",
       "      <th>0</th>\n",
       "      <td>SUBJID</td>\n",
       "      <td>GCAD Subject ID</td>\n",
       "      <td>NaN</td>\n",
       "      <td>NaN</td>\n",
       "      <td>NaN</td>\n",
       "      <td>NaN</td>\n",
       "      <td>NaN</td>\n",
       "      <td>NaN</td>\n",
       "      <td>NaN</td>\n",
       "      <td>NaN</td>\n",
       "    </tr>\n",
       "    <tr>\n",
       "      <th>1</th>\n",
       "      <td>Sex</td>\n",
       "      <td>Sex</td>\n",
       "      <td>NaN</td>\n",
       "      <td>0=Male</td>\n",
       "      <td>1=Female</td>\n",
       "      <td>NaN</td>\n",
       "      <td>NaN</td>\n",
       "      <td>NaN</td>\n",
       "      <td>NaN</td>\n",
       "      <td>NaN</td>\n",
       "    </tr>\n",
       "    <tr>\n",
       "      <th>2</th>\n",
       "      <td>Diagnosis</td>\n",
       "      <td>Status of Diagnosis</td>\n",
       "      <td>NaN</td>\n",
       "      <td>0=PSP Control</td>\n",
       "      <td>1=PSP</td>\n",
       "      <td>2-CBD</td>\n",
       "      <td>NaN</td>\n",
       "      <td>NaN</td>\n",
       "      <td>NaN</td>\n",
       "      <td>NaN</td>\n",
       "    </tr>\n",
       "    <tr>\n",
       "      <th>3</th>\n",
       "      <td>AgeOnset</td>\n",
       "      <td>Age at Onset</td>\n",
       "      <td>Age values of 90 or more are censored and code...</td>\n",
       "      <td>NaN</td>\n",
       "      <td>NaN</td>\n",
       "      <td>NaN</td>\n",
       "      <td>NaN</td>\n",
       "      <td>NaN</td>\n",
       "      <td>NaN</td>\n",
       "      <td>NaN</td>\n",
       "    </tr>\n",
       "    <tr>\n",
       "      <th>4</th>\n",
       "      <td>AgeDeath</td>\n",
       "      <td>Age at Death</td>\n",
       "      <td>Age values of 90 or more are censored and code...</td>\n",
       "      <td>NaN</td>\n",
       "      <td>NaN</td>\n",
       "      <td>NaN</td>\n",
       "      <td>NaN</td>\n",
       "      <td>NaN</td>\n",
       "      <td>NaN</td>\n",
       "      <td>NaN</td>\n",
       "    </tr>\n",
       "    <tr>\n",
       "      <th>5</th>\n",
       "      <td>Race</td>\n",
       "      <td>NIH Racial Categories</td>\n",
       "      <td>NaN</td>\n",
       "      <td>1=American Indian/Alaska Native</td>\n",
       "      <td>2=Asian</td>\n",
       "      <td>3=Native Hawaiian or Other Pacific Islander</td>\n",
       "      <td>4=Black or African American</td>\n",
       "      <td>5=White</td>\n",
       "      <td>6=Other</td>\n",
       "      <td>NaN</td>\n",
       "    </tr>\n",
       "    <tr>\n",
       "      <th>6</th>\n",
       "      <td>APOE_WGS</td>\n",
       "      <td>APOE genotype derived from WGS pVCF</td>\n",
       "      <td>NaN</td>\n",
       "      <td>22</td>\n",
       "      <td>23</td>\n",
       "      <td>24</td>\n",
       "      <td>33</td>\n",
       "      <td>34</td>\n",
       "      <td>44</td>\n",
       "      <td>NA = No WGS genotype call available</td>\n",
       "    </tr>\n",
       "    <tr>\n",
       "      <th>7</th>\n",
       "      <td>Duplicate_SUBJID</td>\n",
       "      <td>Subject was identified to be genetically ident...</td>\n",
       "      <td>NaN</td>\n",
       "      <td>0 = No alternate SUBJID</td>\n",
       "      <td>1 = Alternate SUBJID exists</td>\n",
       "      <td>NC = Not Available/Not Checked</td>\n",
       "      <td>NaN</td>\n",
       "      <td>NaN</td>\n",
       "      <td>NaN</td>\n",
       "      <td>NaN</td>\n",
       "    </tr>\n",
       "    <tr>\n",
       "      <th>8</th>\n",
       "      <td>Comments</td>\n",
       "      <td>Notes about diagnosis coversions, updates, cor...</td>\n",
       "      <td>NaN</td>\n",
       "      <td>NaN</td>\n",
       "      <td>NaN</td>\n",
       "      <td>NaN</td>\n",
       "      <td>NaN</td>\n",
       "      <td>NaN</td>\n",
       "      <td>NaN</td>\n",
       "      <td>NaN</td>\n",
       "    </tr>\n",
       "    <tr>\n",
       "      <th>9</th>\n",
       "      <td>Latest_Update_Version</td>\n",
       "      <td>Release version of subject's most recent update</td>\n",
       "      <td>NaN</td>\n",
       "      <td>NaN</td>\n",
       "      <td>NaN</td>\n",
       "      <td>NaN</td>\n",
       "      <td>NaN</td>\n",
       "      <td>NaN</td>\n",
       "      <td>NaN</td>\n",
       "      <td>NaN</td>\n",
       "    </tr>\n",
       "    <tr>\n",
       "      <th>10</th>\n",
       "      <td>Base_Diagnosis</td>\n",
       "      <td>Baseline diagnosis (when subject entered ADSP ...</td>\n",
       "      <td>NaN</td>\n",
       "      <td>1=PSP</td>\n",
       "      <td>2=CBD</td>\n",
       "      <td>NaN</td>\n",
       "      <td>NaN</td>\n",
       "      <td>NaN</td>\n",
       "      <td>NaN</td>\n",
       "      <td>NaN</td>\n",
       "    </tr>\n",
       "    <tr>\n",
       "      <th>11</th>\n",
       "      <td>Base_Version</td>\n",
       "      <td>Release version of first ADSP/baseline phenoty...</td>\n",
       "      <td>NaN</td>\n",
       "      <td>NaN</td>\n",
       "      <td>NaN</td>\n",
       "      <td>NaN</td>\n",
       "      <td>NaN</td>\n",
       "      <td>NaN</td>\n",
       "      <td>NaN</td>\n",
       "      <td>NaN</td>\n",
       "    </tr>\n",
       "    <tr>\n",
       "      <th>12</th>\n",
       "      <td>Update_Baseline</td>\n",
       "      <td>Flag - if phenotypes for this subject have bee...</td>\n",
       "      <td>NaN</td>\n",
       "      <td>0=No update since baseline</td>\n",
       "      <td>1=Updated since baseline</td>\n",
       "      <td>NaN</td>\n",
       "      <td>NaN</td>\n",
       "      <td>NaN</td>\n",
       "      <td>NaN</td>\n",
       "      <td>NaN</td>\n",
       "    </tr>\n",
       "    <tr>\n",
       "      <th>13</th>\n",
       "      <td>Update_Latest</td>\n",
       "      <td>Flag - if phenotypes for this subject have bee...</td>\n",
       "      <td>NaN</td>\n",
       "      <td>0=No update from last released version</td>\n",
       "      <td>1=Updated since last released version</td>\n",
       "      <td>NaN</td>\n",
       "      <td>NaN</td>\n",
       "      <td>NaN</td>\n",
       "      <td>NaN</td>\n",
       "      <td>NaN</td>\n",
       "    </tr>\n",
       "    <tr>\n",
       "      <th>14</th>\n",
       "      <td>Update_Diagnosis</td>\n",
       "      <td>Flag - if the diagnosis status for this subjec...</td>\n",
       "      <td>NaN</td>\n",
       "      <td>0=No diagnosis status update since baseline</td>\n",
       "      <td>1=Diagnosis status update since baseline</td>\n",
       "      <td>NaN</td>\n",
       "      <td>NaN</td>\n",
       "      <td>NaN</td>\n",
       "      <td>NaN</td>\n",
       "      <td>NaN</td>\n",
       "    </tr>\n",
       "    <tr>\n",
       "      <th>15</th>\n",
       "      <td>Correction</td>\n",
       "      <td>Flag - if phenotypes for this subject have bee...</td>\n",
       "      <td>NaN</td>\n",
       "      <td>0=No corrections since baseline</td>\n",
       "      <td>1=Corrected since baseline</td>\n",
       "      <td>NaN</td>\n",
       "      <td>NaN</td>\n",
       "      <td>NaN</td>\n",
       "      <td>NaN</td>\n",
       "      <td>NaN</td>\n",
       "    </tr>\n",
       "  </tbody>\n",
       "</table>\n",
       "</div>"
      ],
      "text/plain": [
       "                  VARNAME                                            VARDESC  \\\n",
       "0                  SUBJID                                    GCAD Subject ID   \n",
       "1                     Sex                                                Sex   \n",
       "2              Diagnosis                                 Status of Diagnosis   \n",
       "3                AgeOnset                                       Age at Onset   \n",
       "4                AgeDeath                                       Age at Death   \n",
       "5                    Race                              NIH Racial Categories   \n",
       "6                APOE_WGS                APOE genotype derived from WGS pVCF   \n",
       "7        Duplicate_SUBJID  Subject was identified to be genetically ident...   \n",
       "8                Comments  Notes about diagnosis coversions, updates, cor...   \n",
       "9   Latest_Update_Version    Release version of subject's most recent update   \n",
       "10         Base_Diagnosis  Baseline diagnosis (when subject entered ADSP ...   \n",
       "11           Base_Version  Release version of first ADSP/baseline phenoty...   \n",
       "12        Update_Baseline  Flag - if phenotypes for this subject have bee...   \n",
       "13          Update_Latest  Flag - if phenotypes for this subject have bee...   \n",
       "14       Update_Diagnosis  Flag - if the diagnosis status for this subjec...   \n",
       "15             Correction  Flag - if phenotypes for this subject have bee...   \n",
       "\n",
       "                                             COMMENTS  \\\n",
       "0                                                 NaN   \n",
       "1                                                 NaN   \n",
       "2                                                 NaN   \n",
       "3   Age values of 90 or more are censored and code...   \n",
       "4   Age values of 90 or more are censored and code...   \n",
       "5                                                 NaN   \n",
       "6                                                 NaN   \n",
       "7                                                 NaN   \n",
       "8                                                 NaN   \n",
       "9                                                 NaN   \n",
       "10                                                NaN   \n",
       "11                                                NaN   \n",
       "12                                                NaN   \n",
       "13                                                NaN   \n",
       "14                                                NaN   \n",
       "15                                                NaN   \n",
       "\n",
       "                                         VALUES  \\\n",
       "0                                           NaN   \n",
       "1                                        0=Male   \n",
       "2                                 0=PSP Control   \n",
       "3                                           NaN   \n",
       "4                                           NaN   \n",
       "5               1=American Indian/Alaska Native   \n",
       "6                                            22   \n",
       "7                       0 = No alternate SUBJID   \n",
       "8                                           NaN   \n",
       "9                                           NaN   \n",
       "10                                        1=PSP   \n",
       "11                                          NaN   \n",
       "12                   0=No update since baseline   \n",
       "13       0=No update from last released version   \n",
       "14  0=No diagnosis status update since baseline   \n",
       "15              0=No corrections since baseline   \n",
       "\n",
       "                                  Unnamed: 4  \\\n",
       "0                                        NaN   \n",
       "1                                   1=Female   \n",
       "2                                      1=PSP   \n",
       "3                                        NaN   \n",
       "4                                        NaN   \n",
       "5                                    2=Asian   \n",
       "6                                         23   \n",
       "7                1 = Alternate SUBJID exists   \n",
       "8                                        NaN   \n",
       "9                                        NaN   \n",
       "10                                     2=CBD   \n",
       "11                                       NaN   \n",
       "12                  1=Updated since baseline   \n",
       "13     1=Updated since last released version   \n",
       "14  1=Diagnosis status update since baseline   \n",
       "15                1=Corrected since baseline   \n",
       "\n",
       "                                     Unnamed: 5                   Unnamed: 6  \\\n",
       "0                                           NaN                          NaN   \n",
       "1                                           NaN                          NaN   \n",
       "2                                         2-CBD                          NaN   \n",
       "3                                           NaN                          NaN   \n",
       "4                                           NaN                          NaN   \n",
       "5   3=Native Hawaiian or Other Pacific Islander  4=Black or African American   \n",
       "6                                            24                           33   \n",
       "7                NC = Not Available/Not Checked                          NaN   \n",
       "8                                           NaN                          NaN   \n",
       "9                                           NaN                          NaN   \n",
       "10                                          NaN                          NaN   \n",
       "11                                          NaN                          NaN   \n",
       "12                                          NaN                          NaN   \n",
       "13                                          NaN                          NaN   \n",
       "14                                          NaN                          NaN   \n",
       "15                                          NaN                          NaN   \n",
       "\n",
       "   Unnamed: 7 Unnamed: 8                           Unnamed: 9  \n",
       "0         NaN        NaN                                  NaN  \n",
       "1         NaN        NaN                                  NaN  \n",
       "2         NaN        NaN                                  NaN  \n",
       "3         NaN        NaN                                  NaN  \n",
       "4         NaN        NaN                                  NaN  \n",
       "5     5=White    6=Other                                  NaN  \n",
       "6          34         44  NA = No WGS genotype call available  \n",
       "7         NaN        NaN                                  NaN  \n",
       "8         NaN        NaN                                  NaN  \n",
       "9         NaN        NaN                                  NaN  \n",
       "10        NaN        NaN                                  NaN  \n",
       "11        NaN        NaN                                  NaN  \n",
       "12        NaN        NaN                                  NaN  \n",
       "13        NaN        NaN                                  NaN  \n",
       "14        NaN        NaN                                  NaN  \n",
       "15        NaN        NaN                                  NaN  "
      ]
     },
     "execution_count": 30,
     "metadata": {},
     "output_type": "execute_result"
    }
   ],
   "source": [
    "PSPCBD_descript"
   ]
  },
  {
   "cell_type": "code",
   "execution_count": 35,
   "metadata": {},
   "outputs": [
    {
     "data": {
      "text/plain": [
       "1    2340\n",
       "2     335\n",
       "0     128\n",
       "Name: Diagnosis, dtype: int64"
      ]
     },
     "execution_count": 35,
     "metadata": {},
     "output_type": "execute_result"
    }
   ],
   "source": [
    "PSPCBD_descript = pd.read_excel(path + 'PSPCBDPhenotypes_DD_2022.08.18.xlsx', engine = 'openpyxl')\n",
    "PSPCBD['Diagnosis'].value_counts()"
   ]
  },
  {
   "cell_type": "code",
   "execution_count": 36,
   "metadata": {},
   "outputs": [
    {
     "name": "stdout",
     "output_type": "stream",
     "text": [
      "1    2675\n",
      "0     128\n",
      "Name: Diagnosis, dtype: int64\n"
     ]
    }
   ],
   "source": [
    "PSPCBD.loc[PSPCBD['Diagnosis'] == 2, 'Diagnosis'] = 1\n",
    "print(PSPCBD.Diagnosis.value_counts())"
   ]
  },
  {
   "cell_type": "code",
   "execution_count": 37,
   "metadata": {},
   "outputs": [
    {
     "data": {
      "text/html": [
       "<div>\n",
       "<style scoped>\n",
       "    .dataframe tbody tr th:only-of-type {\n",
       "        vertical-align: middle;\n",
       "    }\n",
       "\n",
       "    .dataframe tbody tr th {\n",
       "        vertical-align: top;\n",
       "    }\n",
       "\n",
       "    .dataframe thead th {\n",
       "        text-align: right;\n",
       "    }\n",
       "</style>\n",
       "<table border=\"1\" class=\"dataframe\">\n",
       "  <thead>\n",
       "    <tr style=\"text-align: right;\">\n",
       "      <th></th>\n",
       "      <th>SUBJID</th>\n",
       "      <th>Sex</th>\n",
       "      <th>Diagnosis</th>\n",
       "      <th>AgeOnset</th>\n",
       "      <th>AgeDeath</th>\n",
       "      <th>Race</th>\n",
       "      <th>APOE_WGS</th>\n",
       "      <th>Duplicate_SUBJID</th>\n",
       "      <th>Comments</th>\n",
       "      <th>Latest_Update_Version</th>\n",
       "      <th>Base_Diagnosis</th>\n",
       "      <th>Base_Version</th>\n",
       "      <th>Update_Baseline</th>\n",
       "      <th>Update_Latest</th>\n",
       "      <th>Update_Diagnosis</th>\n",
       "      <th>Correction</th>\n",
       "      <th>Consent</th>\n",
       "    </tr>\n",
       "  </thead>\n",
       "  <tbody>\n",
       "  </tbody>\n",
       "</table>\n",
       "</div>"
      ],
      "text/plain": [
       "Empty DataFrame\n",
       "Columns: [SUBJID, Sex, Diagnosis, AgeOnset, AgeDeath, Race, APOE_WGS, Duplicate_SUBJID, Comments, Latest_Update_Version, Base_Diagnosis, Base_Version, Update_Baseline, Update_Latest, Update_Diagnosis, Correction, Consent]\n",
       "Index: []"
      ]
     },
     "execution_count": 37,
     "metadata": {},
     "output_type": "execute_result"
    }
   ],
   "source": [
    "PSPCBD[PSPCBD.SUBJID.isin(pheno.SUBJID)]"
   ]
  },
  {
   "cell_type": "code",
   "execution_count": 44,
   "metadata": {},
   "outputs": [
    {
     "data": {
      "text/html": [
       "<div>\n",
       "<style scoped>\n",
       "    .dataframe tbody tr th:only-of-type {\n",
       "        vertical-align: middle;\n",
       "    }\n",
       "\n",
       "    .dataframe tbody tr th {\n",
       "        vertical-align: top;\n",
       "    }\n",
       "\n",
       "    .dataframe thead th {\n",
       "        text-align: right;\n",
       "    }\n",
       "</style>\n",
       "<table border=\"1\" class=\"dataframe\">\n",
       "  <thead>\n",
       "    <tr style=\"text-align: right;\">\n",
       "      <th></th>\n",
       "      <th>SUBJID</th>\n",
       "      <th>Sex</th>\n",
       "      <th>Age</th>\n",
       "      <th>Age_baseline</th>\n",
       "      <th>APOE_reported</th>\n",
       "      <th>Race</th>\n",
       "      <th>Diagnosis</th>\n",
       "      <th>source</th>\n",
       "    </tr>\n",
       "  </thead>\n",
       "  <tbody>\n",
       "  </tbody>\n",
       "</table>\n",
       "</div>"
      ],
      "text/plain": [
       "Empty DataFrame\n",
       "Columns: [SUBJID, Sex, Age, Age_baseline, APOE_reported, Race, Diagnosis, source]\n",
       "Index: []"
      ]
     },
     "execution_count": 44,
     "metadata": {},
     "output_type": "execute_result"
    }
   ],
   "source": [
    "pheno[pheno.SUBJID.isin(PSPCBD.SUBJID)]"
   ]
  },
  {
   "cell_type": "code",
   "execution_count": 38,
   "metadata": {},
   "outputs": [],
   "source": [
    "## Merge PSPCBD with pheno\n",
    "PSPCBD[\"source\"] = \"PSPCBD\"\n",
    "PSPCBD = PSPCBD.rename(columns={\"AgeOnset\":\"Age\", \"APOE_WGS\":\"APOE_reported\"})\n",
    "PSPCBD = PSPCBD.loc[:,['SUBJID','Sex','Diagnosis', 'Age','APOE_reported','Race','source']]\n",
    "pheno_merge_new = pheno_merge.append(PSPCBD)"
   ]
  },
  {
   "cell_type": "code",
   "execution_count": 41,
   "metadata": {},
   "outputs": [],
   "source": [
    "pheno_merge_new.Age_baseline = pheno_merge_new.Age_baseline.fillna(pheno_merge_new.Age)\n",
    "pheno_merge_new.loc[pheno_merge_new['Age'] == '90+', 'Age'] = 90\n",
    "pheno_merge_new.loc[pheno_merge_new['Age_baseline'] == '90+', 'Age_baseline'] = 90"
   ]
  },
  {
   "cell_type": "code",
   "execution_count": 43,
   "metadata": {},
   "outputs": [
    {
     "name": "stdout",
     "output_type": "stream",
     "text": [
      "case_control    32643\n",
      "Family_based     3955\n",
      "PSPCBD           2803\n",
      "ADNI             1565\n",
      "Name: source, dtype: int64\n"
     ]
    },
    {
     "data": {
      "text/plain": [
       "<AxesSubplot:title={'center':'data surce for pheno_merge'}>"
      ]
     },
     "execution_count": 43,
     "metadata": {},
     "output_type": "execute_result"
    },
    {
     "data": {
      "image/png": "[encoded data removed]",
      "text/plain": [
       "<Figure size 432x288 with 1 Axes>"
      ]
     },
     "metadata": {},
     "output_type": "display_data"
    }
   ],
   "source": [
    "print(pheno_merge_new.source.value_counts())\n",
    "pheno_merge_new.source.value_counts().plot(kind='pie', ylabel='', title='data surce for pheno_merge')"
   ]
  },
  {
   "cell_type": "code",
   "execution_count": 44,
   "metadata": {},
   "outputs": [],
   "source": [
    "## Use the pheno with PSPCBD added\n",
    "pheno_merge_new.to_csv(path + 'phenotype_merged_PSPCBD.tsv',sep = '\\t', index = False)\n",
    "pheno_merge = pheno_merge_new"
   ]
  },
  {
   "cell_type": "markdown",
   "metadata": {},
   "source": [
    "## add sample id"
   ]
  },
  {
   "cell_type": "code",
   "execution_count": 105,
   "metadata": {},
   "outputs": [],
   "source": [
    "manifest = pd.read_csv(path + \"SampleManifest_DS_2022.08.18_ALL.txt\", sep='\\t') ## the one with mapping info\n",
    "#pheno_merge = pd.read_csv(path + 'phenotype_merged.tsv', sep = '\\t') \n",
    "pheno_merge = pd.read_csv(path + 'phenotype_merged_PSPCBD.tsv', sep = '\\t') \n"
   ]
  },
  {
   "cell_type": "code",
   "execution_count": 80,
   "metadata": {},
   "outputs": [
    {
     "data": {
      "text/plain": [
       "USUHS                16207\n",
       "Broad                 5496\n",
       "WashU                 4839\n",
       "CU_IGM                3763\n",
       "Baylor                3595\n",
       "UM_HIHG               2819\n",
       "Illumina              1447\n",
       "NYGC                  1170\n",
       "MGI                    930\n",
       "MACROGEN               886\n",
       "USUHS/Miami            720\n",
       "Otogenetics            653\n",
       "CHOP                   346\n",
       "FGC                    330\n",
       "PGFI                   117\n",
       "IDOM                   103\n",
       "UW_GenomeSciences       57\n",
       "GENENTECH               51\n",
       "MEDGENOME                4\n",
       "Name: Sequencing_Center, dtype: int64"
      ]
     },
     "execution_count": 80,
     "metadata": {},
     "output_type": "execute_result"
    }
   ],
   "source": [
    "manifest[manifest.SUBJID.isin(pheno_merge.SUBJID)].Sequencing_Center.value_counts()"
   ]
  },
  {
   "cell_type": "code",
   "execution_count": 45,
   "metadata": {},
   "outputs": [
    {
     "data": {
      "text/plain": [
       "Sequencing_Center  SAMPLE_USE\n",
       "Baylor             WES            2368\n",
       "                   WGS            1272\n",
       "Broad              WES            4583\n",
       "                   WGS            1493\n",
       "CHOP               WES             346\n",
       "CU_IGM             WES            3861\n",
       "FGC                WES             330\n",
       "GENENTECH          WGS              55\n",
       "IDOM               WES             103\n",
       "Illumina           WGS            1450\n",
       "MACROGEN           WGS             886\n",
       "MEDGENOME          WGS            2686\n",
       "MGI                WES            1036\n",
       "NYGC               WGS            1646\n",
       "Otogenetics        WES             714\n",
       "PGFI               WES             117\n",
       "UM_HIHG            WES            3265\n",
       "USUHS              WGS           24506\n",
       "USUHS/Miami        WGS            1040\n",
       "UW_GenomeSciences  WES              75\n",
       "WashU              WES            3703\n",
       "                   WGS            1327\n",
       "Name: SUBJID, dtype: int64"
      ]
     },
     "execution_count": 45,
     "metadata": {},
     "output_type": "execute_result"
    }
   ],
   "source": [
    "manifest.groupby(['Sequencing_Center','SAMPLE_USE'])['SUBJID'].count()"
   ]
  },
  {
   "cell_type": "code",
   "execution_count": 46,
   "metadata": {},
   "outputs": [
    {
     "data": {
      "text/plain": [
       "1"
      ]
     },
     "execution_count": 46,
     "metadata": {},
     "output_type": "execute_result"
    }
   ],
   "source": [
    "manifest.SampleID.value_counts().max()"
   ]
  },
  {
   "cell_type": "code",
   "execution_count": 47,
   "metadata": {},
   "outputs": [
    {
     "data": {
      "text/plain": [
       "A-CUHS-CU001163    13\n",
       "A-CUHS-CU001166    13\n",
       "A-CUHS-CU001167    12\n",
       "A-CUHS-CU009833    10\n",
       "A-NCRD-NC005389    10\n",
       "                   ..\n",
       "A-AMSH-AM000293     1\n",
       "A-AMSH-AM000215     1\n",
       "A-ADC-AD013962      1\n",
       "G-LSID-LS000712     1\n",
       "A-ADC-AD014447      1\n",
       "Name: SUBJID, Length: 51992, dtype: int64"
      ]
     },
     "execution_count": 47,
     "metadata": {},
     "output_type": "execute_result"
    }
   ],
   "source": [
    "manifest.SUBJID.value_counts()"
   ]
  },
  {
   "cell_type": "code",
   "execution_count": 48,
   "metadata": {},
   "outputs": [
    {
     "name": "stdout",
     "output_type": "stream",
     "text": [
      "               SUBJID                         SampleID BODY_SITE ANALYTE_TYPE  \\\n",
      "12879  A-MIA-UM000315  A-MIA-UM000315-UNK-MIA-19961724   Unknown          DNA   \n",
      "12954  A-MIA-UM001976  A-MIA-UM001976-UNK-MIA-20010205   Unknown          DNA   \n",
      "\n",
      "      Sequencing_Center       Sequencing_Platform SAMPLE_USE  \\\n",
      "12879           UM_HIHG  Illumina_HiSeq_2000/2500        WES   \n",
      "12954           UM_HIHG  Illumina_HiSeq_2000/2500        WES   \n",
      "\n",
      "       Technical_Replicate Study_DSS Sample_Set  \n",
      "12879                    0  sa000006   snd10006  \n",
      "12954                    0  sa000006   snd10006  \n",
      "(43532, 10)\n"
     ]
    }
   ],
   "source": [
    "## the only two rows in manifest file that got removed because appearing in SUBJ_drop\n",
    "print(manifest[(manifest.SUBJID.isin(pheno_merge.SUBJID)) & (manifest.SUBJID.isin(SUBJ_drop.SUBJID))])\n",
    "\n",
    "manifest = manifest[(manifest.SUBJID.isin(pheno_merge.SUBJID)) & (~manifest.SUBJID.isin(SUBJ_drop.SUBJID))]\n",
    "\n",
    "print(manifest.shape)\n",
    "SUBJ_one2multi = manifest[manifest.SUBJID.isin(pheno_merge.SUBJID)][manifest[manifest.SUBJID.isin(pheno_merge.SUBJID)].SUBJID.duplicated(keep=False)]"
   ]
  },
  {
   "cell_type": "code",
   "execution_count": 104,
   "metadata": {},
   "outputs": [
    {
     "name": "stdout",
     "output_type": "stream",
     "text": [
      "              SUBJID  Sex Age Age_baseline  APOE_reported  Race  Diagnosis  \\\n",
      "5261  A-MIA-UM000315    1  78           78           34.0   5.0          1   \n",
      "\n",
      "            source  \n",
      "5261  Family_based                 SUBJID  Sex Age Age_baseline  APOE_reported  Race  Diagnosis  \\\n",
      "5289  A-MIA-UM001976    1  78           78           33.0   5.0          1   \n",
      "\n",
      "            source  \n",
      "5289  Family_based  \n"
     ]
    }
   ],
   "source": [
    "print(pheno_merge[pheno_merge.SUBJID == 'A-MIA-UM000315' ],\n",
    "pheno_merge[pheno_merge.SUBJID == 'A-MIA-UM001976' ])"
   ]
  },
  {
   "cell_type": "markdown",
   "metadata": {
    "tags": []
   },
   "source": [
    "#### Process the duplicated SUBJID"
   ]
  },
  {
   "cell_type": "code",
   "execution_count": 49,
   "metadata": {},
   "outputs": [
    {
     "data": {
      "text/html": [
       "<div>\n",
       "<style scoped>\n",
       "    .dataframe tbody tr th:only-of-type {\n",
       "        vertical-align: middle;\n",
       "    }\n",
       "\n",
       "    .dataframe tbody tr th {\n",
       "        vertical-align: top;\n",
       "    }\n",
       "\n",
       "    .dataframe thead th {\n",
       "        text-align: right;\n",
       "    }\n",
       "</style>\n",
       "<table border=\"1\" class=\"dataframe\">\n",
       "  <thead>\n",
       "    <tr style=\"text-align: right;\">\n",
       "      <th></th>\n",
       "      <th>SUBJID</th>\n",
       "      <th>SampleID</th>\n",
       "      <th>BODY_SITE</th>\n",
       "      <th>ANALYTE_TYPE</th>\n",
       "      <th>Sequencing_Center</th>\n",
       "      <th>Sequencing_Platform</th>\n",
       "      <th>SAMPLE_USE</th>\n",
       "      <th>Technical_Replicate</th>\n",
       "      <th>Study_DSS</th>\n",
       "      <th>Sample_Set</th>\n",
       "    </tr>\n",
       "  </thead>\n",
       "  <tbody>\n",
       "    <tr>\n",
       "      <th>21390</th>\n",
       "      <td>A-ACT-AC000014</td>\n",
       "      <td>A-ACT-AC000014-BL-NCR-15AD78694</td>\n",
       "      <td>Blood</td>\n",
       "      <td>DNA</td>\n",
       "      <td>Broad</td>\n",
       "      <td>Illumina_HiSeqX</td>\n",
       "      <td>WGS</td>\n",
       "      <td>0</td>\n",
       "      <td>sa000001</td>\n",
       "      <td>snd10001</td>\n",
       "    </tr>\n",
       "    <tr>\n",
       "      <th>21391</th>\n",
       "      <td>A-ACT-AC000034</td>\n",
       "      <td>A-ACT-AC000034-BL-NCR-16AD84906</td>\n",
       "      <td>Blood</td>\n",
       "      <td>DNA</td>\n",
       "      <td>Broad</td>\n",
       "      <td>Illumina_HiSeqX</td>\n",
       "      <td>WGS</td>\n",
       "      <td>0</td>\n",
       "      <td>sa000001</td>\n",
       "      <td>snd10001</td>\n",
       "    </tr>\n",
       "    <tr>\n",
       "      <th>23048</th>\n",
       "      <td>A-ACT-AC000057</td>\n",
       "      <td>A-ACT-AC000057-BL-NCR-15AD78356</td>\n",
       "      <td>Blood</td>\n",
       "      <td>DNA</td>\n",
       "      <td>Broad</td>\n",
       "      <td>Illumina_HiSeqX</td>\n",
       "      <td>WGS</td>\n",
       "      <td>0</td>\n",
       "      <td>sa000001</td>\n",
       "      <td>snd10001</td>\n",
       "    </tr>\n",
       "    <tr>\n",
       "      <th>23049</th>\n",
       "      <td>A-ACT-AC000072</td>\n",
       "      <td>A-ACT-AC000072-BL-NCR-15AD77250</td>\n",
       "      <td>Blood</td>\n",
       "      <td>DNA</td>\n",
       "      <td>Broad</td>\n",
       "      <td>Illumina_HiSeqX</td>\n",
       "      <td>WGS</td>\n",
       "      <td>0</td>\n",
       "      <td>sa000001</td>\n",
       "      <td>snd10001</td>\n",
       "    </tr>\n",
       "    <tr>\n",
       "      <th>23050</th>\n",
       "      <td>A-ACT-AC000088</td>\n",
       "      <td>A-ACT-AC000088-BL-NCR-15AD76548</td>\n",
       "      <td>Blood</td>\n",
       "      <td>DNA</td>\n",
       "      <td>Broad</td>\n",
       "      <td>Illumina_HiSeqX</td>\n",
       "      <td>WGS</td>\n",
       "      <td>0</td>\n",
       "      <td>sa000001</td>\n",
       "      <td>snd10001</td>\n",
       "    </tr>\n",
       "    <tr>\n",
       "      <th>...</th>\n",
       "      <td>...</td>\n",
       "      <td>...</td>\n",
       "      <td>...</td>\n",
       "      <td>...</td>\n",
       "      <td>...</td>\n",
       "      <td>...</td>\n",
       "      <td>...</td>\n",
       "      <td>...</td>\n",
       "      <td>...</td>\n",
       "      <td>...</td>\n",
       "    </tr>\n",
       "    <tr>\n",
       "      <th>31299</th>\n",
       "      <td>P-UPN-PSP10123</td>\n",
       "      <td>P-UPN-PSP10123-BL-UPN-119413</td>\n",
       "      <td>Blood</td>\n",
       "      <td>DNA</td>\n",
       "      <td>USUHS</td>\n",
       "      <td>Illumina_HiSeqX</td>\n",
       "      <td>WGS</td>\n",
       "      <td>0</td>\n",
       "      <td>sa000015</td>\n",
       "      <td>snd10015</td>\n",
       "    </tr>\n",
       "    <tr>\n",
       "      <th>25861</th>\n",
       "      <td>P-UPN-PSP10695</td>\n",
       "      <td>P-UPN-PSP8397-UNK-UPN-2214</td>\n",
       "      <td>Unknown</td>\n",
       "      <td>DNA</td>\n",
       "      <td>MACROGEN</td>\n",
       "      <td>Illumina_HiSeqX</td>\n",
       "      <td>WGS</td>\n",
       "      <td>0</td>\n",
       "      <td>sa000016</td>\n",
       "      <td>snd10016</td>\n",
       "    </tr>\n",
       "    <tr>\n",
       "      <th>31541</th>\n",
       "      <td>P-UPN-PSP10695</td>\n",
       "      <td>P-UPN-PSP10695-UNK-UPN-108077</td>\n",
       "      <td>Unknown</td>\n",
       "      <td>DNA</td>\n",
       "      <td>USUHS</td>\n",
       "      <td>Illumina_HiSeqX</td>\n",
       "      <td>WGS</td>\n",
       "      <td>0</td>\n",
       "      <td>sa000015</td>\n",
       "      <td>snd10015</td>\n",
       "    </tr>\n",
       "    <tr>\n",
       "      <th>31543</th>\n",
       "      <td>P-UPN-PSP10698</td>\n",
       "      <td>P-UPN-PSP10698-UNK-UPN-112570</td>\n",
       "      <td>Unknown</td>\n",
       "      <td>DNA</td>\n",
       "      <td>USUHS</td>\n",
       "      <td>Illumina_HiSeqX</td>\n",
       "      <td>WGS</td>\n",
       "      <td>0</td>\n",
       "      <td>sa000015</td>\n",
       "      <td>snd10015</td>\n",
       "    </tr>\n",
       "    <tr>\n",
       "      <th>25997</th>\n",
       "      <td>P-UPN-PSP10698</td>\n",
       "      <td>P-UPN-PSP8399-UNK-UPN-2202</td>\n",
       "      <td>Unknown</td>\n",
       "      <td>DNA</td>\n",
       "      <td>MACROGEN</td>\n",
       "      <td>Illumina_HiSeqX</td>\n",
       "      <td>WGS</td>\n",
       "      <td>0</td>\n",
       "      <td>sa000016</td>\n",
       "      <td>snd10016</td>\n",
       "    </tr>\n",
       "  </tbody>\n",
       "</table>\n",
       "<p>4887 rows × 10 columns</p>\n",
       "</div>"
      ],
      "text/plain": [
       "               SUBJID                         SampleID BODY_SITE ANALYTE_TYPE  \\\n",
       "21390  A-ACT-AC000014  A-ACT-AC000014-BL-NCR-15AD78694     Blood          DNA   \n",
       "21391  A-ACT-AC000034  A-ACT-AC000034-BL-NCR-16AD84906     Blood          DNA   \n",
       "23048  A-ACT-AC000057  A-ACT-AC000057-BL-NCR-15AD78356     Blood          DNA   \n",
       "23049  A-ACT-AC000072  A-ACT-AC000072-BL-NCR-15AD77250     Blood          DNA   \n",
       "23050  A-ACT-AC000088  A-ACT-AC000088-BL-NCR-15AD76548     Blood          DNA   \n",
       "...               ...                              ...       ...          ...   \n",
       "31299  P-UPN-PSP10123     P-UPN-PSP10123-BL-UPN-119413     Blood          DNA   \n",
       "25861  P-UPN-PSP10695       P-UPN-PSP8397-UNK-UPN-2214   Unknown          DNA   \n",
       "31541  P-UPN-PSP10695    P-UPN-PSP10695-UNK-UPN-108077   Unknown          DNA   \n",
       "31543  P-UPN-PSP10698    P-UPN-PSP10698-UNK-UPN-112570   Unknown          DNA   \n",
       "25997  P-UPN-PSP10698       P-UPN-PSP8399-UNK-UPN-2202   Unknown          DNA   \n",
       "\n",
       "      Sequencing_Center Sequencing_Platform SAMPLE_USE  Technical_Replicate  \\\n",
       "21390             Broad     Illumina_HiSeqX        WGS                    0   \n",
       "21391             Broad     Illumina_HiSeqX        WGS                    0   \n",
       "23048             Broad     Illumina_HiSeqX        WGS                    0   \n",
       "23049             Broad     Illumina_HiSeqX        WGS                    0   \n",
       "23050             Broad     Illumina_HiSeqX        WGS                    0   \n",
       "...                 ...                 ...        ...                  ...   \n",
       "31299             USUHS     Illumina_HiSeqX        WGS                    0   \n",
       "25861          MACROGEN     Illumina_HiSeqX        WGS                    0   \n",
       "31541             USUHS     Illumina_HiSeqX        WGS                    0   \n",
       "31543             USUHS     Illumina_HiSeqX        WGS                    0   \n",
       "25997          MACROGEN     Illumina_HiSeqX        WGS                    0   \n",
       "\n",
       "      Study_DSS Sample_Set  \n",
       "21390  sa000001   snd10001  \n",
       "21391  sa000001   snd10001  \n",
       "23048  sa000001   snd10001  \n",
       "23049  sa000001   snd10001  \n",
       "23050  sa000001   snd10001  \n",
       "...         ...        ...  \n",
       "31299  sa000015   snd10015  \n",
       "25861  sa000016   snd10016  \n",
       "31541  sa000015   snd10015  \n",
       "31543  sa000015   snd10015  \n",
       "25997  sa000016   snd10016  \n",
       "\n",
       "[4887 rows x 10 columns]"
      ]
     },
     "execution_count": 49,
     "metadata": {},
     "output_type": "execute_result"
    }
   ],
   "source": [
    "## extract the WGS one if theres one\n",
    "manifest_multi_WGS = manifest[(manifest.SUBJID.duplicated(keep=False)) & (manifest.SAMPLE_USE == 'WGS')].sort_values(\"SUBJID\")\n",
    "manifest_multi_WGS"
   ]
  },
  {
   "cell_type": "code",
   "execution_count": 50,
   "metadata": {},
   "outputs": [
    {
     "data": {
      "text/plain": [
       "0    4824\n",
       "1      63\n",
       "Name: Technical_Replicate, dtype: int64"
      ]
     },
     "execution_count": 50,
     "metadata": {},
     "output_type": "execute_result"
    }
   ],
   "source": [
    "manifest_multi_WGS.Technical_Replicate.value_counts()"
   ]
  },
  {
   "cell_type": "code",
   "execution_count": 51,
   "metadata": {},
   "outputs": [
    {
     "data": {
      "text/plain": [
       "SUBJID\n",
       "A-CUHS-CU001167    12\n",
       "A-CUHS-CU001166    12\n",
       "A-CUHS-CU001163    12\n",
       "A-NCRD-NC005389     9\n",
       "A-LOAD-LD004371     9\n",
       "A-CUHS-CU009833     9\n",
       "C-CHS-51381         3\n",
       "C-CHS-30738         3\n",
       "A-ADC-AD003299      3\n",
       "A-ADC-AD003250      3\n",
       "A-ADC-AD000263      3\n",
       "A-ACT-AC003410      3\n",
       "A-ACT-AC003403      3\n",
       "A-ACT-AC002972      3\n",
       "A-ACT-AC002970      3\n",
       "C-CHS-50100         2\n",
       "dtype: int64"
      ]
     },
     "execution_count": 51,
     "metadata": {},
     "output_type": "execute_result"
    }
   ],
   "source": [
    "manifest[manifest.Technical_Replicate == 1].value_counts('SUBJID')"
   ]
  },
  {
   "cell_type": "code",
   "execution_count": 52,
   "metadata": {},
   "outputs": [
    {
     "data": {
      "text/plain": [
       "SAMPLE_USE  SUBJID         \n",
       "WES         A-ACT-AC002970      3\n",
       "            A-ACT-AC002972      3\n",
       "            A-ACT-AC003403      3\n",
       "            A-ACT-AC003410      3\n",
       "            A-ADC-AD000263      3\n",
       "            A-ADC-AD003250      3\n",
       "            A-ADC-AD003299      3\n",
       "            C-CHS-30738         3\n",
       "            C-CHS-50100         2\n",
       "            C-CHS-51381         3\n",
       "WGS         A-CUHS-CU001163    12\n",
       "            A-CUHS-CU001166    12\n",
       "            A-CUHS-CU001167    12\n",
       "            A-CUHS-CU009833     9\n",
       "            A-LOAD-LD004371     9\n",
       "            A-NCRD-NC005389     9\n",
       "Name: SUBJID, dtype: int64"
      ]
     },
     "execution_count": 52,
     "metadata": {},
     "output_type": "execute_result"
    }
   ],
   "source": [
    "manifest[manifest.Technical_Replicate == 1].groupby(['SAMPLE_USE','SUBJID'])['SUBJID'].count()"
   ]
  },
  {
   "cell_type": "code",
   "execution_count": 130,
   "metadata": {},
   "outputs": [
    {
     "data": {
      "text/html": [
       "<div>\n",
       "<style scoped>\n",
       "    .dataframe tbody tr th:only-of-type {\n",
       "        vertical-align: middle;\n",
       "    }\n",
       "\n",
       "    .dataframe tbody tr th {\n",
       "        vertical-align: top;\n",
       "    }\n",
       "\n",
       "    .dataframe thead th {\n",
       "        text-align: right;\n",
       "    }\n",
       "</style>\n",
       "<table border=\"1\" class=\"dataframe\">\n",
       "  <thead>\n",
       "    <tr style=\"text-align: right;\">\n",
       "      <th></th>\n",
       "      <th>SUBJID</th>\n",
       "      <th>SampleID</th>\n",
       "      <th>BODY_SITE</th>\n",
       "      <th>ANALYTE_TYPE</th>\n",
       "      <th>Sequencing_Center</th>\n",
       "      <th>Sequencing_Platform</th>\n",
       "      <th>SAMPLE_USE</th>\n",
       "      <th>Technical_Replicate</th>\n",
       "      <th>Study_DSS</th>\n",
       "      <th>Sample_Set</th>\n",
       "    </tr>\n",
       "  </thead>\n",
       "  <tbody>\n",
       "    <tr>\n",
       "      <th>20581</th>\n",
       "      <td>A-CUHS-CU001167</td>\n",
       "      <td>A-CUHS-CU001167-BL-COL-32167BL1</td>\n",
       "      <td>Blood</td>\n",
       "      <td>DNA</td>\n",
       "      <td>Baylor</td>\n",
       "      <td>Illumina_HiSeq_2000</td>\n",
       "      <td>WGS</td>\n",
       "      <td>1</td>\n",
       "      <td>sa000001</td>\n",
       "      <td>snd10000</td>\n",
       "    </tr>\n",
       "    <tr>\n",
       "      <th>20582</th>\n",
       "      <td>A-CUHS-CU001167</td>\n",
       "      <td>A-CUHS-CU001167-BL-COL-32167BL1r</td>\n",
       "      <td>Blood</td>\n",
       "      <td>DNA</td>\n",
       "      <td>Broad</td>\n",
       "      <td>Illumina_HiSeq_2000</td>\n",
       "      <td>WGS</td>\n",
       "      <td>1</td>\n",
       "      <td>sa000001</td>\n",
       "      <td>snd10000</td>\n",
       "    </tr>\n",
       "    <tr>\n",
       "      <th>20583</th>\n",
       "      <td>A-CUHS-CU001167</td>\n",
       "      <td>A-CUHS-CU001167-BL-COL-32167BL1w</td>\n",
       "      <td>Blood</td>\n",
       "      <td>DNA</td>\n",
       "      <td>WashU</td>\n",
       "      <td>Illumina_HiSeq_2000</td>\n",
       "      <td>WGS</td>\n",
       "      <td>1</td>\n",
       "      <td>sa000001</td>\n",
       "      <td>snd10000</td>\n",
       "    </tr>\n",
       "    <tr>\n",
       "      <th>21125</th>\n",
       "      <td>A-CUHS-CU001167</td>\n",
       "      <td>A-CUHS-CU001167-BL-COL-32167BL1dea</td>\n",
       "      <td>Blood</td>\n",
       "      <td>DNA</td>\n",
       "      <td>Baylor</td>\n",
       "      <td>Illumina_HiSeqX</td>\n",
       "      <td>WGS</td>\n",
       "      <td>1</td>\n",
       "      <td>sa000001</td>\n",
       "      <td>snd10001</td>\n",
       "    </tr>\n",
       "    <tr>\n",
       "      <th>21126</th>\n",
       "      <td>A-CUHS-CU001167</td>\n",
       "      <td>A-CUHS-CU001167-BL-COL-32167BL1der</td>\n",
       "      <td>Blood</td>\n",
       "      <td>DNA</td>\n",
       "      <td>Broad</td>\n",
       "      <td>Illumina_HiSeqX</td>\n",
       "      <td>WGS</td>\n",
       "      <td>1</td>\n",
       "      <td>sa000001</td>\n",
       "      <td>snd10001</td>\n",
       "    </tr>\n",
       "    <tr>\n",
       "      <th>21127</th>\n",
       "      <td>A-CUHS-CU001167</td>\n",
       "      <td>A-CUHS-CU001167-BL-COL-32167BL1dew</td>\n",
       "      <td>Blood</td>\n",
       "      <td>DNA</td>\n",
       "      <td>WashU</td>\n",
       "      <td>Illumina_HiSeqX</td>\n",
       "      <td>WGS</td>\n",
       "      <td>1</td>\n",
       "      <td>sa000001</td>\n",
       "      <td>snd10001</td>\n",
       "    </tr>\n",
       "    <tr>\n",
       "      <th>21128</th>\n",
       "      <td>A-CUHS-CU001167</td>\n",
       "      <td>A-CUHS-CU001167-BL-COL-32167BL1fa</td>\n",
       "      <td>Blood</td>\n",
       "      <td>DNA</td>\n",
       "      <td>Baylor</td>\n",
       "      <td>Illumina_HiSeqX</td>\n",
       "      <td>WGS</td>\n",
       "      <td>1</td>\n",
       "      <td>sa000001</td>\n",
       "      <td>snd10001</td>\n",
       "    </tr>\n",
       "    <tr>\n",
       "      <th>21129</th>\n",
       "      <td>A-CUHS-CU001167</td>\n",
       "      <td>A-CUHS-CU001167-BL-COL-32167BL1fr</td>\n",
       "      <td>Blood</td>\n",
       "      <td>DNA</td>\n",
       "      <td>Broad</td>\n",
       "      <td>Illumina_HiSeqX</td>\n",
       "      <td>WGS</td>\n",
       "      <td>1</td>\n",
       "      <td>sa000001</td>\n",
       "      <td>snd10001</td>\n",
       "    </tr>\n",
       "    <tr>\n",
       "      <th>21130</th>\n",
       "      <td>A-CUHS-CU001167</td>\n",
       "      <td>A-CUHS-CU001167-BL-COL-32167BL1fw</td>\n",
       "      <td>Blood</td>\n",
       "      <td>DNA</td>\n",
       "      <td>WashU</td>\n",
       "      <td>Illumina_HiSeqX</td>\n",
       "      <td>WGS</td>\n",
       "      <td>1</td>\n",
       "      <td>sa000001</td>\n",
       "      <td>snd10001</td>\n",
       "    </tr>\n",
       "    <tr>\n",
       "      <th>56851</th>\n",
       "      <td>A-CUHS-CU001167</td>\n",
       "      <td>A-CUHS-CU001167-BL-COL-32167BL1u1-F01</td>\n",
       "      <td>Blood</td>\n",
       "      <td>DNA</td>\n",
       "      <td>USUHS</td>\n",
       "      <td>Illumina_HiSeqX</td>\n",
       "      <td>WGS</td>\n",
       "      <td>1</td>\n",
       "      <td>sa000001</td>\n",
       "      <td>snd10031</td>\n",
       "    </tr>\n",
       "    <tr>\n",
       "      <th>56852</th>\n",
       "      <td>A-CUHS-CU001167</td>\n",
       "      <td>A-CUHS-CU001167-BL-COL-32167BL1u2-H12</td>\n",
       "      <td>Blood</td>\n",
       "      <td>DNA</td>\n",
       "      <td>USUHS</td>\n",
       "      <td>Illumina_HiSeqX</td>\n",
       "      <td>WGS</td>\n",
       "      <td>1</td>\n",
       "      <td>sa000001</td>\n",
       "      <td>snd10031</td>\n",
       "    </tr>\n",
       "    <tr>\n",
       "      <th>56853</th>\n",
       "      <td>A-CUHS-CU001167</td>\n",
       "      <td>A-CUHS-CU001167-BL-COL-32167BL1u3-H12</td>\n",
       "      <td>Blood</td>\n",
       "      <td>DNA</td>\n",
       "      <td>USUHS</td>\n",
       "      <td>Illumina_NovaSeq</td>\n",
       "      <td>WGS</td>\n",
       "      <td>1</td>\n",
       "      <td>sa000001</td>\n",
       "      <td>snd10031</td>\n",
       "    </tr>\n",
       "  </tbody>\n",
       "</table>\n",
       "</div>"
      ],
      "text/plain": [
       "                SUBJID                               SampleID BODY_SITE  \\\n",
       "20581  A-CUHS-CU001167        A-CUHS-CU001167-BL-COL-32167BL1     Blood   \n",
       "20582  A-CUHS-CU001167       A-CUHS-CU001167-BL-COL-32167BL1r     Blood   \n",
       "20583  A-CUHS-CU001167       A-CUHS-CU001167-BL-COL-32167BL1w     Blood   \n",
       "21125  A-CUHS-CU001167     A-CUHS-CU001167-BL-COL-32167BL1dea     Blood   \n",
       "21126  A-CUHS-CU001167     A-CUHS-CU001167-BL-COL-32167BL1der     Blood   \n",
       "21127  A-CUHS-CU001167     A-CUHS-CU001167-BL-COL-32167BL1dew     Blood   \n",
       "21128  A-CUHS-CU001167      A-CUHS-CU001167-BL-COL-32167BL1fa     Blood   \n",
       "21129  A-CUHS-CU001167      A-CUHS-CU001167-BL-COL-32167BL1fr     Blood   \n",
       "21130  A-CUHS-CU001167      A-CUHS-CU001167-BL-COL-32167BL1fw     Blood   \n",
       "56851  A-CUHS-CU001167  A-CUHS-CU001167-BL-COL-32167BL1u1-F01     Blood   \n",
       "56852  A-CUHS-CU001167  A-CUHS-CU001167-BL-COL-32167BL1u2-H12     Blood   \n",
       "56853  A-CUHS-CU001167  A-CUHS-CU001167-BL-COL-32167BL1u3-H12     Blood   \n",
       "\n",
       "      ANALYTE_TYPE Sequencing_Center  Sequencing_Platform SAMPLE_USE  \\\n",
       "20581          DNA            Baylor  Illumina_HiSeq_2000        WGS   \n",
       "20582          DNA             Broad  Illumina_HiSeq_2000        WGS   \n",
       "20583          DNA             WashU  Illumina_HiSeq_2000        WGS   \n",
       "21125          DNA            Baylor      Illumina_HiSeqX        WGS   \n",
       "21126          DNA             Broad      Illumina_HiSeqX        WGS   \n",
       "21127          DNA             WashU      Illumina_HiSeqX        WGS   \n",
       "21128          DNA            Baylor      Illumina_HiSeqX        WGS   \n",
       "21129          DNA             Broad      Illumina_HiSeqX        WGS   \n",
       "21130          DNA             WashU      Illumina_HiSeqX        WGS   \n",
       "56851          DNA             USUHS      Illumina_HiSeqX        WGS   \n",
       "56852          DNA             USUHS      Illumina_HiSeqX        WGS   \n",
       "56853          DNA             USUHS     Illumina_NovaSeq        WGS   \n",
       "\n",
       "       Technical_Replicate Study_DSS Sample_Set  \n",
       "20581                    1  sa000001   snd10000  \n",
       "20582                    1  sa000001   snd10000  \n",
       "20583                    1  sa000001   snd10000  \n",
       "21125                    1  sa000001   snd10001  \n",
       "21126                    1  sa000001   snd10001  \n",
       "21127                    1  sa000001   snd10001  \n",
       "21128                    1  sa000001   snd10001  \n",
       "21129                    1  sa000001   snd10001  \n",
       "21130                    1  sa000001   snd10001  \n",
       "56851                    1  sa000001   snd10031  \n",
       "56852                    1  sa000001   snd10031  \n",
       "56853                    1  sa000001   snd10031  "
      ]
     },
     "execution_count": 130,
     "metadata": {},
     "output_type": "execute_result"
    }
   ],
   "source": [
    "manifest[manifest.SUBJID == 'A-CUHS-CU001167']"
   ]
  },
  {
   "cell_type": "code",
   "execution_count": 85,
   "metadata": {},
   "outputs": [
    {
     "data": {
      "text/plain": [
       "SUBJID\n",
       "A-CUHS-CU001166    13\n",
       "A-CUHS-CU001163    13\n",
       "A-CUHS-CU001167    12\n",
       "A-CUHS-CU009833    10\n",
       "A-NCRD-NC005389    10\n",
       "                   ..\n",
       "A-ADC-AD016243      2\n",
       "A-ADC-AD016242      2\n",
       "A-ADC-AD016234      2\n",
       "A-ADC-AD016232      2\n",
       "A-ADC-AD000017      2\n",
       "Length: 629, dtype: int64"
      ]
     },
     "execution_count": 85,
     "metadata": {},
     "output_type": "execute_result"
    }
   ],
   "source": [
    "manifest_multi_WGS[manifest_multi_WGS.duplicated(subset = 'SUBJID', keep = False)].value_counts('SUBJID')"
   ]
  },
  {
   "cell_type": "code",
   "execution_count": 53,
   "metadata": {},
   "outputs": [],
   "source": [
    "manifest_multi_WGS = manifest_multi_WGS.drop_duplicates(subset= 'SUBJID')  ## only keep the first one"
   ]
  },
  {
   "cell_type": "code",
   "execution_count": 54,
   "metadata": {},
   "outputs": [
    {
     "name": "stdout",
     "output_type": "stream",
     "text": [
      "(195, 10)\n"
     ]
    }
   ],
   "source": [
    "## WES\n",
    "manifest_multi_WES = manifest[(manifest.SUBJID.duplicated(keep=False)) & (~manifest.SUBJID.isin(manifest_multi_WGS.SUBJID))]\n",
    "manifest_multi_WES = manifest_multi_WES.drop_duplicates(subset= 'SUBJID')\n",
    "print(manifest_multi_WES.shape)"
   ]
  },
  {
   "cell_type": "code",
   "execution_count": 55,
   "metadata": {},
   "outputs": [],
   "source": [
    "manifest_merge = pd.concat([manifest[(~manifest.SUBJID.isin(manifest_multi_WES.SUBJID)) & (~manifest.SUBJID.isin(manifest_multi_WGS.SUBJID))], manifest_multi_WES, manifest_multi_WGS])"
   ]
  },
  {
   "cell_type": "code",
   "execution_count": 56,
   "metadata": {},
   "outputs": [
    {
     "data": {
      "text/plain": [
       "(39049, 10)"
      ]
     },
     "execution_count": 56,
     "metadata": {},
     "output_type": "execute_result"
    }
   ],
   "source": [
    "manifest_merge.shape"
   ]
  },
  {
   "cell_type": "code",
   "execution_count": 140,
   "metadata": {},
   "outputs": [
    {
     "data": {
      "text/plain": [
       "39049"
      ]
     },
     "execution_count": 140,
     "metadata": {},
     "output_type": "execute_result"
    }
   ],
   "source": [
    "len(manifest_merge.SUBJID.unique())"
   ]
  },
  {
   "cell_type": "code",
   "execution_count": 141,
   "metadata": {},
   "outputs": [
    {
     "data": {
      "text/plain": [
       "(40966, 8)"
      ]
     },
     "execution_count": 141,
     "metadata": {},
     "output_type": "execute_result"
    }
   ],
   "source": [
    "pheno_merge.shape"
   ]
  },
  {
   "cell_type": "code",
   "execution_count": 57,
   "metadata": {},
   "outputs": [],
   "source": [
    "pheno_w_sampleID = pheno_merge.merge(manifest_merge)"
   ]
  },
  {
   "cell_type": "code",
   "execution_count": 58,
   "metadata": {},
   "outputs": [
    {
     "data": {
      "text/plain": [
       "(39049, 17)"
      ]
     },
     "execution_count": 58,
     "metadata": {},
     "output_type": "execute_result"
    }
   ],
   "source": [
    "pheno_w_sampleID.shape\n"
   ]
  },
  {
   "cell_type": "code",
   "execution_count": 59,
   "metadata": {},
   "outputs": [
    {
     "data": {
      "text/plain": [
       "WGS    23552\n",
       "WES    15497\n",
       "Name: SAMPLE_USE, dtype: int64"
      ]
     },
     "execution_count": 59,
     "metadata": {},
     "output_type": "execute_result"
    }
   ],
   "source": [
    "pheno_w_sampleID.SAMPLE_USE.value_counts()"
   ]
  },
  {
   "cell_type": "code",
   "execution_count": 145,
   "metadata": {},
   "outputs": [],
   "source": [
    "pheno_w_sampleID.to_csv(path+'pheno_merge_PSPCBD_sampleID.tsv', sep = '\\t', index = False)"
   ]
  },
  {
   "cell_type": "code",
   "execution_count": 177,
   "metadata": {},
   "outputs": [
    {
     "data": {
      "text/html": [
       "<div>\n",
       "<style scoped>\n",
       "    .dataframe tbody tr th:only-of-type {\n",
       "        vertical-align: middle;\n",
       "    }\n",
       "\n",
       "    .dataframe tbody tr th {\n",
       "        vertical-align: top;\n",
       "    }\n",
       "\n",
       "    .dataframe thead th {\n",
       "        text-align: right;\n",
       "    }\n",
       "</style>\n",
       "<table border=\"1\" class=\"dataframe\">\n",
       "  <thead>\n",
       "    <tr style=\"text-align: right;\">\n",
       "      <th></th>\n",
       "      <th>SUBJID</th>\n",
       "      <th>Sex</th>\n",
       "      <th>Age</th>\n",
       "      <th>Age_baseline</th>\n",
       "      <th>APOE_reported</th>\n",
       "      <th>Race</th>\n",
       "      <th>Diagnosis</th>\n",
       "      <th>source</th>\n",
       "    </tr>\n",
       "  </thead>\n",
       "  <tbody>\n",
       "    <tr>\n",
       "      <th>1575</th>\n",
       "      <td>A-CUHS-CU000386</td>\n",
       "      <td>0</td>\n",
       "      <td>74</td>\n",
       "      <td>74</td>\n",
       "      <td>33</td>\n",
       "      <td>6</td>\n",
       "      <td>0</td>\n",
       "      <td>Family_based</td>\n",
       "    </tr>\n",
       "    <tr>\n",
       "      <th>1576</th>\n",
       "      <td>A-CUHS-CU000388</td>\n",
       "      <td>0</td>\n",
       "      <td>81</td>\n",
       "      <td>81</td>\n",
       "      <td>23</td>\n",
       "      <td>6</td>\n",
       "      <td>0</td>\n",
       "      <td>Family_based</td>\n",
       "    </tr>\n",
       "    <tr>\n",
       "      <th>1577</th>\n",
       "      <td>A-CUHS-CU000389</td>\n",
       "      <td>0</td>\n",
       "      <td>76</td>\n",
       "      <td>76</td>\n",
       "      <td>33</td>\n",
       "      <td>6</td>\n",
       "      <td>0</td>\n",
       "      <td>Family_based</td>\n",
       "    </tr>\n",
       "    <tr>\n",
       "      <th>1578</th>\n",
       "      <td>A-CUHS-CU000390</td>\n",
       "      <td>0</td>\n",
       "      <td>64</td>\n",
       "      <td>57</td>\n",
       "      <td>33</td>\n",
       "      <td>6</td>\n",
       "      <td>0</td>\n",
       "      <td>Family_based</td>\n",
       "    </tr>\n",
       "    <tr>\n",
       "      <th>1580</th>\n",
       "      <td>A-CUHS-CU000401</td>\n",
       "      <td>1</td>\n",
       "      <td>59</td>\n",
       "      <td>59</td>\n",
       "      <td>33</td>\n",
       "      <td>6</td>\n",
       "      <td>0</td>\n",
       "      <td>Family_based</td>\n",
       "    </tr>\n",
       "    <tr>\n",
       "      <th>...</th>\n",
       "      <td>...</td>\n",
       "      <td>...</td>\n",
       "      <td>...</td>\n",
       "      <td>...</td>\n",
       "      <td>...</td>\n",
       "      <td>...</td>\n",
       "      <td>...</td>\n",
       "      <td>...</td>\n",
       "    </tr>\n",
       "    <tr>\n",
       "      <th>5502</th>\n",
       "      <td>A-LOAD-LD014144</td>\n",
       "      <td>1</td>\n",
       "      <td>61</td>\n",
       "      <td>61</td>\n",
       "      <td>44</td>\n",
       "      <td>5</td>\n",
       "      <td>1</td>\n",
       "      <td>Family_based</td>\n",
       "    </tr>\n",
       "    <tr>\n",
       "      <th>5503</th>\n",
       "      <td>A-LOAD-LD010144</td>\n",
       "      <td>1</td>\n",
       "      <td>74</td>\n",
       "      <td>80</td>\n",
       "      <td>34</td>\n",
       "      <td>5</td>\n",
       "      <td>1</td>\n",
       "      <td>Family_based</td>\n",
       "    </tr>\n",
       "    <tr>\n",
       "      <th>5517</th>\n",
       "      <td>A-CUHS-CU007232</td>\n",
       "      <td>0</td>\n",
       "      <td>73</td>\n",
       "      <td>77</td>\n",
       "      <td>34</td>\n",
       "      <td>5</td>\n",
       "      <td>1</td>\n",
       "      <td>Family_based</td>\n",
       "    </tr>\n",
       "    <tr>\n",
       "      <th>5518</th>\n",
       "      <td>A-CUHS-CU007253</td>\n",
       "      <td>1</td>\n",
       "      <td>65</td>\n",
       "      <td>69</td>\n",
       "      <td>44</td>\n",
       "      <td>4</td>\n",
       "      <td>1</td>\n",
       "      <td>Family_based</td>\n",
       "    </tr>\n",
       "    <tr>\n",
       "      <th>5519</th>\n",
       "      <td>A-CUHS-CU012109</td>\n",
       "      <td>1</td>\n",
       "      <td>64</td>\n",
       "      <td>81</td>\n",
       "      <td>44</td>\n",
       "      <td>4</td>\n",
       "      <td>1</td>\n",
       "      <td>Family_based</td>\n",
       "    </tr>\n",
       "  </tbody>\n",
       "</table>\n",
       "<p>1917 rows × 8 columns</p>\n",
       "</div>"
      ],
      "text/plain": [
       "               SUBJID  Sex  Age  Age_baseline  APOE_reported  Race  Diagnosis  \\\n",
       "1575  A-CUHS-CU000386    0   74            74             33     6          0   \n",
       "1576  A-CUHS-CU000388    0   81            81             23     6          0   \n",
       "1577  A-CUHS-CU000389    0   76            76             33     6          0   \n",
       "1578  A-CUHS-CU000390    0   64            57             33     6          0   \n",
       "1580  A-CUHS-CU000401    1   59            59             33     6          0   \n",
       "...               ...  ...  ...           ...            ...   ...        ...   \n",
       "5502  A-LOAD-LD014144    1   61            61             44     5          1   \n",
       "5503  A-LOAD-LD010144    1   74            80             34     5          1   \n",
       "5517  A-CUHS-CU007232    0   73            77             34     5          1   \n",
       "5518  A-CUHS-CU007253    1   65            69             44     4          1   \n",
       "5519  A-CUHS-CU012109    1   64            81             44     4          1   \n",
       "\n",
       "            source  \n",
       "1575  Family_based  \n",
       "1576  Family_based  \n",
       "1577  Family_based  \n",
       "1578  Family_based  \n",
       "1580  Family_based  \n",
       "...            ...  \n",
       "5502  Family_based  \n",
       "5503  Family_based  \n",
       "5517  Family_based  \n",
       "5518  Family_based  \n",
       "5519  Family_based  \n",
       "\n",
       "[1917 rows x 8 columns]"
      ]
     },
     "execution_count": 177,
     "metadata": {},
     "output_type": "execute_result"
    }
   ],
   "source": [
    "pheno_merge[~pheno_merge.SUBJID.isin(manifest_merge.SUBJID)]"
   ]
  },
  {
   "cell_type": "markdown",
   "metadata": {},
   "source": [
    "### check king"
   ]
  },
  {
   "cell_type": "code",
   "execution_count": 66,
   "metadata": {},
   "outputs": [],
   "source": [
    "#king_manifest = pd.read_csv(path+'pheno_merge_sampleID_king.tsv', sep = '\\t')\n",
    "king = np.loadtxt(\"/gpfs/commons/groups/knowles_lab/data/ADSP_reguloML/ADSP_vcf/phenotype_file/release_36K/unrelated_samples.txt\", dtype=str) ## The non-related individual's sample ID calculate from Kinship only have sample I"
   ]
  },
  {
   "cell_type": "code",
   "execution_count": 67,
   "metadata": {},
   "outputs": [
    {
     "data": {
      "text/plain": [
       "(36210, 17)"
      ]
     },
     "execution_count": 67,
     "metadata": {},
     "output_type": "execute_result"
    }
   ],
   "source": [
    "king_manifest.shape"
   ]
  },
  {
   "cell_type": "code",
   "execution_count": 68,
   "metadata": {},
   "outputs": [
    {
     "data": {
      "text/plain": [
       "(39049, 17)"
      ]
     },
     "execution_count": 68,
     "metadata": {},
     "output_type": "execute_result"
    }
   ],
   "source": [
    "pheno_w_sampleID.shape"
   ]
  },
  {
   "cell_type": "code",
   "execution_count": 70,
   "metadata": {},
   "outputs": [
    {
     "data": {
      "text/html": [
       "<div>\n",
       "<style scoped>\n",
       "    .dataframe tbody tr th:only-of-type {\n",
       "        vertical-align: middle;\n",
       "    }\n",
       "\n",
       "    .dataframe tbody tr th {\n",
       "        vertical-align: top;\n",
       "    }\n",
       "\n",
       "    .dataframe thead th {\n",
       "        text-align: right;\n",
       "    }\n",
       "</style>\n",
       "<table border=\"1\" class=\"dataframe\">\n",
       "  <thead>\n",
       "    <tr style=\"text-align: right;\">\n",
       "      <th></th>\n",
       "      <th>SUBJID</th>\n",
       "      <th>Sex</th>\n",
       "      <th>Age</th>\n",
       "      <th>Age_baseline</th>\n",
       "      <th>APOE_reported</th>\n",
       "      <th>Race</th>\n",
       "      <th>Diagnosis</th>\n",
       "      <th>source</th>\n",
       "      <th>SampleID</th>\n",
       "      <th>BODY_SITE</th>\n",
       "      <th>ANALYTE_TYPE</th>\n",
       "      <th>Sequencing_Center</th>\n",
       "      <th>Sequencing_Platform</th>\n",
       "      <th>SAMPLE_USE</th>\n",
       "      <th>Technical_Replicate</th>\n",
       "      <th>Study_DSS</th>\n",
       "      <th>Sample_Set</th>\n",
       "    </tr>\n",
       "  </thead>\n",
       "  <tbody>\n",
       "    <tr>\n",
       "      <th>1</th>\n",
       "      <td>ADNI_002_S_0685</td>\n",
       "      <td>1</td>\n",
       "      <td>90</td>\n",
       "      <td>89</td>\n",
       "      <td>33.0</td>\n",
       "      <td>5.0</td>\n",
       "      <td>0</td>\n",
       "      <td>ADNI</td>\n",
       "      <td>ADNI_002_S_0685</td>\n",
       "      <td>Blood</td>\n",
       "      <td>DNA</td>\n",
       "      <td>Illumina</td>\n",
       "      <td>Illumina_HiSeq_2000</td>\n",
       "      <td>WGS</td>\n",
       "      <td>0</td>\n",
       "      <td>sa000002</td>\n",
       "      <td>snd10002</td>\n",
       "    </tr>\n",
       "    <tr>\n",
       "      <th>3</th>\n",
       "      <td>ADNI_002_S_1155</td>\n",
       "      <td>0</td>\n",
       "      <td>69</td>\n",
       "      <td>57</td>\n",
       "      <td>33.0</td>\n",
       "      <td>5.0</td>\n",
       "      <td>0</td>\n",
       "      <td>ADNI</td>\n",
       "      <td>ADNI_002_S_1155</td>\n",
       "      <td>Blood</td>\n",
       "      <td>DNA</td>\n",
       "      <td>Illumina</td>\n",
       "      <td>Illumina_HiSeq_2000</td>\n",
       "      <td>WGS</td>\n",
       "      <td>0</td>\n",
       "      <td>sa000002</td>\n",
       "      <td>snd10002</td>\n",
       "    </tr>\n",
       "    <tr>\n",
       "      <th>4</th>\n",
       "      <td>ADNI_002_S_1261</td>\n",
       "      <td>1</td>\n",
       "      <td>82</td>\n",
       "      <td>71</td>\n",
       "      <td>33.0</td>\n",
       "      <td>5.0</td>\n",
       "      <td>0</td>\n",
       "      <td>ADNI</td>\n",
       "      <td>ADNI_002_S_1261</td>\n",
       "      <td>Blood</td>\n",
       "      <td>DNA</td>\n",
       "      <td>Illumina</td>\n",
       "      <td>Illumina_HiSeq_2000</td>\n",
       "      <td>WGS</td>\n",
       "      <td>0</td>\n",
       "      <td>sa000002</td>\n",
       "      <td>snd10002</td>\n",
       "    </tr>\n",
       "    <tr>\n",
       "      <th>7</th>\n",
       "      <td>ADNI_002_S_2010</td>\n",
       "      <td>1</td>\n",
       "      <td>68</td>\n",
       "      <td>62</td>\n",
       "      <td>34.0</td>\n",
       "      <td>6.0</td>\n",
       "      <td>0</td>\n",
       "      <td>ADNI</td>\n",
       "      <td>ADNI_002_S_2010</td>\n",
       "      <td>Blood</td>\n",
       "      <td>DNA</td>\n",
       "      <td>Illumina</td>\n",
       "      <td>Illumina_HiSeq_2000</td>\n",
       "      <td>WGS</td>\n",
       "      <td>0</td>\n",
       "      <td>sa000002</td>\n",
       "      <td>snd10002</td>\n",
       "    </tr>\n",
       "    <tr>\n",
       "      <th>9</th>\n",
       "      <td>ADNI_002_S_2073</td>\n",
       "      <td>1</td>\n",
       "      <td>69</td>\n",
       "      <td>63</td>\n",
       "      <td>33.0</td>\n",
       "      <td>5.0</td>\n",
       "      <td>0</td>\n",
       "      <td>ADNI</td>\n",
       "      <td>ADNI_002_S_2073</td>\n",
       "      <td>Blood</td>\n",
       "      <td>DNA</td>\n",
       "      <td>Illumina</td>\n",
       "      <td>Illumina_HiSeq_2000</td>\n",
       "      <td>WGS</td>\n",
       "      <td>0</td>\n",
       "      <td>sa000002</td>\n",
       "      <td>snd10002</td>\n",
       "    </tr>\n",
       "    <tr>\n",
       "      <th>...</th>\n",
       "      <td>...</td>\n",
       "      <td>...</td>\n",
       "      <td>...</td>\n",
       "      <td>...</td>\n",
       "      <td>...</td>\n",
       "      <td>...</td>\n",
       "      <td>...</td>\n",
       "      <td>...</td>\n",
       "      <td>...</td>\n",
       "      <td>...</td>\n",
       "      <td>...</td>\n",
       "      <td>...</td>\n",
       "      <td>...</td>\n",
       "      <td>...</td>\n",
       "      <td>...</td>\n",
       "      <td>...</td>\n",
       "      <td>...</td>\n",
       "    </tr>\n",
       "    <tr>\n",
       "      <th>39044</th>\n",
       "      <td>P-WZB-PSP10181</td>\n",
       "      <td>0</td>\n",
       "      <td>74</td>\n",
       "      <td>74</td>\n",
       "      <td>33.0</td>\n",
       "      <td>5.0</td>\n",
       "      <td>1</td>\n",
       "      <td>PSPCBD</td>\n",
       "      <td>P-WZB-PSP10181-UNK-UPN-S0042010BB</td>\n",
       "      <td>Unknown</td>\n",
       "      <td>DNA</td>\n",
       "      <td>MACROGEN</td>\n",
       "      <td>Illumina_HiSeqX</td>\n",
       "      <td>WGS</td>\n",
       "      <td>0</td>\n",
       "      <td>sa000016</td>\n",
       "      <td>snd10016</td>\n",
       "    </tr>\n",
       "    <tr>\n",
       "      <th>39045</th>\n",
       "      <td>P-WZB-PSP10182</td>\n",
       "      <td>0</td>\n",
       "      <td>79</td>\n",
       "      <td>79</td>\n",
       "      <td>33.0</td>\n",
       "      <td>5.0</td>\n",
       "      <td>1</td>\n",
       "      <td>PSPCBD</td>\n",
       "      <td>P-WZB-PSP10182-UNK-UPN-S0352010B</td>\n",
       "      <td>Unknown</td>\n",
       "      <td>DNA</td>\n",
       "      <td>MACROGEN</td>\n",
       "      <td>Illumina_HiSeqX</td>\n",
       "      <td>WGS</td>\n",
       "      <td>0</td>\n",
       "      <td>sa000016</td>\n",
       "      <td>snd10016</td>\n",
       "    </tr>\n",
       "    <tr>\n",
       "      <th>39046</th>\n",
       "      <td>P-WZB-PSP5049</td>\n",
       "      <td>0</td>\n",
       "      <td>63</td>\n",
       "      <td>63</td>\n",
       "      <td>33.0</td>\n",
       "      <td>5.0</td>\n",
       "      <td>1</td>\n",
       "      <td>PSPCBD</td>\n",
       "      <td>P-WZB-PSP5049-UNK-UPN-S17704MuK350</td>\n",
       "      <td>Unknown</td>\n",
       "      <td>DNA</td>\n",
       "      <td>MACROGEN</td>\n",
       "      <td>Illumina_HiSeqX</td>\n",
       "      <td>WGS</td>\n",
       "      <td>0</td>\n",
       "      <td>sa000016</td>\n",
       "      <td>snd10016</td>\n",
       "    </tr>\n",
       "    <tr>\n",
       "      <th>39047</th>\n",
       "      <td>P-WZB-PSP5050</td>\n",
       "      <td>0</td>\n",
       "      <td>56</td>\n",
       "      <td>56</td>\n",
       "      <td>34.0</td>\n",
       "      <td>5.0</td>\n",
       "      <td>1</td>\n",
       "      <td>PSPCBD</td>\n",
       "      <td>P-WZB-PSP5050-UNK-UPN-S00201MuK180</td>\n",
       "      <td>Unknown</td>\n",
       "      <td>DNA</td>\n",
       "      <td>MACROGEN</td>\n",
       "      <td>Illumina_HiSeqX</td>\n",
       "      <td>WGS</td>\n",
       "      <td>0</td>\n",
       "      <td>sa000016</td>\n",
       "      <td>snd10016</td>\n",
       "    </tr>\n",
       "    <tr>\n",
       "      <th>39048</th>\n",
       "      <td>P-MAYO-PSP0495</td>\n",
       "      <td>1</td>\n",
       "      <td>73</td>\n",
       "      <td>73</td>\n",
       "      <td>33.0</td>\n",
       "      <td>5.0</td>\n",
       "      <td>1</td>\n",
       "      <td>PSPCBD</td>\n",
       "      <td>P-MAYO-PSP0495-BR-MAY-a0064</td>\n",
       "      <td>Brain</td>\n",
       "      <td>DNA</td>\n",
       "      <td>NYGC</td>\n",
       "      <td>Illumina_HiSeqX</td>\n",
       "      <td>WGS</td>\n",
       "      <td>0</td>\n",
       "      <td>sa000011</td>\n",
       "      <td>snd10011</td>\n",
       "    </tr>\n",
       "  </tbody>\n",
       "</table>\n",
       "<p>21664 rows × 17 columns</p>\n",
       "</div>"
      ],
      "text/plain": [
       "                SUBJID  Sex Age Age_baseline  APOE_reported  Race  Diagnosis  \\\n",
       "1      ADNI_002_S_0685    1  90           89           33.0   5.0          0   \n",
       "3      ADNI_002_S_1155    0  69           57           33.0   5.0          0   \n",
       "4      ADNI_002_S_1261    1  82           71           33.0   5.0          0   \n",
       "7      ADNI_002_S_2010    1  68           62           34.0   6.0          0   \n",
       "9      ADNI_002_S_2073    1  69           63           33.0   5.0          0   \n",
       "...                ...  ...  ..          ...            ...   ...        ...   \n",
       "39044   P-WZB-PSP10181    0  74           74           33.0   5.0          1   \n",
       "39045   P-WZB-PSP10182    0  79           79           33.0   5.0          1   \n",
       "39046    P-WZB-PSP5049    0  63           63           33.0   5.0          1   \n",
       "39047    P-WZB-PSP5050    0  56           56           34.0   5.0          1   \n",
       "39048   P-MAYO-PSP0495    1  73           73           33.0   5.0          1   \n",
       "\n",
       "       source                            SampleID BODY_SITE ANALYTE_TYPE  \\\n",
       "1        ADNI                     ADNI_002_S_0685     Blood          DNA   \n",
       "3        ADNI                     ADNI_002_S_1155     Blood          DNA   \n",
       "4        ADNI                     ADNI_002_S_1261     Blood          DNA   \n",
       "7        ADNI                     ADNI_002_S_2010     Blood          DNA   \n",
       "9        ADNI                     ADNI_002_S_2073     Blood          DNA   \n",
       "...       ...                                 ...       ...          ...   \n",
       "39044  PSPCBD   P-WZB-PSP10181-UNK-UPN-S0042010BB   Unknown          DNA   \n",
       "39045  PSPCBD    P-WZB-PSP10182-UNK-UPN-S0352010B   Unknown          DNA   \n",
       "39046  PSPCBD  P-WZB-PSP5049-UNK-UPN-S17704MuK350   Unknown          DNA   \n",
       "39047  PSPCBD  P-WZB-PSP5050-UNK-UPN-S00201MuK180   Unknown          DNA   \n",
       "39048  PSPCBD         P-MAYO-PSP0495-BR-MAY-a0064     Brain          DNA   \n",
       "\n",
       "      Sequencing_Center  Sequencing_Platform SAMPLE_USE  Technical_Replicate  \\\n",
       "1              Illumina  Illumina_HiSeq_2000        WGS                    0   \n",
       "3              Illumina  Illumina_HiSeq_2000        WGS                    0   \n",
       "4              Illumina  Illumina_HiSeq_2000        WGS                    0   \n",
       "7              Illumina  Illumina_HiSeq_2000        WGS                    0   \n",
       "9              Illumina  Illumina_HiSeq_2000        WGS                    0   \n",
       "...                 ...                  ...        ...                  ...   \n",
       "39044          MACROGEN      Illumina_HiSeqX        WGS                    0   \n",
       "39045          MACROGEN      Illumina_HiSeqX        WGS                    0   \n",
       "39046          MACROGEN      Illumina_HiSeqX        WGS                    0   \n",
       "39047          MACROGEN      Illumina_HiSeqX        WGS                    0   \n",
       "39048              NYGC      Illumina_HiSeqX        WGS                    0   \n",
       "\n",
       "      Study_DSS Sample_Set  \n",
       "1      sa000002   snd10002  \n",
       "3      sa000002   snd10002  \n",
       "4      sa000002   snd10002  \n",
       "7      sa000002   snd10002  \n",
       "9      sa000002   snd10002  \n",
       "...         ...        ...  \n",
       "39044  sa000016   snd10016  \n",
       "39045  sa000016   snd10016  \n",
       "39046  sa000016   snd10016  \n",
       "39047  sa000016   snd10016  \n",
       "39048  sa000011   snd10011  \n",
       "\n",
       "[21664 rows x 17 columns]"
      ]
     },
     "execution_count": 70,
     "metadata": {},
     "output_type": "execute_result"
    }
   ],
   "source": [
    "pheno_w_sampleID[pheno_w_sampleID.SampleID.isin(king)]"
   ]
  },
  {
   "cell_type": "code",
   "execution_count": 155,
   "metadata": {},
   "outputs": [],
   "source": []
  },
  {
   "cell_type": "markdown",
   "metadata": {},
   "source": [
    "## Merge pheno with VCF (dont care about kingship)"
   ]
  },
  {
   "cell_type": "code",
   "execution_count": 78,
   "metadata": {},
   "outputs": [],
   "source": [
    "pheno_vcf = pheno_w_sampleID[pheno_w_sampleID.SampleID.isin(vcf.FID)]\n",
    "pheno_vcf.to_csv(path+'pheno_vcf_merge.tsv', sep = '\\t', index = False)"
   ]
  },
  {
   "cell_type": "code",
   "execution_count": 74,
   "metadata": {},
   "outputs": [
    {
     "data": {
      "text/html": [
       "<div>\n",
       "<style scoped>\n",
       "    .dataframe tbody tr th:only-of-type {\n",
       "        vertical-align: middle;\n",
       "    }\n",
       "\n",
       "    .dataframe tbody tr th {\n",
       "        vertical-align: top;\n",
       "    }\n",
       "\n",
       "    .dataframe thead th {\n",
       "        text-align: right;\n",
       "    }\n",
       "</style>\n",
       "<table border=\"1\" class=\"dataframe\">\n",
       "  <thead>\n",
       "    <tr style=\"text-align: right;\">\n",
       "      <th></th>\n",
       "      <th>Unnamed: 0</th>\n",
       "      <th>FID</th>\n",
       "      <th>IID</th>\n",
       "      <th>MISS_PHENO</th>\n",
       "      <th>N_MISS</th>\n",
       "      <th>N_GENO</th>\n",
       "      <th>F_MISS</th>\n",
       "    </tr>\n",
       "  </thead>\n",
       "  <tbody>\n",
       "  </tbody>\n",
       "</table>\n",
       "</div>"
      ],
      "text/plain": [
       "Empty DataFrame\n",
       "Columns: [Unnamed: 0, FID, IID, MISS_PHENO, N_MISS, N_GENO, F_MISS]\n",
       "Index: []"
      ]
     },
     "execution_count": 74,
     "metadata": {},
     "output_type": "execute_result"
    }
   ],
   "source": [
    "vcf[vcf.FID != vcf.IID]"
   ]
  },
  {
   "cell_type": "code",
   "execution_count": 81,
   "metadata": {},
   "outputs": [
    {
     "data": {
      "text/plain": [
       "(23552, 17)"
      ]
     },
     "execution_count": 81,
     "metadata": {},
     "output_type": "execute_result"
    }
   ],
   "source": [
    "pheno_vcf.shape"
   ]
  },
  {
   "cell_type": "code",
   "execution_count": 80,
   "metadata": {},
   "outputs": [
    {
     "data": {
      "text/plain": [
       "<AxesSubplot:title={'center':'data surce for pheno_merge'}>"
      ]
     },
     "execution_count": 80,
     "metadata": {},
     "output_type": "execute_result"
    },
    {
     "data": {
      "image/png": "[encoded data removed]",
      "text/plain": [
       "<Figure size 432x288 with 1 Axes>"
      ]
     },
     "metadata": {},
     "output_type": "display_data"
    }
   ],
   "source": [
    "pheno_vcf.source.value_counts().plot(kind='pie', ylabel='', title='data surce for pheno_merge')"
   ]
  },
  {
   "cell_type": "code",
   "execution_count": 83,
   "metadata": {},
   "outputs": [
    {
     "data": {
      "text/plain": [
       "1    12122\n",
       "0    11430\n",
       "Name: Diagnosis, dtype: int64"
      ]
     },
     "execution_count": 83,
     "metadata": {},
     "output_type": "execute_result"
    }
   ],
   "source": [
    "pheno_vcf.Diagnosis.value_counts()"
   ]
  },
  {
   "cell_type": "code",
   "execution_count": 85,
   "metadata": {},
   "outputs": [
    {
     "data": {
      "text/plain": [
       "WGS    23552\n",
       "Name: SAMPLE_USE, dtype: int64"
      ]
     },
     "execution_count": 85,
     "metadata": {},
     "output_type": "execute_result"
    }
   ],
   "source": [
    "pheno_vcf.SAMPLE_USE.value_counts()"
   ]
  },
  {
   "cell_type": "code",
   "execution_count": null,
   "metadata": {},
   "outputs": [],
   "source": []
  }
 ],
 "metadata": {
  "kernelspec": {
   "display_name": "polyfun",
   "language": "python",
   "name": "polyfun"
  },
  "language_info": {
   "codemirror_mode": {
    "name": "ipython",
    "version": 3
   },
   "file_extension": ".py",
   "mimetype": "text/x-python",
   "name": "python",
   "nbconvert_exporter": "python",
   "pygments_lexer": "ipython3",
   "version": "3.6.13"
  }
 },
 "nbformat": 4,
 "nbformat_minor": 4
}
