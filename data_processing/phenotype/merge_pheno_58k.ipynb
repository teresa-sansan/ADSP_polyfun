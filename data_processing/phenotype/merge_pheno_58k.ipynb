{
 "cells": [
  {
   "cell_type": "code",
   "execution_count": 1,
   "metadata": {},
   "outputs": [],
   "source": [
    "import pandas as pd\n",
    "import numpy as np\n",
    "\n",
    "import seaborn as sns\n",
    "import matplotlib.pyplot as plt"
   ]
  },
  {
   "cell_type": "code",
   "execution_count": 2,
   "metadata": {},
   "outputs": [
    {
     "name": "stderr",
     "output_type": "stream",
     "text": [
      "/gpfs/commons/home/tlin/.conda/envs/polyfun/lib/python3.6/site-packages/IPython/core/interactiveshell.py:3072: DtypeWarning: Columns (36) have mixed types.Specify dtype option on import or set low_memory=False.\n",
      "  interactivity=interactivity, compiler=compiler, result=result)\n"
     ]
    }
   ],
   "source": [
    "## load data\n",
    "path = '/gpfs/commons/groups/knowles_lab/data/ADSP_reguloML/ADSP_vcf/58K_preview/phenotype/'\n",
    "ADNI = pd.read_csv(path + \"ADNIPhenotypes_DS_2024.11.22_ALL.csv\")\n",
    "family_based = pd.read_csv(path + \"ADSPFamilyBasedPhenotypes_DS_2024.11.22_ALL.csv\")\n",
    "case_control = pd.read_csv(path + \"ADSPCaseControlPhenotypes_DS_2024.11.22_ALL.csv\")\n",
    "\n",
    "SUBJ_drop = pd.read_excel('/gpfs/commons/groups/knowles_lab/data/ADSP_reguloML/ADSP_vcf/phenotype_file/release_36K/ng00067_subject_droplist_2022.08.18.xlsx', engine = 'openpyxl')## old drop list\n",
    "manifest = pd.read_csv(path + \"SampleManifest_DS_2024.11.22_ALL.csv\") ## the one with mapping info\n",
    "\n",
    "qc = pd.read_csv(path+\"gcad.r5.wgs.58507.2024.11.03.quality.metrics.ALL.csv\") ## this one contains QC info( all the sampleID here are WGS)"
   ]
  },
  {
   "cell_type": "markdown",
   "metadata": {
    "jp-MarkdownHeadingCollapsed": true,
    "tags": []
   },
   "source": [
    "## deal with pheno_merge"
   ]
  },
  {
   "cell_type": "code",
   "execution_count": 3,
   "metadata": {},
   "outputs": [
    {
     "name": "stdout",
     "output_type": "stream",
     "text": [
      "(2168, 33) (42898, 29) (62764, 30)\n"
     ]
    }
   ],
   "source": [
    "print(ADNI.shape, family_based.shape, case_control.shape)"
   ]
  },
  {
   "cell_type": "markdown",
   "metadata": {
    "tags": []
   },
   "source": [
    "### ADNI"
   ]
  },
  {
   "cell_type": "code",
   "execution_count": 4,
   "metadata": {},
   "outputs": [
    {
     "name": "stdout",
     "output_type": "stream",
     "text": [
      "0.0    1427\n",
      "1.0     740\n",
      "Name: AD_last_visit, dtype: int64\n",
      "(740, 33)\n"
     ]
    }
   ],
   "source": [
    "## can directly use AD_last visit for Diagnosis\n",
    "print(ADNI.AD_last_visit.value_counts())\n",
    "print(ADNI[(ADNI.PrevAD == 1) | (ADNI.IncAD == 1)].shape)"
   ]
  },
  {
   "cell_type": "code",
   "execution_count": 5,
   "metadata": {
    "tags": []
   },
   "outputs": [
    {
     "name": "stdout",
     "output_type": "stream",
     "text": [
      "Diagnosis\n",
      "0.0    1427\n",
      "1.0     740\n",
      "dtype: int64\n"
     ]
    },
    {
     "data": {
      "text/plain": [
       "(2168, 28)"
      ]
     },
     "execution_count": 5,
     "metadata": {},
     "output_type": "execute_result"
    }
   ],
   "source": [
    "# ADNI_column = ['SUBJID','Sex','Cohort','PrevAD','IncAD','AD_last_visit','Age_current','Age_baseline','Age_MCI_onset','Age_AD_onset','Comments', 'Duplicate_SUBJID', 'Flag',\n",
    "#        'Latest_Update_Version', 'Base_PrevAD', 'Base_IncAD', 'Base_AUTOPSY', 'Base_Braak', 'Base_AD', 'Base_MCI', 'Base_Version','Correction']\n",
    "#ADNI_processed = ADNI.loc[:,ADNI_column]\n",
    "ADNI_processed = ADNI\n",
    "ADNI_processed[\"Diagnosis\"] = ADNI_processed.AD_last_visit\n",
    "\n",
    "ADNI_processed[\"Age\"] = ADNI_processed.Age_current\n",
    "ADNI_processed.loc[ADNI_processed.Diagnosis == 1,'Age'] = ADNI_processed.loc[ADNI_processed.Diagnosis == 1,'Age_AD_onset']  ## changed the age to age of onset of they are AD cases\n",
    "\n",
    "\n",
    "ADNI_processed.drop(['PrevAD','IncAD','AD_last_visit','Age_current','Age_baseline','Age_AD_onset','Age_MCI_onset'], axis=1, inplace=True)\n",
    "\n",
    "print(ADNI_processed.value_counts('Diagnosis'))\n",
    "ADNI_processed.shape"
   ]
  },
  {
   "cell_type": "code",
   "execution_count": 6,
   "metadata": {
    "tags": []
   },
   "outputs": [
    {
     "data": {
      "text/plain": [
       "SUBJID                   0.0\n",
       "Cohort                   0.0\n",
       "Sex                      0.0\n",
       "APOE_reported            0.0\n",
       "APOE_WGS                 0.0\n",
       "AUTOPSY                  0.0\n",
       "Braak                    0.0\n",
       "Race                     0.0\n",
       "Ethnicity                0.0\n",
       "MCI_last_visit           0.0\n",
       "Comments                 0.0\n",
       "Duplicate_SUBJID         0.0\n",
       "Flag                     0.0\n",
       "Latest_Update_Version    0.0\n",
       "Base_PrevAD              0.0\n",
       "Base_IncAD               0.0\n",
       "Base_Age                 0.0\n",
       "Base_AUTOPSY             0.0\n",
       "Base_Braak               0.0\n",
       "Base_AD                  0.0\n",
       "Base_MCI                 0.0\n",
       "Base_Version             0.0\n",
       "Update_Baseline          0.0\n",
       "Update_Latest            0.0\n",
       "Update_Diagnosis         0.0\n",
       "Correction               0.0\n",
       "Diagnosis                0.0\n",
       "Age                      0.0\n",
       "dtype: float64"
      ]
     },
     "execution_count": 6,
     "metadata": {},
     "output_type": "execute_result"
    }
   ],
   "source": [
    "## check NA\n",
    "ADNI_processed[ADNI_processed.isnull()].sum()"
   ]
  },
  {
   "cell_type": "markdown",
   "metadata": {
    "tags": []
   },
   "source": [
    "### family_based"
   ]
  },
  {
   "cell_type": "code",
   "execution_count": 7,
   "metadata": {},
   "outputs": [
    {
     "data": {
      "image/png": "[encoded data removed]",
      "text/plain": [
       "<Figure size 432x288 with 1 Axes>"
      ]
     },
     "metadata": {
      "needs_background": "light"
     },
     "output_type": "display_data"
    }
   ],
   "source": [
    "ax = family_based.AD.value_counts().plot(kind='bar', ylabel='', title='AD status in Family based')\n",
    "for p in ax.patches:\n",
    "    ax.annotate(str(p.get_height()), (p.get_x() + p.get_width() / 2, p.get_height()), ha='center', va='bottom')\n",
    "\n",
    "plt.show()"
   ]
  },
  {
   "cell_type": "code",
   "execution_count": 8,
   "metadata": {},
   "outputs": [
    {
     "data": {
      "text/plain": [
       "NaN    34290\n",
       "0.0     5022\n",
       "1.0     3586\n",
       "Name: Diagnosis, dtype: int64"
      ]
     },
     "execution_count": 8,
     "metadata": {},
     "output_type": "execute_result"
    }
   ],
   "source": [
    "family_based['Diagnosis'] = np.nan\n",
    "family_based.loc[(family_based['AD'] >=1) & (family_based['AD'] <=3), \"Diagnosis\"] =1\n",
    "family_based.loc[ family_based['AD'] == 0 , \"Diagnosis\"] =0\n",
    "#family_based.loc[family_based['AD'] != 1, \"Diagnosis\"] = 0\n",
    "family_based.Diagnosis.value_counts(dropna=False)"
   ]
  },
  {
   "cell_type": "markdown",
   "metadata": {
    "tags": []
   },
   "source": [
    "### case_control"
   ]
  },
  {
   "cell_type": "code",
   "execution_count": 9,
   "metadata": {},
   "outputs": [
    {
     "name": "stdout",
     "output_type": "stream",
     "text": [
      "0.0    33970\n",
      "1.0    16890\n",
      "Name: AD, dtype: int64\n",
      "(16890, 30)\n"
     ]
    }
   ],
   "source": [
    "## here we use AD as AD diagnosis\n",
    "print(case_control.AD.value_counts())\n",
    "print(case_control[(case_control.PrevAD == 1) | (case_control.IncAD == 1)].shape)"
   ]
  },
  {
   "cell_type": "code",
   "execution_count": 10,
   "metadata": {},
   "outputs": [
    {
     "name": "stdout",
     "output_type": "stream",
     "text": [
      "0      33970\n",
      "1      16890\n",
      "NaN    11904\n",
      "Name: Diagnosis, dtype: Int64\n"
     ]
    }
   ],
   "source": [
    "case_control.AD = case_control.AD.astype('Int64')\n",
    "case_control_processed = case_control.rename(columns = {'AD':'Diagnosis'})\n",
    "print(case_control_processed.Diagnosis.value_counts(dropna=False))"
   ]
  },
  {
   "cell_type": "code",
   "execution_count": 10,
   "metadata": {
    "collapsed": true,
    "jupyter": {
     "outputs_hidden": true
    },
    "tags": []
   },
   "outputs": [
    {
     "data": {
      "text/plain": [
       "array(['ng00067.v2 - Case converted to Other Dementia',\n",
       "       'ng00067.v3 - Braak corrected, ng00067.v2 - Case converted to Other Dementia',\n",
       "       'ng00067.v2 - Control converted to Other Dementia',\n",
       "       'ng00067.v9 - Diagnosis: [Dementia]',\n",
       "       'ng00067.v9 - Diagnosis: [MCI]', 'ng00067.v9 - Diagnosis: [CIND]',\n",
       "       'ng00067.v9 - Diagnosis: [Cognitive Impairment not AD]',\n",
       "       'ng00067.v9 - Diagnosis: [Cognitively Impaired]',\n",
       "       'ng00067.v9 - Diagnosis: [Other]',\n",
       "       'ng00067.v9 - Diagnosis: [Stroke]',\n",
       "       'ng00067.v9 - Diagnosis: [Borderline]',\n",
       "       'ng00067.v9 - Diagnosis: [Impaired by 3MS<=87]',\n",
       "       'ng00067.v9 - Diagnosis: [Unclear]',\n",
       "       'ng00067.v9 - Diagnosis: [Affected by Exam]',\n",
       "       'ng00067.v9 - Diagnosis: [CI]', 'ng00067.v9 - Diagnosis: [CDX NA]',\n",
       "       nan, 'ng00067.v9 - Diagnosis: [Cog Imp secondary to Vascular]',\n",
       "       'ng00067.v14 - Diagnosis: [MCI]',\n",
       "       'ng00067.v2 - Case Converted to Control, exclude from analyses',\n",
       "       'ng00067.v14 - Case converted to control, exclude from analyses',\n",
       "       'ng00067.v11 - Race corrected, ng00067.v2 - Case Converted to Control, exclude from analyses',\n",
       "       'ng00067.v2 - Case converted to Control, exclude from analyses',\n",
       "       'ng00067.v9 - Diagnosis: [Frontotemporal Lobar Dementia]',\n",
       "       'ng00067.v9 - Diagnosis: [Frontotemporal Dementia]',\n",
       "       'ng00067.v9 - Diagnosis: [Frontotemporal Lobar Degeneration]',\n",
       "       'ng00067.v9 - Diagnosis: [Frontal Lobe Dementia]',\n",
       "       'ng00067.v9 - Diagnosis: [Diffuse Lewy Body Disease, PD]',\n",
       "       \"ng00067.v9 - Diagnosis: [Pick's Disease (FTD)]\",\n",
       "       'ng00067.v9 - Diagnosis: [Diffuse Lewy Body Disease]',\n",
       "       'ng00067.v9 - Diagnosis: [Dementia lacking distinctive histology]',\n",
       "       'ng00067.v9 - Diagnosis: [Frontal Temporal Dementia]',\n",
       "       'ng00067.v11 - Age/Age_baseline correction, ng00067.v9 - Diagnosis: [MCI]',\n",
       "       'ng00067.v11 - Age/Age_baseline correction, ng00067.v9 - Diagnosis: [Dementia]',\n",
       "       'ng00067.v10 - Standardized Braak value, phs000572.v6 - Case converted to Other Dementia',\n",
       "       'phs000572.v6 - Case Converted to Control, exclude from analyses',\n",
       "       'phs000572.v6 - Case converted to Other Dementia',\n",
       "       'ng00067.v10 - Standardized Braak value, ng00067.v2 - Case Converted to Control, exclude from analyses',\n",
       "       'ng00067.v5 - AD at initial visit but non AD dementia at last visit',\n",
       "       'ng00067.v5 - Diagnosis: [MCI]',\n",
       "       'ng00067.v5 - Diagnosis: [Other dx]',\n",
       "       'ng00067.v5 - Subject converted from AD to MCI',\n",
       "       'ng00067.v5 - Diagnosis: [Pathological Aging]',\n",
       "       'ng00067.v10 - Braak corrected, ng00067.v5 - Diagnosis: [LBD: neocortical LB, NPSY testing (Welsh-Bohmer) suggested LBD. Had REM sleep disorder common in PD/LBD]',\n",
       "       'ng00067.v10 - Braak corrected, ng00067.v5 - Diagnosis: [LBD: SN: pal, mod neuronal loss, gliosis, +LB]',\n",
       "       'ng00067.v5 - Diagnosis: [Vascular Dementia: . Temporal lobe atrophy unknown reason, temporal sclerosis?, 1995 MRI reported to be \"c/w AD\"] ',\n",
       "       'ng00067.v5 - Diagnosis: [PDD]',\n",
       "       'ng00067.v5 - Diagnosis: [FTD-17]',\n",
       "       'ng00067.v5 - Diagnosis: [LBD: SN has neuronal loss and moderate LB]',\n",
       "       'ng00067.v5 - Diagnosis: [FTD: FTD]',\n",
       "       'ng00067.v5 - Diagnosis: [LBD: pale SN but only one LB(?), diffuse LB, LBD]',\n",
       "       'ng00067.v3 - Previous diagnosis was revised to reflect all available clinical-phenotype information - MCI',\n",
       "       'ng00067.v3 - Subject converted from AD to MCI',\n",
       "       'ng00067.v2 - Case converted to MCI',\n",
       "       'ng00067.v3 - Previous diagnosis was revised to reflect all available clinical-phenotype information -CIND',\n",
       "       'ng00067.v5 - Diagnosis: [FTD]',\n",
       "       'ng00067.v5 - Diagnosis: [PSP: was a Parkinson patient in Udall]',\n",
       "       'ng00067.v5 - Diagnosis: [PSP]',\n",
       "       'ng00067.v9 - Diagnosis: [Cog Imp secondary to Vascular MCI]',\n",
       "       'ng00067.v9 - Diagnosis: [Dementia undetermined etiology]',\n",
       "       'ng00067.v9 - Diagnosis: [Cog Imp secondary to Vascular MCI ]',\n",
       "       'ng00067.v9 - Diagnosis: [Picks Disease]',\n",
       "       'ng00067.v9 - Diagnosis: [MCI Parkinsons Disease]',\n",
       "       'ng00067.v9 - Diagnosis: [Cognitively Impaired Major depression]',\n",
       "       'ng00067.v9 - Diagnosis: [MCI Major depression]',\n",
       "       'ng00067.v9 - Diagnosis: [Lewy Body]',\n",
       "       'ng00067.v9 - Diagnosis: [Dementia frontal lobe]',\n",
       "       'ng00067.v9 - Diagnosis: [Cognitively Impaired MCI]',\n",
       "       'ng00067.v9 - Diagnosis: [Bipolar disorder]',\n",
       "       'ng00067.v9 - Diagnosis: [MCI Stroke]',\n",
       "       'ng00067.v9 - Diagnosis: [Dementia Parkinsons Disease]',\n",
       "       'ng00067.v9 - Diagnosis: [Dementia vascular (VaD)]',\n",
       "       'ng00067.v9 - Diagnosis: [Other medical diagnosis]',\n",
       "       'ng00067.v9 - Diagnosis: [Dementia Other medical diagnosis undetermined etiology]',\n",
       "       'ng00067.v9 - Diagnosis: [Other neurologic diagnosis]',\n",
       "       'ng00067.v10 - Sex corrected',\n",
       "       'ng00067.v9 - Diagnosis: [ MCI Major depression]',\n",
       "       'ng00067.v9 - Diagnosis: [Alcoholism]',\n",
       "       'ng00067.v9 - Diagnosis: [Dementia Dementia undetermined etiology vascular (VaD)]',\n",
       "       'ng00067.v9 - Diagnosis: [Neuropsychiatric disorder]',\n",
       "       'ng00067.v9 - Diagnosis: [MCI Neuropsychiatric disorder Stroke]',\n",
       "       'ng00067.v9 - Diagnosis: [Other psychiatric]',\n",
       "       'ng00067.v9 - Diagnosis: [Cog Imp secondary to Vascular Major depression]',\n",
       "       \"ng00067.v9 - Diagnosis: [Lewy Body Variant of Alzheimer's Disease, Severe]\",\n",
       "       \"ng00067.v9 - Diagnosis: [Lewy Body Variant of Alzheimer's Disease]\",\n",
       "       'ng00067.v9 - Diagnosis: [Dementia, multi infarct]',\n",
       "       'ng00067.v9 - Diagnosis: [Dementia, Varicella zoster encephalitis]',\n",
       "       'ng00067.v9 - Diagnosis: [Lymphoma]',\n",
       "       'ng00067.v9 - Diagnosis: [Subacute Transient Global Ischemia]',\n",
       "       'ng00067.v9 - Diagnosis: [Dementia, Gliomatosis Cerebri]',\n",
       "       'ng00067.v9 - Diagnosis: [Vascular Dementia]',\n",
       "       'ng00067.v9 - Diagnosis: [Diffuse Lew Body Dementia;Intermediate Leval of AD]',\n",
       "       'ng00067.v9 - Diagnosis: [Dementia, Intravascular Lymphomatosis]',\n",
       "       'ng00067.v9 - Diagnosis: [Dementis, Leukoencephalopathy]',\n",
       "       'ng00067.v9 - Diagnosis: [Dementia. Marked Neuronal Loss with Reactive Astrocytosis and Microgliosis Involving Cerebral Cortex, Basal Ganglia, Thalamus, Brianstem, and Cerebellum / Low Level Alzheimer Disease Neuropatholgoical Change (A1, B2, C1)]',\n",
       "       'ng00067.v9 - Diagnosis: [Neurodegeneration involving Cerebellum and Pons]',\n",
       "       'ng00067.v2 - No diagnosis but not confirmed normal',\n",
       "       'ng00067.v9 - Diagnosis: [Other Neuropsychiatric Disorder]',\n",
       "       'ng00067.v9 - Diagnosis: [Other Dementia]',\n",
       "       'ng00067.v10 - Sex corrected, ng00067.v9 - Diagnosis: [MCI]',\n",
       "       'ng00067.v3 - Case converted to MCI (corrected)',\n",
       "       'phs000572.v6 - Control converted to MCI',\n",
       "       'ng00067.v2 - Diagnosis: [MCI]',\n",
       "       'ng00067.v2 - Diagnosis: [Other Dementia]',\n",
       "       'ng00067.v2 - Diagnosis: [Dementia w/ Lewy Bodies]',\n",
       "       'ng00067.v14 - Diagnosis: [MCI], Age corrected',\n",
       "       'ng00067.v14 - Diagnosis: [Other]',\n",
       "       'ng00067.v3 - Race corrected (to Hispanic but not Hispanic-White), ng00067.v2 - Case converted to Control, exclude from analyses',\n",
       "       'ng00067.v14 - Diagnosis: [MCI], AD corrected',\n",
       "       'ng00067.v11 - Race corrected',\n",
       "       'ng00067.v9 - Diagnosis: [Other dementia]',\n",
       "       'ng00067.v5 - Diagnosis: [Other Dementia]',\n",
       "       'ng00067.v9 - Ethnicity corrected, ng00067.v5 - Diagnosis: [Other Dementia]',\n",
       "       'ng00067.v14 - Other Dementia to Control, exclude from analyses',\n",
       "       'ng00067.v5 - Diagnosis: [Other Dementia/Unknown]',\n",
       "       'ng00067.v12 - Diagnosis: [Predicted Dementia], ng00067.v11 - Dementia status predicted using Machine Learning (CDR diagnosis not available), AD variables corrected to NA for predicted dementia',\n",
       "       'ng00067.v12 - Diagnosis: [Dementia], AD variables corrected to NA for dementia',\n",
       "       'ng00067.v14 - Diagnosis: [Other dementia]',\n",
       "       'ng00067.v14 - Diagnosis: [Dementia]',\n",
       "       \"ng00067.v14 - Diagnosis: [Dementia FTD, Parkinson's Disease]\",\n",
       "       'ng00067.v14 - Diagnosis: [Dementia FTD]',\n",
       "       'ng00067.v14 - Diagnosis: [CIND]',\n",
       "       \"ng00067.v14 - Diagnosis: [Lewy Body Dementia/ Parkinson's Disease]\",\n",
       "       'ng00067.v14 - Diagnosis: [Other medical diagnosis]',\n",
       "       'ng00067.v14 - Diagnosis: [Major depression]',\n",
       "       'ng00067.v14 - Diagnosis: [Other psychiatric]',\n",
       "       'ng00067.v14 - Diagnosis: [Dementia, secondary to posterior cortical atrophy]',\n",
       "       'ng00067.v14 - Diagnosis: [Alcoholism]',\n",
       "       'ng00067.v14 - Diagnosis: [VaD]',\n",
       "       'ng00067.v14 - Diagnosis: [Frontal Variant Alzheimers (FTD)]',\n",
       "       'ng00067.v14 - Diagnosis: [Primary Progressive Aphasia - Semantic Variant]',\n",
       "       'ng00067.v14 - Diagnosis: [FTD]',\n",
       "       'ng00067.v14 - Diagnosis: [Mixed AD/DLB]',\n",
       "       \"ng00067.v14 - Diagnosis: [Lewy Body Variant of Alzheimer's Disease]\",\n",
       "       'ng00067.v14 - Diagnosis: [Lewy Body Dementia]',\n",
       "       'ng00067.v14 - Diagnosis: [Age Related Neurodegenerative D]',\n",
       "       'ng00067.v14 - Diagnosis: [Dementia, Corticobasal Degeneration with Richardson Syndrome]',\n",
       "       'ng00067.v14 - Diagnosis: [Gliomatosis Cerebri]',\n",
       "       'ng00067.v14 - Diagnosis: [Frontotemporal Dementia]',\n",
       "       'ng00067.v14 - Diagnosis: [Leukoencephalopathy]',\n",
       "       'ng00067.v14 - Diagnosis: [Cerebellar Progressive Multifocal Leukoencephalopa]',\n",
       "       'ng00067.v14 - Diagnosis: [Meningoencephalitis]',\n",
       "       'ng00067.v14 - Diagnosis: [Encephalopathy]',\n",
       "       'ng00067.v14 - Diagnosis: [Osteoporosis/Osteopenia, Glaucoma]',\n",
       "       'ng00067.v14 - Diagnosis: [Osteoporosis/Osteopenia, Osteoarthritis]',\n",
       "       'ng00067.v14 - Diagnosis: [Osteoporosis/Osteopenia]',\n",
       "       'ng00067.v14 - Diagnosis: [Osteoporosis/Osteopenia, Hypertension, Glaucoma]',\n",
       "       'ng00067.v14 - Diagnosis: [BPH]',\n",
       "       'ng00067.v14 - Diagnosis: [Glaucoma]',\n",
       "       'ng00067.v14 - Diagnosis: [Osteoporosis/Osteopenia, GERD]',\n",
       "       'ng00067.v14 - Diagnosis: [Hypertension]',\n",
       "       'ng00067.v14 - Diagnosis: [Osteoporosis/Osteopenia, Hypertension]',\n",
       "       'ng00067.v14 - Diagnosis: [GERD]',\n",
       "       'ng00067.v14 - Diagnosis: [GERD, BPH]',\n",
       "       'ng00067.v14 - Diagnosis: [BPH, Hypertension]',\n",
       "       'ng00067.v14 - Diagnosis: [Osteoporosis/Osteopenia, Hypertension, Dyslipidemia]',\n",
       "       'ng00067.v14 - Diagnosis: [BPH, Hypertension, Dyslipidemia]',\n",
       "       'ng00067.v14 - Diagnosis: [Osteoporosis/Osteopenia, Hypothyroid, Dyslipidemia]',\n",
       "       'ng00067.v14 - Diagnosis: [Osteoarthritis, Hypothyroid]',\n",
       "       'ng00067.v14 - Diagnosis: [HRT, Hypertension]',\n",
       "       'ng00067.v14 - Diagnosis: [Osteoporosis/Osteopenia, Osteoarthritis, Glaucoma]',\n",
       "       'ng00067.v14 - Diagnosis: [BPH, Dyslipidemia]',\n",
       "       'ng00067.v14 - Diagnosis: [Hypothyroid]',\n",
       "       'ng00067.v14 - Diagnosis: [Osteoporosis/Osteopenia, Osteoarthritis, Hypertension, Dyslipidemia]',\n",
       "       'ng00067.v14 - Diagnosis: [GERD, Dyslipidemia]',\n",
       "       'ng00067.v14 - Diagnosis: [HRT, Osteoarthritis, Bladder Control, Glaucoma]',\n",
       "       'ng00067.v14 - Diagnosis: [Osteoporosis/Osteopenia, Osteoarthritis, Hypertension]',\n",
       "       'ng00067.v14 - Diagnosis: [BPH, Hypothyroid]',\n",
       "       'ng00067.v14 - Diagnosis: [Osteoporosis/Osteopenia, Dyslipidemia]',\n",
       "       'ng00067.v14 - Diagnosis: [Osteoarthritis]',\n",
       "       'ng00067.v14 - Diagnosis: [Depression/Anxiety, Hypertension]',\n",
       "       'ng00067.v14 - Diagnosis: [BPH, Osteoarthritis]',\n",
       "       'ng00067.v14 - Diagnosis: [Hypothyroid, Hypertension, Glaucoma]',\n",
       "       'ng00067.v14 - Diagnosis: [GERD, Hypertension]',\n",
       "       'ng00067.v14 - Diagnosis: [Depression/Anxiety, GERD, Hypertension, Dyslipidemia, Bladder Control]',\n",
       "       'ng00067.v14 - Diagnosis: [Hypertension, Glaucoma]',\n",
       "       'ng00067.v14 - Diagnosis: [Osteoporosis/Osteopenia, Osteoarthritis, Hypothyroid]',\n",
       "       'ng00067.v14 - Diagnosis: [Osteoarthritis, Hypertension, Dyslipidemia]',\n",
       "       'ng00067.v14 - Diagnosis: [Dyslipidemia]',\n",
       "       'ng00067.v14 - Diagnosis: [Depression/Anxiety, Osteoarthritis]',\n",
       "       'ng00067.v14 - Diagnosis: [Osteoarthritis, Hypertension, Glaucoma]',\n",
       "       'ng00067.v14 - Diagnosis: [HRT, Osteoarthritis, Hypertension, Dyslipidemia]',\n",
       "       'ng00067.v14 - Diagnosis: [Depression/Anxiety, Osteoporosis/Osteopenia, Osteoarthritis, Hypothyroid, Hypertension, Glaucoma]',\n",
       "       'ng00067.v14 - Diagnosis: [Osteoporosis/Osteopenia, Hypothyroid, Hypertension]',\n",
       "       'ng00067.v14 - Diagnosis: [Osteoporosis/Osteopenia, GERD, Macular Degeneration]',\n",
       "       'ng00067.v14 - Diagnosis: [Hypothyroid, Hypertension, Dyslipidemia]',\n",
       "       'ng00067.v14 - Diagnosis: [GERD, Hypertension, Dyslipidemia, Glaucoma, Macular Degeneration]',\n",
       "       'ng00067.v14 - Diagnosis: [GERD, Osteoarthritis, Bladder Control, COPD/Asthma]',\n",
       "       'ng00067.v14 - Diagnosis: [GERD, BPH, Osteoarthritis]',\n",
       "       'ng00067.v14 - Diagnosis: [Hypertension, Dyslipidemia, Glaucoma]',\n",
       "       'ng00067.v14 - Diagnosis: [GERD, Glaucoma]',\n",
       "       'ng00067.v14 - Diagnosis: [HRT, Osteoarthritis, Dyslipidemia]',\n",
       "       'ng00067.v14 - Diagnosis: [Depression/Anxiety, Osteoarthritis, Hypothyroid]',\n",
       "       'ng00067.v14 - Diagnosis: [Hypothyroid, COPD/Asthma]',\n",
       "       'ng00067.v14 - Diagnosis: [Osteoporosis/Osteopenia, Bladder Control, COPD/Asthma]',\n",
       "       'ng00067.v14 - Diagnosis: [BPH, Hypertension, Dyslipidemia, Glaucoma]',\n",
       "       'ng00067.v14 - Diagnosis: [HRT, Osteoarthritis, Hypertension, Glaucoma]',\n",
       "       'ng00067.v14 - Diagnosis: [Osteoporosis/Osteopenia, BPH, Hypertension, Dyslipidemia]',\n",
       "       'ng00067.v14 - Diagnosis: [Hypothyroid, Hypertension]',\n",
       "       'ng00067.v14 - Diagnosis: [Depression/Anxiety, Hypertension, Dyslipidemia]',\n",
       "       'ng00067.v14 - Diagnosis: [Hypertension, Dyslipidemia]',\n",
       "       'ng00067.v14 - Diagnosis: [Osteoarthritis, Hypertension]',\n",
       "       'ng00067.v14 - Diagnosis: [HRT, Hypothyroid]',\n",
       "       'ng00067.v14 - Diagnosis: [GERD, Osteoarthritis]',\n",
       "       'ng00067.v14 - Diagnosis: [Osteoporosis/Osteopenia, GERD, Osteoarthritis, Glaucoma]',\n",
       "       'ng00067.v14 - Diagnosis: [Depression/Anxiety, HRT, Dyslipidemia]',\n",
       "       'ng00067.v14 - Diagnosis: [GERD, Hypertension, Dyslipidemia]',\n",
       "       'ng00067.v14 - Diagnosis: [Depression/Anxiety, GERD, Osteoarthritis]',\n",
       "       'ng00067.v14 - Diagnosis: [Depression/Anxiety, Osteoarthritis, Hypertension]',\n",
       "       'ng00067.v14 - Diagnosis: [Depression/Anxiety, GERD, Osteoarthritis, Hypertension]',\n",
       "       'ng00067.v14 - Diagnosis: [Dyslipidemia, Glaucoma]',\n",
       "       'ng00067.v14 - Diagnosis: [Osteoarthritis, Hypothyroid, Hypertension, Dyslipidemia, COPD/Asthma]',\n",
       "       'ng00067.v14 - Diagnosis: [GERD, BPH, Osteoarthritis, Hypothyroid, Hypertension, Dyslipidemia]',\n",
       "       'ng00067.v14 - Diagnosis: [GERD, Osteoarthritis, Hypothyroid, Hypertension, Dyslipidemia]',\n",
       "       'ng00067.v14 - Diagnosis: [Depression/Anxiety, GERD, Osteoarthritis, Hypothyroid, Hypertension]',\n",
       "       'ng00067.v14 - Diagnosis: [Depression/Anxiety, BPH, Glaucoma]',\n",
       "       'ng00067.v14 - Diagnosis: [GERD, COPD/Asthma]',\n",
       "       'ng00067.v14 - Diagnosis: [HRT, Osteoarthritis, Hypertension]',\n",
       "       'ng00067.v14 - Diagnosis: [Osteoporosis/Osteopenia, Osteoarthritis, Hypertension, Bladder Control]',\n",
       "       'ng00067.v14 - Diagnosis: [Osteoarthritis, Hypothyroid, Hypertension, Glaucoma]',\n",
       "       'ng00067.v14 - Diagnosis: [Osteoporosis/Osteopenia, Osteoarthritis, COPD/Asthma]',\n",
       "       'ng00067.v14 - Diagnosis: [Osteoporosis/Osteopenia, HRT, GERD, Osteoarthritis]',\n",
       "       'ng00067.v14 - Diagnosis: [Osteoporosis/Osteopenia, Osteoarthritis, Hypothyroid, Hypertension, Dyslipidemia]',\n",
       "       'ng00067.v14 - Diagnosis: [GERD, Osteoarthritis, Hypertension]',\n",
       "       'ng00067.v14 - Diagnosis: [Depression/Anxiety, Osteoporosis/Osteopenia]',\n",
       "       'ng00067.v14 - Diagnosis: [GERD, Osteoarthritis, Hypothyroid, Hypertension]',\n",
       "       'ng00067.v14 - Diagnosis: [Osteoarthritis, Hypertension, Dyslipidemia, Glaucoma]',\n",
       "       'ng00067.v14 - Diagnosis: [HRT, Osteoarthritis, Hypothyroid, Hypertension]',\n",
       "       'ng00067.v14 - Diagnosis: [Macular Degeneration]',\n",
       "       'ng00067.v14 - Diagnosis: [Osteoarthritis, Hypothyroid, Hypertension]',\n",
       "       'ng00067.v14 - Diagnosis: [GERD, Osteoarthritis, Glaucoma]',\n",
       "       'ng00067.v14 - Diagnosis: [Hypothyroid, Dyslipidemia]',\n",
       "       'ng00067.v14 - Diagnosis: [BPH, Osteoarthritis, Hypothyroid]',\n",
       "       'ng00067.v14 - Diagnosis: [BPH, Osteoarthritis, Hypertension, Dyslipidemia]',\n",
       "       'ng00067.v14 - Diagnosis: [HRT]',\n",
       "       'ng00067.v14 - Diagnosis: [Osteoporosis/Osteopenia, Osteoarthritis, Hypothyroid, Hypertension, Dyslipidemia, Glaucoma]',\n",
       "       'ng00067.v14 - Diagnosis: [GERD, Hypertension, Dyslipidemia, Glaucoma]',\n",
       "       'ng00067.v14 - Diagnosis: [HRT, Dyslipidemia]',\n",
       "       'ng00067.v14 - Diagnosis: [Depression/Anxiety, Osteoarthritis, Hypertension, Dyslipidemia]',\n",
       "       'ng00067.v14 - Diagnosis: [Depression/Anxiety, Hypothyroid]',\n",
       "       'ng00067.v14 - Diagnosis: [BPH, Hypothyroid, Dyslipidemia, Glaucoma]',\n",
       "       'ng00067.v14 - Diagnosis: [Osteoarthritis, Hypertension, Bladder Control]',\n",
       "       'ng00067.v14 - Diagnosis: [Osteoporosis/Osteopenia, HRT]',\n",
       "       'ng00067.v14 - Diagnosis: [Osteoporosis/Osteopenia, HRT, Osteoarthritis, Hypothyroid, Dyslipidemia]',\n",
       "       'ng00067.v14 - Diagnosis: [Osteoarthritis, Hypothyroid, Hypertension, Dyslipidemia]',\n",
       "       'ng00067.v14 - Diagnosis: [GERD, BPH, Osteoarthritis, Hypertension, Dyslipidemia]',\n",
       "       'ng00067.v14 - Diagnosis: [BPH, Osteoarthritis, Hypertension]',\n",
       "       'ng00067.v14 - Diagnosis: [GERD, BPH, Osteoarthritis, Dyslipidemia]',\n",
       "       'ng00067.v14 - Diagnosis: [Depression/Anxiety, HRT, Hypothyroid, Hypertension]',\n",
       "       'ng00067.v14 - Diagnosis: [BPH, Osteoarthritis, Glaucoma]',\n",
       "       'ng00067.v14 - Diagnosis: [Osteoarthritis, Bladder Control, Glaucoma]',\n",
       "       'ng00067.v14 - Diagnosis: [BPH, Glaucoma]',\n",
       "       'ng00067.v14 - Diagnosis: [BPH, Osteoarthritis, COPD/Asthma]',\n",
       "       'ng00067.v14 - Diagnosis: [HRT, BPH, Osteoarthritis, Hypertension, Dyslipidemia]',\n",
       "       'ng00067.v14 - Diagnosis: [COPD/Asthma]',\n",
       "       'ng00067.v14 - Diagnosis: [Osteoporosis/Osteopenia, Hypertension, Bladder Control]',\n",
       "       'ng00067.v14 - Diagnosis: [Dyslipidemia, COPD/Asthma]',\n",
       "       'ng00067.v14 - Diagnosis: [HRT, GERD, Osteoarthritis, Hypothyroid, Hypertension]',\n",
       "       'ng00067.v14 - Diagnosis: [Osteoporosis/Osteopenia, Hypothyroid]',\n",
       "       'ng00067.v14 - Diagnosis: [GERD, Hypothyroid, Dyslipidemia, Glaucoma]',\n",
       "       'ng00067.v14 - Diagnosis: [Osteoporosis/Osteopenia, GERD, Osteoarthritis, Dyslipidemia]',\n",
       "       'ng00067.v14 - Diagnosis: [Osteoarthritis, Dyslipidemia]',\n",
       "       'ng00067.v14 - Diagnosis: [GERD, Hypothyroid, Bladder Control, Macular Degeneration]',\n",
       "       'ng00067.v14 - Diagnosis: [BPH, Osteoarthritis, Macular Degeneration]',\n",
       "       'ng00067.v14 - Diagnosis: [Osteoporosis/Osteopenia, Osteoarthritis, Dyslipidemia]',\n",
       "       'ng00067.v14 - Diagnosis: [Osteoporosis/Osteopenia, Osteoarthritis, Hypothyroid, Hypertension]',\n",
       "       'ng00067.v14 - Diagnosis: [Depression/Anxiety, HRT, GERD, Osteoarthritis, Hypertension]',\n",
       "       'ng00067.v14 - Diagnosis: [Hypertension, Dyslipidemia, COPD/Asthma]',\n",
       "       'ng00067.v14 - Diagnosis: [GERD, Osteoarthritis, Hypertension, Dyslipidemia]',\n",
       "       'ng00067.v14 - Diagnosis: [GERD, Osteoarthritis, Hypertension, Bladder Control]',\n",
       "       'ng00067.v14 - Diagnosis: [Osteoporosis/Osteopenia, HRT, Osteoarthritis]',\n",
       "       'ng00067.v14 - Diagnosis: [Osteoarthritis, Dyslipidemia, COPD/Asthma]',\n",
       "       'ng00067.v14 - Diagnosis: [HRT, GERD, Osteoarthritis, Hypertension, Glaucoma]',\n",
       "       'ng00067.v14 - Diagnosis: [BPH, Osteoarthritis, Hypothyroid, Dyslipidemia]',\n",
       "       'ng00067.v14 - Diagnosis: [BPH, Bladder Control, Glaucoma]',\n",
       "       'ng00067.v14 - Diagnosis: [Osteoporosis/Osteopenia, Osteoarthritis, Hypothyroid, Bladder Control]',\n",
       "       'ng00067.v14 - Diagnosis: [Osteoarthritis, Bladder Control]',\n",
       "       'ng00067.v14 - Diagnosis: [Bladder Control]',\n",
       "       'ng00067.v14 - Diagnosis: [HRT, Osteoarthritis, Hypothyroid]',\n",
       "       'ng00067.v14 - Diagnosis: [Depression/Anxiety, GERD, BPH, Osteoarthritis]',\n",
       "       'ng00067.v14 - Diagnosis: [Osteoporosis/Osteopenia, HRT, Hypothyroid]',\n",
       "       'ng00067.v14 - Diagnosis: [Osteoarthritis, Macular Degeneration]',\n",
       "       'ng00067.v14 - Diagnosis: [Depression/Anxiety, Osteoporosis/Osteopenia, GERD, Osteoarthritis]',\n",
       "       'ng00067.v14 - Diagnosis: [GERD, BPH, Hypothyroid, Hypertension]',\n",
       "       'ng00067.v14 - Diagnosis: [Osteoporosis/Osteopenia, Osteoarthritis, Hypothyroid, Dyslipidemia]',\n",
       "       'ng00067.v14 - Diagnosis: [HRT, Osteoarthritis]',\n",
       "       'ng00067.v14 - Diagnosis: [BPH, Osteoarthritis, Hypertension, Glaucoma]',\n",
       "       'ng00067.v14 - Diagnosis: [HRT, Hypothyroid, Hypertension, Dyslipidemia]',\n",
       "       'ng00067.v14 - Diagnosis: [GERD, Hypothyroid, Hypertension]',\n",
       "       'ng00067.v14 - Diagnosis: [GERD, Hypothyroid, Dyslipidemia]',\n",
       "       'ng00067.v14 - Diagnosis: [BPH, Hypothyroid, Bladder Control]',\n",
       "       'ng00067.v14 - Diagnosis: [Osteoporosis/Osteopenia, Hypothyroid, Hypertension, Dyslipidemia, Bladder Control]',\n",
       "       'ng00067.v14 - Diagnosis: [Depression/Anxiety, Osteoporosis/Osteopenia, Osteoarthritis, Macular Degeneration]',\n",
       "       'ng00067.v14 - Diagnosis: [Osteoporosis/Osteopenia, HRT, GERD, Osteoarthritis, Hypertension, Dyslipidemia]',\n",
       "       'ng00067.v14 - Diagnosis: [GERD, BPH, Hypertension, Dyslipidemia]',\n",
       "       'ng00067.v14 - Diagnosis: [GERD, Hypertension, Dyslipidemia, Bladder Control]',\n",
       "       'ng00067.v14 - Diagnosis: [Osteoporosis/Osteopenia, Osteoarthritis, Hypertension, Dyslipidemia, Bladder Control]',\n",
       "       'ng00067.v14 - Diagnosis: [Osteoporosis/Osteopenia, Hypertension, Macular Degeneration]',\n",
       "       'ng00067.v14 - Diagnosis: [Osteoporosis/Osteopenia, BPH, Glaucoma, Macular Degeneration]',\n",
       "       'ng00067.v14 - Diagnosis: [Osteoporosis/Osteopenia, Osteoarthritis, Macular Degeneration]',\n",
       "       'ng00067.v14 - Diagnosis: [Depression/Anxiety, Osteoporosis/Osteopenia, Osteoarthritis]',\n",
       "       'ng00067.v14 - Diagnosis: [Hypothyroid, Hypertension, Dyslipidemia, Glaucoma]',\n",
       "       'ng00067.v14 - Diagnosis: [BPH, Hypothyroid, Hypertension]',\n",
       "       'ng00067.v14 - Diagnosis: [Osteoporosis/Osteopenia, Osteoarthritis, Hypertension, Macular Degeneration]',\n",
       "       'ng00067.v14 - Diagnosis: [GERD, BPH, Dyslipidemia]',\n",
       "       'ng00067.v14 - Diagnosis: [Depression/Anxiety, Osteoporosis/Osteopenia, Hypothyroid, Hypertension]',\n",
       "       'ng00067.v14 - Diagnosis: [Depression/Anxiety, HRT, Osteoarthritis, Hypertension]',\n",
       "       'ng00067.v14 - Diagnosis: [Osteoporosis/Osteopenia, Osteoarthritis, Hypertension, Dyslipidemia, Macular Degeneration]',\n",
       "       'ng00067.v14 - Diagnosis: [BPH, Osteoarthritis, COPD/Asthma, Glaucoma]',\n",
       "       'ng00067.v14 - Diagnosis: [Osteoporosis/Osteopenia, Hypothyroid, Hypertension, Dyslipidemia, COPD/Asthma]',\n",
       "       'ng00067.v14 - Diagnosis: [Osteoporosis/Osteopenia, Osteoarthritis, Bladder Control]',\n",
       "       'ng00067.v14 - Diagnosis: [Osteoporosis/Osteopenia, Osteoarthritis, Hypertension, Glaucoma]',\n",
       "       'ng00067.v14 - Diagnosis: [Osteoporosis/Osteopenia, Osteoarthritis, Hypertension, Dyslipidemia, Glaucoma]',\n",
       "       'ng00067.v14 - Diagnosis: [Hypothyroid, Hypertension, Glaucoma, Macular Degeneration]',\n",
       "       'ng00067.v14 - Diagnosis: [Hypertension, Macular Degeneration]',\n",
       "       'ng00067.v14 - Diagnosis: [Osteoporosis/Osteopenia, HRT, Hypothyroid, Hypertension, Bladder Control]',\n",
       "       'ng00067.v14 - Diagnosis: [BPH, Osteoarthritis, Hypertension, COPD/Asthma]',\n",
       "       'ng00067.v14 - Diagnosis: [Osteoporosis/Osteopenia, GERD, Osteoarthritis, Hypothyroid, Hypertension, Dyslipidemia, COPD/Asthma]',\n",
       "       'ng00067.v14 - Diagnosis: [Osteoarthritis, Hypothyroid, COPD/Asthma]',\n",
       "       'ng00067.v14 - Diagnosis: [Osteoarthritis, Glaucoma, Macular Degeneration]',\n",
       "       'ng00067.v14 - Diagnosis: [Depression/Anxiety, GERD, Osteoarthritis, Hypertension, Bladder Control]',\n",
       "       'ng00067.v14 - Diagnosis: [Osteoporosis/Osteopenia, GERD, Hypertension]',\n",
       "       'ng00067.v14 - Diagnosis: [HRT, Hypothyroid, Dyslipidemia, COPD/Asthma]',\n",
       "       'ng00067.v14 - Diagnosis: [Osteoporosis/Osteopenia, HRT, Osteoarthritis, Dyslipidemia]',\n",
       "       'ng00067.v14 - Diagnosis: [GERD, Macular Degeneration]',\n",
       "       'ng00067.v14 - Diagnosis: [Depression/Anxiety, Hypothyroid, Hypertension, Dyslipidemia, Bladder Control]',\n",
       "       'ng00067.v14 - Diagnosis: [Osteoarthritis, Hypothyroid, Dyslipidemia, Macular Degeneration]',\n",
       "       'ng00067.v14 - Diagnosis: [Hypertension, COPD/Asthma]',\n",
       "       'ng00067.v14 - Diagnosis: [Depression/Anxiety, GERD, Osteoarthritis, Hypothyroid, Hypertension, Dyslipidemia, Macular Degeneration]',\n",
       "       'ng00067.v14 - Diagnosis: [Osteoarthritis, Hypothyroid, Dyslipidemia, Glaucoma]',\n",
       "       'ng00067.v14 - Diagnosis: [GERD, Osteoarthritis, Hypothyroid, Dyslipidemia]',\n",
       "       'ng00067.v14 - Diagnosis: [GERD, Osteoarthritis, Dyslipidemia, Glaucoma]',\n",
       "       'ng00067.v14 - Diagnosis: [Depression/Anxiety, Osteoporosis/Osteopenia, Osteoarthritis, Hypertension]',\n",
       "       'ng00067.v14 - Diagnosis: [HRT, Hypertension, Dyslipidemia]',\n",
       "       'ng00067.v14 - Diagnosis: [Depression/Anxiety, Osteoporosis/Osteopenia, Osteoarthritis, Hypertension, Glaucoma]',\n",
       "       'ng00067.v14 - Diagnosis: [Osteoporosis/Osteopenia, GERD, Osteoarthritis, Hypertension, Dyslipidemia]',\n",
       "       'ng00067.v14 - Diagnosis: [Depression/Anxiety, GERD, BPH, Osteoarthritis, Dyslipidemia]',\n",
       "       'ng00067.v14 - Diagnosis: [Glaucoma, Macular Degeneration]',\n",
       "       'ng00067.v14 - Diagnosis: [BPH, Osteoarthritis, Hypothyroid, Hypertension]',\n",
       "       'ng00067.v14 - Diagnosis: [BPH, Osteoarthritis, Hypothyroid, Glaucoma, Macular Degeneration]',\n",
       "       'ng00067.v14 - Diagnosis: [Osteoporosis/Osteopenia, GERD, Osteoarthritis, Hypertension]',\n",
       "       'ng00067.v14 - Diagnosis: [Depression/Anxiety, Osteoarthritis, Hypertension, Dyslipidemia, Glaucoma]',\n",
       "       'ng00067.v14 - Diagnosis: [Osteoporosis/Osteopenia, HRT, GERD, Hypertension]',\n",
       "       'ng00067.v14 - Diagnosis: [Osteoporosis/Osteopenia, Macular Degeneration]',\n",
       "       'ng00067.v14 - Diagnosis: [Dyslipidemia, Macular Degeneration]',\n",
       "       'ng00067.v14 - Diagnosis: [Osteoporosis/Osteopenia, Osteoarthritis, Dyslipidemia, Macular Degeneration]',\n",
       "       'ng00067.v14 - Diagnosis: [Osteoporosis/Osteopenia, Hypothyroid, Glaucoma]',\n",
       "       'ng00067.v14 - Diagnosis: [BPH, Osteoarthritis, Dyslipidemia]',\n",
       "       'ng00067.v14 - Diagnosis: [Osteoporosis/Osteopenia, Osteoarthritis, Dyslipidemia, Glaucoma]',\n",
       "       'ng00067.v14 - Diagnosis: [BPH, COPD/Asthma]',\n",
       "       'ng00067.v14 - Diagnosis: [HRT, GERD, Osteoarthritis, Hypertension]',\n",
       "       'ng00067.v14 - Diagnosis: [Depression/Anxiety, HRT, GERD, Hypothyroid]',\n",
       "       'ng00067.v14 - Diagnosis: [Osteoporosis/Osteopenia, GERD, Osteoarthritis, Hypothyroid, Hypertension, Dyslipidemia]',\n",
       "       'ng00067.v14 - Diagnosis: [Depression/Anxiety, Osteoporosis/Osteopenia, HRT, Osteoarthritis, Dyslipidemia, Glaucoma]',\n",
       "       'ng00067.v14 - Diagnosis: [Osteoarthritis, Hypothyroid, Bladder Control]',\n",
       "       'ng00067.v14 - Diagnosis: [Osteoarthritis, Glaucoma]',\n",
       "       'ng00067.v14 - Diagnosis: [Hypothyroid, Glaucoma]',\n",
       "       'ng00067.v14 - Diagnosis: [Osteoarthritis, Dyslipidemia, Glaucoma]',\n",
       "       'ng00067.v14 - Diagnosis: [Osteoporosis/Osteopenia, Hypothyroid, Hypertension, Dyslipidemia, Macular Degeneration]',\n",
       "       'ng00067.v14 - Diagnosis: [Osteoporosis/Osteopenia, Hypothyroid, Hypertension, Dyslipidemia]',\n",
       "       'ng00067.v14 - Diagnosis: [Osteoporosis/Osteopenia, Hypothyroid, Macular Degeneration]',\n",
       "       'ng00067.v14 - Diagnosis: [Depression/Anxiety, Hypothyroid, Hypertension]',\n",
       "       'ng00067.v14 - Diagnosis: [Osteoporosis/Osteopenia, Osteoarthritis, Hypothyroid, Hypertension, Bladder Control]',\n",
       "       'ng00067.v14 - Diagnosis: [Osteoporosis/Osteopenia, HRT, Osteoarthritis, Glaucoma]',\n",
       "       'ng00067.v14 - Diagnosis: [Osteoarthritis, Dyslipidemia, Macular Degeneration]',\n",
       "       'ng00067.v14 - Diagnosis: [Depression/Anxiety, Osteoarthritis, Hypertension, Macular Degeneration]',\n",
       "       'ng00067.v14 - Diagnosis: [Depression/Anxiety, HRT, Osteoarthritis, Hypothyroid, COPD/Asthma, Macular Degeneration]',\n",
       "       'ng00067.v14 - Diagnosis: [Osteoporosis/Osteopenia, GERD, Dyslipidemia]',\n",
       "       'ng00067.v14 - Diagnosis: [Hypertension, Dyslipidemia, Bladder Control]',\n",
       "       'ng00067.v14 - Diagnosis: [Depression/Anxiety, BPH, Hypothyroid, Hypertension, Dyslipidemia]',\n",
       "       'ng00067.v14 - Diagnosis: [BPH, Osteoarthritis, Dyslipidemia, Bladder Control, Glaucoma]',\n",
       "       'ng00067.v14 - Diagnosis: [GERD, Hypothyroid]',\n",
       "       'ng00067.v14 - Diagnosis: [Osteoporosis/Osteopenia, Dyslipidemia, COPD/Asthma, Macular Degeneration]',\n",
       "       'ng00067.v14 - Diagnosis: [Hypertension, Bladder Control]',\n",
       "       'ng00067.v14 - Diagnosis: [Osteoporosis/Osteopenia, GERD, Hypertension, Dyslipidemia, Bladder Control]',\n",
       "       'ng00067.v14 - Diagnosis: [Osteoporosis/Osteopenia, BPH, Osteoarthritis, Hypertension]',\n",
       "       'ng00067.v14 - Diagnosis: [Depression/Anxiety, Osteoporosis/Osteopenia, Osteoarthritis, Hypothyroid]',\n",
       "       'ng00067.v14 - Diagnosis: [Osteoporosis/Osteopenia, Osteoarthritis, Hypothyroid, Macular Degeneration]',\n",
       "       'ng00067.v14 - Diagnosis: [BPH, Hypertension, Dyslipidemia, COPD/Asthma, Macular Degeneration]',\n",
       "       'ng00067.v14 - Diagnosis: [Osteoarthritis, COPD/Asthma]',\n",
       "       'ng00067.v14 - Diagnosis: [Osteoporosis/Osteopenia, Osteoarthritis, Dyslipidemia, COPD/Asthma]',\n",
       "       'ng00067.v14 - Diagnosis: [Depression/Anxiety, GERD, Osteoarthritis, Hypothyroid, Hypertension, Glaucoma]',\n",
       "       'ng00067.v14 - Diagnosis: [Depression/Anxiety, BPH, Hypertension, Bladder Control]',\n",
       "       'ng00067.v14 - Diagnosis: [Depression/Anxiety, Osteoarthritis, Dyslipidemia, Glaucoma]',\n",
       "       'ng00067.v14 - Diagnosis: [Depression/Anxiety]',\n",
       "       'ng00067.v14 - Diagnosis: [Osteoporosis/Osteopenia, GERD, Osteoarthritis, Dyslipidemia, Glaucoma]',\n",
       "       'ng00067.v14 - Diagnosis: [Osteoporosis/Osteopenia, Hypertension, Bladder Control, Glaucoma]',\n",
       "       'ng00067.v14 - Diagnosis: [Depression/Anxiety, GERD, Osteoarthritis, Hypertension, Dyslipidemia, Bladder Control, Glaucoma]',\n",
       "       'ng00067.v14 - Diagnosis: [Osteoarthritis, Hypothyroid, Glaucoma]',\n",
       "       'ng00067.v14 - Diagnosis: [Osteoarthritis, Hypertension, Macular Degeneration]',\n",
       "       'ng00067.v14 - Diagnosis: [Osteoarthritis, Hypertension, Dyslipidemia, Macular Degeneration]',\n",
       "       'ng00067.v14 - Diagnosis: [HRT, GERD, Osteoarthritis, Hypothyroid, Hypertension, COPD/Asthma]',\n",
       "       'ng00067.v14 - Diagnosis: [Osteoarthritis, Hypertension, Dyslipidemia, Bladder Control]',\n",
       "       'ng00067.v14 - Diagnosis: [Osteoporosis/Osteopenia, Hypothyroid, Hypertension, Macular Degeneration]',\n",
       "       'ng00067.v14 - Diagnosis: [Osteoporosis/Osteopenia, HRT, Osteoarthritis, Hypothyroid]',\n",
       "       'ng00067.v14 - Diagnosis: [Osteoporosis/Osteopenia, HRT, GERD, Osteoarthritis, Hypertension, Glaucoma]',\n",
       "       'ng00067.v14 - Diagnosis: [BPH, Osteoarthritis, Hypertension, Macular Degeneration]',\n",
       "       'ng00067.v14 - Diagnosis: [Osteoporosis/Osteopenia, BPH]',\n",
       "       'ng00067.v14 - Diagnosis: [Osteoporosis/Osteopenia, Osteoarthritis, Hypothyroid, Glaucoma]',\n",
       "       'ng00067.v14 - Diagnosis: [HRT, Osteoarthritis, COPD/Asthma, Glaucoma]',\n",
       "       'ng00067.v14 - Diagnosis: [Depression/Anxiety, Osteoporosis/Osteopenia, GERD, Osteoarthritis, Hypertension, Dyslipidemia]',\n",
       "       'ng00067.v14 - Diagnosis: [Osteoporosis/Osteopenia, Hypothyroid, Hypertension, Glaucoma]',\n",
       "       'ng00067.v14 - Diagnosis: [Osteoporosis/Osteopenia, GERD, Osteoarthritis, Hypothyroid, Hypertension]',\n",
       "       'ng00067.v14 - Diagnosis: [GERD, BPH, Hypertension, Glaucoma]',\n",
       "       'ng00067.v14 - Diagnosis: [GERD, BPH, Hypothyroid]',\n",
       "       'ng00067.v14 - Diagnosis: [GERD, BPH, Hypothyroid, Hypertension, Dyslipidemia, Glaucoma]',\n",
       "       'ng00067.v14 - Diagnosis: [Depression/Anxiety, GERD, BPH, Hypothyroid, Hypertension]',\n",
       "       'ng00067.v14 - Diagnosis: [Depression/Anxiety, GERD, Dyslipidemia]',\n",
       "       'ng00067.v14 - Diagnosis: [GERD, Dyslipidemia, COPD/Asthma]',\n",
       "       'ng00067.v14 - Diagnosis: [HRT, GERD, Osteoarthritis, Hypertension, Dyslipidemia, Bladder Control]',\n",
       "       'ng00067.v14 - Diagnosis: [Osteoporosis/Osteopenia, GERD, Osteoarthritis]',\n",
       "       'ng00067.v14 - Diagnosis: [BPH, Osteoarthritis, Hypothyroid, Hypertension, Dyslipidemia]',\n",
       "       'ng00067.v14 - Diagnosis: [GERD, Osteoarthritis, Hypertension, Macular Degeneration]',\n",
       "       'ng00067.v14 - Diagnosis: [Osteoarthritis, Hypothyroid, Hypertension, Dyslipidemia, Glaucoma, Macular Degeneration]',\n",
       "       'ng00067.v14 - Diagnosis: [GERD, BPH, Hypertension]',\n",
       "       'ng00067.v14 - Diagnosis: [BPH, Osteoarthritis, Dyslipidemia, Macular Degeneration]',\n",
       "       'ng00067.v14 - Diagnosis: [Osteoporosis/Osteopenia, HRT, Osteoarthritis, Hypothyroid, Hypertension]',\n",
       "       'ng00067.v14 - Diagnosis: [Osteoarthritis, Hypothyroid, Hypertension, Macular Degeneration]',\n",
       "       'ng00067.v14 - Diagnosis: [Depression/Anxiety, Osteoporosis/Osteopenia, Osteoarthritis, Hypothyroid, Hypertension, Macular Degeneration]',\n",
       "       'ng00067.v14 - Diagnosis: [GERD, Hypothyroid, Hypertension, Dyslipidemia]',\n",
       "       'ng00067.v14 - Diagnosis: [GERD, Osteoarthritis, Hypertension, Dyslipidemia, Bladder Control]',\n",
       "       'ng00067.v14 - Diagnosis: [Osteoporosis/Osteopenia, Osteoarthritis, Glaucoma, Macular Degeneration]',\n",
       "       'ng00067.v14 - Diagnosis: [Depression/Anxiety, Osteoarthritis, Hypertension, Bladder Control]',\n",
       "       'ng00067.v14 - Diagnosis: [Osteoarthritis, Hypothyroid, Macular Degeneration]',\n",
       "       'ng00067.v14 - Diagnosis: [GERD, Osteoarthritis, Dyslipidemia, COPD/Asthma]',\n",
       "       'ng00067.v14 - Diagnosis: [HRT, Osteoarthritis, Hypothyroid, Hypertension, Macular Degeneration]',\n",
       "       'ng00067.v14 - Diagnosis: [GERD, Osteoarthritis, Hypertension, Dyslipidemia, Glaucoma]',\n",
       "       'ng00067.v14 - Diagnosis: [GERD, BPH, Osteoarthritis, Bladder Control, Glaucoma]',\n",
       "       'ng00067.v14 - Diagnosis: [Osteoarthritis, Hypertension, Bladder Control, Glaucoma]',\n",
       "       'ng00067.v14 - Diagnosis: [Depression/Anxiety, Osteoporosis/Osteopenia, GERD, Hypothyroid, Hypertension, Glaucoma, Macular Degeneration]',\n",
       "       'ng00067.v14 - Diagnosis: [Osteoporosis/Osteopenia, Hypertension, Dyslipidemia, Glaucoma]',\n",
       "       'ng00067.v14 - Diagnosis: [Osteoporosis/Osteopenia, HRT, Hypothyroid, Hypertension, Dyslipidemia]',\n",
       "       'ng00067.v14 - Diagnosis: [Osteoporosis/Osteopenia, Osteoarthritis, Hypertension, Dyslipidemia, COPD/Asthma]',\n",
       "       'ng00067.v14 - Diagnosis: [HRT, Glaucoma, Macular Degeneration]',\n",
       "       'ng00067.v14 - Diagnosis: [HRT, Osteoarthritis, Hypothyroid, Hypertension, Dyslipidemia, COPD/Asthma]',\n",
       "       'ng00067.v14 - Diagnosis: [Osteoporosis/Osteopenia, HRT, Osteoarthritis, Hypertension]',\n",
       "       'ng00067.v14 - Diagnosis: [Osteoporosis/Osteopenia, BPH, Osteoarthritis, Hypothyroid, Dyslipidemia, Glaucoma]',\n",
       "       'ng00067.v14 - Diagnosis: [Osteoporosis/Osteopenia, Osteoarthritis, Hypertension, COPD/Asthma]',\n",
       "       'ng00067.v14 - Diagnosis: [Depression/Anxiety, Osteoarthritis, Hypothyroid, Hypertension, Dyslipidemia]',\n",
       "       'ng00067.v14 - Diagnosis: [Osteoporosis/Osteopenia, HRT, Dyslipidemia]',\n",
       "       'ng00067.v14 - Diagnosis: [Osteoporosis/Osteopenia, GERD, Hypothyroid, Macular Degeneration]',\n",
       "       'ng00067.v14 - Diagnosis: [Depression/Anxiety, BPH, Osteoarthritis, Hypertension]',\n",
       "       'ng00067.v14 - Diagnosis: [Osteoporosis/Osteopenia, Hypertension, Dyslipidemia, Bladder Control]',\n",
       "       'ng00067.v14 - Diagnosis: [Osteoarthritis, Hypertension, Dyslipidemia, COPD/Asthma]',\n",
       "       'ng00067.v14 - Diagnosis: [GERD, Osteoarthritis, Dyslipidemia, Bladder Control]',\n",
       "       'ng00067.v14 - Diagnosis: [Osteoporosis/Osteopenia, Osteoarthritis, Hypothyroid, Hypertension, Glaucoma]',\n",
       "       'ng00067.v14 - Diagnosis: [Osteoporosis/Osteopenia, HRT, Osteoarthritis, Hypothyroid, Hypertension, Macular Degeneration]',\n",
       "       'ng00067.v14 - Diagnosis: [Osteoporosis/Osteopenia, BPH, Osteoarthritis, Hypothyroid, Macular Degeneration]',\n",
       "       'ng00067.v14 - Diagnosis: [Osteoporosis/Osteopenia, GERD, Hypothyroid]',\n",
       "       'ng00067.v14 - Diagnosis: [Dementia Vascular]',\n",
       "       'ng00067.v14 - Diagnosis: [Other: Benign Brain tumor]',\n",
       "       'ng00067.v14 - Diagnosis: [Cognitively Impaired]',\n",
       "       \"ng00067.v14 - Diagnosis: [Dementia & Parkinson's Disease]\",\n",
       "       'ng00067.v14 - Diagnosis: [Neuropsychiatric disorder, vascular diseases]',\n",
       "       'ng00067.v14 - Diagnosis: [Fronto-Temporal Dementia (FTD)]',\n",
       "       'ng00067.v14 - Diagnosis: [Dementia-Vascular]',\n",
       "       'ng00067.v14 - Diagnosis: [Unclear]',\n",
       "       'ng00067.v14 - Diagnosis: [Borderline]',\n",
       "       'ng00067.v14 - Diagnosis: [aMCI-multiple domain]',\n",
       "       'ng00067.v14 - Diagnosis: [naMCI-multiple domain]',\n",
       "       'ng00067.v14 - Diagnosis: [aMCI-single domain]',\n",
       "       'ng00067.v14 - Diagnosis: [naMCI-single domain]',\n",
       "       'ng00067.v14 - Diagnosis: [aMCI]',\n",
       "       'ng00067.v14 - Diagnosis: [PSP]',\n",
       "       'ng00067.v14 - Diagnosis: [Argyophilic Grain Disease]',\n",
       "       \"ng00067.v14 - Diagnosis: [Parkinson's Disease, Lewy Body Disease]\",\n",
       "       'ng00067.v14 - Diagnosis: [ALS,FTD,Lewy Body Dementia]',\n",
       "       'ng00067.v14 - Diagnosis: [Dementia Lacking Distintive histology (DLDH)]',\n",
       "       \"ng00067.v14 - Diagnosis: [Parkinson's]\",\n",
       "       'ng00067.v14 - Diagnosis: [FTD (Language Dominant)]',\n",
       "       'ng00067.v14 - Diagnosis: [MCI Amnestic disorder + other domains with subcortical white matter lucencies]',\n",
       "       'ng00067.v14 - Diagnosis: [MCI Amnestic disorder focal]',\n",
       "       'ng00067.v14 - Diagnosis: [MCI Amnestic disorder + other domains]',\n",
       "       'ng00067.v14 - Diagnosis: [Other dementia with subcortical white matter lucencies]',\n",
       "       'ng00067.v14 - Diagnosis: [MCI Non-amnestic disorder + other domains with subcortical white matter lucencies]',\n",
       "       'ng00067.v14 - Diagnosis: [FTD (Behavior Dominant)]',\n",
       "       'ng00067.v14 - Diagnosis: [Parkinsons w/ Dementia]',\n",
       "       'ng00067.v14 - Diagnosis: [Dementia of unclear etiology]',\n",
       "       'ng00067.v14 - Diagnosis: [Progressive supranuclear palsy]',\n",
       "       'ng00067.v14 - Diagnosis: [Non-AD Dementia]',\n",
       "       'ng00067.v14 - Diagnosis: [Vascular Dementia]',\n",
       "       'ng00067.v14 - Diagnosis: [Possible Lewy Body Dementia]',\n",
       "       'ng00067.v14 - Diagnosis: [MCI Non-amnestic disorder focal + other domains with subcortical white matter lucencies]',\n",
       "       'ng00067.v14 - Diagnosis: no clinical diagnosis, see PHC neuropath phenotypes',\n",
       "       'ng00067.v14 - Diagnosis: [Lewy body disease (LbD)]',\n",
       "       'ng00067.v14 - Diagnosis: [Cognitive impairment due to systemic disease or medical illness]',\n",
       "       'ng00067.v14 - Diagnosis: [FTLD, other]',\n",
       "       'ng00067.v14 - Diagnosis: [Depression]',\n",
       "       'ng00067.v14 - Diagnosis: [Cognitive impairment for other specified reasons]',\n",
       "       'ng00067.v14 - Diagnosis: [Vascular brain injury or vascular dementia including stroke]',\n",
       "       'ng00067.v14 - Diagnosis: [Other psychiatric disease]',\n",
       "       'ng00067.v14 - Diagnosis: [Cognitive impairment due to alcohol abuse]',\n",
       "       'ng00067.v14 - Diagnosis: [Traumatic brain injury (TbI)]',\n",
       "       'ng00067.v14 - Diagnosis: [Other neurologic, genetic, or infectious condition]',\n",
       "       'ng00067.v14 - Diagnosis: [Progressive supranuclear palsy (PSP)]',\n",
       "       'ng00067.v14 - Diagnosis: [Corticobasal degeneration (CbD)]',\n",
       "       'ng00067.v14 - Diagnosis: [Normal-pressure hydrocephalus (NPH)]',\n",
       "       'ng00067.v14 - Diagnosis: [Anxiety disorder]',\n",
       "       'ng00067.v14 - Diagnosis: [Essential tremor]',\n",
       "       'ng00067.v14 - Diagnosis: [Cognitive impairment due to medications]',\n",
       "       'ng00067.v14 - Diagnosis: [Schizophrenia or other psychosis]',\n",
       "       'ng00067.v14 - Diagnosis: [FTLD with motor neuron disease (e.g., ALS)]',\n",
       "       'ng00067.v14 - Race corrected',\n",
       "       'ng00067.v14 - Diagnosis: [Epilepsy]',\n",
       "       'ng00067.v14 - Diagnosis: [Post-traumatic stress disorder (PTSD)]',\n",
       "       'ng00067.v14 - Diagnosis: [MCI], APOE corrected',\n",
       "       'ng00067.v14 - Diagnosis: [MCI], Braak corrected',\n",
       "       'ng00067.v14 - Diagnosis: [Down syndrome]',\n",
       "       'ng00067.v14 - Diagnosis: [Bipolar disorder]'], dtype=object)"
      ]
     },
     "execution_count": 10,
     "metadata": {},
     "output_type": "execute_result"
    }
   ],
   "source": [
    "## na are from a variety of diseases\n",
    "\n",
    "na = case_control[case_control.AD.isna()]\n",
    "comment_counts = na.Comments.value_counts()\n",
    "#comment_counts[comment_counts > 10]\n",
    "case_control[case_control.AD.isna()].Comments.unique()"
   ]
  },
  {
   "cell_type": "code",
   "execution_count": 11,
   "metadata": {
    "collapsed": true,
    "jupyter": {
     "outputs_hidden": true
    },
    "tags": []
   },
   "outputs": [
    {
     "data": {
      "text/plain": [
       "ng00067.v14 - Diagnosis: no clinical diagnosis, see PHC neuropath phenotypes                                          2100\n",
       "ng00067.v14 - Diagnosis: [MCI]                                                                                        1638\n",
       "ng00067.v9 - Diagnosis: [MCI]                                                                                          720\n",
       "ng00067.v14 - Diagnosis: [Vascular brain injury or vascular dementia including stroke]                                 292\n",
       "ng00067.v14 - Diagnosis: [Lewy body disease (LbD)]                                                                     201\n",
       "                                                                                                                      ... \n",
       "ng00067.v14 - Diagnosis: [Depression/Anxiety, HRT, GERD, Osteoarthritis, Hypertension]                                   1\n",
       "ng00067.v14 - Diagnosis: [MCI Non-amnestic disorder focal + other domains with subcortical white matter lucencies]       1\n",
       "ng00067.v14 - Diagnosis: [HRT, Osteoarthritis, COPD/Asthma, Glaucoma]                                                    1\n",
       "ng00067.v14 - Diagnosis: [Osteoporosis/Osteopenia, BPH, Osteoarthritis, Hypothyroid, Dyslipidemia, Glaucoma]             1\n",
       "ng00067.v9 - Diagnosis: [Dementia Dementia undetermined etiology vascular (VaD)]                                         1\n",
       "Name: Comments, Length: 508, dtype: int64"
      ]
     },
     "execution_count": 11,
     "metadata": {},
     "output_type": "execute_result"
    }
   ],
   "source": [
    "na.Comments.value_counts()"
   ]
  },
  {
   "cell_type": "code",
   "execution_count": 11,
   "metadata": {},
   "outputs": [
    {
     "name": "stdout",
     "output_type": "stream",
     "text": [
      "(2168, 28)\n",
      "(42898, 30)\n",
      "(62764, 30)\n"
     ]
    }
   ],
   "source": [
    "## total count of each pheno file before merging\n",
    "print(ADNI_processed.shape)\n",
    "print(family_based.shape)\n",
    "print(case_control_processed.shape)"
   ]
  },
  {
   "cell_type": "markdown",
   "metadata": {
    "tags": []
   },
   "source": [
    "### merge"
   ]
  },
  {
   "cell_type": "code",
   "execution_count": 12,
   "metadata": {},
   "outputs": [
    {
     "name": "stdout",
     "output_type": "stream",
     "text": [
      "(107830, 39)\n"
     ]
    },
    {
     "data": {
      "text/plain": [
       "NaN    46195\n",
       "0.0    40419\n",
       "1.0    21216\n",
       "Name: Diagnosis, dtype: int64"
      ]
     },
     "execution_count": 12,
     "metadata": {},
     "output_type": "execute_result"
    }
   ],
   "source": [
    "ADNI_processed[\"source\"] = 'ADNI'\n",
    "family_based[\"source\"] = 'family_based'\n",
    "case_control_processed[\"source\"] = 'case_control'\n",
    "\n",
    "pheno = pd.concat([ADNI_processed, family_based, case_control_processed])\n",
    "pheno.loc[pheno['Age'] == '90+', 'Age'] = 90\n",
    "pheno.loc[pheno['Age_baseline'] == '90+', 'Age_baseline'] = 90\n",
    "#pheno.Age = pheno.Age.astype('int') ## because there're NA\n",
    "print(pheno.shape)\n",
    "pheno.Diagnosis.value_counts(dropna=False)"
   ]
  },
  {
   "cell_type": "code",
   "execution_count": 13,
   "metadata": {},
   "outputs": [
    {
     "name": "stdout",
     "output_type": "stream",
     "text": [
      "(58507,)\n",
      "(58507, 10)\n",
      "(58507,)\n",
      "before extracting WGS (107830, 39)\n",
      "After extracting WGS (55539, 39)\n"
     ]
    }
   ],
   "source": [
    "## Only keep WGS (making sure this two way of extraction gives the same output)\n",
    "print(qc[qc['WGS.WES'] == 'WGS'].SampleID.shape) \n",
    "print(manifest[manifest.SAMPLE_USE =='WGS'].shape)\n",
    "\n",
    "wgs_SUBJID = manifest[manifest.SAMPLE_USE =='WGS'].SUBJID\n",
    "print(wgs_SUBJID.shape)\n",
    "\n",
    "print('before extracting WGS', pheno.shape)\n",
    "pheno = pheno[pheno.SUBJID.isin(wgs_SUBJID)]\n",
    "\n",
    "print('After extracting WGS', pheno.shape)"
   ]
  },
  {
   "cell_type": "code",
   "execution_count": 14,
   "metadata": {},
   "outputs": [
    {
     "name": "stdout",
     "output_type": "stream",
     "text": [
      "(6, 39)\n"
     ]
    },
    {
     "data": {
      "text/plain": [
       "(55539, 39)"
      ]
     },
     "execution_count": 14,
     "metadata": {},
     "output_type": "execute_result"
    }
   ],
   "source": [
    "## drop technique replicates (using SUBJID)\n",
    "replicate_to_drop = manifest[(manifest.Technical_Replicate == 1)] ## 101 rows\n",
    "print(pheno[pheno.SUBJID.isin(replicate_to_drop.SUBJID)].shape) ## non of the rows in pheno are technical replicate\n",
    "\n",
    "pheno.shape"
   ]
  },
  {
   "cell_type": "markdown",
   "metadata": {},
   "source": [
    "### handle duplicated SUBJID"
   ]
  },
  {
   "cell_type": "code",
   "execution_count": 15,
   "metadata": {},
   "outputs": [
    {
     "name": "stdout",
     "output_type": "stream",
     "text": [
      "source\n",
      "family_based    199\n",
      "case_control    199\n",
      "dtype: int64\n"
     ]
    }
   ],
   "source": [
    "## There are 199 pairs of duplicates (from family_based and case_control)\n",
    "duplicated_ID = pheno[pheno.SUBJID.duplicated()].SUBJID\n",
    "print(pheno[pheno.SUBJID.isin(duplicated_ID)].value_counts('source'))"
   ]
  },
  {
   "cell_type": "code",
   "execution_count": 16,
   "metadata": {},
   "outputs": [
    {
     "data": {
      "text/html": [
       "<div>\n",
       "<style scoped>\n",
       "    .dataframe tbody tr th:only-of-type {\n",
       "        vertical-align: middle;\n",
       "    }\n",
       "\n",
       "    .dataframe tbody tr th {\n",
       "        vertical-align: top;\n",
       "    }\n",
       "\n",
       "    .dataframe thead th {\n",
       "        text-align: right;\n",
       "    }\n",
       "</style>\n",
       "<table border=\"1\" class=\"dataframe\">\n",
       "  <thead>\n",
       "    <tr style=\"text-align: right;\">\n",
       "      <th></th>\n",
       "      <th>SUBJID</th>\n",
       "      <th>source</th>\n",
       "      <th>Diagnosis</th>\n",
       "      <th>Age</th>\n",
       "    </tr>\n",
       "  </thead>\n",
       "  <tbody>\n",
       "    <tr>\n",
       "      <th>2667</th>\n",
       "      <td>A-CUHS-CU000169</td>\n",
       "      <td>case_control</td>\n",
       "      <td>&lt;NA&gt;</td>\n",
       "      <td>86</td>\n",
       "    </tr>\n",
       "    <tr>\n",
       "      <th>2683</th>\n",
       "      <td>A-CUHS-CU000169</td>\n",
       "      <td>family_based</td>\n",
       "      <td>NaN</td>\n",
       "      <td>86</td>\n",
       "    </tr>\n",
       "    <tr>\n",
       "      <th>2672</th>\n",
       "      <td>A-CUHS-CU001191</td>\n",
       "      <td>case_control</td>\n",
       "      <td>&lt;NA&gt;</td>\n",
       "      <td>NaN</td>\n",
       "    </tr>\n",
       "    <tr>\n",
       "      <th>37553</th>\n",
       "      <td>A-CUHS-CU001191</td>\n",
       "      <td>family_based</td>\n",
       "      <td>NaN</td>\n",
       "      <td>NaN</td>\n",
       "    </tr>\n",
       "    <tr>\n",
       "      <th>2707</th>\n",
       "      <td>A-CUHS-CU003309</td>\n",
       "      <td>case_control</td>\n",
       "      <td>&lt;NA&gt;</td>\n",
       "      <td>73</td>\n",
       "    </tr>\n",
       "    <tr>\n",
       "      <th>37376</th>\n",
       "      <td>A-CUHS-CU003309</td>\n",
       "      <td>family_based</td>\n",
       "      <td>NaN</td>\n",
       "      <td>73</td>\n",
       "    </tr>\n",
       "    <tr>\n",
       "      <th>2762</th>\n",
       "      <td>A-CUHS-CU003369</td>\n",
       "      <td>case_control</td>\n",
       "      <td>&lt;NA&gt;</td>\n",
       "      <td>67</td>\n",
       "    </tr>\n",
       "    <tr>\n",
       "      <th>38331</th>\n",
       "      <td>A-CUHS-CU003369</td>\n",
       "      <td>family_based</td>\n",
       "      <td>NaN</td>\n",
       "      <td>67</td>\n",
       "    </tr>\n",
       "    <tr>\n",
       "      <th>2776</th>\n",
       "      <td>A-CUHS-CU003384</td>\n",
       "      <td>case_control</td>\n",
       "      <td>&lt;NA&gt;</td>\n",
       "      <td>NaN</td>\n",
       "    </tr>\n",
       "    <tr>\n",
       "      <th>37768</th>\n",
       "      <td>A-CUHS-CU003384</td>\n",
       "      <td>family_based</td>\n",
       "      <td>NaN</td>\n",
       "      <td>NaN</td>\n",
       "    </tr>\n",
       "    <tr>\n",
       "      <th>2807</th>\n",
       "      <td>A-CUHS-CU003419</td>\n",
       "      <td>case_control</td>\n",
       "      <td>&lt;NA&gt;</td>\n",
       "      <td>NaN</td>\n",
       "    </tr>\n",
       "    <tr>\n",
       "      <th>37721</th>\n",
       "      <td>A-CUHS-CU003419</td>\n",
       "      <td>family_based</td>\n",
       "      <td>NaN</td>\n",
       "      <td>NaN</td>\n",
       "    </tr>\n",
       "    <tr>\n",
       "      <th>2821</th>\n",
       "      <td>A-CUHS-CU003434</td>\n",
       "      <td>case_control</td>\n",
       "      <td>&lt;NA&gt;</td>\n",
       "      <td>61</td>\n",
       "    </tr>\n",
       "    <tr>\n",
       "      <th>38418</th>\n",
       "      <td>A-CUHS-CU003434</td>\n",
       "      <td>family_based</td>\n",
       "      <td>NaN</td>\n",
       "      <td>61</td>\n",
       "    </tr>\n",
       "    <tr>\n",
       "      <th>2847</th>\n",
       "      <td>A-CUHS-CU003463</td>\n",
       "      <td>case_control</td>\n",
       "      <td>&lt;NA&gt;</td>\n",
       "      <td>84</td>\n",
       "    </tr>\n",
       "    <tr>\n",
       "      <th>37887</th>\n",
       "      <td>A-CUHS-CU003463</td>\n",
       "      <td>family_based</td>\n",
       "      <td>NaN</td>\n",
       "      <td>84</td>\n",
       "    </tr>\n",
       "    <tr>\n",
       "      <th>6859</th>\n",
       "      <td>A-LOAD-LD000442</td>\n",
       "      <td>case_control</td>\n",
       "      <td>1</td>\n",
       "      <td>65</td>\n",
       "    </tr>\n",
       "    <tr>\n",
       "      <th>39348</th>\n",
       "      <td>A-LOAD-LD000442</td>\n",
       "      <td>family_based</td>\n",
       "      <td>NaN</td>\n",
       "      <td>65</td>\n",
       "    </tr>\n",
       "    <tr>\n",
       "      <th>7180</th>\n",
       "      <td>A-LOAD-LD007068</td>\n",
       "      <td>case_control</td>\n",
       "      <td>&lt;NA&gt;</td>\n",
       "      <td>NaN</td>\n",
       "    </tr>\n",
       "    <tr>\n",
       "      <th>40122</th>\n",
       "      <td>A-LOAD-LD007068</td>\n",
       "      <td>family_based</td>\n",
       "      <td>NaN</td>\n",
       "      <td>NaN</td>\n",
       "    </tr>\n",
       "    <tr>\n",
       "      <th>48351</th>\n",
       "      <td>A-LOAD-LD008611</td>\n",
       "      <td>case_control</td>\n",
       "      <td>&lt;NA&gt;</td>\n",
       "      <td>70</td>\n",
       "    </tr>\n",
       "    <tr>\n",
       "      <th>8616</th>\n",
       "      <td>A-LOAD-LD008611</td>\n",
       "      <td>family_based</td>\n",
       "      <td>NaN</td>\n",
       "      <td>70</td>\n",
       "    </tr>\n",
       "    <tr>\n",
       "      <th>11204</th>\n",
       "      <td>A-MIA-UM000402</td>\n",
       "      <td>case_control</td>\n",
       "      <td>&lt;NA&gt;</td>\n",
       "      <td>NaN</td>\n",
       "    </tr>\n",
       "    <tr>\n",
       "      <th>10387</th>\n",
       "      <td>A-MIA-UM000402</td>\n",
       "      <td>family_based</td>\n",
       "      <td>NaN</td>\n",
       "      <td>NaN</td>\n",
       "    </tr>\n",
       "    <tr>\n",
       "      <th>11218</th>\n",
       "      <td>A-MIA-UM000759</td>\n",
       "      <td>case_control</td>\n",
       "      <td>&lt;NA&gt;</td>\n",
       "      <td>NaN</td>\n",
       "    </tr>\n",
       "    <tr>\n",
       "      <th>10416</th>\n",
       "      <td>A-MIA-UM000759</td>\n",
       "      <td>family_based</td>\n",
       "      <td>NaN</td>\n",
       "      <td>NaN</td>\n",
       "    </tr>\n",
       "    <tr>\n",
       "      <th>12158</th>\n",
       "      <td>A-MIA-UM009911</td>\n",
       "      <td>case_control</td>\n",
       "      <td>&lt;NA&gt;</td>\n",
       "      <td>NaN</td>\n",
       "    </tr>\n",
       "    <tr>\n",
       "      <th>10663</th>\n",
       "      <td>A-MIA-UM009911</td>\n",
       "      <td>family_based</td>\n",
       "      <td>NaN</td>\n",
       "      <td>NaN</td>\n",
       "    </tr>\n",
       "    <tr>\n",
       "      <th>36908</th>\n",
       "      <td>A-MIA-UM012542</td>\n",
       "      <td>case_control</td>\n",
       "      <td>&lt;NA&gt;</td>\n",
       "      <td>67</td>\n",
       "    </tr>\n",
       "    <tr>\n",
       "      <th>12871</th>\n",
       "      <td>A-MIA-UM012542</td>\n",
       "      <td>family_based</td>\n",
       "      <td>NaN</td>\n",
       "      <td>67</td>\n",
       "    </tr>\n",
       "    <tr>\n",
       "      <th>37045</th>\n",
       "      <td>A-RDR-RD000037</td>\n",
       "      <td>case_control</td>\n",
       "      <td>&lt;NA&gt;</td>\n",
       "      <td>55</td>\n",
       "    </tr>\n",
       "    <tr>\n",
       "      <th>12885</th>\n",
       "      <td>A-RDR-RD000037</td>\n",
       "      <td>family_based</td>\n",
       "      <td>NaN</td>\n",
       "      <td>55</td>\n",
       "    </tr>\n",
       "  </tbody>\n",
       "</table>\n",
       "</div>"
      ],
      "text/plain": [
       "                SUBJID        source Diagnosis  Age\n",
       "2667   A-CUHS-CU000169  case_control      <NA>   86\n",
       "2683   A-CUHS-CU000169  family_based       NaN   86\n",
       "2672   A-CUHS-CU001191  case_control      <NA>  NaN\n",
       "37553  A-CUHS-CU001191  family_based       NaN  NaN\n",
       "2707   A-CUHS-CU003309  case_control      <NA>   73\n",
       "37376  A-CUHS-CU003309  family_based       NaN   73\n",
       "2762   A-CUHS-CU003369  case_control      <NA>   67\n",
       "38331  A-CUHS-CU003369  family_based       NaN   67\n",
       "2776   A-CUHS-CU003384  case_control      <NA>  NaN\n",
       "37768  A-CUHS-CU003384  family_based       NaN  NaN\n",
       "2807   A-CUHS-CU003419  case_control      <NA>  NaN\n",
       "37721  A-CUHS-CU003419  family_based       NaN  NaN\n",
       "2821   A-CUHS-CU003434  case_control      <NA>   61\n",
       "38418  A-CUHS-CU003434  family_based       NaN   61\n",
       "2847   A-CUHS-CU003463  case_control      <NA>   84\n",
       "37887  A-CUHS-CU003463  family_based       NaN   84\n",
       "6859   A-LOAD-LD000442  case_control         1   65\n",
       "39348  A-LOAD-LD000442  family_based       NaN   65\n",
       "7180   A-LOAD-LD007068  case_control      <NA>  NaN\n",
       "40122  A-LOAD-LD007068  family_based       NaN  NaN\n",
       "48351  A-LOAD-LD008611  case_control      <NA>   70\n",
       "8616   A-LOAD-LD008611  family_based       NaN   70\n",
       "11204   A-MIA-UM000402  case_control      <NA>  NaN\n",
       "10387   A-MIA-UM000402  family_based       NaN  NaN\n",
       "11218   A-MIA-UM000759  case_control      <NA>  NaN\n",
       "10416   A-MIA-UM000759  family_based       NaN  NaN\n",
       "12158   A-MIA-UM009911  case_control      <NA>  NaN\n",
       "10663   A-MIA-UM009911  family_based       NaN  NaN\n",
       "36908   A-MIA-UM012542  case_control      <NA>   67\n",
       "12871   A-MIA-UM012542  family_based       NaN   67\n",
       "37045   A-RDR-RD000037  case_control      <NA>   55\n",
       "12885   A-RDR-RD000037  family_based       NaN   55"
      ]
     },
     "execution_count": 16,
     "metadata": {},
     "output_type": "execute_result"
    }
   ],
   "source": [
    "duplicated_id = pheno[pheno.SUBJID.isin(duplicated_ID)].sort_values(['SUBJID','source'])[['SUBJID', 'source','Diagnosis','Age']]\n",
    "\n",
    "# Find SUBJID groups where Age or Diagnosis are different\n",
    "different_groups = (\n",
    "    duplicated_id.groupby(['SUBJID'])\n",
    "     .filter(lambda x: x['Age'].nunique(dropna=False) > 1 or x['Diagnosis'].nunique(dropna=False) > 1)\n",
    ")\n",
    "different_groups"
   ]
  },
  {
   "cell_type": "markdown",
   "metadata": {},
   "source": [
    "#### (1) when they shared the same Diagnosis & age, keep the ones from Family_based"
   ]
  },
  {
   "cell_type": "code",
   "execution_count": 17,
   "metadata": {},
   "outputs": [
    {
     "data": {
      "text/plain": [
       "183"
      ]
     },
     "execution_count": 17,
     "metadata": {},
     "output_type": "execute_result"
    }
   ],
   "source": [
    "duplicated_id[(~duplicated_id.SUBJID.isin(different_groups.SUBJID)) & (duplicated_id.source == 'case_control')] ## these 183 rows should be removed\n",
    "to_remove = duplicated_id[(~duplicated_id.SUBJID.isin(different_groups.SUBJID)) & (duplicated_id.source == 'case_control')].SUBJID\n",
    "len(to_remove)"
   ]
  },
  {
   "cell_type": "code",
   "execution_count": 20,
   "metadata": {},
   "outputs": [],
   "source": [
    "pheno = pheno[~((pheno.SUBJID.isin(to_remove)) & (pheno.source == 'case_control'))]\n",
    "duplicated_ID = duplicated_ID[~duplicated_ID.isin(to_remove)] ## 16 left"
   ]
  },
  {
   "cell_type": "markdown",
   "metadata": {},
   "source": [
    "#### (2) when one of them have NAs in Diagnosis or Age, keep the other one with no NAs"
   ]
  },
  {
   "cell_type": "code",
   "execution_count": 21,
   "metadata": {},
   "outputs": [
    {
     "data": {
      "text/html": [
       "<div>\n",
       "<style scoped>\n",
       "    .dataframe tbody tr th:only-of-type {\n",
       "        vertical-align: middle;\n",
       "    }\n",
       "\n",
       "    .dataframe tbody tr th {\n",
       "        vertical-align: top;\n",
       "    }\n",
       "\n",
       "    .dataframe thead th {\n",
       "        text-align: right;\n",
       "    }\n",
       "</style>\n",
       "<table border=\"1\" class=\"dataframe\">\n",
       "  <thead>\n",
       "    <tr style=\"text-align: right;\">\n",
       "      <th></th>\n",
       "      <th>SUBJID</th>\n",
       "      <th>source</th>\n",
       "      <th>Diagnosis</th>\n",
       "      <th>Age</th>\n",
       "    </tr>\n",
       "  </thead>\n",
       "  <tbody>\n",
       "    <tr>\n",
       "      <th>2667</th>\n",
       "      <td>A-CUHS-CU000169</td>\n",
       "      <td>case_control</td>\n",
       "      <td>&lt;NA&gt;</td>\n",
       "      <td>86</td>\n",
       "    </tr>\n",
       "    <tr>\n",
       "      <th>2683</th>\n",
       "      <td>A-CUHS-CU000169</td>\n",
       "      <td>family_based</td>\n",
       "      <td>NaN</td>\n",
       "      <td>86</td>\n",
       "    </tr>\n",
       "    <tr>\n",
       "      <th>2672</th>\n",
       "      <td>A-CUHS-CU001191</td>\n",
       "      <td>case_control</td>\n",
       "      <td>&lt;NA&gt;</td>\n",
       "      <td>NaN</td>\n",
       "    </tr>\n",
       "    <tr>\n",
       "      <th>37553</th>\n",
       "      <td>A-CUHS-CU001191</td>\n",
       "      <td>family_based</td>\n",
       "      <td>NaN</td>\n",
       "      <td>NaN</td>\n",
       "    </tr>\n",
       "    <tr>\n",
       "      <th>2707</th>\n",
       "      <td>A-CUHS-CU003309</td>\n",
       "      <td>case_control</td>\n",
       "      <td>&lt;NA&gt;</td>\n",
       "      <td>73</td>\n",
       "    </tr>\n",
       "    <tr>\n",
       "      <th>37376</th>\n",
       "      <td>A-CUHS-CU003309</td>\n",
       "      <td>family_based</td>\n",
       "      <td>NaN</td>\n",
       "      <td>73</td>\n",
       "    </tr>\n",
       "    <tr>\n",
       "      <th>2762</th>\n",
       "      <td>A-CUHS-CU003369</td>\n",
       "      <td>case_control</td>\n",
       "      <td>&lt;NA&gt;</td>\n",
       "      <td>67</td>\n",
       "    </tr>\n",
       "    <tr>\n",
       "      <th>38331</th>\n",
       "      <td>A-CUHS-CU003369</td>\n",
       "      <td>family_based</td>\n",
       "      <td>NaN</td>\n",
       "      <td>67</td>\n",
       "    </tr>\n",
       "    <tr>\n",
       "      <th>2776</th>\n",
       "      <td>A-CUHS-CU003384</td>\n",
       "      <td>case_control</td>\n",
       "      <td>&lt;NA&gt;</td>\n",
       "      <td>NaN</td>\n",
       "    </tr>\n",
       "    <tr>\n",
       "      <th>37768</th>\n",
       "      <td>A-CUHS-CU003384</td>\n",
       "      <td>family_based</td>\n",
       "      <td>NaN</td>\n",
       "      <td>NaN</td>\n",
       "    </tr>\n",
       "    <tr>\n",
       "      <th>2807</th>\n",
       "      <td>A-CUHS-CU003419</td>\n",
       "      <td>case_control</td>\n",
       "      <td>&lt;NA&gt;</td>\n",
       "      <td>NaN</td>\n",
       "    </tr>\n",
       "    <tr>\n",
       "      <th>37721</th>\n",
       "      <td>A-CUHS-CU003419</td>\n",
       "      <td>family_based</td>\n",
       "      <td>NaN</td>\n",
       "      <td>NaN</td>\n",
       "    </tr>\n",
       "    <tr>\n",
       "      <th>2821</th>\n",
       "      <td>A-CUHS-CU003434</td>\n",
       "      <td>case_control</td>\n",
       "      <td>&lt;NA&gt;</td>\n",
       "      <td>61</td>\n",
       "    </tr>\n",
       "    <tr>\n",
       "      <th>38418</th>\n",
       "      <td>A-CUHS-CU003434</td>\n",
       "      <td>family_based</td>\n",
       "      <td>NaN</td>\n",
       "      <td>61</td>\n",
       "    </tr>\n",
       "    <tr>\n",
       "      <th>2847</th>\n",
       "      <td>A-CUHS-CU003463</td>\n",
       "      <td>case_control</td>\n",
       "      <td>&lt;NA&gt;</td>\n",
       "      <td>84</td>\n",
       "    </tr>\n",
       "    <tr>\n",
       "      <th>37887</th>\n",
       "      <td>A-CUHS-CU003463</td>\n",
       "      <td>family_based</td>\n",
       "      <td>NaN</td>\n",
       "      <td>84</td>\n",
       "    </tr>\n",
       "    <tr>\n",
       "      <th>6859</th>\n",
       "      <td>A-LOAD-LD000442</td>\n",
       "      <td>case_control</td>\n",
       "      <td>1</td>\n",
       "      <td>65</td>\n",
       "    </tr>\n",
       "    <tr>\n",
       "      <th>39348</th>\n",
       "      <td>A-LOAD-LD000442</td>\n",
       "      <td>family_based</td>\n",
       "      <td>NaN</td>\n",
       "      <td>65</td>\n",
       "    </tr>\n",
       "    <tr>\n",
       "      <th>7180</th>\n",
       "      <td>A-LOAD-LD007068</td>\n",
       "      <td>case_control</td>\n",
       "      <td>&lt;NA&gt;</td>\n",
       "      <td>NaN</td>\n",
       "    </tr>\n",
       "    <tr>\n",
       "      <th>40122</th>\n",
       "      <td>A-LOAD-LD007068</td>\n",
       "      <td>family_based</td>\n",
       "      <td>NaN</td>\n",
       "      <td>NaN</td>\n",
       "    </tr>\n",
       "    <tr>\n",
       "      <th>48351</th>\n",
       "      <td>A-LOAD-LD008611</td>\n",
       "      <td>case_control</td>\n",
       "      <td>&lt;NA&gt;</td>\n",
       "      <td>70</td>\n",
       "    </tr>\n",
       "    <tr>\n",
       "      <th>8616</th>\n",
       "      <td>A-LOAD-LD008611</td>\n",
       "      <td>family_based</td>\n",
       "      <td>NaN</td>\n",
       "      <td>70</td>\n",
       "    </tr>\n",
       "    <tr>\n",
       "      <th>11204</th>\n",
       "      <td>A-MIA-UM000402</td>\n",
       "      <td>case_control</td>\n",
       "      <td>&lt;NA&gt;</td>\n",
       "      <td>NaN</td>\n",
       "    </tr>\n",
       "    <tr>\n",
       "      <th>10387</th>\n",
       "      <td>A-MIA-UM000402</td>\n",
       "      <td>family_based</td>\n",
       "      <td>NaN</td>\n",
       "      <td>NaN</td>\n",
       "    </tr>\n",
       "    <tr>\n",
       "      <th>11218</th>\n",
       "      <td>A-MIA-UM000759</td>\n",
       "      <td>case_control</td>\n",
       "      <td>&lt;NA&gt;</td>\n",
       "      <td>NaN</td>\n",
       "    </tr>\n",
       "    <tr>\n",
       "      <th>10416</th>\n",
       "      <td>A-MIA-UM000759</td>\n",
       "      <td>family_based</td>\n",
       "      <td>NaN</td>\n",
       "      <td>NaN</td>\n",
       "    </tr>\n",
       "    <tr>\n",
       "      <th>12158</th>\n",
       "      <td>A-MIA-UM009911</td>\n",
       "      <td>case_control</td>\n",
       "      <td>&lt;NA&gt;</td>\n",
       "      <td>NaN</td>\n",
       "    </tr>\n",
       "    <tr>\n",
       "      <th>10663</th>\n",
       "      <td>A-MIA-UM009911</td>\n",
       "      <td>family_based</td>\n",
       "      <td>NaN</td>\n",
       "      <td>NaN</td>\n",
       "    </tr>\n",
       "    <tr>\n",
       "      <th>36908</th>\n",
       "      <td>A-MIA-UM012542</td>\n",
       "      <td>case_control</td>\n",
       "      <td>&lt;NA&gt;</td>\n",
       "      <td>67</td>\n",
       "    </tr>\n",
       "    <tr>\n",
       "      <th>12871</th>\n",
       "      <td>A-MIA-UM012542</td>\n",
       "      <td>family_based</td>\n",
       "      <td>NaN</td>\n",
       "      <td>67</td>\n",
       "    </tr>\n",
       "    <tr>\n",
       "      <th>37045</th>\n",
       "      <td>A-RDR-RD000037</td>\n",
       "      <td>case_control</td>\n",
       "      <td>&lt;NA&gt;</td>\n",
       "      <td>55</td>\n",
       "    </tr>\n",
       "    <tr>\n",
       "      <th>12885</th>\n",
       "      <td>A-RDR-RD000037</td>\n",
       "      <td>family_based</td>\n",
       "      <td>NaN</td>\n",
       "      <td>55</td>\n",
       "    </tr>\n",
       "  </tbody>\n",
       "</table>\n",
       "</div>"
      ],
      "text/plain": [
       "                SUBJID        source Diagnosis  Age\n",
       "2667   A-CUHS-CU000169  case_control      <NA>   86\n",
       "2683   A-CUHS-CU000169  family_based       NaN   86\n",
       "2672   A-CUHS-CU001191  case_control      <NA>  NaN\n",
       "37553  A-CUHS-CU001191  family_based       NaN  NaN\n",
       "2707   A-CUHS-CU003309  case_control      <NA>   73\n",
       "37376  A-CUHS-CU003309  family_based       NaN   73\n",
       "2762   A-CUHS-CU003369  case_control      <NA>   67\n",
       "38331  A-CUHS-CU003369  family_based       NaN   67\n",
       "2776   A-CUHS-CU003384  case_control      <NA>  NaN\n",
       "37768  A-CUHS-CU003384  family_based       NaN  NaN\n",
       "2807   A-CUHS-CU003419  case_control      <NA>  NaN\n",
       "37721  A-CUHS-CU003419  family_based       NaN  NaN\n",
       "2821   A-CUHS-CU003434  case_control      <NA>   61\n",
       "38418  A-CUHS-CU003434  family_based       NaN   61\n",
       "2847   A-CUHS-CU003463  case_control      <NA>   84\n",
       "37887  A-CUHS-CU003463  family_based       NaN   84\n",
       "6859   A-LOAD-LD000442  case_control         1   65\n",
       "39348  A-LOAD-LD000442  family_based       NaN   65\n",
       "7180   A-LOAD-LD007068  case_control      <NA>  NaN\n",
       "40122  A-LOAD-LD007068  family_based       NaN  NaN\n",
       "48351  A-LOAD-LD008611  case_control      <NA>   70\n",
       "8616   A-LOAD-LD008611  family_based       NaN   70\n",
       "11204   A-MIA-UM000402  case_control      <NA>  NaN\n",
       "10387   A-MIA-UM000402  family_based       NaN  NaN\n",
       "11218   A-MIA-UM000759  case_control      <NA>  NaN\n",
       "10416   A-MIA-UM000759  family_based       NaN  NaN\n",
       "12158   A-MIA-UM009911  case_control      <NA>  NaN\n",
       "10663   A-MIA-UM009911  family_based       NaN  NaN\n",
       "36908   A-MIA-UM012542  case_control      <NA>   67\n",
       "12871   A-MIA-UM012542  family_based       NaN   67\n",
       "37045   A-RDR-RD000037  case_control      <NA>   55\n",
       "12885   A-RDR-RD000037  family_based       NaN   55"
      ]
     },
     "execution_count": 21,
     "metadata": {},
     "output_type": "execute_result"
    }
   ],
   "source": [
    "# Filter rows where SUBJID is in duplicated_ID\n",
    "filtered = pheno[pheno.SUBJID.isin(duplicated_ID)]\n",
    "\n",
    "# Sort by SUBJID and source for consistent grouping\n",
    "sorted_filtered = filtered.sort_values(['SUBJID', 'source'])[['SUBJID', 'source', 'Diagnosis', 'Age']]\n",
    "sorted_filtered  ## there's only one row that need to be kept (A-LOAD-LD000442, case_control)"
   ]
  },
  {
   "cell_type": "code",
   "execution_count": 26,
   "metadata": {},
   "outputs": [
    {
     "data": {
      "text/plain": [
       "(55325, 39)"
      ]
     },
     "execution_count": 26,
     "metadata": {},
     "output_type": "execute_result"
    }
   ],
   "source": [
    "## Single the one to keep out\n",
    "kept = pheno[(pheno.SUBJID == 'A-LOAD-LD000442') & (pheno.source == 'case_control')]\n",
    "\n",
    "## remove everything else\n",
    "remove = sorted_filtered.SUBJID\n",
    "pheno = pheno[~pheno.SUBJID.isin(remove)]\n",
    "pheno = pd.concat([pheno, kept])\n",
    "pheno.shape"
   ]
  },
  {
   "cell_type": "markdown",
   "metadata": {},
   "source": [
    "### final check phenotype, with Update_ADstatus"
   ]
  },
  {
   "cell_type": "code",
   "execution_count": 27,
   "metadata": {},
   "outputs": [
    {
     "data": {
      "text/plain": [
       "Index(['SUBJID', 'Cohort', 'Sex', 'APOE_reported', 'APOE_WGS', 'AUTOPSY',\n",
       "       'Braak', 'Race', 'Ethnicity', 'MCI_last_visit', 'Comments',\n",
       "       'Duplicate_SUBJID', 'Flag', 'Latest_Update_Version', 'Base_PrevAD',\n",
       "       'Base_IncAD', 'Base_Age', 'Base_AUTOPSY', 'Base_Braak', 'Base_AD',\n",
       "       'Base_MCI', 'Base_Version', 'Update_Baseline', 'Update_Latest',\n",
       "       'Update_Diagnosis', 'Correction', 'Diagnosis', 'Age', 'source', 'FamID',\n",
       "       'Father', 'Mother', 'AD', 'Age_baseline', 'FamGrp', 'Update_ADstatus',\n",
       "       'PrevAD', 'IncAD', 'Selection'],\n",
       "      dtype='object')"
      ]
     },
     "execution_count": 27,
     "metadata": {},
     "output_type": "execute_result"
    }
   ],
   "source": [
    "pheno.columns"
   ]
  },
  {
   "cell_type": "code",
   "execution_count": 28,
   "metadata": {},
   "outputs": [
    {
     "data": {
      "text/html": [
       "<div>\n",
       "<style scoped>\n",
       "    .dataframe tbody tr th:only-of-type {\n",
       "        vertical-align: middle;\n",
       "    }\n",
       "\n",
       "    .dataframe tbody tr th {\n",
       "        vertical-align: top;\n",
       "    }\n",
       "\n",
       "    .dataframe thead th {\n",
       "        text-align: right;\n",
       "    }\n",
       "</style>\n",
       "<table border=\"1\" class=\"dataframe\">\n",
       "  <thead>\n",
       "    <tr style=\"text-align: right;\">\n",
       "      <th></th>\n",
       "      <th>AD</th>\n",
       "      <th>source</th>\n",
       "      <th>Update_ADstatus</th>\n",
       "      <th>Diagnosis</th>\n",
       "    </tr>\n",
       "  </thead>\n",
       "  <tbody>\n",
       "    <tr>\n",
       "      <th>1620</th>\n",
       "      <td>NaN</td>\n",
       "      <td>ADNI</td>\n",
       "      <td>NaN</td>\n",
       "      <td>NaN</td>\n",
       "    </tr>\n",
       "    <tr>\n",
       "      <th>0</th>\n",
       "      <td>9.0</td>\n",
       "      <td>family_based</td>\n",
       "      <td>1.0</td>\n",
       "      <td>NaN</td>\n",
       "    </tr>\n",
       "    <tr>\n",
       "      <th>2</th>\n",
       "      <td>5.0</td>\n",
       "      <td>family_based</td>\n",
       "      <td>1.0</td>\n",
       "      <td>NaN</td>\n",
       "    </tr>\n",
       "    <tr>\n",
       "      <th>5</th>\n",
       "      <td>5.0</td>\n",
       "      <td>family_based</td>\n",
       "      <td>1.0</td>\n",
       "      <td>NaN</td>\n",
       "    </tr>\n",
       "    <tr>\n",
       "      <th>22</th>\n",
       "      <td>5.0</td>\n",
       "      <td>family_based</td>\n",
       "      <td>1.0</td>\n",
       "      <td>NaN</td>\n",
       "    </tr>\n",
       "    <tr>\n",
       "      <th>...</th>\n",
       "      <td>...</td>\n",
       "      <td>...</td>\n",
       "      <td>...</td>\n",
       "      <td>...</td>\n",
       "    </tr>\n",
       "    <tr>\n",
       "      <th>62756</th>\n",
       "      <td>NaN</td>\n",
       "      <td>case_control</td>\n",
       "      <td>0.0</td>\n",
       "      <td>&lt;NA&gt;</td>\n",
       "    </tr>\n",
       "    <tr>\n",
       "      <th>62759</th>\n",
       "      <td>NaN</td>\n",
       "      <td>case_control</td>\n",
       "      <td>0.0</td>\n",
       "      <td>&lt;NA&gt;</td>\n",
       "    </tr>\n",
       "    <tr>\n",
       "      <th>62761</th>\n",
       "      <td>NaN</td>\n",
       "      <td>case_control</td>\n",
       "      <td>0.0</td>\n",
       "      <td>&lt;NA&gt;</td>\n",
       "    </tr>\n",
       "    <tr>\n",
       "      <th>62762</th>\n",
       "      <td>NaN</td>\n",
       "      <td>case_control</td>\n",
       "      <td>0.0</td>\n",
       "      <td>&lt;NA&gt;</td>\n",
       "    </tr>\n",
       "    <tr>\n",
       "      <th>62763</th>\n",
       "      <td>NaN</td>\n",
       "      <td>case_control</td>\n",
       "      <td>0.0</td>\n",
       "      <td>&lt;NA&gt;</td>\n",
       "    </tr>\n",
       "  </tbody>\n",
       "</table>\n",
       "<p>10719 rows × 4 columns</p>\n",
       "</div>"
      ],
      "text/plain": [
       "        AD        source  Update_ADstatus Diagnosis\n",
       "1620   NaN          ADNI              NaN       NaN\n",
       "0      9.0  family_based              1.0       NaN\n",
       "2      5.0  family_based              1.0       NaN\n",
       "5      5.0  family_based              1.0       NaN\n",
       "22     5.0  family_based              1.0       NaN\n",
       "...    ...           ...              ...       ...\n",
       "62756  NaN  case_control              0.0      <NA>\n",
       "62759  NaN  case_control              0.0      <NA>\n",
       "62761  NaN  case_control              0.0      <NA>\n",
       "62762  NaN  case_control              0.0      <NA>\n",
       "62763  NaN  case_control              0.0      <NA>\n",
       "\n",
       "[10719 rows x 4 columns]"
      ]
     },
     "execution_count": 28,
     "metadata": {},
     "output_type": "execute_result"
    }
   ],
   "source": [
    "pheno.loc[pheno.Diagnosis.isna(),['AD','source','Update_ADstatus','Diagnosis']]"
   ]
  },
  {
   "cell_type": "code",
   "execution_count": 29,
   "metadata": {},
   "outputs": [
    {
     "data": {
      "text/plain": [
       "NaN    2908\n",
       "0.0     753\n",
       "Name: Diagnosis, dtype: int64"
      ]
     },
     "execution_count": 29,
     "metadata": {},
     "output_type": "execute_result"
    }
   ],
   "source": [
    "pheno[(pheno.Diagnosis != 1) & (pheno.Update_ADstatus == 1)].Diagnosis.value_counts(dropna=False)"
   ]
  },
  {
   "cell_type": "code",
   "execution_count": 30,
   "metadata": {},
   "outputs": [
    {
     "name": "stdout",
     "output_type": "stream",
     "text": [
      "55325\n",
      "0.0    29337\n",
      "1.0    18177\n",
      "NaN     7811\n",
      "Name: Diagnosis, dtype: int64\n"
     ]
    }
   ],
   "source": [
    "## change all of their Diagnosis to Case!\n",
    "pheno.loc[(pheno.Diagnosis != 1) & (pheno.Update_ADstatus == 1),'Diagnosis'] = 1 \n",
    "print(len(pheno.SUBJID.unique()))\n",
    "print(pheno.Diagnosis.value_counts(dropna=False))\n",
    "#pheno = pheno[[\"SUBJID\", \"Sex\", \"Diagnosis\", \"APOE_reported\",\"Age\",\"Race\",\"Ethnicity\",\"FamID\",'source']]"
   ]
  },
  {
   "cell_type": "code",
   "execution_count": 31,
   "metadata": {},
   "outputs": [
    {
     "data": {
      "image/png": "[encoded data removed]",
      "text/plain": [
       "<Figure size 432x288 with 1 Axes>"
      ]
     },
     "metadata": {
      "needs_background": "light"
     },
     "output_type": "display_data"
    }
   ],
   "source": [
    "ax = pheno.loc[pheno.Diagnosis.isna()].source.value_counts().plot(kind='bar', ylabel='', title='No diagnosis')\n",
    "for p in ax.patches:\n",
    "    ax.annotate(str(p.get_height()), (p.get_x() + p.get_width() / 2, p.get_height()), ha='center', va='bottom')"
   ]
  },
  {
   "cell_type": "code",
   "execution_count": 32,
   "metadata": {},
   "outputs": [
    {
     "data": {
      "text/plain": [
       "case_control    49096\n",
       "family_based     4061\n",
       "ADNI             2168\n",
       "Name: source, dtype: int64"
      ]
     },
     "execution_count": 32,
     "metadata": {},
     "output_type": "execute_result"
    }
   ],
   "source": [
    "count = pheno.source.value_counts()\n",
    "count"
   ]
  },
  {
   "cell_type": "code",
   "execution_count": 33,
   "metadata": {},
   "outputs": [
    {
     "data": {
      "image/png": "[encoded data removed]",
      "text/plain": [
       "<Figure size 432x288 with 1 Axes>"
      ]
     },
     "metadata": {},
     "output_type": "display_data"
    }
   ],
   "source": [
    "count.plot.pie(y=count, labels=count.index, autopct='%1.1f%%', title='Cohort',ylabel='')\n",
    "plt.show()"
   ]
  },
  {
   "cell_type": "code",
   "execution_count": 34,
   "metadata": {},
   "outputs": [],
   "source": [
    "pheno.to_csv(path+'pheno_merge.tsv', index = False, sep = '\\t')"
   ]
  },
  {
   "cell_type": "code",
   "execution_count": 44,
   "metadata": {},
   "outputs": [
    {
     "data": {
      "text/plain": [
       "0.0    29337\n",
       "1.0    18177\n",
       "NaN     7811\n",
       "Name: Diagnosis, dtype: int64"
      ]
     },
     "execution_count": 44,
     "metadata": {},
     "output_type": "execute_result"
    }
   ],
   "source": [
    "pheno.Diagnosis.value_counts(dropna=False)"
   ]
  },
  {
   "cell_type": "code",
   "execution_count": 57,
   "metadata": {},
   "outputs": [],
   "source": []
  },
  {
   "cell_type": "code",
   "execution_count": 35,
   "metadata": {},
   "outputs": [],
   "source": [
    "## check the race count (only when Diagnosis exists)\n",
    "pheno_no_na = pheno[~pheno.Diagnosis.isna()]\n",
    "count_race = pheno_no_na.Race.value_counts(dropna=False)\n",
    "count_race = count_race.rename(index={1.0: 'American Indian/Alaska Native', 2.0: 'Asian',3.0: 'Native Hawaiian or Other Pacific Islander',\n",
    "                        4.0: 'Black or African American',5.0 :'White', 6.0:'Others'})"
   ]
  },
  {
   "cell_type": "code",
   "execution_count": 36,
   "metadata": {},
   "outputs": [
    {
     "data": {
      "image/png": "[encoded data removed]",
      "text/plain": [
       "<Figure size 432x288 with 1 Axes>"
      ]
     },
     "metadata": {
      "needs_background": "light"
     },
     "output_type": "display_data"
    }
   ],
   "source": [
    "ax = count_race.plot(kind='barh', ylabel='', title='Race count(58k)')\n",
    "for p in ax.patches:\n",
    "    ax.annotate(\n",
    "        str(p.get_width()),  # Use the width (count) for the annotation\n",
    "        (p.get_x() + p.get_width() + 1, p.get_y() + p.get_height() / 2),  # Position slightly outside the bar\n",
    "        ha='left',  # Horizontal alignment\n",
    "        va='center'  # Vertical alignment\n",
    "    )\n",
    "# # Show the plot\n",
    "# plt.show()"
   ]
  },
  {
   "cell_type": "code",
   "execution_count": 29,
   "metadata": {},
   "outputs": [
    {
     "data": {
      "text/plain": [
       "0.0    37777\n",
       "1.0    15382\n",
       "NaN     2166\n",
       "Name: Ethnicity, dtype: int64"
      ]
     },
     "execution_count": 29,
     "metadata": {},
     "output_type": "execute_result"
    }
   ],
   "source": [
    "pheno.Ethnicity.value_counts(dropna=False)  # hispanic or not"
   ]
  },
  {
   "cell_type": "markdown",
   "metadata": {},
   "source": [
    "## manifest & QC (merging SUBJID and SampleID)"
   ]
  },
  {
   "cell_type": "code",
   "execution_count": 63,
   "metadata": {},
   "outputs": [
    {
     "name": "stderr",
     "output_type": "stream",
     "text": [
      "/gpfs/commons/home/tlin/.conda/envs/polyfun/lib/python3.6/site-packages/IPython/core/interactiveshell.py:3072: DtypeWarning: Columns (29,30,31) have mixed types.Specify dtype option on import or set low_memory=False.\n",
      "  interactivity=interactivity, compiler=compiler, result=result)\n"
     ]
    }
   ],
   "source": [
    "pheno = pd.read_csv(path+'pheno_merge.tsv', sep = '\\t')\n",
    "manifest = pd.read_csv(path + \"SampleManifest_DS_2024.11.22_ALL.csv\") ## the one with mapping info"
   ]
  },
  {
   "cell_type": "code",
   "execution_count": 5,
   "metadata": {},
   "outputs": [
    {
     "name": "stdout",
     "output_type": "stream",
     "text": [
      "(79006, 10)\n",
      "72603\n",
      "79006\n"
     ]
    }
   ],
   "source": [
    " ## every SampleID is unique, and they might map to the same SUBJID\n",
    "print(manifest.shape)\n",
    "print(len(manifest.SUBJID.unique()))\n",
    "print(len(manifest.SampleID.unique()))"
   ]
  },
  {
   "cell_type": "code",
   "execution_count": 37,
   "metadata": {},
   "outputs": [],
   "source": [
    "manifest = manifest[(manifest.SUBJID.isin(pheno.SUBJID)) & (manifest.SAMPLE_USE == 'WGS')] ## 56500\n",
    "manifest[manifest.SUBJID.duplicated(keep=False)] ## 2234\n",
    "dup_SUBJID_df = manifest[manifest.SUBJID.duplicated(keep=False)]"
   ]
  },
  {
   "cell_type": "code",
   "execution_count": 38,
   "metadata": {
    "tags": []
   },
   "outputs": [
    {
     "data": {
      "text/plain": [
       "(2234, 10)"
      ]
     },
     "execution_count": 38,
     "metadata": {},
     "output_type": "execute_result"
    }
   ],
   "source": [
    "dup_SUBJID_df[dup_SUBJID_df.SampleID.isin(qc.SampleID)].sort_values(by='SUBJID').shape ## they are all found in QC!"
   ]
  },
  {
   "cell_type": "code",
   "execution_count": 100,
   "metadata": {},
   "outputs": [
    {
     "data": {
      "text/plain": [
       "Index(['SampleID', 'Study', 'SeqCenter', 'WGS.WES', 'runID',\n",
       "       'Read.length..bp.', 'Sequencer', 'PCR.free',\n",
       "       'Pipeline.type.and.version', 'Production.date', 'Genome.build',\n",
       "       'GATK.gVCF.GWAS.concordance', 'Freemix', 'Chipmix', 'f-value_sex.check',\n",
       "       'Replicate.Keep_Replicate_for_Analysis', 'markdup_merge_rg_cnt',\n",
       "       'depth_of_coverage_30x', 'average.genome.coverage', 'Q30_score_pcent',\n",
       "       'median_insert_size', 'bqsr_ir_cram_size', 'bqsr_ir_reads',\n",
       "       'bqsr_ir_dups', 'bqsr_ir_dups_pcent', 'bqsr_ir_mapped_reads',\n",
       "       'bqsr_ir_mapped_pcent', 'bqsr_ir_paired_reads', 'bqsr_ir_paired_pcent',\n",
       "       'bqsr_ir_singletons', 'bqsr_ir_singletons_pcent',\n",
       "       'flag_overall_CRAM_quality', 'variantEval_total_Variants',\n",
       "       'variantEval_nSNPs', 'variantEval_nIndel', 'variantEval_known_Sites',\n",
       "       'variantEval_novel_Sites', 'variantEval_novelsites_perc',\n",
       "       'variantEval_totalvariants_TiTv', 'variantEval_knownvariants_TiTv',\n",
       "       'variantEval_novelvariants_TiTv', 'flag_overall_gVCF_quality',\n",
       "       'Manta_DEL', 'Manta_DUP', 'Manta_INS', 'Manta_BND', 'Smoove_DEL',\n",
       "       'Smoove_DUP', 'Smoove_INV', 'Smoove_BND'],\n",
       "      dtype='object')"
      ]
     },
     "execution_count": 100,
     "metadata": {},
     "output_type": "execute_result"
    }
   ],
   "source": [
    "qc.columns"
   ]
  },
  {
   "cell_type": "code",
   "execution_count": 40,
   "metadata": {},
   "outputs": [],
   "source": [
    "best_SampleID=[]\n",
    "for i in dup_SUBJID_df.SUBJID.unique():\n",
    "    SampleID = manifest[manifest.SUBJID==i].SampleID\n",
    "    best_id = qc[qc.SampleID.isin(SampleID)]['average.genome.coverage'].idxmax()\n",
    "    best_SampleID.append(qc.loc[best_id].SampleID)\n",
    "    "
   ]
  },
  {
   "cell_type": "code",
   "execution_count": 49,
   "metadata": {},
   "outputs": [
    {
     "name": "stdout",
     "output_type": "stream",
     "text": [
      "(55325, 48)\n"
     ]
    }
   ],
   "source": [
    "remove_dup = dup_SUBJID_df[~dup_SUBJID_df.SampleID.isin(best_SampleID)]\n",
    "manifest_keep = manifest[~manifest.SampleID.isin(remove_dup.SampleID)]\n",
    "pheno_add_SampleID  = pheno.merge(manifest_keep, on=\"SUBJID\")\n",
    "print(pheno_add_SampleID.shape)"
   ]
  },
  {
   "cell_type": "code",
   "execution_count": 51,
   "metadata": {},
   "outputs": [],
   "source": [
    "pheno_add_SampleID.to_csv(path+'pheno_merge_w_SampleID.tsv', index = False, sep = '\\t')"
   ]
  }
 ],
 "metadata": {
  "kernelspec": {
   "display_name": "polyfun",
   "language": "python",
   "name": "polyfun"
  },
  "language_info": {
   "codemirror_mode": {
    "name": "ipython",
    "version": 3
   },
   "file_extension": ".py",
   "mimetype": "text/x-python",
   "name": "python",
   "nbconvert_exporter": "python",
   "pygments_lexer": "ipython3",
   "version": "3.6.13"
  }
 },
 "nbformat": 4,
 "nbformat_minor": 4
}
