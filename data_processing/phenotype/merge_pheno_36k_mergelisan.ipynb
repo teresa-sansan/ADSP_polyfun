{
 "cells": [
  {
   "cell_type": "code",
   "execution_count": 1,
   "metadata": {},
   "outputs": [],
   "source": [
    "import pandas as pd\n",
    "import numpy as np\n",
    "\n",
    "import seaborn as sns\n",
    "import matplotlib.pyplot as plt"
   ]
  },
  {
   "cell_type": "code",
   "execution_count": 2,
   "metadata": {},
   "outputs": [
    {
     "name": "stderr",
     "output_type": "stream",
     "text": [
      "/gpfs/commons/home/tlin/.conda/envs/polyfun/lib/python3.6/site-packages/IPython/core/interactiveshell.py:3072: DtypeWarning: Columns (15) have mixed types.Specify dtype option on import or set low_memory=False.\n",
      "  interactivity=interactivity, compiler=compiler, result=result)\n"
     ]
    }
   ],
   "source": [
    "## load data\n",
    "path = '/gpfs/commons/groups/knowles_lab/data/ADSP_reguloML/ADSP_vcf/phenotype_file/release_36K/'\n",
    "ADNI = pd.read_csv(path + \"ADNIPhenotypes_DS_2022.08.18_ALL.txt\", sep='\\t')\n",
    "family_based = pd.read_csv(path + \"ADSPFamilyBasedPhenotypes_DS_2022.08.18_ALL.txt\", sep='\\t',encoding='cp1252')\n",
    "case_control = pd.read_csv(path + \"ADSPCaseControlPhenotypes_DS_2022.08.18_ALL.txt\", sep='\\t')\n",
    "PSPCBD = pd.read_csv(path + \"PSPCBDPhenotypes_DS_2022.08.18_ALL.txt\", sep='\\t')\n",
    "SUBJ_drop = pd.read_excel(path + 'ng00067_subject_droplist_2022.08.18.xlsx', engine = 'openpyxl')\n",
    "PSPCBD_descript = pd.read_excel(path + 'PSPCBDPhenotypes_DD_2022.08.18.xlsx', engine = 'openpyxl')\n",
    "vcf = pd.read_csv(path + 'vcf_ids.txt', sep = '\\t')\n",
    "manifest = pd.read_csv(path + \"SampleManifest_DS_2022.08.18_ALL.txt\", sep='\\t') ## the one with mapping info\n",
    "\n",
    "qc = pd.read_csv(path+\"gcad.qc.r4.wgs.allchr.36361.GATK.2022.08.15.sample.summary.ALL.txt\", sep = '\\t') ## this one contains QC info( all the sampleID here are WGS)\n",
    "ibd = pd.read_csv(path + 'gcad.r4.wgs.36361.2022.08.15.pairwise_IBD.txt', sep = '\\t')"
   ]
  },
  {
   "cell_type": "code",
   "execution_count": 4,
   "metadata": {},
   "outputs": [
    {
     "name": "stdout",
     "output_type": "stream",
     "text": [
      "51992\n",
      "56863\n"
     ]
    }
   ],
   "source": [
    "## SUBJID and SampleID are not 1-1 match\n",
    "print(len(manifest.SUBJID.unique()))\n",
    "print(len(manifest.SampleID.unique()))"
   ]
  },
  {
   "cell_type": "markdown",
   "metadata": {},
   "source": [
    "## deal with pheno_merge"
   ]
  },
  {
   "cell_type": "code",
   "execution_count": 4,
   "metadata": {},
   "outputs": [
    {
     "name": "stdout",
     "output_type": "stream",
     "text": [
      "(1566, 31) (12858, 27) (45375, 31) (2803, 17)\n"
     ]
    }
   ],
   "source": [
    "print(ADNI.shape, family_based.shape, case_control.shape, PSPCBD.shape)"
   ]
  },
  {
   "cell_type": "code",
   "execution_count": 43,
   "metadata": {},
   "outputs": [
    {
     "name": "stdout",
     "output_type": "stream",
     "text": [
      "Index(['SUBJID', 'Sex', 'PrevAD', 'IncAD', 'Age_current', 'Age_baseline',\n",
      "       'Age_MCI_onset', 'Age_AD_onset', 'APOE_reported', 'APOE_WGS', 'AUTOPSY',\n",
      "       'Braak', 'Race', 'Ethnicity', 'AD_last_visit', 'MCI_last_visit',\n",
      "       'Duplicate_SUBJID', 'Comments', 'Latest_Update_Version', 'Base_PrevAD',\n",
      "       'Base_IncAD', 'Base_Age', 'Base_AUTOPSY', 'Base_Braak', 'Base_AD',\n",
      "       'Base_MCI', 'Base_Version', 'Update_baseline', 'Update_latest',\n",
      "       'Update_Diagnosis', 'Correction'],\n",
      "      dtype='object')\n",
      "Index(['SUBJID', 'FamID', 'Father', 'Mother', 'Sex', 'AD', 'Age',\n",
      "       'Age_baseline', 'APOE_reported', 'APOE_WGS', 'AUTOPSY', 'Braak', 'Race',\n",
      "       'Ethnicity', 'FamGrp', 'Comments', 'Duplicate_SUBJID',\n",
      "       'Latest_Update_Version', 'Base_AD', 'Base_Age', 'Base_AUTOPSY',\n",
      "       'Base_Braak', 'Base_Version', 'Update_baseline', 'Update_latest',\n",
      "       'Update_ADstatus', 'Correction'],\n",
      "      dtype='object')\n",
      "Index(['SUBJID', 'Sex', 'PrevAD', 'IncAD', 'Age', 'Age_baseline',\n",
      "       'APOE_reported', 'APOE_WGS', 'AUTOPSY', 'Braak', 'Race', 'Ethnicity',\n",
      "       'Selection', 'AD', 'Comments', 'Comments.1', 'AD_prev', 'Comments_prev',\n",
      "       'Duplicate_SUBJID', 'Latest_Update_Version', 'Base_PrevAD',\n",
      "       'Base_IncAD', 'Base_Age', 'Base_AUTOPSY', 'Base_Braak', 'Base_AD',\n",
      "       'Base_Version', 'Update_Baseline', 'Update_Latest', 'Update_ADstatus',\n",
      "       'Correction'],\n",
      "      dtype='object')\n",
      "Index(['SUBJID', 'Sex', 'Diagnosis', 'AgeOnset', 'AgeDeath', 'Race',\n",
      "       'APOE_WGS', 'Duplicate_SUBJID', 'Comments', 'Latest_Update_Version',\n",
      "       'Base_Diagnosis', 'Base_Version', 'Update_Baseline', 'Update_Latest',\n",
      "       'Update_Diagnosis', 'Correction', 'Consent'],\n",
      "      dtype='object')\n"
     ]
    }
   ],
   "source": [
    "print(ADNI.columns)\n",
    "print(family_based.columns)\n",
    "print(case_control.columns)\n",
    "print(PSPCBD.columns)"
   ]
  },
  {
   "cell_type": "code",
   "execution_count": 22,
   "metadata": {},
   "outputs": [],
   "source": [
    "ADNI_processed = ADNI.loc[:,['SUBJID', 'Sex', 'PrevAD', 'IncAD','Age_current', 'Age_MCI_onset','Age_AD_onset', 'Age_baseline','APOE_reported','Race', 'AD_last_visit', 'Ethnicity']]\n",
    "ADNI_processed[\"Diagnosis\"] = ADNI_processed.AD_last_visit"
   ]
  },
  {
   "cell_type": "code",
   "execution_count": 23,
   "metadata": {},
   "outputs": [],
   "source": [
    "#ADNI_processed.loc[(ADNI_processed[\"Age_MCI_onset\"].notnull())& (ADNI_processed[\"Diagnosis\"] ==0)]  #528\n",
    "#ADNI_processed = ADNI_processed.drop(ADNI_processed[(ADNI_processed[\"Age_MCI_onset\"].notnull()) & (ADNI_processed[\"Diagnosis\"] == 0)].index)\n",
    "\n",
    "ADNI_processed[\"Age\"] = ADNI_processed.Age_current\n",
    "ADNI_processed.loc[ADNI_processed.Diagnosis == 1,'Age'] = ADNI_processed.loc[ADNI_processed.Diagnosis == 1,'Age_AD_onset']  ## changed the age to age of onset of they are AD cases"
   ]
  },
  {
   "cell_type": "code",
   "execution_count": 24,
   "metadata": {},
   "outputs": [
    {
     "name": "stdout",
     "output_type": "stream",
     "text": [
      "Diagnosis\n",
      "0    958\n",
      "1    608\n",
      "dtype: int64\n"
     ]
    },
    {
     "data": {
      "text/plain": [
       "(1566, 14)"
      ]
     },
     "execution_count": 24,
     "metadata": {},
     "output_type": "execute_result"
    }
   ],
   "source": [
    "print(ADNI_processed.value_counts('Diagnosis'))\n",
    "ADNI_processed.shape"
   ]
  },
  {
   "cell_type": "code",
   "execution_count": 27,
   "metadata": {},
   "outputs": [
    {
     "data": {
      "text/html": [
       "<div>\n",
       "<style scoped>\n",
       "    .dataframe tbody tr th:only-of-type {\n",
       "        vertical-align: middle;\n",
       "    }\n",
       "\n",
       "    .dataframe tbody tr th {\n",
       "        vertical-align: top;\n",
       "    }\n",
       "\n",
       "    .dataframe thead th {\n",
       "        text-align: right;\n",
       "    }\n",
       "</style>\n",
       "<table border=\"1\" class=\"dataframe\">\n",
       "  <thead>\n",
       "    <tr style=\"text-align: right;\">\n",
       "      <th></th>\n",
       "      <th>SUBJID</th>\n",
       "      <th>Sex</th>\n",
       "      <th>PrevAD</th>\n",
       "      <th>IncAD</th>\n",
       "      <th>Age_current</th>\n",
       "      <th>Age_MCI_onset</th>\n",
       "      <th>Age_AD_onset</th>\n",
       "      <th>Age_baseline</th>\n",
       "      <th>APOE_reported</th>\n",
       "      <th>Race</th>\n",
       "      <th>AD_last_visit</th>\n",
       "      <th>Ethnicity</th>\n",
       "      <th>Diagnosis</th>\n",
       "      <th>Age</th>\n",
       "    </tr>\n",
       "  </thead>\n",
       "  <tbody>\n",
       "    <tr>\n",
       "      <th>871</th>\n",
       "      <td>G-ADNI-AN000064</td>\n",
       "      <td>0</td>\n",
       "      <td>0</td>\n",
       "      <td>1</td>\n",
       "      <td>66</td>\n",
       "      <td>60</td>\n",
       "      <td>NaN</td>\n",
       "      <td>61</td>\n",
       "      <td>33</td>\n",
       "      <td>5.0</td>\n",
       "      <td>1</td>\n",
       "      <td>0.0</td>\n",
       "      <td>1</td>\n",
       "      <td>NaN</td>\n",
       "    </tr>\n",
       "    <tr>\n",
       "      <th>975</th>\n",
       "      <td>G-ADNI-AN000170</td>\n",
       "      <td>0</td>\n",
       "      <td>0</td>\n",
       "      <td>1</td>\n",
       "      <td>76</td>\n",
       "      <td>71</td>\n",
       "      <td>NaN</td>\n",
       "      <td>73</td>\n",
       "      <td>34</td>\n",
       "      <td>5.0</td>\n",
       "      <td>1</td>\n",
       "      <td>0.0</td>\n",
       "      <td>1</td>\n",
       "      <td>NaN</td>\n",
       "    </tr>\n",
       "  </tbody>\n",
       "</table>\n",
       "</div>"
      ],
      "text/plain": [
       "              SUBJID  Sex  PrevAD  IncAD Age_current Age_MCI_onset  \\\n",
       "871  G-ADNI-AN000064    0       0      1          66            60   \n",
       "975  G-ADNI-AN000170    0       0      1          76            71   \n",
       "\n",
       "    Age_AD_onset Age_baseline  APOE_reported  Race  AD_last_visit  Ethnicity  \\\n",
       "871          NaN           61             33   5.0              1        0.0   \n",
       "975          NaN           73             34   5.0              1        0.0   \n",
       "\n",
       "     Diagnosis  Age  \n",
       "871          1  NaN  \n",
       "975          1  NaN  "
      ]
     },
     "execution_count": 27,
     "metadata": {},
     "output_type": "execute_result"
    }
   ],
   "source": [
    "## There are two cases without age of onset\n",
    "## all controls have current age and the age they first entered the study!\n",
    "ADNI_processed[ADNI_processed.Age.isnull()]"
   ]
  },
  {
   "cell_type": "code",
   "execution_count": 30,
   "metadata": {},
   "outputs": [
    {
     "data": {
      "text/plain": [
       "NaN    8507\n",
       "0      2493\n",
       "1      1858\n",
       "Name: Diagnosis, dtype: int64"
      ]
     },
     "execution_count": 30,
     "metadata": {},
     "output_type": "execute_result"
    }
   ],
   "source": [
    "## family_based\n",
    "family_based['Diagnosis'] = 'NaN'\n",
    "family_based.loc[family_based['AD'] == 0, \"Diagnosis\"] = 0\n",
    "family_based.loc[(family_based['AD'] >=1) & (family_based['AD'] <=3), \"Diagnosis\"] =1\n",
    "family_based.Diagnosis.value_counts()"
   ]
  },
  {
   "cell_type": "code",
   "execution_count": 8,
   "metadata": {},
   "outputs": [
    {
     "name": "stdout",
     "output_type": "stream",
     "text": [
      "(6624, 7)\n"
     ]
    }
   ],
   "source": [
    "## family_based (old)\n",
    "family_based = pd.concat([control,case])\n",
    "#family_based_processed = family_based.loc[:, [\"SUBJID\", \"Sex\", \"Diagnosis\", \"APOE_reported\",\"Age\",\"Race\", \"Age_baseline\"]]\n",
    "print(family_based_processed.shape)"
   ]
  },
  {
   "cell_type": "code",
   "execution_count": 40,
   "metadata": {},
   "outputs": [
    {
     "name": "stdout",
     "output_type": "stream",
     "text": [
      "5235\n",
      "0      23347\n",
      "1      16793\n",
      "NaN     5235\n",
      "Name: Diagnosis, dtype: Int64\n"
     ]
    }
   ],
   "source": [
    "## case_control\n",
    "#case_control_processed = case_control.loc[:,[\"SUBJID\", \"Sex\", \"AD\", \"APOE_reported\",\"Age\",\"Race\", \"Age_baseline\"]]\n",
    "case_control.AD = case_control.AD.astype('Int64')\n",
    "case_control_processed = case_control.rename(columns = {'AD':'Diagnosis'})\n",
    "print(case_control_processed.Diagnosis.isna().sum())\n",
    "print(case_control_processed.Diagnosis.value_counts(dropna=False))\n",
    "#case_control_processed = case_control_processed.dropna(subset = ['Diagnosis','Age', 'APOE_reported', 'Race'])"
   ]
  },
  {
   "cell_type": "code",
   "execution_count": 41,
   "metadata": {},
   "outputs": [],
   "source": [
    "ADNI_processed[\"source\"] = 'ADNI'\n",
    "family_based[\"source\"] = 'Family_based'\n",
    "case_control_processed[\"source\"] = 'case_control'"
   ]
  },
  {
   "cell_type": "code",
   "execution_count": 212,
   "metadata": {},
   "outputs": [
    {
     "name": "stdout",
     "output_type": "stream",
     "text": [
      "(59799, 43)\n"
     ]
    }
   ],
   "source": [
    "pheno = pd.concat([ADNI_processed, family_based, case_control_processed])\n",
    "pheno.loc[pheno['Age'] == '90+', 'Age'] = 90\n",
    "pheno.loc[pheno['Age_baseline'] == '90+', 'Age_baseline'] = 90\n",
    "#pheno.Age = pheno.Age.astype('int')\n",
    "print(pheno.shape)"
   ]
  },
  {
   "cell_type": "code",
   "execution_count": 214,
   "metadata": {},
   "outputs": [
    {
     "name": "stdout",
     "output_type": "stream",
     "text": [
      "before extracting WGS (59793, 43)\n",
      "After extracting WGS (33633, 43)\n"
     ]
    }
   ],
   "source": [
    "## Only keep WGS\n",
    "wgs_SUBJID = manifest[manifest.SampleID.isin(qc.SampleID)].SUBJID\n",
    "wgs_SUBJID.shape\n",
    "\n",
    "print('before extracting WGS', pheno.shape)\n",
    "pheno = pheno[pheno.SUBJID.isin(wgs_SUBJID)]\n",
    "\n",
    "print('After extracting WGS', pheno.shape)"
   ]
  },
  {
   "cell_type": "code",
   "execution_count": 215,
   "metadata": {},
   "outputs": [
    {
     "data": {
      "text/plain": [
       "(33633, 43)"
      ]
     },
     "execution_count": 215,
     "metadata": {},
     "output_type": "execute_result"
    }
   ],
   "source": [
    "## drop technique replicates (using SUBJID)\n",
    "replicate_to_drop = manifest[(manifest.SampleID.isin(qc.SampleID)) & (manifest.Technical_Replicate == 1)] ##(63,10)\n",
    "pheno[pheno.SUBJID.isin(replicate_to_drop.SUBJID)]\n",
    "pheno = pheno[~pheno.SUBJID.isin(replicate_to_drop.SUBJID)]\n",
    "#pheno.to_csv(path + 'check_pheno.tsv',sep = '\\t', index = False)\n",
    "pheno.shape"
   ]
  },
  {
   "cell_type": "code",
   "execution_count": 216,
   "metadata": {},
   "outputs": [
    {
     "name": "stdout",
     "output_type": "stream",
     "text": [
      "(32,) (33633, 43)\n",
      "2\n",
      "2\n",
      "['case_control']\n",
      "(33601, 43)\n"
     ]
    }
   ],
   "source": [
    "duplicated_ID = pheno[pheno.SUBJID.duplicated()].SUBJID\n",
    "print(duplicated_ID.shape, pheno.shape)\n",
    "\n",
    "## The duplicates are between family based and case control, two as a pair\n",
    "print(min(pheno[pheno.SUBJID.isin(duplicated_ID)].value_counts('SUBJID')))\n",
    "print(max(pheno[pheno.SUBJID.isin(duplicated_ID)].value_counts('SUBJID')))\n",
    "\n",
    "duplicates = pheno[pheno.SUBJID.isin(duplicated_ID)].sort_values('SUBJID', ascending = False)\n",
    "print(pheno[pheno.SUBJID.duplicated()].source.unique()) ### they are all case_control\n",
    "pheno = pheno[~pheno.SUBJID.duplicated()] ## only keep the family_based one\n",
    "print(pheno.shape)"
   ]
  },
  {
   "cell_type": "code",
   "execution_count": 217,
   "metadata": {},
   "outputs": [
    {
     "name": "stdout",
     "output_type": "stream",
     "text": [
      "33601\n",
      "0      17386\n",
      "1      11561\n",
      "NaN       98\n",
      "Name: Diagnosis, dtype: int64\n"
     ]
    }
   ],
   "source": [
    "print(len(pheno.SUBJID.unique()))\n",
    "print(pheno.Diagnosis.value_counts())\n",
    "#pheno = pheno[[\"SUBJID\", \"Sex\", \"Diagnosis\", \"APOE_reported\",\"Age\",\"Race\",\"Ethnicity\",\"FamID\",'source']]"
   ]
  },
  {
   "cell_type": "code",
   "execution_count": 117,
   "metadata": {},
   "outputs": [
    {
     "data": {
      "text/plain": [
       "<AxesSubplot:title={'center':'data surce for pheno_merge'}>"
      ]
     },
     "execution_count": 117,
     "metadata": {},
     "output_type": "execute_result"
    },
    {
     "data": {
      "image/png": "[encoded data removed]",
      "text/plain": [
       "<Figure size 432x288 with 1 Axes>"
      ]
     },
     "metadata": {},
     "output_type": "display_data"
    }
   ],
   "source": [
    "pheno.source.value_counts().plot(kind='pie', ylabel='', title='data surce for pheno_merge')\n"
   ]
  },
  {
   "cell_type": "markdown",
   "metadata": {},
   "source": [
    "## manifest & IBD & QC"
   ]
  },
  {
   "cell_type": "code",
   "execution_count": 86,
   "metadata": {},
   "outputs": [
    {
     "name": "stdout",
     "output_type": "stream",
     "text": [
      "(56863, 10)\n",
      "51992\n",
      "56863\n"
     ]
    }
   ],
   "source": [
    " ## every SampleID is unique, and they might map to the same SUBJID\n",
    "print(manifest.shape)\n",
    "print(len(manifest.SUBJID.unique()))\n",
    "print(len(manifest.SampleID.unique()))"
   ]
  },
  {
   "cell_type": "code",
   "execution_count": 119,
   "metadata": {},
   "outputs": [
    {
     "name": "stdout",
     "output_type": "stream",
     "text": [
      "(38133, 18)\n",
      "22552\n"
     ]
    }
   ],
   "source": [
    "## Manifest\n",
    "pheno_add_SampleID  = pheno.merge(manifest, on=\"SUBJID\")\n",
    "print(pheno_add_SampleID.shape)\n",
    "dup_sample = pheno_add_SampleID[pheno_add_SampleID.SUBJID.duplicated(keep=False)] #9033 row\n",
    "\n",
    "dup_SampleID = manifest[manifest.SUBJID.isin(dup_sample.SUBJID.unique())].SampleID ##9033\n",
    "print(qc[qc.SampleID.isin(dup_SampleID)].Missing.idxmin())\n",
    "dup_SampleID[~dup_SampleID.isin(qc.SampleID)]  ## not every SampleID is found in QC file\n",
    "\n",
    "## extract the SampleID with the lowest missing num\n",
    "best_SampleID=[]\n",
    "for i in dup_sample.SUBJID.unique():\n",
    "    SampleID = manifest[manifest.SUBJID==i].SampleID\n",
    "    best_id = qc[qc.SampleID.isin(SampleID)].Missing.idxmin()\n",
    "    best_SampleID.append(qc.loc[best_id].SampleID)\n",
    "    "
   ]
  },
  {
   "cell_type": "code",
   "execution_count": 121,
   "metadata": {},
   "outputs": [
    {
     "data": {
      "text/plain": [
       "4501"
      ]
     },
     "execution_count": 121,
     "metadata": {},
     "output_type": "execute_result"
    }
   ],
   "source": [
    "print(len(best_SampleID))\n",
    "print(len(dup_sample.SUBJID.unique()))"
   ]
  },
  {
   "cell_type": "code",
   "execution_count": 126,
   "metadata": {},
   "outputs": [],
   "source": [
    "map_sampleID = dict(list(zip(dup_sample.SUBJID.unique(), best_SampleID)))"
   ]
  },
  {
   "cell_type": "code",
   "execution_count": 152,
   "metadata": {},
   "outputs": [],
   "source": [
    "pheno_SampleID_todrop = pheno_add_SampleID[pheno_add_SampleID.SUBJID.isin(map_sampleID)]"
   ]
  },
  {
   "cell_type": "code",
   "execution_count": 154,
   "metadata": {},
   "outputs": [
    {
     "data": {
      "text/html": [
       "<div>\n",
       "<style scoped>\n",
       "    .dataframe tbody tr th:only-of-type {\n",
       "        vertical-align: middle;\n",
       "    }\n",
       "\n",
       "    .dataframe tbody tr th {\n",
       "        vertical-align: top;\n",
       "    }\n",
       "\n",
       "    .dataframe thead th {\n",
       "        text-align: right;\n",
       "    }\n",
       "</style>\n",
       "<table border=\"1\" class=\"dataframe\">\n",
       "  <thead>\n",
       "    <tr style=\"text-align: right;\">\n",
       "      <th></th>\n",
       "      <th>SUBJID</th>\n",
       "      <th>Sex</th>\n",
       "      <th>Diagnosis</th>\n",
       "      <th>APOE_reported</th>\n",
       "      <th>Age</th>\n",
       "      <th>Race</th>\n",
       "      <th>Ethnicity</th>\n",
       "      <th>FamID</th>\n",
       "      <th>source</th>\n",
       "      <th>SampleID</th>\n",
       "      <th>BODY_SITE</th>\n",
       "      <th>ANALYTE_TYPE</th>\n",
       "      <th>Sequencing_Center</th>\n",
       "      <th>Sequencing_Platform</th>\n",
       "      <th>SAMPLE_USE</th>\n",
       "      <th>Technical_Replicate</th>\n",
       "      <th>Study_DSS</th>\n",
       "      <th>Sample_Set</th>\n",
       "    </tr>\n",
       "  </thead>\n",
       "  <tbody>\n",
       "    <tr>\n",
       "      <th>1973</th>\n",
       "      <td>A-CUHS-CU006133</td>\n",
       "      <td>1.0</td>\n",
       "      <td>0</td>\n",
       "      <td>44.0</td>\n",
       "      <td>58</td>\n",
       "      <td>6.0</td>\n",
       "      <td>1.0</td>\n",
       "      <td>CU0098F</td>\n",
       "      <td>Family_based</td>\n",
       "      <td>A-CUHS-CU006133-BL-COL-31008BL1</td>\n",
       "      <td>Blood</td>\n",
       "      <td>DNA</td>\n",
       "      <td>WashU</td>\n",
       "      <td>Illumina_HiSeqX</td>\n",
       "      <td>WGS</td>\n",
       "      <td>0</td>\n",
       "      <td>sa000001</td>\n",
       "      <td>snd10001</td>\n",
       "    </tr>\n",
       "    <tr>\n",
       "      <th>2001</th>\n",
       "      <td>A-LOAD-LD001135</td>\n",
       "      <td>1.0</td>\n",
       "      <td>1</td>\n",
       "      <td>33.0</td>\n",
       "      <td>74</td>\n",
       "      <td>5.0</td>\n",
       "      <td>0.0</td>\n",
       "      <td>LD0191F</td>\n",
       "      <td>Family_based</td>\n",
       "      <td>A-LOAD-LD001135-BL-NCR-8008285337</td>\n",
       "      <td>Blood</td>\n",
       "      <td>DNA</td>\n",
       "      <td>Otogenetics</td>\n",
       "      <td>Illumina_HiSeq_2000</td>\n",
       "      <td>WES</td>\n",
       "      <td>0</td>\n",
       "      <td>sa000004</td>\n",
       "      <td>snd10004</td>\n",
       "    </tr>\n",
       "    <tr>\n",
       "      <th>2016</th>\n",
       "      <td>A-LOAD-LD001340</td>\n",
       "      <td>1.0</td>\n",
       "      <td>1</td>\n",
       "      <td>23.0</td>\n",
       "      <td>70</td>\n",
       "      <td>5.0</td>\n",
       "      <td>0.0</td>\n",
       "      <td>LD0241F</td>\n",
       "      <td>Family_based</td>\n",
       "      <td>A-LOAD-LD001340-CL-NCR-07AD1620</td>\n",
       "      <td>Cell Line</td>\n",
       "      <td>DNA</td>\n",
       "      <td>UW_GenomeSciences</td>\n",
       "      <td>Illumina_HiSeq_2000</td>\n",
       "      <td>WES</td>\n",
       "      <td>0</td>\n",
       "      <td>sa000005</td>\n",
       "      <td>snd10005</td>\n",
       "    </tr>\n",
       "    <tr>\n",
       "      <th>2020</th>\n",
       "      <td>A-LOAD-LD001349</td>\n",
       "      <td>1.0</td>\n",
       "      <td>1</td>\n",
       "      <td>33.0</td>\n",
       "      <td>85</td>\n",
       "      <td>5.0</td>\n",
       "      <td>0.0</td>\n",
       "      <td>LD0241F</td>\n",
       "      <td>Family_based</td>\n",
       "      <td>A-LOAD-LD001349-UNK-NCR-11AD47531</td>\n",
       "      <td>Unknown</td>\n",
       "      <td>DNA</td>\n",
       "      <td>UW_GenomeSciences</td>\n",
       "      <td>Illumina_HiSeq_2000</td>\n",
       "      <td>WES</td>\n",
       "      <td>0</td>\n",
       "      <td>sa000005</td>\n",
       "      <td>snd10005</td>\n",
       "    </tr>\n",
       "    <tr>\n",
       "      <th>2068</th>\n",
       "      <td>A-LOAD-LD004376</td>\n",
       "      <td>0.0</td>\n",
       "      <td>1</td>\n",
       "      <td>33.0</td>\n",
       "      <td>65</td>\n",
       "      <td>5.0</td>\n",
       "      <td>0.0</td>\n",
       "      <td>LD0949F</td>\n",
       "      <td>Family_based</td>\n",
       "      <td>A-LOAD-LD004376-UNK-UNK-UNK0036</td>\n",
       "      <td>Unknown</td>\n",
       "      <td>DNA</td>\n",
       "      <td>GENENTECH</td>\n",
       "      <td>Illumina_HiSeq_2000</td>\n",
       "      <td>WGS</td>\n",
       "      <td>0</td>\n",
       "      <td>sa000004</td>\n",
       "      <td>snd10018</td>\n",
       "    </tr>\n",
       "    <tr>\n",
       "      <th>...</th>\n",
       "      <td>...</td>\n",
       "      <td>...</td>\n",
       "      <td>...</td>\n",
       "      <td>...</td>\n",
       "      <td>...</td>\n",
       "      <td>...</td>\n",
       "      <td>...</td>\n",
       "      <td>...</td>\n",
       "      <td>...</td>\n",
       "      <td>...</td>\n",
       "      <td>...</td>\n",
       "      <td>...</td>\n",
       "      <td>...</td>\n",
       "      <td>...</td>\n",
       "      <td>...</td>\n",
       "      <td>...</td>\n",
       "      <td>...</td>\n",
       "      <td>...</td>\n",
       "    </tr>\n",
       "    <tr>\n",
       "      <th>35045</th>\n",
       "      <td>G-KGAD-KA001216</td>\n",
       "      <td>1.0</td>\n",
       "      <td>1</td>\n",
       "      <td>34.0</td>\n",
       "      <td>64</td>\n",
       "      <td>5.0</td>\n",
       "      <td>NaN</td>\n",
       "      <td>NaN</td>\n",
       "      <td>case_control</td>\n",
       "      <td>G-KGAD-KA000886-BL-WU-8038741275</td>\n",
       "      <td>Blood</td>\n",
       "      <td>DNA</td>\n",
       "      <td>USUHS</td>\n",
       "      <td>Illumina_NovaSeq</td>\n",
       "      <td>WGS</td>\n",
       "      <td>0</td>\n",
       "      <td>sa000023</td>\n",
       "      <td>snd10032</td>\n",
       "    </tr>\n",
       "    <tr>\n",
       "      <th>37811</th>\n",
       "      <td>G-MSBB-MB000022</td>\n",
       "      <td>0.0</td>\n",
       "      <td>0</td>\n",
       "      <td>NaN</td>\n",
       "      <td>84</td>\n",
       "      <td>5.0</td>\n",
       "      <td>0.0</td>\n",
       "      <td>NaN</td>\n",
       "      <td>case_control</td>\n",
       "      <td>G-MSBB-MB000022-BR-MSBB-71813</td>\n",
       "      <td>Brain</td>\n",
       "      <td>DNA</td>\n",
       "      <td>NYGC</td>\n",
       "      <td>Illumina_HiSeqX</td>\n",
       "      <td>WGS</td>\n",
       "      <td>0</td>\n",
       "      <td>sa000011</td>\n",
       "      <td>snd10011</td>\n",
       "    </tr>\n",
       "    <tr>\n",
       "      <th>37884</th>\n",
       "      <td>G-MSBB-MB000094</td>\n",
       "      <td>1.0</td>\n",
       "      <td>1</td>\n",
       "      <td>NaN</td>\n",
       "      <td>82</td>\n",
       "      <td>5.0</td>\n",
       "      <td>0.0</td>\n",
       "      <td>NaN</td>\n",
       "      <td>case_control</td>\n",
       "      <td>G-MSBB-MB000094-BR-MSBB-71738</td>\n",
       "      <td>Brain</td>\n",
       "      <td>DNA</td>\n",
       "      <td>NYGC</td>\n",
       "      <td>Illumina_HiSeqX</td>\n",
       "      <td>WGS</td>\n",
       "      <td>0</td>\n",
       "      <td>sa000011</td>\n",
       "      <td>snd10011</td>\n",
       "    </tr>\n",
       "    <tr>\n",
       "      <th>37917</th>\n",
       "      <td>G-MSBB-MB000126</td>\n",
       "      <td>1.0</td>\n",
       "      <td>1</td>\n",
       "      <td>NaN</td>\n",
       "      <td>90</td>\n",
       "      <td>5.0</td>\n",
       "      <td>0.0</td>\n",
       "      <td>NaN</td>\n",
       "      <td>case_control</td>\n",
       "      <td>G-MSBB-MB000126-BR-MSBB-71926</td>\n",
       "      <td>Brain</td>\n",
       "      <td>DNA</td>\n",
       "      <td>NYGC</td>\n",
       "      <td>Illumina_HiSeqX</td>\n",
       "      <td>WGS</td>\n",
       "      <td>0</td>\n",
       "      <td>sa000011</td>\n",
       "      <td>snd10011</td>\n",
       "    </tr>\n",
       "    <tr>\n",
       "      <th>37967</th>\n",
       "      <td>G-MSBB-MB000175</td>\n",
       "      <td>0.0</td>\n",
       "      <td>1</td>\n",
       "      <td>NaN</td>\n",
       "      <td>90</td>\n",
       "      <td>5.0</td>\n",
       "      <td>0.0</td>\n",
       "      <td>NaN</td>\n",
       "      <td>case_control</td>\n",
       "      <td>G-MSBB-MB000175-BR-MSBB-71959</td>\n",
       "      <td>Brain</td>\n",
       "      <td>DNA</td>\n",
       "      <td>NYGC</td>\n",
       "      <td>Illumina_HiSeqX</td>\n",
       "      <td>WGS</td>\n",
       "      <td>0</td>\n",
       "      <td>sa000011</td>\n",
       "      <td>snd10011</td>\n",
       "    </tr>\n",
       "  </tbody>\n",
       "</table>\n",
       "<p>4532 rows × 18 columns</p>\n",
       "</div>"
      ],
      "text/plain": [
       "                SUBJID  Sex Diagnosis  APOE_reported Age  Race  Ethnicity  \\\n",
       "1973   A-CUHS-CU006133  1.0         0           44.0  58   6.0        1.0   \n",
       "2001   A-LOAD-LD001135  1.0         1           33.0  74   5.0        0.0   \n",
       "2016   A-LOAD-LD001340  1.0         1           23.0  70   5.0        0.0   \n",
       "2020   A-LOAD-LD001349  1.0         1           33.0  85   5.0        0.0   \n",
       "2068   A-LOAD-LD004376  0.0         1           33.0  65   5.0        0.0   \n",
       "...                ...  ...       ...            ...  ..   ...        ...   \n",
       "35045  G-KGAD-KA001216  1.0         1           34.0  64   5.0        NaN   \n",
       "37811  G-MSBB-MB000022  0.0         0            NaN  84   5.0        0.0   \n",
       "37884  G-MSBB-MB000094  1.0         1            NaN  82   5.0        0.0   \n",
       "37917  G-MSBB-MB000126  1.0         1            NaN  90   5.0        0.0   \n",
       "37967  G-MSBB-MB000175  0.0         1            NaN  90   5.0        0.0   \n",
       "\n",
       "         FamID        source                           SampleID  BODY_SITE  \\\n",
       "1973   CU0098F  Family_based    A-CUHS-CU006133-BL-COL-31008BL1      Blood   \n",
       "2001   LD0191F  Family_based  A-LOAD-LD001135-BL-NCR-8008285337      Blood   \n",
       "2016   LD0241F  Family_based    A-LOAD-LD001340-CL-NCR-07AD1620  Cell Line   \n",
       "2020   LD0241F  Family_based  A-LOAD-LD001349-UNK-NCR-11AD47531    Unknown   \n",
       "2068   LD0949F  Family_based    A-LOAD-LD004376-UNK-UNK-UNK0036    Unknown   \n",
       "...        ...           ...                                ...        ...   \n",
       "35045      NaN  case_control   G-KGAD-KA000886-BL-WU-8038741275      Blood   \n",
       "37811      NaN  case_control      G-MSBB-MB000022-BR-MSBB-71813      Brain   \n",
       "37884      NaN  case_control      G-MSBB-MB000094-BR-MSBB-71738      Brain   \n",
       "37917      NaN  case_control      G-MSBB-MB000126-BR-MSBB-71926      Brain   \n",
       "37967      NaN  case_control      G-MSBB-MB000175-BR-MSBB-71959      Brain   \n",
       "\n",
       "      ANALYTE_TYPE  Sequencing_Center  Sequencing_Platform SAMPLE_USE  \\\n",
       "1973           DNA              WashU      Illumina_HiSeqX        WGS   \n",
       "2001           DNA        Otogenetics  Illumina_HiSeq_2000        WES   \n",
       "2016           DNA  UW_GenomeSciences  Illumina_HiSeq_2000        WES   \n",
       "2020           DNA  UW_GenomeSciences  Illumina_HiSeq_2000        WES   \n",
       "2068           DNA          GENENTECH  Illumina_HiSeq_2000        WGS   \n",
       "...            ...                ...                  ...        ...   \n",
       "35045          DNA              USUHS     Illumina_NovaSeq        WGS   \n",
       "37811          DNA               NYGC      Illumina_HiSeqX        WGS   \n",
       "37884          DNA               NYGC      Illumina_HiSeqX        WGS   \n",
       "37917          DNA               NYGC      Illumina_HiSeqX        WGS   \n",
       "37967          DNA               NYGC      Illumina_HiSeqX        WGS   \n",
       "\n",
       "       Technical_Replicate Study_DSS Sample_Set  \n",
       "1973                     0  sa000001   snd10001  \n",
       "2001                     0  sa000004   snd10004  \n",
       "2016                     0  sa000005   snd10005  \n",
       "2020                     0  sa000005   snd10005  \n",
       "2068                     0  sa000004   snd10018  \n",
       "...                    ...       ...        ...  \n",
       "35045                    0  sa000023   snd10032  \n",
       "37811                    0  sa000011   snd10011  \n",
       "37884                    0  sa000011   snd10011  \n",
       "37917                    0  sa000011   snd10011  \n",
       "37967                    0  sa000011   snd10011  \n",
       "\n",
       "[4532 rows x 18 columns]"
      ]
     },
     "execution_count": 154,
     "metadata": {},
     "output_type": "execute_result"
    }
   ],
   "source": [
    "pheno_SampleID_todrop[pheno_SampleID_todrop.SampleID != pheno_SampleID_todrop.SUBJID.map(map_sampleID)]"
   ]
  },
  {
   "cell_type": "code",
   "execution_count": 156,
   "metadata": {},
   "outputs": [],
   "source": [
    "pheno_add_SampleID = pheno_add_SampleID.drop(pheno_SampleID_todrop[pheno_SampleID_todrop.SampleID != pheno_SampleID_todrop.SUBJID.map(map_sampleID)].index)  ## get back to 33601"
   ]
  },
  {
   "cell_type": "code",
   "execution_count": 157,
   "metadata": {},
   "outputs": [
    {
     "data": {
      "text/plain": [
       "(33601, 18)"
      ]
     },
     "execution_count": 157,
     "metadata": {},
     "output_type": "execute_result"
    }
   ],
   "source": [
    "pheno_add_SampleID.shape"
   ]
  },
  {
   "cell_type": "code",
   "execution_count": 158,
   "metadata": {},
   "outputs": [],
   "source": [
    "pheno_add_SampleID.to_csv(path +'check_pheno.tsv',sep = '\\t', index = False)"
   ]
  },
  {
   "cell_type": "markdown",
   "metadata": {},
   "source": [
    "## check King"
   ]
  },
  {
   "cell_type": "code",
   "execution_count": 159,
   "metadata": {},
   "outputs": [],
   "source": [
    "#king_manifest = pd.read_csv(path+'pheno_merge_sampleID_king.tsv', sep = '\\t')\n",
    "king = np.loadtxt(\"/gpfs/commons/groups/knowles_lab/data/ADSP_reguloML/ADSP_vcf/phenotype_file/release_36K/unrelated_samples.txt\", dtype=str) ## The non-related individual's sample ID calculate from Kinship only have sample I"
   ]
  },
  {
   "cell_type": "code",
   "execution_count": 165,
   "metadata": {},
   "outputs": [],
   "source": [
    "pheno_king = pheno_add_SampleID[pheno_add_SampleID.SampleID.isin(king)] ## 31351"
   ]
  },
  {
   "cell_type": "code",
   "execution_count": 166,
   "metadata": {},
   "outputs": [
    {
     "data": {
      "text/html": [
       "<div>\n",
       "<style scoped>\n",
       "    .dataframe tbody tr th:only-of-type {\n",
       "        vertical-align: middle;\n",
       "    }\n",
       "\n",
       "    .dataframe tbody tr th {\n",
       "        vertical-align: top;\n",
       "    }\n",
       "\n",
       "    .dataframe thead th {\n",
       "        text-align: right;\n",
       "    }\n",
       "</style>\n",
       "<table border=\"1\" class=\"dataframe\">\n",
       "  <thead>\n",
       "    <tr style=\"text-align: right;\">\n",
       "      <th></th>\n",
       "      <th>SUBJID</th>\n",
       "      <th>Sex</th>\n",
       "      <th>Diagnosis</th>\n",
       "      <th>APOE_reported</th>\n",
       "      <th>Age</th>\n",
       "      <th>Race</th>\n",
       "      <th>Ethnicity</th>\n",
       "      <th>FamID</th>\n",
       "      <th>source</th>\n",
       "      <th>SampleID</th>\n",
       "      <th>BODY_SITE</th>\n",
       "      <th>ANALYTE_TYPE</th>\n",
       "      <th>Sequencing_Center</th>\n",
       "      <th>Sequencing_Platform</th>\n",
       "      <th>SAMPLE_USE</th>\n",
       "      <th>Technical_Replicate</th>\n",
       "      <th>Study_DSS</th>\n",
       "      <th>Sample_Set</th>\n",
       "    </tr>\n",
       "  </thead>\n",
       "  <tbody>\n",
       "    <tr>\n",
       "      <th>1</th>\n",
       "      <td>ADNI_002_S_0685</td>\n",
       "      <td>1.0</td>\n",
       "      <td>0</td>\n",
       "      <td>33.0</td>\n",
       "      <td>90</td>\n",
       "      <td>5.0</td>\n",
       "      <td>0.0</td>\n",
       "      <td>NaN</td>\n",
       "      <td>ADNI</td>\n",
       "      <td>ADNI_002_S_0685</td>\n",
       "      <td>Blood</td>\n",
       "      <td>DNA</td>\n",
       "      <td>Illumina</td>\n",
       "      <td>Illumina_HiSeq_2000</td>\n",
       "      <td>WGS</td>\n",
       "      <td>0</td>\n",
       "      <td>sa000002</td>\n",
       "      <td>snd10002</td>\n",
       "    </tr>\n",
       "    <tr>\n",
       "      <th>3</th>\n",
       "      <td>ADNI_002_S_1155</td>\n",
       "      <td>0.0</td>\n",
       "      <td>0</td>\n",
       "      <td>33.0</td>\n",
       "      <td>69</td>\n",
       "      <td>5.0</td>\n",
       "      <td>0.0</td>\n",
       "      <td>NaN</td>\n",
       "      <td>ADNI</td>\n",
       "      <td>ADNI_002_S_1155</td>\n",
       "      <td>Blood</td>\n",
       "      <td>DNA</td>\n",
       "      <td>Illumina</td>\n",
       "      <td>Illumina_HiSeq_2000</td>\n",
       "      <td>WGS</td>\n",
       "      <td>0</td>\n",
       "      <td>sa000002</td>\n",
       "      <td>snd10002</td>\n",
       "    </tr>\n",
       "    <tr>\n",
       "      <th>4</th>\n",
       "      <td>ADNI_002_S_1261</td>\n",
       "      <td>1.0</td>\n",
       "      <td>0</td>\n",
       "      <td>33.0</td>\n",
       "      <td>82</td>\n",
       "      <td>5.0</td>\n",
       "      <td>0.0</td>\n",
       "      <td>NaN</td>\n",
       "      <td>ADNI</td>\n",
       "      <td>ADNI_002_S_1261</td>\n",
       "      <td>Blood</td>\n",
       "      <td>DNA</td>\n",
       "      <td>Illumina</td>\n",
       "      <td>Illumina_HiSeq_2000</td>\n",
       "      <td>WGS</td>\n",
       "      <td>0</td>\n",
       "      <td>sa000002</td>\n",
       "      <td>snd10002</td>\n",
       "    </tr>\n",
       "    <tr>\n",
       "      <th>7</th>\n",
       "      <td>ADNI_002_S_2010</td>\n",
       "      <td>1.0</td>\n",
       "      <td>0</td>\n",
       "      <td>34.0</td>\n",
       "      <td>68</td>\n",
       "      <td>6.0</td>\n",
       "      <td>0.0</td>\n",
       "      <td>NaN</td>\n",
       "      <td>ADNI</td>\n",
       "      <td>ADNI_002_S_2010</td>\n",
       "      <td>Blood</td>\n",
       "      <td>DNA</td>\n",
       "      <td>Illumina</td>\n",
       "      <td>Illumina_HiSeq_2000</td>\n",
       "      <td>WGS</td>\n",
       "      <td>0</td>\n",
       "      <td>sa000002</td>\n",
       "      <td>snd10002</td>\n",
       "    </tr>\n",
       "    <tr>\n",
       "      <th>9</th>\n",
       "      <td>ADNI_002_S_2073</td>\n",
       "      <td>1.0</td>\n",
       "      <td>0</td>\n",
       "      <td>33.0</td>\n",
       "      <td>69</td>\n",
       "      <td>5.0</td>\n",
       "      <td>0.0</td>\n",
       "      <td>NaN</td>\n",
       "      <td>ADNI</td>\n",
       "      <td>ADNI_002_S_2073</td>\n",
       "      <td>Blood</td>\n",
       "      <td>DNA</td>\n",
       "      <td>Illumina</td>\n",
       "      <td>Illumina_HiSeq_2000</td>\n",
       "      <td>WGS</td>\n",
       "      <td>0</td>\n",
       "      <td>sa000002</td>\n",
       "      <td>snd10002</td>\n",
       "    </tr>\n",
       "    <tr>\n",
       "      <th>...</th>\n",
       "      <td>...</td>\n",
       "      <td>...</td>\n",
       "      <td>...</td>\n",
       "      <td>...</td>\n",
       "      <td>...</td>\n",
       "      <td>...</td>\n",
       "      <td>...</td>\n",
       "      <td>...</td>\n",
       "      <td>...</td>\n",
       "      <td>...</td>\n",
       "      <td>...</td>\n",
       "      <td>...</td>\n",
       "      <td>...</td>\n",
       "      <td>...</td>\n",
       "      <td>...</td>\n",
       "      <td>...</td>\n",
       "      <td>...</td>\n",
       "      <td>...</td>\n",
       "    </tr>\n",
       "    <tr>\n",
       "      <th>38128</th>\n",
       "      <td>G-MSBB-MB000337</td>\n",
       "      <td>1.0</td>\n",
       "      <td>0</td>\n",
       "      <td>NaN</td>\n",
       "      <td>62</td>\n",
       "      <td>4.0</td>\n",
       "      <td>0.0</td>\n",
       "      <td>NaN</td>\n",
       "      <td>case_control</td>\n",
       "      <td>G-MSBB-MB000337-BR-MSBB-76349</td>\n",
       "      <td>Brain</td>\n",
       "      <td>DNA</td>\n",
       "      <td>NYGC</td>\n",
       "      <td>Illumina_HiSeqX</td>\n",
       "      <td>WGS</td>\n",
       "      <td>0</td>\n",
       "      <td>sa000011</td>\n",
       "      <td>snd10011</td>\n",
       "    </tr>\n",
       "    <tr>\n",
       "      <th>38129</th>\n",
       "      <td>G-MSBB-MB000338</td>\n",
       "      <td>1.0</td>\n",
       "      <td>1</td>\n",
       "      <td>NaN</td>\n",
       "      <td>90</td>\n",
       "      <td>5.0</td>\n",
       "      <td>0.0</td>\n",
       "      <td>NaN</td>\n",
       "      <td>case_control</td>\n",
       "      <td>G-MSBB-MB000338-BR-MSBB-76350</td>\n",
       "      <td>Brain</td>\n",
       "      <td>DNA</td>\n",
       "      <td>NYGC</td>\n",
       "      <td>Illumina_HiSeqX</td>\n",
       "      <td>WGS</td>\n",
       "      <td>0</td>\n",
       "      <td>sa000011</td>\n",
       "      <td>snd10011</td>\n",
       "    </tr>\n",
       "    <tr>\n",
       "      <th>38130</th>\n",
       "      <td>G-MSBB-MB000339</td>\n",
       "      <td>1.0</td>\n",
       "      <td>1</td>\n",
       "      <td>NaN</td>\n",
       "      <td>90</td>\n",
       "      <td>5.0</td>\n",
       "      <td>0.0</td>\n",
       "      <td>NaN</td>\n",
       "      <td>case_control</td>\n",
       "      <td>G-MSBB-MB000339-BR-MSBB-76351</td>\n",
       "      <td>Brain</td>\n",
       "      <td>DNA</td>\n",
       "      <td>NYGC</td>\n",
       "      <td>Illumina_HiSeqX</td>\n",
       "      <td>WGS</td>\n",
       "      <td>0</td>\n",
       "      <td>sa000011</td>\n",
       "      <td>snd10011</td>\n",
       "    </tr>\n",
       "    <tr>\n",
       "      <th>38131</th>\n",
       "      <td>G-MSBB-MB000340</td>\n",
       "      <td>0.0</td>\n",
       "      <td>1</td>\n",
       "      <td>NaN</td>\n",
       "      <td>82</td>\n",
       "      <td>5.0</td>\n",
       "      <td>0.0</td>\n",
       "      <td>NaN</td>\n",
       "      <td>case_control</td>\n",
       "      <td>G-MSBB-MB000340-BR-MSBB-76352</td>\n",
       "      <td>Brain</td>\n",
       "      <td>DNA</td>\n",
       "      <td>NYGC</td>\n",
       "      <td>Illumina_HiSeqX</td>\n",
       "      <td>WGS</td>\n",
       "      <td>0</td>\n",
       "      <td>sa000011</td>\n",
       "      <td>snd10011</td>\n",
       "    </tr>\n",
       "    <tr>\n",
       "      <th>38132</th>\n",
       "      <td>G-MSBB-MB000341</td>\n",
       "      <td>0.0</td>\n",
       "      <td>1</td>\n",
       "      <td>NaN</td>\n",
       "      <td>70</td>\n",
       "      <td>5.0</td>\n",
       "      <td>0.0</td>\n",
       "      <td>NaN</td>\n",
       "      <td>case_control</td>\n",
       "      <td>G-MSBB-MB000341-BR-MSBB-76353</td>\n",
       "      <td>Brain</td>\n",
       "      <td>DNA</td>\n",
       "      <td>NYGC</td>\n",
       "      <td>Illumina_HiSeqX</td>\n",
       "      <td>WGS</td>\n",
       "      <td>0</td>\n",
       "      <td>sa000011</td>\n",
       "      <td>snd10011</td>\n",
       "    </tr>\n",
       "  </tbody>\n",
       "</table>\n",
       "<p>31351 rows × 18 columns</p>\n",
       "</div>"
      ],
      "text/plain": [
       "                SUBJID  Sex Diagnosis  APOE_reported Age  Race  Ethnicity  \\\n",
       "1      ADNI_002_S_0685  1.0         0           33.0  90   5.0        0.0   \n",
       "3      ADNI_002_S_1155  0.0         0           33.0  69   5.0        0.0   \n",
       "4      ADNI_002_S_1261  1.0         0           33.0  82   5.0        0.0   \n",
       "7      ADNI_002_S_2010  1.0         0           34.0  68   6.0        0.0   \n",
       "9      ADNI_002_S_2073  1.0         0           33.0  69   5.0        0.0   \n",
       "...                ...  ...       ...            ...  ..   ...        ...   \n",
       "38128  G-MSBB-MB000337  1.0         0            NaN  62   4.0        0.0   \n",
       "38129  G-MSBB-MB000338  1.0         1            NaN  90   5.0        0.0   \n",
       "38130  G-MSBB-MB000339  1.0         1            NaN  90   5.0        0.0   \n",
       "38131  G-MSBB-MB000340  0.0         1            NaN  82   5.0        0.0   \n",
       "38132  G-MSBB-MB000341  0.0         1            NaN  70   5.0        0.0   \n",
       "\n",
       "      FamID        source                       SampleID BODY_SITE  \\\n",
       "1       NaN          ADNI                ADNI_002_S_0685     Blood   \n",
       "3       NaN          ADNI                ADNI_002_S_1155     Blood   \n",
       "4       NaN          ADNI                ADNI_002_S_1261     Blood   \n",
       "7       NaN          ADNI                ADNI_002_S_2010     Blood   \n",
       "9       NaN          ADNI                ADNI_002_S_2073     Blood   \n",
       "...     ...           ...                            ...       ...   \n",
       "38128   NaN  case_control  G-MSBB-MB000337-BR-MSBB-76349     Brain   \n",
       "38129   NaN  case_control  G-MSBB-MB000338-BR-MSBB-76350     Brain   \n",
       "38130   NaN  case_control  G-MSBB-MB000339-BR-MSBB-76351     Brain   \n",
       "38131   NaN  case_control  G-MSBB-MB000340-BR-MSBB-76352     Brain   \n",
       "38132   NaN  case_control  G-MSBB-MB000341-BR-MSBB-76353     Brain   \n",
       "\n",
       "      ANALYTE_TYPE Sequencing_Center  Sequencing_Platform SAMPLE_USE  \\\n",
       "1              DNA          Illumina  Illumina_HiSeq_2000        WGS   \n",
       "3              DNA          Illumina  Illumina_HiSeq_2000        WGS   \n",
       "4              DNA          Illumina  Illumina_HiSeq_2000        WGS   \n",
       "7              DNA          Illumina  Illumina_HiSeq_2000        WGS   \n",
       "9              DNA          Illumina  Illumina_HiSeq_2000        WGS   \n",
       "...            ...               ...                  ...        ...   \n",
       "38128          DNA              NYGC      Illumina_HiSeqX        WGS   \n",
       "38129          DNA              NYGC      Illumina_HiSeqX        WGS   \n",
       "38130          DNA              NYGC      Illumina_HiSeqX        WGS   \n",
       "38131          DNA              NYGC      Illumina_HiSeqX        WGS   \n",
       "38132          DNA              NYGC      Illumina_HiSeqX        WGS   \n",
       "\n",
       "       Technical_Replicate Study_DSS Sample_Set  \n",
       "1                        0  sa000002   snd10002  \n",
       "3                        0  sa000002   snd10002  \n",
       "4                        0  sa000002   snd10002  \n",
       "7                        0  sa000002   snd10002  \n",
       "9                        0  sa000002   snd10002  \n",
       "...                    ...       ...        ...  \n",
       "38128                    0  sa000011   snd10011  \n",
       "38129                    0  sa000011   snd10011  \n",
       "38130                    0  sa000011   snd10011  \n",
       "38131                    0  sa000011   snd10011  \n",
       "38132                    0  sa000011   snd10011  \n",
       "\n",
       "[31351 rows x 18 columns]"
      ]
     },
     "execution_count": 166,
     "metadata": {},
     "output_type": "execute_result"
    }
   ],
   "source": []
  },
  {
   "cell_type": "code",
   "execution_count": 181,
   "metadata": {},
   "outputs": [
    {
     "data": {
      "text/plain": [
       "case_control    29410\n",
       "ADNI             1378\n",
       "Family_based      563\n",
       "Name: source, dtype: int64"
      ]
     },
     "execution_count": 181,
     "metadata": {},
     "output_type": "execute_result"
    }
   ],
   "source": [
    "pheno_king['source'].value_counts()"
   ]
  },
  {
   "cell_type": "code",
   "execution_count": 167,
   "metadata": {},
   "outputs": [],
   "source": []
  },
  {
   "cell_type": "code",
   "execution_count": 193,
   "metadata": {},
   "outputs": [
    {
     "name": "stderr",
     "output_type": "stream",
     "text": [
      "/gpfs/commons/home/tlin/.conda/envs/polyfun/lib/python3.6/site-packages/ipykernel_launcher.py:2: SettingWithCopyWarning: \n",
      "A value is trying to be set on a copy of a slice from a DataFrame.\n",
      "Try using .loc[row_indexer,col_indexer] = value instead\n",
      "\n",
      "See the caveats in the documentation: https://pandas.pydata.org/pandas-docs/stable/user_guide/indexing.html#returning-a-view-versus-a-copy\n",
      "  \n"
     ]
    }
   ],
   "source": [
    "\n",
    "# Convert 'Diagnosis' column to string data type\n",
    "pheno_king['Diagnosis'] =pheno_king['Diagnosis'].astype(str)\n",
    "\n",
    "family = pheno_king[pheno_king.source=='Family_based']  ## they have 1114, we have 563\n",
    "\n",
    "# Randomly shuffle the rows of the DataFrame\n",
    "families = family.sample(frac=1)\n",
    "\n",
    "# Sort the DataFrame by 'Diagnosis' column, group by 'FamID', select the first row in each group, and reset the index\n",
    "one_per_fam = families.sort_values(by='Diagnosis', ascending=False)\\\n",
    "                     .groupby('FamID', sort=False)\\\n",
    "                     .head(1)\\\n",
    "                     .reset_index(drop=True)\n"
   ]
  },
  {
   "cell_type": "code",
   "execution_count": 194,
   "metadata": {},
   "outputs": [],
   "source": [
    "pheno_fin = pd.concat([pheno_king[pheno_king.source!='Family_based'],one_per_fam])"
   ]
  },
  {
   "cell_type": "code",
   "execution_count": 195,
   "metadata": {},
   "outputs": [
    {
     "data": {
      "text/plain": [
       "(31049, 18)"
      ]
     },
     "execution_count": 195,
     "metadata": {},
     "output_type": "execute_result"
    }
   ],
   "source": [
    "pheno_fin.shape"
   ]
  },
  {
   "cell_type": "code",
   "execution_count": 196,
   "metadata": {},
   "outputs": [
    {
     "data": {
      "text/plain": [
       "0       16155\n",
       "1       10571\n",
       "<NA>     4286\n",
       "NaN        37\n",
       "Name: Diagnosis, dtype: int64"
      ]
     },
     "execution_count": 196,
     "metadata": {},
     "output_type": "execute_result"
    }
   ],
   "source": [
    "pheno_fin[\"Diagnosis\"].value_counts()"
   ]
  },
  {
   "cell_type": "code",
   "execution_count": 207,
   "metadata": {},
   "outputs": [],
   "source": [
    "pheno_fin = pheno_fin[(pheno_fin.Diagnosis == '1' ) | (pheno_fin.Diagnosis == '0' )] ## 26726, remove the NAs"
   ]
  },
  {
   "cell_type": "code",
   "execution_count": 211,
   "metadata": {},
   "outputs": [],
   "source": [
    "Age_null = pheno_fin[pheno_fin['Age'].isnull()].SUBJID"
   ]
  },
  {
   "cell_type": "code",
   "execution_count": 221,
   "metadata": {},
   "outputs": [
    {
     "data": {
      "text/plain": [
       "(673,)"
      ]
     },
     "execution_count": 221,
     "metadata": {},
     "output_type": "execute_result"
    }
   ],
   "source": [
    "Age_null.shape"
   ]
  },
  {
   "cell_type": "code",
   "execution_count": 225,
   "metadata": {},
   "outputs": [
    {
     "name": "stdout",
     "output_type": "stream",
     "text": [
      "672\n"
     ]
    },
    {
     "data": {
      "text/html": [
       "<div>\n",
       "<style scoped>\n",
       "    .dataframe tbody tr th:only-of-type {\n",
       "        vertical-align: middle;\n",
       "    }\n",
       "\n",
       "    .dataframe tbody tr th {\n",
       "        vertical-align: top;\n",
       "    }\n",
       "\n",
       "    .dataframe thead th {\n",
       "        text-align: right;\n",
       "    }\n",
       "</style>\n",
       "<table border=\"1\" class=\"dataframe\">\n",
       "  <thead>\n",
       "    <tr style=\"text-align: right;\">\n",
       "      <th></th>\n",
       "      <th>source</th>\n",
       "      <th>Age_current</th>\n",
       "      <th>Diagnosis</th>\n",
       "      <th>SUBJID</th>\n",
       "    </tr>\n",
       "  </thead>\n",
       "  <tbody>\n",
       "    <tr>\n",
       "      <th>871</th>\n",
       "      <td>ADNI</td>\n",
       "      <td>66</td>\n",
       "      <td>1</td>\n",
       "      <td>G-ADNI-AN000064</td>\n",
       "    </tr>\n",
       "    <tr>\n",
       "      <th>12244</th>\n",
       "      <td>Family_based</td>\n",
       "      <td>NaN</td>\n",
       "      <td>0</td>\n",
       "      <td>A-RAS-RA000188</td>\n",
       "    </tr>\n",
       "    <tr>\n",
       "      <th>1441</th>\n",
       "      <td>case_control</td>\n",
       "      <td>NaN</td>\n",
       "      <td>1</td>\n",
       "      <td>A-ADC-AD000091</td>\n",
       "    </tr>\n",
       "    <tr>\n",
       "      <th>1462</th>\n",
       "      <td>case_control</td>\n",
       "      <td>NaN</td>\n",
       "      <td>1</td>\n",
       "      <td>A-ADC-AD000125</td>\n",
       "    </tr>\n",
       "    <tr>\n",
       "      <th>1465</th>\n",
       "      <td>case_control</td>\n",
       "      <td>NaN</td>\n",
       "      <td>1</td>\n",
       "      <td>A-ADC-AD000132</td>\n",
       "    </tr>\n",
       "    <tr>\n",
       "      <th>...</th>\n",
       "      <td>...</td>\n",
       "      <td>...</td>\n",
       "      <td>...</td>\n",
       "      <td>...</td>\n",
       "    </tr>\n",
       "    <tr>\n",
       "      <th>42347</th>\n",
       "      <td>case_control</td>\n",
       "      <td>NaN</td>\n",
       "      <td>0</td>\n",
       "      <td>G-KGAD-KA001271</td>\n",
       "    </tr>\n",
       "    <tr>\n",
       "      <th>42348</th>\n",
       "      <td>case_control</td>\n",
       "      <td>NaN</td>\n",
       "      <td>0</td>\n",
       "      <td>G-KGAD-KA001272</td>\n",
       "    </tr>\n",
       "    <tr>\n",
       "      <th>42349</th>\n",
       "      <td>case_control</td>\n",
       "      <td>NaN</td>\n",
       "      <td>0</td>\n",
       "      <td>G-KGAD-KA001273</td>\n",
       "    </tr>\n",
       "    <tr>\n",
       "      <th>42350</th>\n",
       "      <td>case_control</td>\n",
       "      <td>NaN</td>\n",
       "      <td>0</td>\n",
       "      <td>G-KGAD-KA001274</td>\n",
       "    </tr>\n",
       "    <tr>\n",
       "      <th>42351</th>\n",
       "      <td>case_control</td>\n",
       "      <td>NaN</td>\n",
       "      <td>0</td>\n",
       "      <td>G-KGAD-KA001275</td>\n",
       "    </tr>\n",
       "  </tbody>\n",
       "</table>\n",
       "<p>673 rows × 4 columns</p>\n",
       "</div>"
      ],
      "text/plain": [
       "             source Age_current Diagnosis           SUBJID\n",
       "871            ADNI          66         1  G-ADNI-AN000064\n",
       "12244  Family_based         NaN         0   A-RAS-RA000188\n",
       "1441   case_control         NaN         1   A-ADC-AD000091\n",
       "1462   case_control         NaN         1   A-ADC-AD000125\n",
       "1465   case_control         NaN         1   A-ADC-AD000132\n",
       "...             ...         ...       ...              ...\n",
       "42347  case_control         NaN         0  G-KGAD-KA001271\n",
       "42348  case_control         NaN         0  G-KGAD-KA001272\n",
       "42349  case_control         NaN         0  G-KGAD-KA001273\n",
       "42350  case_control         NaN         0  G-KGAD-KA001274\n",
       "42351  case_control         NaN         0  G-KGAD-KA001275\n",
       "\n",
       "[673 rows x 4 columns]"
      ]
     },
     "execution_count": 225,
     "metadata": {},
     "output_type": "execute_result"
    }
   ],
   "source": [
    "print(pheno[pheno.SUBJID.isin(Age_null)].Age_current.isnull().sum())\n",
    "pheno.loc[pheno.SUBJID.isin(Age_null),[\"source\",'Age_current','Diagnosis','SUBJID']]\n"
   ]
  },
  {
   "cell_type": "code",
   "execution_count": 228,
   "metadata": {},
   "outputs": [],
   "source": [
    "pheno_fin.loc[pheno_fin.SUBJID == 'G-ADNI-AN000064','Age'] = 66"
   ]
  },
  {
   "cell_type": "code",
   "execution_count": 232,
   "metadata": {},
   "outputs": [],
   "source": [
    "pheno_fin = pheno_fin.dropna(subset=['Age']) ##26054\n",
    "pheno_fin = pheno_fin[['SUBJID','SampleID', 'Sex', 'Diagnosis', 'APOE_reported', 'Age', 'Race',\n",
    "       'Ethnicity', 'FamID', 'source']]"
   ]
  },
  {
   "cell_type": "code",
   "execution_count": 240,
   "metadata": {},
   "outputs": [],
   "source": [
    "pheno_fin.to_csv(path +'pheno_fin.tsv',sep = '\\t', index = False) "
   ]
  },
  {
   "cell_type": "code",
   "execution_count": 235,
   "metadata": {},
   "outputs": [
    {
     "data": {
      "text/plain": [
       "Index(['SUBJID', 'Sex', 'Diagnosis', 'APOE_reported', 'Age', 'Race',\n",
       "       'Ethnicity', 'FamID', 'source', 'SampleID', 'BODY_SITE', 'ANALYTE_TYPE',\n",
       "       'Sequencing_Center', 'Sequencing_Platform', 'SAMPLE_USE',\n",
       "       'Technical_Replicate', 'Study_DSS', 'Sample_Set'],\n",
       "      dtype='object')"
      ]
     },
     "execution_count": 235,
     "metadata": {},
     "output_type": "execute_result"
    }
   ],
   "source": [
    "pheno_fin.columns"
   ]
  },
  {
   "cell_type": "code",
   "execution_count": 87,
   "metadata": {},
   "outputs": [
    {
     "name": "stderr",
     "output_type": "stream",
     "text": [
      "/gpfs/commons/home/tlin/.conda/envs/polyfun/lib/python3.6/site-packages/pandas/core/indexing.py:659: SettingWithCopyWarning: \n",
      "A value is trying to be set on a copy of a slice from a DataFrame.\n",
      "Try using .loc[row_indexer,col_indexer] = value instead\n",
      "\n",
      "See the caveats in the documentation: https://pandas.pydata.org/pandas-docs/stable/user_guide/indexing.html#returning-a-view-versus-a-copy\n",
      "  self.obj[k] = np.nan\n",
      "/gpfs/commons/home/tlin/.conda/envs/polyfun/lib/python3.6/site-packages/pandas/core/indexing.py:1743: SettingWithCopyWarning: \n",
      "A value is trying to be set on a copy of a slice from a DataFrame.\n",
      "Try using .loc[row_indexer,col_indexer] = value instead\n",
      "\n",
      "See the caveats in the documentation: https://pandas.pydata.org/pandas-docs/stable/user_guide/indexing.html#returning-a-view-versus-a-copy\n",
      "  isetter(ilocs[0], value)\n"
     ]
    }
   ],
   "source": [
    "### Deal with IBD\n",
    "## mapping SampleID to SUBJID\n",
    "ibdpair_95 = ibd[ibd.PI_HAT>.95]\n",
    "mapping = manifest.loc[(manifest['SampleID'].isin(ibdpair_95.SampleID1)) | (manifest['SampleID'].isin(ibdpair_95.SampleID2)),['SUBJID','SampleID']]\n",
    "map_dict = dict(list(zip(mapping.SampleID, mapping.SUBJID)))\n",
    "\n",
    "ibdpair_95[ibdpair_95.SampleID1.isin(manifest.SampleID)] ## all are found\n",
    "\n",
    "## Add SUBJID to IBD pair\n",
    "ibdpair_95.loc[:,['SUBJID1']] = ibdpair_95['SampleID1'].map(map_dict)\n",
    "ibdpair_95.loc[:,['SUBJID2']] = ibdpair_95['SampleID2'].map(map_dict)"
   ]
  }
 ],
 "metadata": {
  "kernelspec": {
   "display_name": "polyfun",
   "language": "python",
   "name": "polyfun"
  },
  "language_info": {
   "codemirror_mode": {
    "name": "ipython",
    "version": 3
   },
   "file_extension": ".py",
   "mimetype": "text/x-python",
   "name": "python",
   "nbconvert_exporter": "python",
   "pygments_lexer": "ipython3",
   "version": "3.6.13"
  }
 },
 "nbformat": 4,
 "nbformat_minor": 4
}
