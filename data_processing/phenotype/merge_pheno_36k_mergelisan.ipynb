{
 "cells": [
  {
   "cell_type": "code",
   "execution_count": 1,
   "metadata": {},
   "outputs": [],
   "source": [
    "import pandas as pd\n",
    "import numpy as np\n",
    "\n",
    "import seaborn as sns\n",
    "import matplotlib.pyplot as plt"
   ]
  },
  {
   "cell_type": "code",
   "execution_count": 2,
   "metadata": {},
   "outputs": [
    {
     "name": "stderr",
     "output_type": "stream",
     "text": [
      "/gpfs/commons/home/tlin/.conda/envs/polyfun/lib/python3.6/site-packages/IPython/core/interactiveshell.py:3072: DtypeWarning: Columns (15) have mixed types.Specify dtype option on import or set low_memory=False.\n",
      "  interactivity=interactivity, compiler=compiler, result=result)\n"
     ]
    }
   ],
   "source": [
    "## load data\n",
    "path = '/gpfs/commons/groups/knowles_lab/data/ADSP_reguloML/ADSP_vcf/phenotype_file/release_36K/'\n",
    "ADNI = pd.read_csv(path + \"ADNIPhenotypes_DS_2022.08.18_ALL.txt\", sep='\\t')\n",
    "family_based = pd.read_csv(path + \"ADSPFamilyBasedPhenotypes_DS_2022.08.18_ALL.txt\", sep='\\t',encoding='cp1252')\n",
    "case_control = pd.read_csv(path + \"ADSPCaseControlPhenotypes_DS_2022.08.18_ALL.txt\", sep='\\t')\n",
    "PSPCBD = pd.read_csv(path + \"PSPCBDPhenotypes_DS_2022.08.18_ALL.txt\", sep='\\t')\n",
    "SUBJ_drop = pd.read_excel(path + 'ng00067_subject_droplist_2022.08.18.xlsx', engine = 'openpyxl')\n",
    "PSPCBD_descript = pd.read_excel(path + 'PSPCBDPhenotypes_DD_2022.08.18.xlsx', engine = 'openpyxl')\n",
    "vcf = pd.read_csv(path + 'vcf_ids.txt', sep = '\\t')\n",
    "manifest = pd.read_csv(path + \"SampleManifest_DS_2022.08.18_ALL.txt\", sep='\\t') ## the one with mapping info\n",
    "\n",
    "qc = pd.read_csv(path+\"gcad.qc.r4.wgs.allchr.36361.GATK.2022.08.15.sample.summary.ALL.txt\", sep = '\\t') ## this one contains QC info( all the sampleID here are WGS)\n",
    "ibd = pd.read_csv(path + 'gcad.r4.wgs.36361.2022.08.15.pairwise_IBD.txt', sep = '\\t')"
   ]
  },
  {
   "cell_type": "code",
   "execution_count": 3,
   "metadata": {},
   "outputs": [
    {
     "name": "stdout",
     "output_type": "stream",
     "text": [
      "51992\n",
      "56863\n"
     ]
    }
   ],
   "source": [
    "## SUBJID and SampleID are not 1-1 match\n",
    "print(len(manifest.SUBJID.unique()))\n",
    "print(len(manifest.SampleID.unique()))"
   ]
  },
  {
   "cell_type": "markdown",
   "metadata": {
    "tags": []
   },
   "source": [
    "## deal with pheno_merge"
   ]
  },
  {
   "cell_type": "code",
   "execution_count": 4,
   "metadata": {},
   "outputs": [
    {
     "name": "stdout",
     "output_type": "stream",
     "text": [
      "(1566, 31) (12858, 27) (45375, 31) (2803, 17)\n"
     ]
    }
   ],
   "source": [
    "print(ADNI.shape, family_based.shape, case_control.shape, PSPCBD.shape)"
   ]
  },
  {
   "cell_type": "markdown",
   "metadata": {
    "jp-MarkdownHeadingCollapsed": true,
    "tags": []
   },
   "source": [
    "### ADNI"
   ]
  },
  {
   "cell_type": "code",
   "execution_count": 6,
   "metadata": {},
   "outputs": [
    {
     "name": "stdout",
     "output_type": "stream",
     "text": [
      "Diagnosis\n",
      "0    958\n",
      "1    608\n",
      "dtype: int64\n"
     ]
    },
    {
     "data": {
      "text/plain": [
       "(1566, 14)"
      ]
     },
     "execution_count": 6,
     "metadata": {},
     "output_type": "execute_result"
    }
   ],
   "source": [
    "ADNI_processed = ADNI.loc[:,['SUBJID', 'Sex', 'PrevAD', 'IncAD','Age_current', 'Age_MCI_onset','Age_AD_onset', 'Age_baseline','APOE_reported','Race', 'AD_last_visit', 'Ethnicity']]\n",
    "ADNI_processed[\"Diagnosis\"] = ADNI_processed.AD_last_visit\n",
    "\n",
    "#ADNI_processed.loc[(ADNI_processed[\"Age_MCI_onset\"].notnull())& (ADNI_processed[\"Diagnosis\"] ==0)]  #528\n",
    "#ADNI_processed = ADNI_processed.drop(ADNI_processed[(ADNI_processed[\"Age_MCI_onset\"].notnull()) & (ADNI_processed[\"Diagnosis\"] == 0)].index)\n",
    "\n",
    "ADNI_processed[\"Age\"] = ADNI_processed.Age_current\n",
    "ADNI_processed.loc[ADNI_processed.Diagnosis == 1,'Age'] = ADNI_processed.loc[ADNI_processed.Diagnosis == 1,'Age_AD_onset']  ## changed the age to age of onset of they are AD cases\n",
    "\n",
    "print(ADNI_processed.value_counts('Diagnosis'))\n",
    "ADNI_processed.shape"
   ]
  },
  {
   "cell_type": "code",
   "execution_count": 7,
   "metadata": {},
   "outputs": [
    {
     "data": {
      "text/html": [
       "<div>\n",
       "<style scoped>\n",
       "    .dataframe tbody tr th:only-of-type {\n",
       "        vertical-align: middle;\n",
       "    }\n",
       "\n",
       "    .dataframe tbody tr th {\n",
       "        vertical-align: top;\n",
       "    }\n",
       "\n",
       "    .dataframe thead th {\n",
       "        text-align: right;\n",
       "    }\n",
       "</style>\n",
       "<table border=\"1\" class=\"dataframe\">\n",
       "  <thead>\n",
       "    <tr style=\"text-align: right;\">\n",
       "      <th></th>\n",
       "      <th>SUBJID</th>\n",
       "      <th>Sex</th>\n",
       "      <th>PrevAD</th>\n",
       "      <th>IncAD</th>\n",
       "      <th>Age_current</th>\n",
       "      <th>Age_MCI_onset</th>\n",
       "      <th>Age_AD_onset</th>\n",
       "      <th>Age_baseline</th>\n",
       "      <th>APOE_reported</th>\n",
       "      <th>Race</th>\n",
       "      <th>AD_last_visit</th>\n",
       "      <th>Ethnicity</th>\n",
       "      <th>Diagnosis</th>\n",
       "      <th>Age</th>\n",
       "    </tr>\n",
       "  </thead>\n",
       "  <tbody>\n",
       "    <tr>\n",
       "      <th>871</th>\n",
       "      <td>G-ADNI-AN000064</td>\n",
       "      <td>0</td>\n",
       "      <td>0</td>\n",
       "      <td>1</td>\n",
       "      <td>66</td>\n",
       "      <td>60</td>\n",
       "      <td>NaN</td>\n",
       "      <td>61</td>\n",
       "      <td>33</td>\n",
       "      <td>5.0</td>\n",
       "      <td>1</td>\n",
       "      <td>0.0</td>\n",
       "      <td>1</td>\n",
       "      <td>NaN</td>\n",
       "    </tr>\n",
       "    <tr>\n",
       "      <th>975</th>\n",
       "      <td>G-ADNI-AN000170</td>\n",
       "      <td>0</td>\n",
       "      <td>0</td>\n",
       "      <td>1</td>\n",
       "      <td>76</td>\n",
       "      <td>71</td>\n",
       "      <td>NaN</td>\n",
       "      <td>73</td>\n",
       "      <td>34</td>\n",
       "      <td>5.0</td>\n",
       "      <td>1</td>\n",
       "      <td>0.0</td>\n",
       "      <td>1</td>\n",
       "      <td>NaN</td>\n",
       "    </tr>\n",
       "  </tbody>\n",
       "</table>\n",
       "</div>"
      ],
      "text/plain": [
       "              SUBJID  Sex  PrevAD  IncAD Age_current Age_MCI_onset  \\\n",
       "871  G-ADNI-AN000064    0       0      1          66            60   \n",
       "975  G-ADNI-AN000170    0       0      1          76            71   \n",
       "\n",
       "    Age_AD_onset Age_baseline  APOE_reported  Race  AD_last_visit  Ethnicity  \\\n",
       "871          NaN           61             33   5.0              1        0.0   \n",
       "975          NaN           73             34   5.0              1        0.0   \n",
       "\n",
       "     Diagnosis  Age  \n",
       "871          1  NaN  \n",
       "975          1  NaN  "
      ]
     },
     "execution_count": 7,
     "metadata": {},
     "output_type": "execute_result"
    }
   ],
   "source": [
    "## There are two cases without age of onset, set them to Age_current\n",
    "## all controls have current age and the age they first entered the study!\n",
    "ADNI_processed[ADNI_processed.Age.isnull()]\n"
   ]
  },
  {
   "cell_type": "code",
   "execution_count": 8,
   "metadata": {},
   "outputs": [
    {
     "data": {
      "text/html": [
       "<div>\n",
       "<style scoped>\n",
       "    .dataframe tbody tr th:only-of-type {\n",
       "        vertical-align: middle;\n",
       "    }\n",
       "\n",
       "    .dataframe tbody tr th {\n",
       "        vertical-align: top;\n",
       "    }\n",
       "\n",
       "    .dataframe thead th {\n",
       "        text-align: right;\n",
       "    }\n",
       "</style>\n",
       "<table border=\"1\" class=\"dataframe\">\n",
       "  <thead>\n",
       "    <tr style=\"text-align: right;\">\n",
       "      <th></th>\n",
       "      <th>SUBJID</th>\n",
       "      <th>Sex</th>\n",
       "      <th>PrevAD</th>\n",
       "      <th>IncAD</th>\n",
       "      <th>Age_current</th>\n",
       "      <th>Age_MCI_onset</th>\n",
       "      <th>Age_AD_onset</th>\n",
       "      <th>Age_baseline</th>\n",
       "      <th>APOE_reported</th>\n",
       "      <th>Race</th>\n",
       "      <th>AD_last_visit</th>\n",
       "      <th>Ethnicity</th>\n",
       "      <th>Diagnosis</th>\n",
       "      <th>Age</th>\n",
       "    </tr>\n",
       "  </thead>\n",
       "  <tbody>\n",
       "  </tbody>\n",
       "</table>\n",
       "</div>"
      ],
      "text/plain": [
       "Empty DataFrame\n",
       "Columns: [SUBJID, Sex, PrevAD, IncAD, Age_current, Age_MCI_onset, Age_AD_onset, Age_baseline, APOE_reported, Race, AD_last_visit, Ethnicity, Diagnosis, Age]\n",
       "Index: []"
      ]
     },
     "execution_count": 8,
     "metadata": {},
     "output_type": "execute_result"
    }
   ],
   "source": [
    "ADNI_processed.loc[ADNI_processed.Age.isnull(), 'Age'] = ADNI_processed.Age_current\n",
    "ADNI_processed[ADNI_processed.Age.isnull()]"
   ]
  },
  {
   "cell_type": "markdown",
   "metadata": {
    "tags": []
   },
   "source": [
    "### family_based"
   ]
  },
  {
   "cell_type": "code",
   "execution_count": 9,
   "metadata": {},
   "outputs": [
    {
     "data": {
      "text/plain": [
       "NaN    8507\n",
       "0.0    2493\n",
       "1.0    1858\n",
       "Name: Diagnosis, dtype: int64"
      ]
     },
     "execution_count": 9,
     "metadata": {},
     "output_type": "execute_result"
    }
   ],
   "source": [
    "family_based['Diagnosis'] = np.nan\n",
    "family_based.loc[family_based['AD'] == 0, \"Diagnosis\"] = 0\n",
    "family_based.loc[(family_based['AD'] >=1) & (family_based['AD'] <=3), \"Diagnosis\"] =1\n",
    "family_based.Diagnosis.value_counts(dropna=False)"
   ]
  },
  {
   "cell_type": "markdown",
   "metadata": {
    "tags": []
   },
   "source": [
    "### case_control"
   ]
  },
  {
   "cell_type": "code",
   "execution_count": 10,
   "metadata": {},
   "outputs": [
    {
     "name": "stdout",
     "output_type": "stream",
     "text": [
      "0      23347\n",
      "1      16793\n",
      "NaN     5235\n",
      "Name: Diagnosis, dtype: Int64\n"
     ]
    }
   ],
   "source": [
    "case_control.AD = case_control.AD.astype('Int64')\n",
    "case_control_processed = case_control.rename(columns = {'AD':'Diagnosis'})\n",
    "print(case_control_processed.Diagnosis.value_counts(dropna=False))\n",
    "#case_control_processed = case_control_processed.dropna(subset = ['Diagnosis','Age', 'APOE_reported', 'Race'])"
   ]
  },
  {
   "cell_type": "markdown",
   "metadata": {
    "tags": []
   },
   "source": [
    "### merge"
   ]
  },
  {
   "cell_type": "code",
   "execution_count": 11,
   "metadata": {},
   "outputs": [
    {
     "name": "stdout",
     "output_type": "stream",
     "text": [
      "(59799, 43)\n"
     ]
    },
    {
     "data": {
      "text/plain": [
       "0.0    26798\n",
       "1.0    19259\n",
       "NaN    13742\n",
       "Name: Diagnosis, dtype: int64"
      ]
     },
     "execution_count": 11,
     "metadata": {},
     "output_type": "execute_result"
    }
   ],
   "source": [
    "ADNI_processed[\"source\"] = 'ADNI'\n",
    "family_based[\"source\"] = 'Family_based'\n",
    "case_control_processed[\"source\"] = 'case_control'\n",
    "\n",
    "pheno = pd.concat([ADNI_processed, family_based, case_control_processed])\n",
    "pheno.loc[pheno['Age'] == '90+', 'Age'] = 90\n",
    "pheno.loc[pheno['Age_baseline'] == '90+', 'Age_baseline'] = 90\n",
    "#pheno.Age = pheno.Age.astype('int')\n",
    "print(pheno.shape)\n",
    "pheno.Diagnosis.value_counts(dropna=False)"
   ]
  },
  {
   "cell_type": "code",
   "execution_count": 12,
   "metadata": {},
   "outputs": [
    {
     "name": "stdout",
     "output_type": "stream",
     "text": [
      "(36361,)\n",
      "before extracting WGS (59799, 43)\n",
      "After extracting WGS (33639, 43)\n"
     ]
    }
   ],
   "source": [
    "## Only keep WGS\n",
    "wgs_SUBJID = manifest[manifest.SampleID.isin(qc.SampleID)].SUBJID\n",
    "print(wgs_SUBJID.shape)\n",
    "\n",
    "print('before extracting WGS', pheno.shape)\n",
    "pheno = pheno[pheno.SUBJID.isin(wgs_SUBJID)]\n",
    "\n",
    "print('After extracting WGS', pheno.shape)"
   ]
  },
  {
   "cell_type": "code",
   "execution_count": 13,
   "metadata": {},
   "outputs": [
    {
     "name": "stdout",
     "output_type": "stream",
     "text": [
      "(6, 43)\n"
     ]
    },
    {
     "data": {
      "text/plain": [
       "(33633, 43)"
      ]
     },
     "execution_count": 13,
     "metadata": {},
     "output_type": "execute_result"
    }
   ],
   "source": [
    "## drop technique replicates (using SUBJID)\n",
    "replicate_to_drop = manifest[(manifest.SampleID.isin(qc.SampleID)) & (manifest.Technical_Replicate == 1)] ##(63,10)\n",
    "print(pheno[pheno.SUBJID.isin(replicate_to_drop.SUBJID)].shape)\n",
    "pheno = pheno[~pheno.SUBJID.isin(replicate_to_drop.SUBJID)]\n",
    "pheno.shape"
   ]
  },
  {
   "cell_type": "code",
   "execution_count": null,
   "metadata": {},
   "outputs": [],
   "source": []
  },
  {
   "cell_type": "code",
   "execution_count": 14,
   "metadata": {},
   "outputs": [
    {
     "name": "stdout",
     "output_type": "stream",
     "text": [
      "(32,) (33633, 43)\n",
      "2\n",
      "2\n",
      "['case_control']\n",
      "(33601, 43)\n"
     ]
    }
   ],
   "source": [
    "duplicated_ID = pheno[pheno.SUBJID.duplicated()].SUBJID\n",
    "print(duplicated_ID.shape, pheno.shape)\n",
    "\n",
    "## The duplicates are between family based and case control, two as a pair\n",
    "print(min(pheno[pheno.SUBJID.isin(duplicated_ID)].value_counts('SUBJID')))\n",
    "print(max(pheno[pheno.SUBJID.isin(duplicated_ID)].value_counts('SUBJID')))\n",
    "\n",
    "duplicates = pheno[pheno.SUBJID.isin(duplicated_ID)].sort_values('SUBJID', ascending = False)\n",
    "print(pheno[pheno.SUBJID.duplicated()].source.unique()) ### they are all case_control\n",
    "pheno = pheno[~pheno.SUBJID.duplicated()] ## only keep the family_based one\n",
    "print(pheno.shape)\n",
    "pheno.to_csv(path + 'check_pheno.tsv',sep = '\\t', index = False)"
   ]
  },
  {
   "cell_type": "code",
   "execution_count": 15,
   "metadata": {},
   "outputs": [
    {
     "name": "stdout",
     "output_type": "stream",
     "text": [
      "33601\n",
      "0.0    17386\n",
      "1.0    11561\n",
      "NaN     4654\n",
      "Name: Diagnosis, dtype: int64\n"
     ]
    }
   ],
   "source": [
    "print(len(pheno.SUBJID.unique()))\n",
    "print(pheno.Diagnosis.value_counts(dropna=False))\n",
    "#pheno = pheno[[\"SUBJID\", \"Sex\", \"Diagnosis\", \"APOE_reported\",\"Age\",\"Race\",\"Ethnicity\",\"FamID\",'source']]"
   ]
  },
  {
   "cell_type": "code",
   "execution_count": 16,
   "metadata": {},
   "outputs": [
    {
     "data": {
      "text/plain": [
       "<AxesSubplot:title={'center':'data surce for pheno_merge'}>"
      ]
     },
     "execution_count": 16,
     "metadata": {},
     "output_type": "execute_result"
    },
    {
     "data": {
      "image/png": "[encoded data removed]",
      "text/plain": [
       "<Figure size 432x288 with 1 Axes>"
      ]
     },
     "metadata": {},
     "output_type": "display_data"
    }
   ],
   "source": [
    "pheno.source.value_counts().plot(kind='pie', ylabel='', title='data surce for pheno_merge')"
   ]
  },
  {
   "cell_type": "markdown",
   "metadata": {},
   "source": [
    "## manifest & IBD & QC"
   ]
  },
  {
   "cell_type": "code",
   "execution_count": 17,
   "metadata": {},
   "outputs": [
    {
     "name": "stdout",
     "output_type": "stream",
     "text": [
      "(56863, 10)\n",
      "51992\n",
      "56863\n"
     ]
    }
   ],
   "source": [
    " ## every SampleID is unique, and they might map to the same SUBJID\n",
    "print(manifest.shape)\n",
    "print(len(manifest.SUBJID.unique()))\n",
    "print(len(manifest.SampleID.unique()))"
   ]
  },
  {
   "cell_type": "code",
   "execution_count": 18,
   "metadata": {},
   "outputs": [
    {
     "name": "stdout",
     "output_type": "stream",
     "text": [
      "(38133, 52)\n",
      "22552\n"
     ]
    }
   ],
   "source": [
    "## Manifest\n",
    "pheno_add_SampleID  = pheno.merge(manifest, on=\"SUBJID\")\n",
    "print(pheno_add_SampleID.shape)\n",
    "dup_sample = pheno_add_SampleID[pheno_add_SampleID.SUBJID.duplicated(keep=False)] #9033 row\n",
    "\n",
    "dup_SampleID = manifest[manifest.SUBJID.isin(dup_sample.SUBJID.unique())].SampleID ##9033\n",
    "print(qc[qc.SampleID.isin(dup_SampleID)].Missing.idxmin())\n",
    "dup_SampleID[~dup_SampleID.isin(qc.SampleID)]  ## not every SampleID is found in QC file\n",
    "\n",
    "## extract the SampleID with the lowest missing num\n",
    "best_SampleID=[]\n",
    "for i in dup_sample.SUBJID.unique():\n",
    "    SampleID = manifest[manifest.SUBJID==i].SampleID\n",
    "    best_id = qc[qc.SampleID.isin(SampleID)].Missing.idxmin()\n",
    "    best_SampleID.append(qc.loc[best_id].SampleID)\n",
    "    "
   ]
  },
  {
   "cell_type": "code",
   "execution_count": 19,
   "metadata": {},
   "outputs": [
    {
     "name": "stdout",
     "output_type": "stream",
     "text": [
      "(38133, 52)\n",
      "Sex             1\n",
      "Ethnicity     860\n",
      "Race         2747\n",
      "dtype: int64\n"
     ]
    }
   ],
   "source": [
    "pheno_add_SampleID  = pheno.merge(manifest, on=\"SUBJID\")\n",
    "print(pheno_add_SampleID.shape)\n",
    "dup_sample = pheno_add_SampleID[pheno_add_SampleID.SUBJID.duplicated(keep=False)] #9033 row\n",
    "\n",
    "dup_SampleID = manifest[manifest.SUBJID.isin(dup_sample.SUBJID.unique())].SampleID ##9033\n",
    "print(pheno_add_SampleID[['Sex','Ethnicity','Race']].isnull().sum())"
   ]
  },
  {
   "cell_type": "code",
   "execution_count": 20,
   "metadata": {},
   "outputs": [
    {
     "name": "stdout",
     "output_type": "stream",
     "text": [
      "4501\n",
      "4501\n"
     ]
    },
    {
     "data": {
      "text/html": [
       "<div>\n",
       "<style scoped>\n",
       "    .dataframe tbody tr th:only-of-type {\n",
       "        vertical-align: middle;\n",
       "    }\n",
       "\n",
       "    .dataframe tbody tr th {\n",
       "        vertical-align: top;\n",
       "    }\n",
       "\n",
       "    .dataframe thead th {\n",
       "        text-align: right;\n",
       "    }\n",
       "</style>\n",
       "<table border=\"1\" class=\"dataframe\">\n",
       "  <thead>\n",
       "    <tr style=\"text-align: right;\">\n",
       "      <th></th>\n",
       "      <th>SUBJID</th>\n",
       "      <th>Sex</th>\n",
       "      <th>PrevAD</th>\n",
       "      <th>IncAD</th>\n",
       "      <th>Age_current</th>\n",
       "      <th>Age_MCI_onset</th>\n",
       "      <th>Age_AD_onset</th>\n",
       "      <th>Age_baseline</th>\n",
       "      <th>APOE_reported</th>\n",
       "      <th>Race</th>\n",
       "      <th>...</th>\n",
       "      <th>Update_Latest</th>\n",
       "      <th>SampleID</th>\n",
       "      <th>BODY_SITE</th>\n",
       "      <th>ANALYTE_TYPE</th>\n",
       "      <th>Sequencing_Center</th>\n",
       "      <th>Sequencing_Platform</th>\n",
       "      <th>SAMPLE_USE</th>\n",
       "      <th>Technical_Replicate</th>\n",
       "      <th>Study_DSS</th>\n",
       "      <th>Sample_Set</th>\n",
       "    </tr>\n",
       "  </thead>\n",
       "  <tbody>\n",
       "    <tr>\n",
       "      <th>1973</th>\n",
       "      <td>A-CUHS-CU006133</td>\n",
       "      <td>1.0</td>\n",
       "      <td>NaN</td>\n",
       "      <td>NaN</td>\n",
       "      <td>NaN</td>\n",
       "      <td>NaN</td>\n",
       "      <td>NaN</td>\n",
       "      <td>58</td>\n",
       "      <td>44.0</td>\n",
       "      <td>6.0</td>\n",
       "      <td>...</td>\n",
       "      <td>NaN</td>\n",
       "      <td>A-CUHS-CU006133-BL-COL-31008BL1</td>\n",
       "      <td>Blood</td>\n",
       "      <td>DNA</td>\n",
       "      <td>WashU</td>\n",
       "      <td>Illumina_HiSeqX</td>\n",
       "      <td>WGS</td>\n",
       "      <td>0</td>\n",
       "      <td>sa000001</td>\n",
       "      <td>snd10001</td>\n",
       "    </tr>\n",
       "    <tr>\n",
       "      <th>2001</th>\n",
       "      <td>A-LOAD-LD001135</td>\n",
       "      <td>1.0</td>\n",
       "      <td>NaN</td>\n",
       "      <td>NaN</td>\n",
       "      <td>NaN</td>\n",
       "      <td>NaN</td>\n",
       "      <td>NaN</td>\n",
       "      <td>79</td>\n",
       "      <td>33.0</td>\n",
       "      <td>5.0</td>\n",
       "      <td>...</td>\n",
       "      <td>NaN</td>\n",
       "      <td>A-LOAD-LD001135-BL-NCR-8008285337</td>\n",
       "      <td>Blood</td>\n",
       "      <td>DNA</td>\n",
       "      <td>Otogenetics</td>\n",
       "      <td>Illumina_HiSeq_2000</td>\n",
       "      <td>WES</td>\n",
       "      <td>0</td>\n",
       "      <td>sa000004</td>\n",
       "      <td>snd10004</td>\n",
       "    </tr>\n",
       "    <tr>\n",
       "      <th>2016</th>\n",
       "      <td>A-LOAD-LD001340</td>\n",
       "      <td>1.0</td>\n",
       "      <td>NaN</td>\n",
       "      <td>NaN</td>\n",
       "      <td>NaN</td>\n",
       "      <td>NaN</td>\n",
       "      <td>NaN</td>\n",
       "      <td>82</td>\n",
       "      <td>23.0</td>\n",
       "      <td>5.0</td>\n",
       "      <td>...</td>\n",
       "      <td>NaN</td>\n",
       "      <td>A-LOAD-LD001340-CL-NCR-07AD1620</td>\n",
       "      <td>Cell Line</td>\n",
       "      <td>DNA</td>\n",
       "      <td>UW_GenomeSciences</td>\n",
       "      <td>Illumina_HiSeq_2000</td>\n",
       "      <td>WES</td>\n",
       "      <td>0</td>\n",
       "      <td>sa000005</td>\n",
       "      <td>snd10005</td>\n",
       "    </tr>\n",
       "    <tr>\n",
       "      <th>2020</th>\n",
       "      <td>A-LOAD-LD001349</td>\n",
       "      <td>1.0</td>\n",
       "      <td>NaN</td>\n",
       "      <td>NaN</td>\n",
       "      <td>NaN</td>\n",
       "      <td>NaN</td>\n",
       "      <td>NaN</td>\n",
       "      <td>90</td>\n",
       "      <td>33.0</td>\n",
       "      <td>5.0</td>\n",
       "      <td>...</td>\n",
       "      <td>NaN</td>\n",
       "      <td>A-LOAD-LD001349-UNK-NCR-11AD47531</td>\n",
       "      <td>Unknown</td>\n",
       "      <td>DNA</td>\n",
       "      <td>UW_GenomeSciences</td>\n",
       "      <td>Illumina_HiSeq_2000</td>\n",
       "      <td>WES</td>\n",
       "      <td>0</td>\n",
       "      <td>sa000005</td>\n",
       "      <td>snd10005</td>\n",
       "    </tr>\n",
       "    <tr>\n",
       "      <th>2068</th>\n",
       "      <td>A-LOAD-LD004376</td>\n",
       "      <td>0.0</td>\n",
       "      <td>NaN</td>\n",
       "      <td>NaN</td>\n",
       "      <td>NaN</td>\n",
       "      <td>NaN</td>\n",
       "      <td>NaN</td>\n",
       "      <td>71</td>\n",
       "      <td>33.0</td>\n",
       "      <td>5.0</td>\n",
       "      <td>...</td>\n",
       "      <td>NaN</td>\n",
       "      <td>A-LOAD-LD004376-UNK-UNK-UNK0036</td>\n",
       "      <td>Unknown</td>\n",
       "      <td>DNA</td>\n",
       "      <td>GENENTECH</td>\n",
       "      <td>Illumina_HiSeq_2000</td>\n",
       "      <td>WGS</td>\n",
       "      <td>0</td>\n",
       "      <td>sa000004</td>\n",
       "      <td>snd10018</td>\n",
       "    </tr>\n",
       "    <tr>\n",
       "      <th>...</th>\n",
       "      <td>...</td>\n",
       "      <td>...</td>\n",
       "      <td>...</td>\n",
       "      <td>...</td>\n",
       "      <td>...</td>\n",
       "      <td>...</td>\n",
       "      <td>...</td>\n",
       "      <td>...</td>\n",
       "      <td>...</td>\n",
       "      <td>...</td>\n",
       "      <td>...</td>\n",
       "      <td>...</td>\n",
       "      <td>...</td>\n",
       "      <td>...</td>\n",
       "      <td>...</td>\n",
       "      <td>...</td>\n",
       "      <td>...</td>\n",
       "      <td>...</td>\n",
       "      <td>...</td>\n",
       "      <td>...</td>\n",
       "      <td>...</td>\n",
       "    </tr>\n",
       "    <tr>\n",
       "      <th>35045</th>\n",
       "      <td>G-KGAD-KA001216</td>\n",
       "      <td>1.0</td>\n",
       "      <td>1.0</td>\n",
       "      <td>0.0</td>\n",
       "      <td>NaN</td>\n",
       "      <td>NaN</td>\n",
       "      <td>NaN</td>\n",
       "      <td>70</td>\n",
       "      <td>34.0</td>\n",
       "      <td>5.0</td>\n",
       "      <td>...</td>\n",
       "      <td>1.0</td>\n",
       "      <td>G-KGAD-KA000886-BL-WU-8038741275</td>\n",
       "      <td>Blood</td>\n",
       "      <td>DNA</td>\n",
       "      <td>USUHS</td>\n",
       "      <td>Illumina_NovaSeq</td>\n",
       "      <td>WGS</td>\n",
       "      <td>0</td>\n",
       "      <td>sa000023</td>\n",
       "      <td>snd10032</td>\n",
       "    </tr>\n",
       "    <tr>\n",
       "      <th>37811</th>\n",
       "      <td>G-MSBB-MB000022</td>\n",
       "      <td>0.0</td>\n",
       "      <td>0.0</td>\n",
       "      <td>0.0</td>\n",
       "      <td>NaN</td>\n",
       "      <td>NaN</td>\n",
       "      <td>NaN</td>\n",
       "      <td>NaN</td>\n",
       "      <td>NaN</td>\n",
       "      <td>5.0</td>\n",
       "      <td>...</td>\n",
       "      <td>0.0</td>\n",
       "      <td>G-MSBB-MB000022-BR-MSBB-71813</td>\n",
       "      <td>Brain</td>\n",
       "      <td>DNA</td>\n",
       "      <td>NYGC</td>\n",
       "      <td>Illumina_HiSeqX</td>\n",
       "      <td>WGS</td>\n",
       "      <td>0</td>\n",
       "      <td>sa000011</td>\n",
       "      <td>snd10011</td>\n",
       "    </tr>\n",
       "    <tr>\n",
       "      <th>37884</th>\n",
       "      <td>G-MSBB-MB000094</td>\n",
       "      <td>1.0</td>\n",
       "      <td>1.0</td>\n",
       "      <td>0.0</td>\n",
       "      <td>NaN</td>\n",
       "      <td>NaN</td>\n",
       "      <td>NaN</td>\n",
       "      <td>NaN</td>\n",
       "      <td>NaN</td>\n",
       "      <td>5.0</td>\n",
       "      <td>...</td>\n",
       "      <td>0.0</td>\n",
       "      <td>G-MSBB-MB000094-BR-MSBB-71738</td>\n",
       "      <td>Brain</td>\n",
       "      <td>DNA</td>\n",
       "      <td>NYGC</td>\n",
       "      <td>Illumina_HiSeqX</td>\n",
       "      <td>WGS</td>\n",
       "      <td>0</td>\n",
       "      <td>sa000011</td>\n",
       "      <td>snd10011</td>\n",
       "    </tr>\n",
       "    <tr>\n",
       "      <th>37917</th>\n",
       "      <td>G-MSBB-MB000126</td>\n",
       "      <td>1.0</td>\n",
       "      <td>1.0</td>\n",
       "      <td>0.0</td>\n",
       "      <td>NaN</td>\n",
       "      <td>NaN</td>\n",
       "      <td>NaN</td>\n",
       "      <td>NaN</td>\n",
       "      <td>NaN</td>\n",
       "      <td>5.0</td>\n",
       "      <td>...</td>\n",
       "      <td>0.0</td>\n",
       "      <td>G-MSBB-MB000126-BR-MSBB-71926</td>\n",
       "      <td>Brain</td>\n",
       "      <td>DNA</td>\n",
       "      <td>NYGC</td>\n",
       "      <td>Illumina_HiSeqX</td>\n",
       "      <td>WGS</td>\n",
       "      <td>0</td>\n",
       "      <td>sa000011</td>\n",
       "      <td>snd10011</td>\n",
       "    </tr>\n",
       "    <tr>\n",
       "      <th>37967</th>\n",
       "      <td>G-MSBB-MB000175</td>\n",
       "      <td>0.0</td>\n",
       "      <td>1.0</td>\n",
       "      <td>0.0</td>\n",
       "      <td>NaN</td>\n",
       "      <td>NaN</td>\n",
       "      <td>NaN</td>\n",
       "      <td>NaN</td>\n",
       "      <td>NaN</td>\n",
       "      <td>5.0</td>\n",
       "      <td>...</td>\n",
       "      <td>0.0</td>\n",
       "      <td>G-MSBB-MB000175-BR-MSBB-71959</td>\n",
       "      <td>Brain</td>\n",
       "      <td>DNA</td>\n",
       "      <td>NYGC</td>\n",
       "      <td>Illumina_HiSeqX</td>\n",
       "      <td>WGS</td>\n",
       "      <td>0</td>\n",
       "      <td>sa000011</td>\n",
       "      <td>snd10011</td>\n",
       "    </tr>\n",
       "  </tbody>\n",
       "</table>\n",
       "<p>4532 rows × 52 columns</p>\n",
       "</div>"
      ],
      "text/plain": [
       "                SUBJID  Sex  PrevAD  IncAD Age_current Age_MCI_onset  \\\n",
       "1973   A-CUHS-CU006133  1.0     NaN    NaN         NaN           NaN   \n",
       "2001   A-LOAD-LD001135  1.0     NaN    NaN         NaN           NaN   \n",
       "2016   A-LOAD-LD001340  1.0     NaN    NaN         NaN           NaN   \n",
       "2020   A-LOAD-LD001349  1.0     NaN    NaN         NaN           NaN   \n",
       "2068   A-LOAD-LD004376  0.0     NaN    NaN         NaN           NaN   \n",
       "...                ...  ...     ...    ...         ...           ...   \n",
       "35045  G-KGAD-KA001216  1.0     1.0    0.0         NaN           NaN   \n",
       "37811  G-MSBB-MB000022  0.0     0.0    0.0         NaN           NaN   \n",
       "37884  G-MSBB-MB000094  1.0     1.0    0.0         NaN           NaN   \n",
       "37917  G-MSBB-MB000126  1.0     1.0    0.0         NaN           NaN   \n",
       "37967  G-MSBB-MB000175  0.0     1.0    0.0         NaN           NaN   \n",
       "\n",
       "      Age_AD_onset Age_baseline  APOE_reported  Race  ...  Update_Latest  \\\n",
       "1973           NaN           58           44.0   6.0  ...            NaN   \n",
       "2001           NaN           79           33.0   5.0  ...            NaN   \n",
       "2016           NaN           82           23.0   5.0  ...            NaN   \n",
       "2020           NaN           90           33.0   5.0  ...            NaN   \n",
       "2068           NaN           71           33.0   5.0  ...            NaN   \n",
       "...            ...          ...            ...   ...  ...            ...   \n",
       "35045          NaN           70           34.0   5.0  ...            1.0   \n",
       "37811          NaN          NaN            NaN   5.0  ...            0.0   \n",
       "37884          NaN          NaN            NaN   5.0  ...            0.0   \n",
       "37917          NaN          NaN            NaN   5.0  ...            0.0   \n",
       "37967          NaN          NaN            NaN   5.0  ...            0.0   \n",
       "\n",
       "                                SampleID  BODY_SITE ANALYTE_TYPE  \\\n",
       "1973     A-CUHS-CU006133-BL-COL-31008BL1      Blood          DNA   \n",
       "2001   A-LOAD-LD001135-BL-NCR-8008285337      Blood          DNA   \n",
       "2016     A-LOAD-LD001340-CL-NCR-07AD1620  Cell Line          DNA   \n",
       "2020   A-LOAD-LD001349-UNK-NCR-11AD47531    Unknown          DNA   \n",
       "2068     A-LOAD-LD004376-UNK-UNK-UNK0036    Unknown          DNA   \n",
       "...                                  ...        ...          ...   \n",
       "35045   G-KGAD-KA000886-BL-WU-8038741275      Blood          DNA   \n",
       "37811      G-MSBB-MB000022-BR-MSBB-71813      Brain          DNA   \n",
       "37884      G-MSBB-MB000094-BR-MSBB-71738      Brain          DNA   \n",
       "37917      G-MSBB-MB000126-BR-MSBB-71926      Brain          DNA   \n",
       "37967      G-MSBB-MB000175-BR-MSBB-71959      Brain          DNA   \n",
       "\n",
       "       Sequencing_Center  Sequencing_Platform SAMPLE_USE Technical_Replicate  \\\n",
       "1973               WashU      Illumina_HiSeqX        WGS                   0   \n",
       "2001         Otogenetics  Illumina_HiSeq_2000        WES                   0   \n",
       "2016   UW_GenomeSciences  Illumina_HiSeq_2000        WES                   0   \n",
       "2020   UW_GenomeSciences  Illumina_HiSeq_2000        WES                   0   \n",
       "2068           GENENTECH  Illumina_HiSeq_2000        WGS                   0   \n",
       "...                  ...                  ...        ...                 ...   \n",
       "35045              USUHS     Illumina_NovaSeq        WGS                   0   \n",
       "37811               NYGC      Illumina_HiSeqX        WGS                   0   \n",
       "37884               NYGC      Illumina_HiSeqX        WGS                   0   \n",
       "37917               NYGC      Illumina_HiSeqX        WGS                   0   \n",
       "37967               NYGC      Illumina_HiSeqX        WGS                   0   \n",
       "\n",
       "       Study_DSS  Sample_Set  \n",
       "1973    sa000001    snd10001  \n",
       "2001    sa000004    snd10004  \n",
       "2016    sa000005    snd10005  \n",
       "2020    sa000005    snd10005  \n",
       "2068    sa000004    snd10018  \n",
       "...          ...         ...  \n",
       "35045   sa000023    snd10032  \n",
       "37811   sa000011    snd10011  \n",
       "37884   sa000011    snd10011  \n",
       "37917   sa000011    snd10011  \n",
       "37967   sa000011    snd10011  \n",
       "\n",
       "[4532 rows x 52 columns]"
      ]
     },
     "execution_count": 20,
     "metadata": {},
     "output_type": "execute_result"
    }
   ],
   "source": [
    "## create a dict for SUBJID-SampleID mapping \n",
    "print(len(best_SampleID))\n",
    "print(len(dup_sample.SUBJID.unique()))\n",
    "map_sampleID = dict(list(zip(dup_sample.SUBJID.unique(), best_SampleID)))\n",
    "\n",
    "pheno_SampleID_todrop = pheno_add_SampleID[pheno_add_SampleID.SUBJID.isin(map_sampleID)]\n",
    "pheno_SampleID_todrop[pheno_SampleID_todrop.SampleID != pheno_SampleID_todrop.SUBJID.map(map_sampleID)]"
   ]
  },
  {
   "cell_type": "code",
   "execution_count": 45,
   "metadata": {},
   "outputs": [
    {
     "data": {
      "text/plain": [
       "(33681, 52)"
      ]
     },
     "execution_count": 45,
     "metadata": {},
     "output_type": "execute_result"
    }
   ],
   "source": [
    "pheno_add_SampleID = pheno_add_SampleID.drop(pheno_SampleID_todrop[pheno_SampleID_todrop.SampleID != pheno_SampleID_todrop.SUBJID.map(map_sampleID)].index)  ## got back to 33601 (everyone is one-to-one match)\n",
    "pheno_add_SampleID.shape\n",
    "#pheno_add_SampleID.to_csv(path +'pheno_sampleID.tsv',sep = '\\t', index = False)"
   ]
  },
  {
   "cell_type": "markdown",
   "metadata": {},
   "source": [
    "## check King"
   ]
  },
  {
   "cell_type": "code",
   "execution_count": 21,
   "metadata": {},
   "outputs": [
    {
     "name": "stdout",
     "output_type": "stream",
     "text": [
      "case_control    35339\n",
      "ADNI             1566\n",
      "Family_based     1228\n",
      "Name: source, dtype: int64\n"
     ]
    },
    {
     "data": {
      "text/plain": [
       "case_control    29718\n",
       "ADNI             1378\n",
       "Family_based      568\n",
       "Name: source, dtype: int64"
      ]
     },
     "execution_count": 21,
     "metadata": {},
     "output_type": "execute_result"
    }
   ],
   "source": [
    "#king_manifest = pd.read_csv(path+'pheno_merge_sampleID_king.tsv', sep = '\\t')\n",
    "print(pheno_add_SampleID['source'].value_counts())\n",
    "king = np.loadtxt(\"/gpfs/commons/groups/knowles_lab/data/ADSP_reguloML/ADSP_vcf/phenotype_file/release_36K/unrelated_samples.txt\", dtype=str) ## The non-related individual's sample ID calculate from Kinship only have sample ID\n",
    "pheno_king = pheno_add_SampleID[pheno_add_SampleID.SampleID.isin(king)] ## 31351\n",
    "\n",
    "pheno_king['source'].value_counts()"
   ]
  },
  {
   "cell_type": "code",
   "execution_count": 22,
   "metadata": {},
   "outputs": [],
   "source": [
    "family = pheno_king[pheno_king.source=='Family_based']  ## they have 1114, we have 563\n",
    "\n",
    "# Randomly shuffle the rows of the DataFrame\n",
    "families = family.sample(frac=1)\n",
    "\n",
    "# Sort the DataFrame by 'Diagnosis' column, group by 'FamID', select the first row in each group, and reset the index\n",
    "one_per_fam = families.sort_values(by='Diagnosis', ascending=False)\\\n",
    "                     .groupby('FamID', sort=False)\\\n",
    "                     .head(1)\\\n",
    "                     .reset_index(drop=True)\n"
   ]
  },
  {
   "cell_type": "code",
   "execution_count": 23,
   "metadata": {},
   "outputs": [
    {
     "name": "stdout",
     "output_type": "stream",
     "text": [
      "(31357, 52)\n",
      "0.0    16214\n",
      "1.0    10792\n",
      "NaN     4351\n",
      "Name: Diagnosis, dtype: int64\n"
     ]
    }
   ],
   "source": [
    "pheno_fin = pd.concat([pheno_king[pheno_king.source!='Family_based'],one_per_fam])\n",
    "print(pheno_fin.shape)\n",
    "print(pheno_fin[\"Diagnosis\"].value_counts(dropna=False))"
   ]
  },
  {
   "cell_type": "code",
   "execution_count": 24,
   "metadata": {},
   "outputs": [],
   "source": [
    "pheno_fin = pheno_fin[pheno_fin.Diagnosis.notnull()] ## 26726, remove the NAs"
   ]
  },
  {
   "cell_type": "code",
   "execution_count": 25,
   "metadata": {},
   "outputs": [
    {
     "data": {
      "text/plain": [
       "Sex             0\n",
       "Ethnicity     577\n",
       "Race         2680\n",
       "APOE_WGS     1719\n",
       "Diagnosis       0\n",
       "Age           672\n",
       "dtype: int64"
      ]
     },
     "execution_count": 25,
     "metadata": {},
     "output_type": "execute_result"
    }
   ],
   "source": [
    "pheno_fin[['Sex','Ethnicity','Race','APOE_WGS','Diagnosis','Age']].isnull().sum()"
   ]
  },
  {
   "cell_type": "code",
   "execution_count": 27,
   "metadata": {},
   "outputs": [
    {
     "data": {
      "text/plain": [
       "(672,)"
      ]
     },
     "execution_count": 27,
     "metadata": {},
     "output_type": "execute_result"
    }
   ],
   "source": [
    "Age_null = pheno_fin[pheno_fin['Age'].isnull()].SUBJID\n",
    "Age_null.shape"
   ]
  },
  {
   "cell_type": "code",
   "execution_count": 28,
   "metadata": {},
   "outputs": [
    {
     "name": "stdout",
     "output_type": "stream",
     "text": [
      "672\n"
     ]
    },
    {
     "data": {
      "text/html": [
       "<div>\n",
       "<style scoped>\n",
       "    .dataframe tbody tr th:only-of-type {\n",
       "        vertical-align: middle;\n",
       "    }\n",
       "\n",
       "    .dataframe tbody tr th {\n",
       "        vertical-align: top;\n",
       "    }\n",
       "\n",
       "    .dataframe thead th {\n",
       "        text-align: right;\n",
       "    }\n",
       "</style>\n",
       "<table border=\"1\" class=\"dataframe\">\n",
       "  <thead>\n",
       "    <tr style=\"text-align: right;\">\n",
       "      <th></th>\n",
       "      <th>source</th>\n",
       "      <th>Age_current</th>\n",
       "      <th>Diagnosis</th>\n",
       "      <th>SUBJID</th>\n",
       "    </tr>\n",
       "  </thead>\n",
       "  <tbody>\n",
       "    <tr>\n",
       "      <th>12244</th>\n",
       "      <td>Family_based</td>\n",
       "      <td>NaN</td>\n",
       "      <td>0</td>\n",
       "      <td>A-RAS-RA000188</td>\n",
       "    </tr>\n",
       "    <tr>\n",
       "      <th>1441</th>\n",
       "      <td>case_control</td>\n",
       "      <td>NaN</td>\n",
       "      <td>1</td>\n",
       "      <td>A-ADC-AD000091</td>\n",
       "    </tr>\n",
       "    <tr>\n",
       "      <th>1462</th>\n",
       "      <td>case_control</td>\n",
       "      <td>NaN</td>\n",
       "      <td>1</td>\n",
       "      <td>A-ADC-AD000125</td>\n",
       "    </tr>\n",
       "    <tr>\n",
       "      <th>1465</th>\n",
       "      <td>case_control</td>\n",
       "      <td>NaN</td>\n",
       "      <td>1</td>\n",
       "      <td>A-ADC-AD000132</td>\n",
       "    </tr>\n",
       "    <tr>\n",
       "      <th>1475</th>\n",
       "      <td>case_control</td>\n",
       "      <td>NaN</td>\n",
       "      <td>1</td>\n",
       "      <td>A-ADC-AD000144</td>\n",
       "    </tr>\n",
       "    <tr>\n",
       "      <th>...</th>\n",
       "      <td>...</td>\n",
       "      <td>...</td>\n",
       "      <td>...</td>\n",
       "      <td>...</td>\n",
       "    </tr>\n",
       "    <tr>\n",
       "      <th>42347</th>\n",
       "      <td>case_control</td>\n",
       "      <td>NaN</td>\n",
       "      <td>0</td>\n",
       "      <td>G-KGAD-KA001271</td>\n",
       "    </tr>\n",
       "    <tr>\n",
       "      <th>42348</th>\n",
       "      <td>case_control</td>\n",
       "      <td>NaN</td>\n",
       "      <td>0</td>\n",
       "      <td>G-KGAD-KA001272</td>\n",
       "    </tr>\n",
       "    <tr>\n",
       "      <th>42349</th>\n",
       "      <td>case_control</td>\n",
       "      <td>NaN</td>\n",
       "      <td>0</td>\n",
       "      <td>G-KGAD-KA001273</td>\n",
       "    </tr>\n",
       "    <tr>\n",
       "      <th>42350</th>\n",
       "      <td>case_control</td>\n",
       "      <td>NaN</td>\n",
       "      <td>0</td>\n",
       "      <td>G-KGAD-KA001274</td>\n",
       "    </tr>\n",
       "    <tr>\n",
       "      <th>42351</th>\n",
       "      <td>case_control</td>\n",
       "      <td>NaN</td>\n",
       "      <td>0</td>\n",
       "      <td>G-KGAD-KA001275</td>\n",
       "    </tr>\n",
       "  </tbody>\n",
       "</table>\n",
       "<p>672 rows × 4 columns</p>\n",
       "</div>"
      ],
      "text/plain": [
       "             source Age_current Diagnosis           SUBJID\n",
       "12244  Family_based         NaN         0   A-RAS-RA000188\n",
       "1441   case_control         NaN         1   A-ADC-AD000091\n",
       "1462   case_control         NaN         1   A-ADC-AD000125\n",
       "1465   case_control         NaN         1   A-ADC-AD000132\n",
       "1475   case_control         NaN         1   A-ADC-AD000144\n",
       "...             ...         ...       ...              ...\n",
       "42347  case_control         NaN         0  G-KGAD-KA001271\n",
       "42348  case_control         NaN         0  G-KGAD-KA001272\n",
       "42349  case_control         NaN         0  G-KGAD-KA001273\n",
       "42350  case_control         NaN         0  G-KGAD-KA001274\n",
       "42351  case_control         NaN         0  G-KGAD-KA001275\n",
       "\n",
       "[672 rows x 4 columns]"
      ]
     },
     "execution_count": 28,
     "metadata": {},
     "output_type": "execute_result"
    }
   ],
   "source": [
    "print(pheno[pheno.SUBJID.isin(Age_null)].Age_current.isnull().sum())\n",
    "pheno.loc[pheno.SUBJID.isin(Age_null),[\"source\",'Age_current','Diagnosis','SUBJID']]\n"
   ]
  },
  {
   "cell_type": "code",
   "execution_count": 29,
   "metadata": {},
   "outputs": [
    {
     "data": {
      "text/plain": [
       "(26334, 10)"
      ]
     },
     "execution_count": 29,
     "metadata": {},
     "output_type": "execute_result"
    }
   ],
   "source": [
    "pheno_fin = pheno_fin.dropna(subset=['Age']) ##26334\n",
    "pheno_fin = pheno_fin[['SUBJID','SampleID', 'Sex', 'Diagnosis', 'APOE_reported', 'Age', 'Race',\n",
    "       'Ethnicity', 'FamID', 'source']]\n",
    "pheno_fin.shape"
   ]
  },
  {
   "cell_type": "code",
   "execution_count": 31,
   "metadata": {},
   "outputs": [],
   "source": [
    "pheno_fin.to_csv(path +'pheno_fin.tsv',sep = '\\t', index = False) "
   ]
  },
  {
   "cell_type": "code",
   "execution_count": 32,
   "metadata": {},
   "outputs": [
    {
     "data": {
      "text/plain": [
       "<AxesSubplot:title={'center':'data surce for pheno_merge'}>"
      ]
     },
     "execution_count": 32,
     "metadata": {},
     "output_type": "execute_result"
    },
    {
     "data": {
      "image/png": "[encoded data removed]",
      "text/plain": [
       "<Figure size 432x288 with 1 Axes>"
      ]
     },
     "metadata": {},
     "output_type": "display_data"
    }
   ],
   "source": [
    "pheno_fin.source.value_counts().plot(kind='pie', ylabel='', title='data surce for pheno_merge')"
   ]
  },
  {
   "cell_type": "code",
   "execution_count": 33,
   "metadata": {},
   "outputs": [
    {
     "data": {
      "text/plain": [
       "case_control    24715\n",
       "ADNI             1378\n",
       "Family_based      241\n",
       "Name: source, dtype: int64"
      ]
     },
     "execution_count": 33,
     "metadata": {},
     "output_type": "execute_result"
    }
   ],
   "source": [
    "pheno_fin.source.value_counts()"
   ]
  },
  {
   "cell_type": "code",
   "execution_count": 34,
   "metadata": {},
   "outputs": [
    {
     "data": {
      "text/plain": [
       "0    15924\n",
       "1    10410\n",
       "Name: Diagnosis, dtype: int64"
      ]
     },
     "execution_count": 34,
     "metadata": {},
     "output_type": "execute_result"
    }
   ],
   "source": [
    "pheno_fin.Diagnosis.value_counts()"
   ]
  },
  {
   "cell_type": "code",
   "execution_count": 40,
   "metadata": {},
   "outputs": [],
   "source": [
    "pheno_fin.Age = pheno_fin.Age.astype('int64')"
   ]
  },
  {
   "cell_type": "code",
   "execution_count": 41,
   "metadata": {},
   "outputs": [
    {
     "data": {
      "text/html": [
       "<div>\n",
       "<style scoped>\n",
       "    .dataframe tbody tr th:only-of-type {\n",
       "        vertical-align: middle;\n",
       "    }\n",
       "\n",
       "    .dataframe tbody tr th {\n",
       "        vertical-align: top;\n",
       "    }\n",
       "\n",
       "    .dataframe thead th {\n",
       "        text-align: right;\n",
       "    }\n",
       "</style>\n",
       "<table border=\"1\" class=\"dataframe\">\n",
       "  <thead>\n",
       "    <tr style=\"text-align: right;\">\n",
       "      <th></th>\n",
       "      <th>SUBJID</th>\n",
       "      <th>SampleID</th>\n",
       "      <th>Sex</th>\n",
       "      <th>Diagnosis</th>\n",
       "      <th>APOE_reported</th>\n",
       "      <th>Age</th>\n",
       "      <th>Race</th>\n",
       "      <th>Ethnicity</th>\n",
       "      <th>FamID</th>\n",
       "      <th>source</th>\n",
       "    </tr>\n",
       "  </thead>\n",
       "  <tbody>\n",
       "    <tr>\n",
       "      <th>1</th>\n",
       "      <td>ADNI_002_S_0685</td>\n",
       "      <td>ADNI_002_S_0685</td>\n",
       "      <td>1.0</td>\n",
       "      <td>0</td>\n",
       "      <td>33.0</td>\n",
       "      <td>90</td>\n",
       "      <td>5.0</td>\n",
       "      <td>0.0</td>\n",
       "      <td>NaN</td>\n",
       "      <td>ADNI</td>\n",
       "    </tr>\n",
       "    <tr>\n",
       "      <th>3</th>\n",
       "      <td>ADNI_002_S_1155</td>\n",
       "      <td>ADNI_002_S_1155</td>\n",
       "      <td>0.0</td>\n",
       "      <td>0</td>\n",
       "      <td>33.0</td>\n",
       "      <td>69</td>\n",
       "      <td>5.0</td>\n",
       "      <td>0.0</td>\n",
       "      <td>NaN</td>\n",
       "      <td>ADNI</td>\n",
       "    </tr>\n",
       "    <tr>\n",
       "      <th>4</th>\n",
       "      <td>ADNI_002_S_1261</td>\n",
       "      <td>ADNI_002_S_1261</td>\n",
       "      <td>1.0</td>\n",
       "      <td>0</td>\n",
       "      <td>33.0</td>\n",
       "      <td>82</td>\n",
       "      <td>5.0</td>\n",
       "      <td>0.0</td>\n",
       "      <td>NaN</td>\n",
       "      <td>ADNI</td>\n",
       "    </tr>\n",
       "    <tr>\n",
       "      <th>7</th>\n",
       "      <td>ADNI_002_S_2010</td>\n",
       "      <td>ADNI_002_S_2010</td>\n",
       "      <td>1.0</td>\n",
       "      <td>0</td>\n",
       "      <td>34.0</td>\n",
       "      <td>68</td>\n",
       "      <td>6.0</td>\n",
       "      <td>0.0</td>\n",
       "      <td>NaN</td>\n",
       "      <td>ADNI</td>\n",
       "    </tr>\n",
       "    <tr>\n",
       "      <th>9</th>\n",
       "      <td>ADNI_002_S_2073</td>\n",
       "      <td>ADNI_002_S_2073</td>\n",
       "      <td>1.0</td>\n",
       "      <td>0</td>\n",
       "      <td>33.0</td>\n",
       "      <td>69</td>\n",
       "      <td>5.0</td>\n",
       "      <td>0.0</td>\n",
       "      <td>NaN</td>\n",
       "      <td>ADNI</td>\n",
       "    </tr>\n",
       "    <tr>\n",
       "      <th>...</th>\n",
       "      <td>...</td>\n",
       "      <td>...</td>\n",
       "      <td>...</td>\n",
       "      <td>...</td>\n",
       "      <td>...</td>\n",
       "      <td>...</td>\n",
       "      <td>...</td>\n",
       "      <td>...</td>\n",
       "      <td>...</td>\n",
       "      <td>...</td>\n",
       "    </tr>\n",
       "    <tr>\n",
       "      <th>228</th>\n",
       "      <td>A-CUHS-CU004510</td>\n",
       "      <td>A-CUHS-CU004510-BL-COL-47848BL1</td>\n",
       "      <td>1.0</td>\n",
       "      <td>0</td>\n",
       "      <td>33.0</td>\n",
       "      <td>78</td>\n",
       "      <td>6.0</td>\n",
       "      <td>1.0</td>\n",
       "      <td>CU0150F</td>\n",
       "      <td>Family_based</td>\n",
       "    </tr>\n",
       "    <tr>\n",
       "      <th>230</th>\n",
       "      <td>A-WRAP-WR000077</td>\n",
       "      <td>A-WRAP-WR000077-BL-NCR-0005966509</td>\n",
       "      <td>1.0</td>\n",
       "      <td>0</td>\n",
       "      <td>33.0</td>\n",
       "      <td>65</td>\n",
       "      <td>5.0</td>\n",
       "      <td>0.0</td>\n",
       "      <td>WR1057F</td>\n",
       "      <td>Family_based</td>\n",
       "    </tr>\n",
       "    <tr>\n",
       "      <th>233</th>\n",
       "      <td>A-CUHS-CU002162</td>\n",
       "      <td>A-CUHS-CU002162-BL-COL-49766BL1</td>\n",
       "      <td>1.0</td>\n",
       "      <td>0</td>\n",
       "      <td>34.0</td>\n",
       "      <td>75</td>\n",
       "      <td>6.0</td>\n",
       "      <td>1.0</td>\n",
       "      <td>CU0050F</td>\n",
       "      <td>Family_based</td>\n",
       "    </tr>\n",
       "    <tr>\n",
       "      <th>235</th>\n",
       "      <td>A-LOAD-LD001488</td>\n",
       "      <td>A-LOAD-LD001488-UNK-NCR-05AD8975</td>\n",
       "      <td>0.0</td>\n",
       "      <td>0</td>\n",
       "      <td>44.0</td>\n",
       "      <td>81</td>\n",
       "      <td>5.0</td>\n",
       "      <td>0.0</td>\n",
       "      <td>LD0251F</td>\n",
       "      <td>Family_based</td>\n",
       "    </tr>\n",
       "    <tr>\n",
       "      <th>236</th>\n",
       "      <td>A-CUHS-CU007682</td>\n",
       "      <td>A-CUHS-CU007682-BL-COL-44105BL1</td>\n",
       "      <td>0.0</td>\n",
       "      <td>0</td>\n",
       "      <td>34.0</td>\n",
       "      <td>87</td>\n",
       "      <td>6.0</td>\n",
       "      <td>1.0</td>\n",
       "      <td>CU0110F</td>\n",
       "      <td>Family_based</td>\n",
       "    </tr>\n",
       "  </tbody>\n",
       "</table>\n",
       "<p>20951 rows × 10 columns</p>\n",
       "</div>"
      ],
      "text/plain": [
       "              SUBJID                           SampleID  Sex Diagnosis  \\\n",
       "1    ADNI_002_S_0685                    ADNI_002_S_0685  1.0         0   \n",
       "3    ADNI_002_S_1155                    ADNI_002_S_1155  0.0         0   \n",
       "4    ADNI_002_S_1261                    ADNI_002_S_1261  1.0         0   \n",
       "7    ADNI_002_S_2010                    ADNI_002_S_2010  1.0         0   \n",
       "9    ADNI_002_S_2073                    ADNI_002_S_2073  1.0         0   \n",
       "..               ...                                ...  ...       ...   \n",
       "228  A-CUHS-CU004510    A-CUHS-CU004510-BL-COL-47848BL1  1.0         0   \n",
       "230  A-WRAP-WR000077  A-WRAP-WR000077-BL-NCR-0005966509  1.0         0   \n",
       "233  A-CUHS-CU002162    A-CUHS-CU002162-BL-COL-49766BL1  1.0         0   \n",
       "235  A-LOAD-LD001488   A-LOAD-LD001488-UNK-NCR-05AD8975  0.0         0   \n",
       "236  A-CUHS-CU007682    A-CUHS-CU007682-BL-COL-44105BL1  0.0         0   \n",
       "\n",
       "     APOE_reported  Age  Race  Ethnicity    FamID        source  \n",
       "1             33.0   90   5.0        0.0      NaN          ADNI  \n",
       "3             33.0   69   5.0        0.0      NaN          ADNI  \n",
       "4             33.0   82   5.0        0.0      NaN          ADNI  \n",
       "7             34.0   68   6.0        0.0      NaN          ADNI  \n",
       "9             33.0   69   5.0        0.0      NaN          ADNI  \n",
       "..             ...  ...   ...        ...      ...           ...  \n",
       "228           33.0   78   6.0        1.0  CU0150F  Family_based  \n",
       "230           33.0   65   5.0        0.0  WR1057F  Family_based  \n",
       "233           34.0   75   6.0        1.0  CU0050F  Family_based  \n",
       "235           44.0   81   5.0        0.0  LD0251F  Family_based  \n",
       "236           34.0   87   6.0        1.0  CU0110F  Family_based  \n",
       "\n",
       "[20951 rows x 10 columns]"
      ]
     },
     "execution_count": 41,
     "metadata": {},
     "output_type": "execute_result"
    }
   ],
   "source": [
    "pheno_fin[pheno_fin.Age >= 65]"
   ]
  }
 ],
 "metadata": {
  "kernelspec": {
   "display_name": "polyfun",
   "language": "python",
   "name": "polyfun"
  },
  "language_info": {
   "codemirror_mode": {
    "name": "ipython",
    "version": 3
   },
   "file_extension": ".py",
   "mimetype": "text/x-python",
   "name": "python",
   "nbconvert_exporter": "python",
   "pygments_lexer": "ipython3",
   "version": "3.6.13"
  }
 },
 "nbformat": 4,
 "nbformat_minor": 4
}
