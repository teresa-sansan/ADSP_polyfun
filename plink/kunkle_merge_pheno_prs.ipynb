{
 "cells": [
  {
   "cell_type": "code",
   "execution_count": 1,
   "metadata": {},
   "outputs": [],
   "source": [
    "import pandas as pd"
   ]
  },
  {
   "cell_type": "code",
   "execution_count": 7,
   "metadata": {},
   "outputs": [],
   "source": [
    "prs_001 = pd.read_csv(\"/gpfs/commons/home/tlin/output/cT/kunkle/pT_0.001.prs\", sep = ' ', names = [\"IID\",\"SCORE\"])\n",
    "prs_005 = pd.read_csv(\"/gpfs/commons/home/tlin/output/cT/kunkle/pT_0.005.prs\", sep = ' ', names = [\"IID\",\"SCORE\"])\n",
    "prs_01 = pd.read_csv(\"/gpfs/commons/home/tlin/output/cT/kunkle/pT_0.01.prs\", sep = ' ', names = [\"IID\",\"SCORE\"])\n",
    "prs_05 = pd.read_csv(\"/gpfs/commons/home/tlin/output/cT/kunkle/pT_0.05.prs\", sep = ' ', names = [\"IID\",\"SCORE\"])\n",
    "prs_1 = pd.read_csv(\"/gpfs/commons/home/tlin/output/cT/kunkle/pT_0.1.prs\", sep = ' ', names = [\"IID\",\"SCORE\"])\n",
    "prs_5 = pd.read_csv(\"/gpfs/commons/home/tlin/output/cT/kunkle/pT_0.5.prs\", sep = ' ', names = [\"IID\",\"SCORE\"])\n"
   ]
  },
  {
   "cell_type": "code",
   "execution_count": 11,
   "metadata": {},
   "outputs": [],
   "source": [
    "kunkle = pd.read_csv(\"/gpfs/commons/home/tlin/data/kunkle_etal_Stage1_info.tsv\", sep = '\\t')\n",
    "pheno = pd.read_csv(\"/gpfs/commons/groups/knowles_lab/data/ADSP_reguloML/ADSP_vcf/compact_filtered_vcf_16906/phenotype_data_10_28_2021/all_phenotypes_unique_ancestry_subset.tsv\", sep = '\\t')"
   ]
  },
  {
   "cell_type": "code",
   "execution_count": 24,
   "metadata": {},
   "outputs": [],
   "source": [
    "\n",
    "prs = [prs_001, prs_005, prs_01, prs_05, prs_1, prs_5]  \n",
    "from functools import reduce  \n",
    "\n",
    "prs_merge = reduce(lambda left, right:pd.merge(left,right,on=[\"IID\"]),prs)\n",
    "prs_merge = prs_merge.set_axis( [\"IID\",\"PRS_001\",\"PRS_005\",\"PRS_01\",\"PRS_05\",\"PRS_1\",\"PRS_5\"], axis='columns')\n",
    "prs_merge = prs_merge.merge(pheno, left_on = 'IID', right_on ='SampleID')\n",
    "prs_merge.to_csv(\"/gpfs/commons/home/tlin/output/cT/kunkle/kunkle_prs.tsv\",index = False, sep='\\t')\n"
   ]
  },
  {
   "cell_type": "code",
   "execution_count": 20,
   "metadata": {},
   "outputs": [],
   "source": [
    "\n",
    "prs_merge.to_csv(\"/gpfs/commons/home/tlin/output/cT/kunkle/kunkle_prs.tsv\",index = False, sep='\\t')"
   ]
  },
  {
   "cell_type": "code",
   "execution_count": 26,
   "metadata": {},
   "outputs": [
    {
     "data": {
      "text/plain": [
       "Index(['IID', 'PRS_001', 'PRS_005', 'PRS_01', 'PRS_05', 'PRS_1', 'PRS_5',\n",
       "       'SUBJID', 'SampleID', 'cohort', 'Sex', 'APOE', 'Race', 'Ethnicity',\n",
       "       'AD_status_final', 'age_covariate', 'flag_age_covariate',\n",
       "       'Duplicate_SUBJID', 'final_population', 'X1', 'X2', 'X3', 'X4', 'X5',\n",
       "       'X6', 'X7', 'X8', 'X9', 'X10', 'X11', 'X12', 'X13', 'X14', 'X15', 'X16',\n",
       "       'X17', 'X18', 'X19', 'X20'],\n",
       "      dtype='object')"
      ]
     },
     "execution_count": 26,
     "metadata": {},
     "output_type": "execute_result"
    }
   ],
   "source": [
    "prs_merge.columns\n"
   ]
  },
  {
   "cell_type": "code",
   "execution_count": null,
   "metadata": {},
   "outputs": [],
   "source": []
  }
 ],
 "metadata": {
  "kernelspec": {
   "display_name": "polyfun",
   "language": "python",
   "name": "polyfun"
  },
  "language_info": {
   "codemirror_mode": {
    "name": "ipython",
    "version": 3
   },
   "file_extension": ".py",
   "mimetype": "text/x-python",
   "name": "python",
   "nbconvert_exporter": "python",
   "pygments_lexer": "ipython3",
   "version": "3.6.13"
  }
 },
 "nbformat": 4,
 "nbformat_minor": 2
}
